{
 "cells": [
  {
   "cell_type": "markdown",
   "metadata": {},
   "source": [
    "# EE 564 PROJECT #2\n",
    "\n",
    "## BMW i3 Traction Motor Design\n",
    "\n",
    "\n",
    "BMW i3 is a full-electric car, with a permanent magnet assisted hybrid-synchronous motor. In this project report, a similar engine satisfying the same performance criteria will be designed and reported.\n",
    "\n",
    "**Useful Links:**\n",
    "\n",
    "* [Manufacturer's web page of i3](http://www.bmw.com/com/en/newvehicles/i/i3/2013/showroom/drive.html)\n",
    "\n",
    "* [A presentation on hybrid synchronous i3 motor](http://hybridfordonscentrum.se/wp-content/uploads/2014/05/20140404_BMW.pdf)\n",
    "\n",
    "* [Videos and additional info on i3 motor production](http://insideevs.com/bmw-i3-production-process-videos-batteries-and-drivetrain/)\n",
    "\n",
    "* [Comments on i3 performance](http://www.electric-vehiclenews.com/2014/06/bmw-i3-is-this-worlds-most-desirable.html)"
   ]
  },
  {
   "cell_type": "markdown",
   "metadata": {},
   "source": [
    "## Machine Specifications\n",
    "\n",
    "Since this is a commercial product, no source on BMW i3 motor fully describing its structure and properties has been found. However, from the data collected through the links provided above, it is possible to summarize the machine properties at a satisfactory level.\n",
    "\n",
    "* Machine Type: Permanent Magnet Assisted Synchronous Reluctance Motor\n",
    "* Rated Power: 75 kW\n",
    "* Maximum Power: 125 kW\n",
    "* Torque & Speed for Max. Power Condition: 250 Nm & 4500 rpm\n",
    "* Weight: 65 kg\n",
    "* 3-phase, 6-pole machine\n",
    "* Two-layer magnet design\n",
    "* Liquid Cooling\n",
    "\n",
    "By processing the data above, additional specifications required for design can be obtained. No volume information has been found but assuming that the motor is completely iron, 65 kg of mass corresponds to 8,3 lt of volume. Considering the air gap, slots, windings, PMs and flux barriers which all have density well below iron, 9,5 lt volume seems to be a good approximation. Besides, we know from the provided links that the driver produces 400V sine wave which then corresponds to 110A phase current for rated power. \n",
    "\n",
    "* Volume: 9,5 lt\n",
    "* 400 V, 110 A supply at rated condition."
   ]
  },
  {
   "cell_type": "markdown",
   "metadata": {},
   "source": [
    "## Initial Sizing of the Rotor and Design Approach\n",
    "\n",
    "In this study, +20% increased volume of the original commercial version will be assumed first. This will relieve tight limitations on the design. After the designed motor is simulated on computer, optimization and volume reduction efforts will be presented. In parallel to this, Chapter 6 of textbook is followed, which introduces a tangential stress based initial volume guess.\n",
    "\n",
    "Considering the target design's overall volume of 9,5 lt, an initial rotor volume of 8 lt is assumed first.\n",
    "\n",
    "From Table 6.2. Permitted Flux Densities (T)\n",
    "\n",
    "* Air Gap: 0,95\n",
    "* Stator Yoke: 1,5\n",
    "* Tooth: 2\n",
    "* Pole Core: 1,8\n",
    "\n",
    "From Table 6.3. Current Density and Linear Current Density\n",
    "\n",
    "* A: 50 kA/m\n",
    "* J: 13 A/mm2 (due to liquid cooling)\n",
    "\n",
    "Which corresponds to the tangential stress value of\n",
    "\n",
    "* TangStr: 33000 Pa\n",
    "\n",
    "By the relation, Torque = 2*TangStr*Volume, another value for volume turns out to be 3.8 lt which is well below 8 lt. This shows that our 8 lt rotor volume assumption will not violate basic design rules."
   ]
  },
  {
   "cell_type": "code",
   "execution_count": null,
   "metadata": {
    "collapsed": true
   },
   "outputs": [],
   "source": []
  }
 ],
 "metadata": {
  "kernelspec": {
   "display_name": "Python 2",
   "language": "python",
   "name": "python2"
  },
  "language_info": {
   "codemirror_mode": {
    "name": "ipython",
    "version": 2
   },
   "file_extension": ".py",
   "mimetype": "text/x-python",
   "name": "python",
   "nbconvert_exporter": "python",
   "pygments_lexer": "ipython2",
   "version": "2.7.9"
  }
 },
 "nbformat": 4,
 "nbformat_minor": 0
}
