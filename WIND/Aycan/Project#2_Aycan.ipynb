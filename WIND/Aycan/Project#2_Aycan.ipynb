{
 "cells": [
  {
   "cell_type": "markdown",
   "metadata": {},
   "source": [
    "In this project, a wind turbine induction generator will be designed with the following specifications:\n",
    "\n",
    "- Rated power: 250 kW\n",
    "- Rated wind speed: 14 m/s\n",
    "- Rated turbine speed: 24.3 rpm\n",
    "- Gear ratio: 31.2\n",
    "- Number of poles: 8\n",
    "- Line to line voltage: 400 V\n",
    "- Frequency: 50 Hz\n",
    "- Rated speed: 758 rpm\n",
    "- Gearbox: Coupled from wind turbine blade\n",
    "- Insulation class F"
   ]
  },
  {
   "cell_type": "markdown",
   "metadata": {},
   "source": []
  }
 ],
 "metadata": {
  "kernelspec": {
   "display_name": "Python 3",
   "language": "python",
   "name": "python3"
  },
  "language_info": {
   "codemirror_mode": {
    "name": "ipython",
    "version": 3
   },
   "file_extension": ".py",
   "mimetype": "text/x-python",
   "name": "python",
   "nbconvert_exporter": "python",
   "pygments_lexer": "ipython3",
   "version": "3.5.1"
  }
 },
 "nbformat": 4,
 "nbformat_minor": 0
}
