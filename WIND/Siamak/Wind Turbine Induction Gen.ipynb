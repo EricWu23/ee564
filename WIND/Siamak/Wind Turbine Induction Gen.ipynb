{
 "cells": [
  {
   "cell_type": "markdown",
   "metadata": {},
   "source": [
    "# Wind Turbine Induction Generator"
   ]
  },
  {
   "cell_type": "markdown",
   "metadata": {},
   "source": [
    "### The project aims to design an induction generator for a wind turbine with the below specifications:\n",
    "####    Rated Power: 250 kW\n",
    "####    Rated Wind Speed: 14 m/s\n",
    "####    Rated Turbine Speed: 24.3 rpm\n",
    "####    Gear Ratio: 31.2\n",
    "####    Number of Poles: 8\n",
    "####    Line to line voltage: 400 V\n",
    "####    Frequency: 50 Hz\n",
    "####    Rated Speed: 758 rpm\n",
    "####    Gearbox: (Coupled from wind turbine blade)\n",
    "####    Insulation Class: F"
   ]
  }
 ],
 "metadata": {
  "kernelspec": {
   "display_name": "Python 3",
   "language": "python",
   "name": "python3"
  },
  "language_info": {
   "codemirror_mode": {
    "name": "ipython",
    "version": 3
   },
   "file_extension": ".py",
   "mimetype": "text/x-python",
   "name": "python",
   "nbconvert_exporter": "python",
   "pygments_lexer": "ipython3",
   "version": "3.5.1"
  }
 },
 "nbformat": 4,
 "nbformat_minor": 0
}
