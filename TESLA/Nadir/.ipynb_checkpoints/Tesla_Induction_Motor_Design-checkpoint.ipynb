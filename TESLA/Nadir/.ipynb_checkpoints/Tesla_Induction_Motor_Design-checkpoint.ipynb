{
 "cells": [
  {
   "cell_type": "markdown",
   "metadata": {},
   "source": [
    "# TESLA Model S Induction Motor Design"
   ]
  },
  {
   "cell_type": "markdown",
   "metadata": {},
   "source": [
    "## 1. Introduction"
   ]
  },
  {
   "cell_type": "markdown",
   "metadata": {},
   "source": [
    "Model S is introduced in June 2012 by Tesla Motors. It has been sold over 100k by December 2015. The very first model with 85 kWh battery pack has a range of 426 km.\n",
    "\n",
    "Induction motor used in this model is required to be designed using analytical calculations and motoranalysis tool in Matlab."
   ]
  },
  {
   "cell_type": "markdown",
   "metadata": {},
   "source": [
    "See [Tire Dimensions](https://www.mcgrefer.com/sizeinfo/2454519)\n",
    "\n",
    "See [Model S Specs](https://en.wikipedia.org/wiki/Tesla_Model_S)\n",
    "\n",
    "See [Presentation](http://sites.ieee.org/miami/files/2014/11/Hendershot-FIU-Lecture.pdf)"
   ]
  },
  {
   "cell_type": "markdown",
   "metadata": {},
   "source": [
    "## 2. Design Specifications and Basic Calculations"
   ]
  },
  {
   "cell_type": "code",
   "execution_count": 1,
   "metadata": {
    "collapsed": false
   },
   "outputs": [
    {
     "name": "stdout",
     "output_type": "stream",
     "text": [
      "Max motor speed is 13112 rpm\n"
     ]
    }
   ],
   "source": [
    "import math\n",
    "gr=9.73 #Gear ratio of Tesla\n",
    "wr=0.35155 #Wheel radius of Tesla\n",
    "Max_spd=230 #Max speed in km/h\n",
    "Max_speed=Max_spd*1000/3600 #Max speed in m/s\n",
    "Ang_speed=Max_speed*2*math.pi*wr #Max angular velocity\n",
    "Motor_speed=Ang_speed*gr #Motor speed in rad/sed\n",
    "n=Motor_speed*60/(2*math.pi) #Max speed of motor in rpm\n",
    "print ('Max motor speed is',round(n),'rpm')"
   ]
  },
  {
   "cell_type": "code",
   "execution_count": 2,
   "metadata": {
    "collapsed": false
   },
   "outputs": [
    {
     "name": "stdout",
     "output_type": "stream",
     "text": [
      "Line voltage is 312 V\n"
     ]
    }
   ],
   "source": [
    "Bat_volt=400 #Battery voltage in Volts\n",
    "Vfund=(Bat_volt/2)*(4/math.pi) #Fundamental phase voltage\n",
    "Vrms=Vfund*math.sqrt(3)/math.sqrt(2) #Rms line voltage\n",
    "print ('Line voltage is', round(Vrms),'V')"
   ]
  },
  {
   "cell_type": "markdown",
   "metadata": {},
   "source": [
    "For vector controlled inverters the line voltage is calculated as follows:"
   ]
  },
  {
   "cell_type": "code",
   "execution_count": 3,
   "metadata": {
    "collapsed": false
   },
   "outputs": [
    {
     "name": "stdout",
     "output_type": "stream",
     "text": [
      "Line voltage is 283 V\n"
     ]
    }
   ],
   "source": [
    "Vphase_peak=Bat_volt/math.sqrt(3)\n",
    "Vline=Vphase_peak*math.sqrt(3)/math.sqrt(2) #Rms line voltage for vector controlled drive\n",
    "Vphase=Vphase_peak/math.sqrt(2) #Rms phase voltage\n",
    "print ('Line voltage is', round(Vline),'V')"
   ]
  },
  {
   "cell_type": "markdown",
   "metadata": {},
   "source": [
    "Initially, let the power factor and efficiency be as follows:"
   ]
  },
  {
   "cell_type": "code",
   "execution_count": 4,
   "metadata": {
    "collapsed": true
   },
   "outputs": [],
   "source": [
    "eff=0.95 #Rated efficiency\n",
    "pf=0.85 #Power factor"
   ]
  },
  {
   "cell_type": "code",
   "execution_count": 5,
   "metadata": {
    "collapsed": false
   },
   "outputs": [
    {
     "name": "stdout",
     "output_type": "stream",
     "text": [
      "Max motor current is 720 A\n"
     ]
    }
   ],
   "source": [
    "Pmax=285000 #Max power of motor in Watts\n",
    "Imax=Pmax/(math.sqrt(3)*Vline*eff*pf)\n",
    "print ('Max motor current is', round(Imax),'A')"
   ]
  },
  {
   "cell_type": "markdown",
   "metadata": {},
   "source": [
    "Pole number is selected as 4 and the machine is known to be a 3 phase machine"
   ]
  },
  {
   "cell_type": "code",
   "execution_count": 6,
   "metadata": {
    "collapsed": false
   },
   "outputs": [],
   "source": [
    "pp=2 #Pole pair\n",
    "p=4 #Pole number\n",
    "m=3 #Phase number"
   ]
  },
  {
   "cell_type": "code",
   "execution_count": 7,
   "metadata": {
    "collapsed": false
   },
   "outputs": [
    {
     "name": "stdout",
     "output_type": "stream",
     "text": [
      "Maximum operating frequency is 437 Hz\n"
     ]
    }
   ],
   "source": [
    "fmax=n*p/120 #Max frequency of motor\n",
    "print ('Maximum operating frequency is', round(fmax), 'Hz')"
   ]
  },
  {
   "cell_type": "markdown",
   "metadata": {},
   "source": [
    "For a more realistic operating frequency (rated frequency), use 90 km/h as rated speed and recalculate the stator frequency"
   ]
  },
  {
   "cell_type": "code",
   "execution_count": 8,
   "metadata": {
    "collapsed": false
   },
   "outputs": [
    {
     "name": "stdout",
     "output_type": "stream",
     "text": [
      "Nominal frequency is 171 Hz\n"
     ]
    }
   ],
   "source": [
    "Rtd_speed=90 #Rated speed in km/h\n",
    "f=fmax/Max_spd*Rtd_speed #Nominal frequency\n",
    "print ('Nominal frequency is', round(f), 'Hz')"
   ]
  },
  {
   "cell_type": "markdown",
   "metadata": {},
   "source": [
    "## 3. Main Dimensions of Stator Core"
   ]
  },
  {
   "cell_type": "code",
   "execution_count": 9,
   "metadata": {
    "collapsed": false
   },
   "outputs": [
    {
     "name": "stdout",
     "output_type": "stream",
     "text": [
      "KE= 0.97\n",
      "Sgap= 342352.94\n"
     ]
    }
   ],
   "source": [
    "KE=0.98-0.005*pp\n",
    "Sgap=KE*Pmax/(eff*pf)\n",
    "print ('KE=',KE)\n",
    "print ('Sgap=',round(Sgap,2))"
   ]
  },
  {
   "cell_type": "code",
   "execution_count": 10,
   "metadata": {
    "collapsed": false
   },
   "outputs": [
    {
     "name": "stdout",
     "output_type": "stream",
     "text": [
      "Stator bore diameter is 24.19 cm\n"
     ]
    }
   ],
   "source": [
    "C0=240e3 # Esson's constant in J/m^3\n",
    "lambda1=1.5 # Stack aspect ratio\n",
    "Dis=math.pow((2.0*pp*pp*Sgap)/(math.pi*lambda1*f*C0),1.0/3.0) # Stator bore diameter in m\n",
    "print ('Stator bore diameter is', round(Dis,4)*100, 'cm')"
   ]
  },
  {
   "cell_type": "code",
   "execution_count": 11,
   "metadata": {
    "collapsed": false
   },
   "outputs": [
    {
     "name": "stdout",
     "output_type": "stream",
     "text": [
      "tau= 0.19\n",
      "L= 0.29\n"
     ]
    }
   ],
   "source": [
    "tau=math.pi*Dis/(2.0*pp) # Pole pitch in m\n",
    "L=lambda1*tau # Stack length in m\n",
    "print ('tau=', round(tau,3))\n",
    "print ('L=', round(L,2))"
   ]
  },
  {
   "cell_type": "markdown",
   "metadata": {},
   "source": [
    "For a better performance, stator slots per pole per phase q is selected as 4. \n",
    "\n",
    "Slot pitch tau_s is calculated as follows:"
   ]
  },
  {
   "cell_type": "code",
   "execution_count": 12,
   "metadata": {
    "collapsed": false
   },
   "outputs": [
    {
     "name": "stdout",
     "output_type": "stream",
     "text": [
      "tau_s= 0.0158\n"
     ]
    }
   ],
   "source": [
    "q=4.0\n",
    "tau_s=tau/(m*q) # Slot pitch in m\n",
    "print ('tau_s=', round(tau_s,4))"
   ]
  },
  {
   "cell_type": "markdown",
   "metadata": {},
   "source": [
    "For 2pp=4, KD is chosen as 0.62."
   ]
  },
  {
   "cell_type": "code",
   "execution_count": 13,
   "metadata": {
    "collapsed": false
   },
   "outputs": [
    {
     "name": "stdout",
     "output_type": "stream",
     "text": [
      "Dout= 0.39\n"
     ]
    }
   ],
   "source": [
    "KD=0.62 # Dis/Dout\n",
    "Dout=Dis/KD # Stator outer diameter in m\n",
    "print ('Dout=', round(Dout,2))"
   ]
  },
  {
   "cell_type": "code",
   "execution_count": 14,
   "metadata": {
    "collapsed": false
   },
   "outputs": [
    {
     "name": "stdout",
     "output_type": "stream",
     "text": [
      "g= 0.9 mm\n"
     ]
    }
   ],
   "source": [
    "g=(0.1+0.012*math.pow(Pmax,1.0/3.0))*1e-3 # Air gap length in m for 2pp>2\n",
    "print ('g=', round(g,4)*1000, 'mm')"
   ]
  },
  {
   "cell_type": "markdown",
   "metadata": {},
   "source": [
    "Too small airgap would produce large space airgap field harmonics and additional losses while a too large one would reduce the power factor and efficiency.\n",
    "\n",
    "The airgap found above is a moderate one to be used in later steps."
   ]
  },
  {
   "cell_type": "markdown",
   "metadata": {},
   "source": [
    "## 4. The Stator Winding"
   ]
  },
  {
   "cell_type": "markdown",
   "metadata": {},
   "source": [
    "Two-layer winding with chorded coils, y/tau_s=10/12 is chosen 10/12=0.83 to reduce the 5th harmonic in mmf."
   ]
  },
  {
   "cell_type": "code",
   "execution_count": 15,
   "metadata": {
    "collapsed": false
   },
   "outputs": [
    {
     "name": "stdout",
     "output_type": "stream",
     "text": [
      "48.0\n"
     ]
    }
   ],
   "source": [
    "Ns=p*q*m # Number of stator slots\n",
    "print (Ns)"
   ]
  },
  {
   "cell_type": "code",
   "execution_count": 16,
   "metadata": {
    "collapsed": false
   },
   "outputs": [
    {
     "name": "stdout",
     "output_type": "stream",
     "text": [
      "0.26\n"
     ]
    }
   ],
   "source": [
    "alpha_ec=2.0*math.pi*pp/Ns # Electrical angle between emfs in neighboring slots in rad\n",
    "print (round(alpha_ec,2))"
   ]
  },
  {
   "cell_type": "code",
   "execution_count": 17,
   "metadata": {
    "collapsed": false
   },
   "outputs": [
    {
     "name": "stdout",
     "output_type": "stream",
     "text": [
      "0.96\n",
      "0.97\n",
      "0.93\n"
     ]
    }
   ],
   "source": [
    "Kq1=math.sin(q*alpha_ec/2.0)/(q*math.sin(alpha_ec/2.0)) # Distribution factor\n",
    "Ky1=math.sin(math.pi/2.0*10.0/12.0) # Pitch factor\n",
    "Kw1=Kq1*Ky1 # Winding factor\n",
    "print (round(Kq1,2))\n",
    "print (round(Ky1,2))\n",
    "print (round(Kw1,2))"
   ]
  },
  {
   "cell_type": "code",
   "execution_count": 18,
   "metadata": {
    "collapsed": false
   },
   "outputs": [
    {
     "name": "stdout",
     "output_type": "stream",
     "text": [
      "0.0257\n"
     ]
    }
   ],
   "source": [
    "Bg=0.65 #Air gap flux density in T\n",
    "Kf=1.085\n",
    "alpha_i=0.729 # Pole spanning coefficient\n",
    "phi=alpha_i*tau*L*Bg # Pole flux in Wb\n",
    "print (round(phi,4))"
   ]
  },
  {
   "cell_type": "code",
   "execution_count": 19,
   "metadata": {
    "collapsed": false
   },
   "outputs": [
    {
     "name": "stdout",
     "output_type": "stream",
     "text": [
      "8.99\n"
     ]
    }
   ],
   "source": [
    "W1=KE*Vphase/(4.0*Kf*Kw1*f*phi) # Number of turns per phase\n",
    "print (round(W1,2))"
   ]
  },
  {
   "cell_type": "code",
   "execution_count": 20,
   "metadata": {
    "collapsed": false
   },
   "outputs": [
    {
     "name": "stdout",
     "output_type": "stream",
     "text": [
      "1.1237695356670816\n"
     ]
    }
   ],
   "source": [
    "a1=1.0 # Number of current paths in parallel\n",
    "ns=a1*W1/(pp*q) # Number of conductors per slot\n",
    "print (ns)"
   ]
  },
  {
   "cell_type": "markdown",
   "metadata": {},
   "source": [
    "ns should be an even number as there are two distinct coils per slot in a\n",
    "double layer winding. Choose ns=2, then recalculate W1 and Bg"
   ]
  },
  {
   "cell_type": "code",
   "execution_count": 21,
   "metadata": {
    "collapsed": false
   },
   "outputs": [
    {
     "name": "stdout",
     "output_type": "stream",
     "text": [
      "16.0\n",
      "0.3652250990918015\n"
     ]
    }
   ],
   "source": [
    "ns=2\n",
    "W1_new=pp*q*ns\n",
    "Bg=Bg*W1/W1_new\n",
    "print (W1_new)\n",
    "print (Bg)"
   ]
  },
  {
   "cell_type": "markdown",
   "metadata": {},
   "source": [
    "Such a low Bg value is not applicable. Increase Bg by changing a1 value."
   ]
  },
  {
   "cell_type": "code",
   "execution_count": 22,
   "metadata": {
    "collapsed": false
   },
   "outputs": [
    {
     "name": "stdout",
     "output_type": "stream",
     "text": [
      "120.07\n",
      "6.18\n",
      "12.36\n"
     ]
    }
   ],
   "source": [
    "Iln=Imax #Rated current\n",
    "Jcos=6.0 # Current density in A/mm^2\n",
    "Aco=Iln/(Jcos*a1) # Magnetic wire cross section in mm^2\n",
    "rco=math.sqrt(Aco/math.pi) #Wire radius in mm\n",
    "dco=2*rco\n",
    "print (round(Aco,2))\n",
    "print (round(rco,2))\n",
    "print (round(dco,2))"
   ]
  },
  {
   "cell_type": "markdown",
   "metadata": {},
   "source": [
    "Although frequency is not high, check that this value is similar to the skin depth at the deisgn frequency.\n",
    "\n",
    "Since dco>1.3 mm parallel conductors should be used \n",
    "\n",
    "Use 120 conductors in parallel, ap=120"
   ]
  },
  {
   "cell_type": "code",
   "execution_count": 23,
   "metadata": {
    "collapsed": false
   },
   "outputs": [
    {
     "name": "stdout",
     "output_type": "stream",
     "text": [
      "1.13\n"
     ]
    }
   ],
   "source": [
    "ap=120\n",
    "dco=math.sqrt(4.0*Aco/(math.pi*ap))\n",
    "print (round(dco,2))"
   ]
  },
  {
   "cell_type": "markdown",
   "metadata": {},
   "source": [
    "Since ap>4, a1 should be modified (increased) as follows.\n",
    "\n",
    "Each coil is made of ns/ap turns."
   ]
  },
  {
   "cell_type": "code",
   "execution_count": null,
   "metadata": {
    "collapsed": true
   },
   "outputs": [],
   "source": []
  },
  {
   "cell_type": "markdown",
   "metadata": {},
   "source": [
    "Wire diameter shall be selected here."
   ]
  },
  {
   "cell_type": "markdown",
   "metadata": {},
   "source": [
    "## 5. Stator Slot Sizing"
   ]
  },
  {
   "cell_type": "code",
   "execution_count": 24,
   "metadata": {
    "collapsed": false
   },
   "outputs": [
    {
     "name": "stdout",
     "output_type": "stream",
     "text": [
      "545.79\n"
     ]
    }
   ],
   "source": [
    "Kfill=0.44 # Fill factor for round wire\n",
    "Asu=math.pi*dco*dco*ap*ns/(4.0*Kfill) # Useful slot area in mm^2\n",
    "print (round(Asu,2))"
   ]
  },
  {
   "cell_type": "code",
   "execution_count": null,
   "metadata": {
    "collapsed": true
   },
   "outputs": [],
   "source": []
  }
 ],
 "metadata": {
  "kernelspec": {
   "display_name": "Python 3",
   "language": "python",
   "name": "python3"
  },
  "language_info": {
   "codemirror_mode": {
    "name": "ipython",
    "version": 3
   },
   "file_extension": ".py",
   "mimetype": "text/x-python",
   "name": "python",
   "nbconvert_exporter": "python",
   "pygments_lexer": "ipython3",
   "version": "3.5.1"
  }
 },
 "nbformat": 4,
 "nbformat_minor": 0
}
