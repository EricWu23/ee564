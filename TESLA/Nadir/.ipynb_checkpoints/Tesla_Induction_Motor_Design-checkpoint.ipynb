{
 "cells": [
  {
   "cell_type": "markdown",
   "metadata": {},
   "source": [
    "See [Tire Dimensions](https://www.mcgrefer.com/sizeinfo/2454519)\n",
    "\n",
    "See [Model S Specs](https://en.wikipedia.org/wiki/Tesla_Model_S)\n",
    "\n",
    "See [Presentation](http://sites.ieee.org/miami/files/2014/11/Hendershot-FIU-Lecture.pdf)"
   ]
  },
  {
   "cell_type": "code",
   "execution_count": 1,
   "metadata": {
    "collapsed": false
   },
   "outputs": [
    {
     "name": "stdout",
     "output_type": "stream",
     "text": [
      "Max motor speed is 13112 rpm\n"
     ]
    }
   ],
   "source": [
    "import math\n",
    "gr=9.73 #Gear ratio of Tesla\n",
    "wr=0.35155 #Wheel radius of Tesla\n",
    "Max_spd=230 #Max speed in km/h\n",
    "Max_speed=Max_spd*1000/3600 #Max speed in m/s\n",
    "Ang_speed=Max_speed*2*math.pi*wr #Max angular velocity\n",
    "Motor_speed=Ang_speed*gr #Motor speed in rad/sed\n",
    "n=Motor_speed*60/(2*math.pi) #Max speed of motor in rpm\n",
    "print ('Max motor speed is',round(n),'rpm')"
   ]
  },
  {
   "cell_type": "code",
   "execution_count": 2,
   "metadata": {
    "collapsed": false
   },
   "outputs": [
    {
     "name": "stdout",
     "output_type": "stream",
     "text": [
      "Line voltage is 312 V\n"
     ]
    }
   ],
   "source": [
    "Bat_volt=400 #Battery voltage in Volts\n",
    "Vfund=(Bat_volt/2)*(4/math.pi) #Fundamental phase voltage\n",
    "Vrms=Vfund*math.sqrt(3)/math.sqrt(2) #Rms line voltage\n",
    "print ('Line voltage is', round(Vrms),'V')"
   ]
  },
  {
   "cell_type": "markdown",
   "metadata": {},
   "source": [
    "For vector controlled inverters the line voltage is calculated as follows:"
   ]
  },
  {
   "cell_type": "code",
   "execution_count": 3,
   "metadata": {
    "collapsed": false
   },
   "outputs": [
    {
     "name": "stdout",
     "output_type": "stream",
     "text": [
      "Line voltage is 283 V\n"
     ]
    }
   ],
   "source": [
    "Vphase=Bat_volt/math.sqrt(3)\n",
    "Vline=Vphase*math.sqrt(3)/math.sqrt(2) #Rms line voltage for vector controlled drive\n",
    "print ('Line voltage is', round(Vline),'V')"
   ]
  },
  {
   "cell_type": "markdown",
   "metadata": {},
   "source": [
    "Initially, let the power factor and efficiency be as follows:"
   ]
  },
  {
   "cell_type": "code",
   "execution_count": 4,
   "metadata": {
    "collapsed": true
   },
   "outputs": [],
   "source": [
    "eff=0.95 #Rated efficiency\n",
    "pf=0.85 #Power factor"
   ]
  },
  {
   "cell_type": "code",
   "execution_count": 5,
   "metadata": {
    "collapsed": false
   },
   "outputs": [
    {
     "name": "stdout",
     "output_type": "stream",
     "text": [
      "Max motor current is 720 A\n"
     ]
    }
   ],
   "source": [
    "Pmax=285000 #Max power of motor in Watts\n",
    "Imax=Pmax/(math.sqrt(3)*Vline*eff*pf)\n",
    "print ('Max motor current is', round(Imax),'A')"
   ]
  },
  {
   "cell_type": "markdown",
   "metadata": {},
   "source": [
    "Pole number is selected as 4 and the machine is known to be a 3 phase machine"
   ]
  },
  {
   "cell_type": "code",
   "execution_count": 6,
   "metadata": {
    "collapsed": false
   },
   "outputs": [],
   "source": [
    "pp=2 #Pole pair\n",
    "p=4 #Pole number\n",
    "m=3 #Phase number"
   ]
  },
  {
   "cell_type": "code",
   "execution_count": 7,
   "metadata": {
    "collapsed": false
   },
   "outputs": [
    {
     "name": "stdout",
     "output_type": "stream",
     "text": [
      "Maximum operating frequency is 437 Hz\n"
     ]
    }
   ],
   "source": [
    "fmax=n*p/120 #Max frequency of motor\n",
    "print ('Maximum operating frequency is', round(fmax), 'Hz')"
   ]
  },
  {
   "cell_type": "markdown",
   "metadata": {},
   "source": [
    "For a more realistic operating frequency (rated frequency), use 90 km/h as rated speed and recalculate the stator frequency"
   ]
  },
  {
   "cell_type": "code",
   "execution_count": 8,
   "metadata": {
    "collapsed": false
   },
   "outputs": [
    {
     "name": "stdout",
     "output_type": "stream",
     "text": [
      "Nominal frequency is 171 Hz\n"
     ]
    }
   ],
   "source": [
    "Rtd_speed=90 #Rated speed in km/h\n",
    "f=fmax/Max_spd*Rtd_speed #Nominal frequency\n",
    "print ('Nominal frequency is', round(f), 'Hz')"
   ]
  },
  {
   "cell_type": "code",
   "execution_count": 9,
   "metadata": {
    "collapsed": false
   },
   "outputs": [
    {
     "name": "stdout",
     "output_type": "stream",
     "text": [
      "0.97\n",
      "342352.94\n"
     ]
    }
   ],
   "source": [
    "KE=0.98-0.005*pp\n",
    "Sgap=KE*Pmax/(eff*pf)\n",
    "print (KE)\n",
    "print (round(Sgap,2))"
   ]
  },
  {
   "cell_type": "code",
   "execution_count": 10,
   "metadata": {
    "collapsed": false
   },
   "outputs": [
    {
     "name": "stdout",
     "output_type": "stream",
     "text": [
      "Stator bore diameter is 24.19 cm\n"
     ]
    }
   ],
   "source": [
    "C0=240e3 # Esson's constant in J/m^3\n",
    "lambda1=1.5 # Stack aspect ratio\n",
    "Ds=math.pow((2.0*pp*pp*Sgap)/(math.pi*lambda1*f*C0),1.0/3.0) # Stator bore diameter in m\n",
    "print ('Stator bore diameter is', round(Ds,4)*100, 'cm')"
   ]
  },
  {
   "cell_type": "code",
   "execution_count": null,
   "metadata": {
    "collapsed": true
   },
   "outputs": [],
   "source": []
  }
 ],
 "metadata": {
  "kernelspec": {
   "display_name": "Python 3",
   "language": "python",
   "name": "python3"
  },
  "language_info": {
   "codemirror_mode": {
    "name": "ipython",
    "version": 3
   },
   "file_extension": ".py",
   "mimetype": "text/x-python",
   "name": "python",
   "nbconvert_exporter": "python",
   "pygments_lexer": "ipython3",
   "version": "3.5.1"
  }
 },
 "nbformat": 4,
 "nbformat_minor": 0
}
