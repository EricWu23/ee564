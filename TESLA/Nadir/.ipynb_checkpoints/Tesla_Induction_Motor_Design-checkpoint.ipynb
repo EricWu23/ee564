{
 "cells": [
  {
   "cell_type": "markdown",
   "metadata": {},
   "source": [
    "# TESLA Model S Induction Motor Design"
   ]
  },
  {
   "cell_type": "markdown",
   "metadata": {},
   "source": [
    "## 1. Introduction"
   ]
  },
  {
   "cell_type": "markdown",
   "metadata": {},
   "source": [
    "Model S is introduced in June 2012 by Tesla Motors. It has been sold over 100k by December 2015. The very first model with 85 kWh battery pack has a range of 426 km.\n",
    "\n",
    "Induction motor used in this model is required to be designed using analytical calculations and motoranalysis tool in Matlab."
   ]
  },
  {
   "cell_type": "markdown",
   "metadata": {},
   "source": [
    "See [Tire Dimensions](https://www.mcgrefer.com/sizeinfo/2454519)\n",
    "\n",
    "See [Model S Specs](https://en.wikipedia.org/wiki/Tesla_Model_S)\n",
    "\n",
    "See [Presentation](http://sites.ieee.org/miami/files/2014/11/Hendershot-FIU-Lecture.pdf)"
   ]
  },
  {
   "cell_type": "markdown",
   "metadata": {},
   "source": [
    "## 2. Design Specifications and Basic Calculations"
   ]
  },
  {
   "cell_type": "code",
   "execution_count": 1,
   "metadata": {
    "collapsed": false
   },
   "outputs": [
    {
     "name": "stdout",
     "output_type": "stream",
     "text": [
      "Max motor speed is 13112 rpm\n"
     ]
    }
   ],
   "source": [
    "import math\n",
    "gr=9.73 #Gear ratio of Tesla\n",
    "wr=0.35155 #Wheel radius of Tesla\n",
    "Max_spd=230 #Max speed in km/h\n",
    "Max_speed=Max_spd*1000/3600 #Max speed in m/s\n",
    "Ang_speed=Max_speed*2*math.pi*wr #Max angular velocity\n",
    "Motor_speed=Ang_speed*gr #Motor speed in rad/sed\n",
    "n=Motor_speed*60/(2*math.pi) #Max speed of motor in rpm\n",
    "print ('Max motor speed is',round(n),'rpm')"
   ]
  },
  {
   "cell_type": "code",
   "execution_count": 2,
   "metadata": {
    "collapsed": false
   },
   "outputs": [
    {
     "name": "stdout",
     "output_type": "stream",
     "text": [
      "Line voltage is 312 V\n"
     ]
    }
   ],
   "source": [
    "Bat_volt=400 #Battery voltage in Volts\n",
    "Vfund=(Bat_volt/2)*(4/math.pi) #Fundamental phase voltage\n",
    "Vrms=Vfund*math.sqrt(3)/math.sqrt(2) #Rms line voltage\n",
    "print ('Line voltage is', round(Vrms),'V')"
   ]
  },
  {
   "cell_type": "markdown",
   "metadata": {},
   "source": [
    "For vector controlled inverters the line voltage is calculated as follows:"
   ]
  },
  {
   "cell_type": "code",
   "execution_count": 3,
   "metadata": {
    "collapsed": false
   },
   "outputs": [
    {
     "name": "stdout",
     "output_type": "stream",
     "text": [
      "Line voltage is 283 V\n"
     ]
    }
   ],
   "source": [
    "Vphase_peak=Bat_volt/math.sqrt(3)\n",
    "Vline=Vphase_peak*math.sqrt(3)/math.sqrt(2) #Rms line voltage for vector controlled drive\n",
    "Vphase=Vphase_peak/math.sqrt(2) #Rms phase voltage\n",
    "print ('Line voltage is', round(Vline),'V')"
   ]
  },
  {
   "cell_type": "markdown",
   "metadata": {},
   "source": [
    "Initially, let the power factor and efficiency be as follows:"
   ]
  },
  {
   "cell_type": "code",
   "execution_count": 4,
   "metadata": {
    "collapsed": true
   },
   "outputs": [],
   "source": [
    "eff=0.95 #Rated efficiency\n",
    "pf=0.85 #Power factor"
   ]
  },
  {
   "cell_type": "code",
   "execution_count": 5,
   "metadata": {
    "collapsed": false
   },
   "outputs": [
    {
     "name": "stdout",
     "output_type": "stream",
     "text": [
      "Max motor current is 720 A\n"
     ]
    }
   ],
   "source": [
    "Pmax=285000 #Max power of motor in Watts\n",
    "Imax=Pmax/(math.sqrt(3)*Vline*eff*pf)\n",
    "print ('Max motor current is', round(Imax),'A')"
   ]
  },
  {
   "cell_type": "markdown",
   "metadata": {},
   "source": [
    "Pole number is selected as 4 and the machine is known to be a 3 phase machine"
   ]
  },
  {
   "cell_type": "code",
   "execution_count": 6,
   "metadata": {
    "collapsed": false
   },
   "outputs": [],
   "source": [
    "pp=2 #Pole pair\n",
    "p=4 #Pole number\n",
    "m=3 #Phase number"
   ]
  },
  {
   "cell_type": "code",
   "execution_count": 7,
   "metadata": {
    "collapsed": false
   },
   "outputs": [
    {
     "name": "stdout",
     "output_type": "stream",
     "text": [
      "Maximum operating frequency is 437 Hz\n"
     ]
    }
   ],
   "source": [
    "fmax=n*p/120 #Max frequency of motor\n",
    "print ('Maximum operating frequency is', round(fmax), 'Hz')"
   ]
  },
  {
   "cell_type": "markdown",
   "metadata": {},
   "source": [
    "For a more realistic operating frequency (rated frequency), use 90 km/h as rated speed and recalculate the stator frequency"
   ]
  },
  {
   "cell_type": "code",
   "execution_count": 8,
   "metadata": {
    "collapsed": false
   },
   "outputs": [
    {
     "name": "stdout",
     "output_type": "stream",
     "text": [
      "Nominal frequency is 171 Hz\n"
     ]
    }
   ],
   "source": [
    "Rtd_speed=90 #Rated speed in km/h\n",
    "f=fmax/Max_spd*Rtd_speed #Nominal frequency\n",
    "print ('Nominal frequency is', round(f), 'Hz')"
   ]
  },
  {
   "cell_type": "markdown",
   "metadata": {},
   "source": [
    "## 3. Main Dimensions of Stator Core"
   ]
  },
  {
   "cell_type": "code",
   "execution_count": 9,
   "metadata": {
    "collapsed": false
   },
   "outputs": [
    {
     "name": "stdout",
     "output_type": "stream",
     "text": [
      "KE = 0.97\n",
      "Sgap = 342352.94\n"
     ]
    }
   ],
   "source": [
    "KE=0.98-0.005*pp\n",
    "Sgap=KE*Pmax/(eff*pf)\n",
    "print ('KE =',KE)\n",
    "print ('Sgap =',round(Sgap,2))"
   ]
  },
  {
   "cell_type": "code",
   "execution_count": 10,
   "metadata": {
    "collapsed": false
   },
   "outputs": [
    {
     "name": "stdout",
     "output_type": "stream",
     "text": [
      "Dis = 24.19 cm\n"
     ]
    }
   ],
   "source": [
    "C0=240e3 #Esson's constant in J/m^3\n",
    "lambda1=1.5 #Stack aspect ratio\n",
    "Dis=math.pow((2*pp*pp*Sgap)/(math.pi*lambda1*f*C0),1/3) #Stator bore diameter in m\n",
    "print ('Dis =', round(Dis,4)*100, 'cm')"
   ]
  },
  {
   "cell_type": "code",
   "execution_count": 11,
   "metadata": {
    "collapsed": false
   },
   "outputs": [
    {
     "name": "stdout",
     "output_type": "stream",
     "text": [
      "tau = 0.19\n",
      "L = 0.29\n"
     ]
    }
   ],
   "source": [
    "tau=math.pi*Dis/(2*pp) #Pole pitch in m\n",
    "L=lambda1*tau #Stack length in m\n",
    "print ('tau =', round(tau,3))\n",
    "print ('L =', round(L,2))"
   ]
  },
  {
   "cell_type": "markdown",
   "metadata": {},
   "source": [
    "For a better performance, stator slots per pole per phase q is selected as 4. \n",
    "\n",
    "Slot pitch tau_s is calculated as follows:"
   ]
  },
  {
   "cell_type": "code",
   "execution_count": 12,
   "metadata": {
    "collapsed": false
   },
   "outputs": [
    {
     "name": "stdout",
     "output_type": "stream",
     "text": [
      "tau_s = 0.0158\n"
     ]
    }
   ],
   "source": [
    "q=4\n",
    "tau_s=tau/(m*q) #Slot pitch in m\n",
    "print ('tau_s =', round(tau_s,4))"
   ]
  },
  {
   "cell_type": "markdown",
   "metadata": {},
   "source": [
    "For 2pp=4, KD is chosen as 0.62."
   ]
  },
  {
   "cell_type": "code",
   "execution_count": 13,
   "metadata": {
    "collapsed": false
   },
   "outputs": [
    {
     "name": "stdout",
     "output_type": "stream",
     "text": [
      "Dout = 0.39\n"
     ]
    }
   ],
   "source": [
    "KD=0.62 #Dis/Dout\n",
    "Dout=Dis/KD #Stator outer diameter in m\n",
    "print ('Dout =', round(Dout,2))"
   ]
  },
  {
   "cell_type": "code",
   "execution_count": 14,
   "metadata": {
    "collapsed": false
   },
   "outputs": [
    {
     "name": "stdout",
     "output_type": "stream",
     "text": [
      "g = 0.9 mm\n"
     ]
    }
   ],
   "source": [
    "g=(0.1+0.012*math.pow(Pmax,1/3))*1e-3 #Air gap length in m for 2pp>2\n",
    "print ('g =', round(g,4)*1000, 'mm')"
   ]
  },
  {
   "cell_type": "markdown",
   "metadata": {},
   "source": [
    "Too small airgap would produce large space airgap field harmonics and additional losses while a too large one would reduce the power factor and efficiency.\n",
    "\n",
    "The airgap found above is a moderate one to be used in later steps."
   ]
  },
  {
   "cell_type": "markdown",
   "metadata": {},
   "source": [
    "## 4. Stator Winding"
   ]
  },
  {
   "cell_type": "markdown",
   "metadata": {},
   "source": [
    "Two-layer winding with chorded coils, y/tau=10/12 is chosen 10/12=0.83 to reduce the 5th harmonic in mmf."
   ]
  },
  {
   "cell_type": "code",
   "execution_count": 15,
   "metadata": {
    "collapsed": false
   },
   "outputs": [
    {
     "name": "stdout",
     "output_type": "stream",
     "text": [
      "Ns = 48 slots\n"
     ]
    }
   ],
   "source": [
    "Ns=p*q*m #Number of stator slots\n",
    "print ('Ns =',Ns,'slots')"
   ]
  },
  {
   "cell_type": "code",
   "execution_count": 16,
   "metadata": {
    "collapsed": false
   },
   "outputs": [
    {
     "name": "stdout",
     "output_type": "stream",
     "text": [
      "alpha_ec = 0.26 rad\n"
     ]
    }
   ],
   "source": [
    "alpha_ec=2*math.pi*pp/Ns #Electrical angle between emfs in neighboring slots in rad\n",
    "print ('alpha_ec =', round(alpha_ec,2),'rad')"
   ]
  },
  {
   "cell_type": "code",
   "execution_count": 17,
   "metadata": {
    "collapsed": false
   },
   "outputs": [
    {
     "name": "stdout",
     "output_type": "stream",
     "text": [
      "Kq1 = 0.96\n",
      "Ky1 = 0.97\n",
      "Kw1 = 0.93\n"
     ]
    }
   ],
   "source": [
    "Kq1=math.sin(q*alpha_ec/2)/(q*math.sin(alpha_ec/2)) #Distribution factor\n",
    "Ky1=math.sin(math.pi/2*10/12) #Pitch factor\n",
    "Kw1=Kq1*Ky1 #Winding factor\n",
    "print ('Kq1 =',round(Kq1,2))\n",
    "print ('Ky1 =',round(Ky1,2))\n",
    "print ('Kw1 =',round(Kw1,2))"
   ]
  },
  {
   "cell_type": "code",
   "execution_count": 18,
   "metadata": {
    "collapsed": false
   },
   "outputs": [
    {
     "name": "stdout",
     "output_type": "stream",
     "text": [
      "phi = 0.0257 Wb\n"
     ]
    }
   ],
   "source": [
    "Bg=0.65 #Air gap flux density in T\n",
    "Kf=1.085\n",
    "alpha_i=0.729 #Pole spanning coefficient\n",
    "phi=alpha_i*tau*L*Bg #Pole flux in Wb\n",
    "print ('phi =',round(phi,4),'Wb')"
   ]
  },
  {
   "cell_type": "code",
   "execution_count": 19,
   "metadata": {
    "collapsed": false
   },
   "outputs": [
    {
     "name": "stdout",
     "output_type": "stream",
     "text": [
      "W1 = 8.99 turns/phase\n"
     ]
    }
   ],
   "source": [
    "W1=KE*Vphase/(4*Kf*Kw1*f*phi) #Number of turns per phase\n",
    "print ('W1 =',round(W1,2),'turns/phase')"
   ]
  },
  {
   "cell_type": "code",
   "execution_count": 20,
   "metadata": {
    "collapsed": false
   },
   "outputs": [
    {
     "name": "stdout",
     "output_type": "stream",
     "text": [
      "ns = 1.12 conductors\n"
     ]
    }
   ],
   "source": [
    "a1=1 #Number of current paths in parallel\n",
    "ns=a1*W1/(pp*q) #Number of conductors per slot\n",
    "print ('ns =',round(ns,2),'conductors')"
   ]
  },
  {
   "cell_type": "markdown",
   "metadata": {},
   "source": [
    "ns should be an even number as there are two distinct coils per slot in a\n",
    "double layer winding. Choose ns=2, then recalculate W1 and Bg"
   ]
  },
  {
   "cell_type": "code",
   "execution_count": 21,
   "metadata": {
    "collapsed": false
   },
   "outputs": [
    {
     "name": "stdout",
     "output_type": "stream",
     "text": [
      "W1 = 16 turns/phase\n",
      "Bg = 0.365 T\n"
     ]
    }
   ],
   "source": [
    "ns=2\n",
    "W1_old=W1\n",
    "W1=pp*q*ns #Recalculated number of turns per phase\n",
    "Bg=Bg*W1_old/W1 #Recalculated air gap flux density in T\n",
    "print ('W1 =',W1,'turns/phase')\n",
    "print ('Bg =',round(Bg,3),'T')"
   ]
  },
  {
   "cell_type": "markdown",
   "metadata": {},
   "source": [
    "**_Note for myself: Such a low Bg value is not applicable. Increase Bg by changing a1 value._**"
   ]
  },
  {
   "cell_type": "code",
   "execution_count": 22,
   "metadata": {
    "collapsed": false
   },
   "outputs": [
    {
     "name": "stdout",
     "output_type": "stream",
     "text": [
      "Acu = 120.07 mm^2\n",
      "rcu = 6.18 mm\n",
      "dcu = 12.36 mm\n"
     ]
    }
   ],
   "source": [
    "Iln=Imax #Rated current\n",
    "Jcus=6 #Current density in A/mm^2\n",
    "Acu=Iln/(Jcus*a1) #Magnetic wire cross section in mm^2\n",
    "rcu=math.sqrt(Acu/math.pi) #Wire radius in mm\n",
    "dcu=2*rcu #Wire diameter in mm\n",
    "print ('Acu =',round(Acu,2),'mm^2')\n",
    "print ('rcu =',round(rcu,2),'mm')\n",
    "print ('dcu =',round(dcu,2),'mm')"
   ]
  },
  {
   "cell_type": "markdown",
   "metadata": {},
   "source": [
    "Although frequency is not high, check that this value is similar to the skin depth at the deisgn frequency.\n",
    "\n",
    "Since dcu>1.3 mm parallel conductors should be used \n",
    "\n",
    "Use 12 conductors in parallel, ap=12"
   ]
  },
  {
   "cell_type": "code",
   "execution_count": 23,
   "metadata": {
    "collapsed": false
   },
   "outputs": [
    {
     "name": "stdout",
     "output_type": "stream",
     "text": [
      "dcu = 3.57 mm\n"
     ]
    }
   ],
   "source": [
    "ap=12 #Parallel path number (number of strands)\n",
    "dcu=math.sqrt(4*Acu/(math.pi*ap)) #Recalculated wire diameter in mm\n",
    "print ('dcu =',round(dcu,2),'mm')"
   ]
  },
  {
   "cell_type": "markdown",
   "metadata": {},
   "source": [
    "Since ap>4, a1 should be modified (increased) as follows.\n",
    "\n",
    "Each coil is made of ns/ap turns."
   ]
  },
  {
   "cell_type": "code",
   "execution_count": null,
   "metadata": {
    "collapsed": true
   },
   "outputs": [],
   "source": []
  },
  {
   "cell_type": "markdown",
   "metadata": {},
   "source": [
    "Wire diameter shall be selected here."
   ]
  },
  {
   "cell_type": "markdown",
   "metadata": {},
   "source": [
    "## 5. Stator Slot Sizing"
   ]
  },
  {
   "cell_type": "code",
   "execution_count": 24,
   "metadata": {
    "collapsed": false
   },
   "outputs": [
    {
     "name": "stdout",
     "output_type": "stream",
     "text": [
      "Asu = 545.79 mm^2\n"
     ]
    }
   ],
   "source": [
    "Kfill=0.44 #Fill factor for round wire\n",
    "Asu=math.pi*dcu*dcu*ap*ns/(4*Kfill) #Useful slot area in mm^2\n",
    "print ('Asu =',round(Asu,2),'mm^2')"
   ]
  },
  {
   "cell_type": "markdown",
   "metadata": {
    "collapsed": true
   },
   "source": [
    "For stator slot geometry, parallel tooth is selected.\n",
    "\n",
    "bos, hos, hw are assigned values from past experience: bos = 2 to 3 mm ≤\n",
    "8g, hos = (0.5 to 1.0) mm, wedge height hw = 1 to 4 mm\n",
    "\n",
    "Assuming that all the airgap flux passes through the stator teeth:\n",
    "BgτsL ≈ BtsbtsLKFe"
   ]
  },
  {
   "cell_type": "code",
   "execution_count": 25,
   "metadata": {
    "collapsed": false
   },
   "outputs": [
    {
     "data": {
      "image/png": "[encoded data removed]",
      "text/plain": [
       "<IPython.core.display.Image object>"
      ]
     },
     "execution_count": 25,
     "metadata": {
      "image/png": {
       "width": 500
      }
     },
     "output_type": "execute_result"
    }
   ],
   "source": [
    "from IPython.display import Image\n",
    "Image(filename='Stator Slot Geometry.png', width=500)"
   ]
  },
  {
   "cell_type": "code",
   "execution_count": 26,
   "metadata": {
    "collapsed": false
   },
   "outputs": [
    {
     "name": "stdout",
     "output_type": "stream",
     "text": [
      "bts = 3.886 mm\n"
     ]
    }
   ],
   "source": [
    "Kfe=0.96 #For 0.5 mm thick lamination\n",
    "Bts=1.55 #Tooth flux density in T\n",
    "bts=Bg*tau_s/(Bts*Kfe) #Tooth width in m\n",
    "print ('bts =',round(bts,6)*1000,'mm')"
   ]
  },
  {
   "cell_type": "markdown",
   "metadata": {},
   "source": [
    "If lamination thickness changes, change Kfe value."
   ]
  },
  {
   "cell_type": "code",
   "execution_count": 27,
   "metadata": {
    "collapsed": false
   },
   "outputs": [
    {
     "name": "stdout",
     "output_type": "stream",
     "text": [
      "bs1 = 12.27 mm\n",
      "bs2 = 17.14 mm\n",
      "hs = 37.1 mm\n"
     ]
    }
   ],
   "source": [
    "bos=2.2e-3\n",
    "hos=1e-3\n",
    "hw=1.5e-3\n",
    "bs1=math.pi*(Dis+2*hos+2*hw)/Ns-bts #lower slot width\n",
    "bs2=math.sqrt(4*Asu*1e-6*math.tan(math.pi/Ns)+bs1*bs1) #Upper slot width in m\n",
    "hs=2*Asu*1e-6/(bs1+bs2) #Slot useful height in m\n",
    "print ('bs1 =',round(bs1,5)*1000,'mm')\n",
    "print ('bs2 =',round(bs2,5)*1000,'mm')\n",
    "print ('hs =',round(hs,4)*1000,'mm')"
   ]
  },
  {
   "cell_type": "code",
   "execution_count": 28,
   "metadata": {
    "collapsed": false
   },
   "outputs": [
    {
     "name": "stdout",
     "output_type": "stream",
     "text": [
      "Fmg = 310.3 Aturns\n",
      "Fmts = 69.71 Aturns\n",
      "Fmtr = 54.4 Aturns\n"
     ]
    }
   ],
   "source": [
    "u0=4*math.pi*1e-7 #Permeability of free space\n",
    "Fmg=1.2*g*Bg/u0 #Air gap mmf\n",
    "Hts=1760  #Magnetic field intensity for Bts=1.55 T in A/m\n",
    "Fmts=Hts*(hs+hos+hw) #Stator tooth mmf\n",
    "Kst=1.4-1 #Teeth saturation factor\n",
    "Fmtr=Kst*Fmg-Fmts #Rotor tooth mmf\n",
    "print ('Fmg =',round(Fmg,2),'Aturns')\n",
    "print ('Fmts =',round(Fmts,2),'Aturns')\n",
    "print ('Fmtr =',round(Fmtr,2),'Aturns')"
   ]
  },
  {
   "cell_type": "markdown",
   "metadata": {},
   "source": [
    "Fmtr<Fmts but similar. So keep Bg as 0.365. Otherwise change 'phi' calculation."
   ]
  },
  {
   "cell_type": "code",
   "execution_count": 29,
   "metadata": {
    "collapsed": false
   },
   "outputs": [
    {
     "name": "stdout",
     "output_type": "stream",
     "text": [
      "hcs = 34.5 mm\n"
     ]
    }
   ],
   "source": [
    "hcs=(Dout-(Dis+2*(hos+hw+hs)))/2 #Stator back iron height in m\n",
    "print ('hcs =',round(hcs,4)*1000,'mm')"
   ]
  },
  {
   "cell_type": "code",
   "execution_count": 30,
   "metadata": {
    "collapsed": false
   },
   "outputs": [
    {
     "name": "stdout",
     "output_type": "stream",
     "text": [
      "Bcs = 1.3 T\n"
     ]
    }
   ],
   "source": [
    "Bcs=phi/(2*L*hcs) #Back core flux density in T\n",
    "print ('Bcs =',round(Bcs,2),'T')"
   ]
  },
  {
   "cell_type": "markdown",
   "metadata": {},
   "source": [
    "If Bcs is calculated to be too large. There are three main ways to solve this problem.\n",
    "\n",
    "One is to simply increase the stator outer diameter until Bcs ≈ 1.4 to 1.7 T. \n",
    "\n",
    "The second solution consists in going back to the design start and introducing a larger stack aspect ratio, λ which eventually would result in a smaller Dis, and, finally, a larger back iron height hcs and thus a lower Bcs.\n",
    "\n",
    "The third solution is to increase current density and thus reduce slot height hs. However, if high efficiency is the target, such a solution is to be used\n",
    "cautiously."
   ]
  },
  {
   "cell_type": "markdown",
   "metadata": {},
   "source": [
    "## 6. Rotor Slot Sizing"
   ]
  },
  {
   "cell_type": "markdown",
   "metadata": {
    "collapsed": true
   },
   "source": [
    "The correspondence between the stator and rotor numbers of slots is important to\n",
    "reduce parasitic torque, additional losses, radial forces, noise, and vibration.\n",
    "\n",
    "From lecture notes [slide 30](http://keysan.me/presentations/ee564_basic_machine_design2.html#30) a safe choice for rotor slot number is 66.\n",
    "\n",
    "For rotor slot geometry, parallel tooth is selected."
   ]
  },
  {
   "cell_type": "code",
   "execution_count": 31,
   "metadata": {
    "collapsed": false
   },
   "outputs": [
    {
     "data": {
      "image/png": "[encoded data removed]",
      "text/plain": [
       "<IPython.core.display.Image object>"
      ]
     },
     "execution_count": 31,
     "metadata": {
      "image/png": {
       "width": 500
      }
     },
     "output_type": "execute_result"
    }
   ],
   "source": [
    "Image(filename='Rotor Slot Geometry.png', width=500)"
   ]
  },
  {
   "cell_type": "code",
   "execution_count": 32,
   "metadata": {
    "collapsed": false
   },
   "outputs": [
    {
     "name": "stdout",
     "output_type": "stream",
     "text": [
      "Ib = 853.03 A\n"
     ]
    }
   ],
   "source": [
    "Nr=66 #Rotor bar (slot) number\n",
    "K1=0.8*pf+0.2 #Rotor to stator mmf ratio\n",
    "Ib=K1*(2*m*W1*Kw1)/Nr*Iln #Rotor bar current in A\n",
    "print ('Ib =',round(Ib,2),'A')"
   ]
  },
  {
   "cell_type": "markdown",
   "metadata": {},
   "source": [
    "For higher efficiency, rotor bars are selected as copper. Note that resistivity of copper is 1.72e-8.\n",
    "\n",
    "At later stages, calculate the copper losses in rotor. If it is not heating up too much, increase Jb further."
   ]
  },
  {
   "cell_type": "code",
   "execution_count": 33,
   "metadata": {
    "collapsed": false
   },
   "outputs": [
    {
     "name": "stdout",
     "output_type": "stream",
     "text": [
      "Ab = 0.00013 m^2\n"
     ]
    }
   ],
   "source": [
    "Jb=6.5 #Current density in the rotor bar in A/mm^2\n",
    "Ab=Ib/Jb*1e-6 #Rotor slot area in m^2\n",
    "print ('Ab =',round(Ab,5),'m^2')"
   ]
  },
  {
   "cell_type": "code",
   "execution_count": 34,
   "metadata": {
    "collapsed": false
   },
   "outputs": [
    {
     "name": "stdout",
     "output_type": "stream",
     "text": [
      "Ier = 4487 A\n",
      "Jer = 4.875 A/mm^2\n",
      "Aer = 0.00092 m^2\n"
     ]
    }
   ],
   "source": [
    "Ier=Ib/(2*math.sin(math.pi*pp/Nr)) #End ring current in A\n",
    "Jer=0.75*Jb #Current density in the end ring in A/mm^2\n",
    "Aer=Ier/Jer*1e-6 #End ring cross section in m^2\n",
    "print ('Ier =',round(Ier),'A')\n",
    "print ('Jer =',Jer,'A/mm^2')\n",
    "print ('Aer =',round(Aer,5),'m^2')"
   ]
  },
  {
   "cell_type": "code",
   "execution_count": 35,
   "metadata": {
    "collapsed": false
   },
   "outputs": [
    {
     "name": "stdout",
     "output_type": "stream",
     "text": [
      "tau_r = 11.4 mm\n"
     ]
    }
   ],
   "source": [
    "hor=0.5e-3\n",
    "bor=1.5e-3\n",
    "tau_r=math.pi*(Dis-2*g)/Nr #Rotor slot pitch in m\n",
    "print ('tau_r =',round(tau_r,4)*1000,'mm')"
   ]
  },
  {
   "cell_type": "code",
   "execution_count": 36,
   "metadata": {
    "collapsed": false
   },
   "outputs": [
    {
     "name": "stdout",
     "output_type": "stream",
     "text": [
      "btr = 2.7 mm\n",
      "Dre = 240.1 mm\n",
      "d1 = 8.3 mm\n"
     ]
    }
   ],
   "source": [
    "Btr=1.60 #Rotor tooth flux density\n",
    "btr=Bg/(Kfe*Btr)*tau_r #Rotor tooth width in m\n",
    "Dre=Dis-2*g #Rotor diameter in m\n",
    "d1=(math.pi*(Dre-2*hor)-Nr*btr)/(math.pi+Nr) #Upper rotor slot diameter in m\n",
    "print ('btr =',round(btr,4)*1000,'mm')\n",
    "print ('Dre =',round(Dre,4)*1000,'mm')\n",
    "print ('d1 =',round(d1,4)*1000,'mm')"
   ]
  },
  {
   "cell_type": "code",
   "execution_count": 37,
   "metadata": {
    "collapsed": false
   },
   "outputs": [
    {
     "name": "stdout",
     "output_type": "stream",
     "text": [
      "d2 = 5.5 mm\n",
      "hr = 29.09 mm\n"
     ]
    }
   ],
   "source": [
    "d2=math.sqrt(8*math.tan(math.pi/Nr)*Ab-math.pi*d1*d1*math.tan(math.pi/Nr)-2*d1*d1/(math.pi*math.tan(math.pi/Nr)-2)) #lower rotor slot diameter in m\n",
    "d2=0.0055\n",
    "hr=(d1-d2)/(2*math.tan(math.pi/Nr)) #Rotor slot height in m\n",
    "print ('d2 =',round(d2,4)*1000,'mm')\n",
    "print ('hr =',round(hr,5)*1000,'mm')"
   ]
  },
  {
   "cell_type": "markdown",
   "metadata": {},
   "source": [
    "Check the calculation d2 should be less than d1 !!!"
   ]
  },
  {
   "cell_type": "code",
   "execution_count": 38,
   "metadata": {
    "collapsed": false
   },
   "outputs": [
    {
     "name": "stdout",
     "output_type": "stream",
     "text": [
      "Fmtr = 89.73 Aturns\n",
      "hcr = 27.3 mm\n"
     ]
    }
   ],
   "source": [
    "Htr=2460 #Magnetic field intensity for Bts=1.6 T in A/m\n",
    "Fmtr=Htr*(hr+hor+(d1+d2)/2) #Rotor teeth mmf\n",
    "Bcr=1.65 #Rotor back core flux density in T\n",
    "hcr=phi/2/(L*Bcr) #Rotor back core height in m\n",
    "print ('Fmtr =',round(Fmtr,2),'Aturns')\n",
    "print ('hcr =',round(hcr,4)*1000,'mm')"
   ]
  },
  {
   "cell_type": "code",
   "execution_count": 39,
   "metadata": {
    "collapsed": false
   },
   "outputs": [
    {
     "name": "stdout",
     "output_type": "stream",
     "text": [
      "Ds_max = 113.0 mm\n",
      "Ten = 541.25 Nm\n"
     ]
    }
   ],
   "source": [
    "Ds_max=Dis-2*g-2*(hor+(d1+d2)/2+hr+hcr) #Maximum shaft diameter in m\n",
    "Sn=0.02 #Define rated slip\n",
    "Ten=Pmax/(2*math.pi*f/pp*(1-Sn)) #Rated shaft torque in Nm\n",
    "print ('Ds_max =',round(Ds_max,3)*1000,'mm')\n",
    "print ('Ten =',round(Ten,2),'Nm')"
   ]
  },
  {
   "cell_type": "code",
   "execution_count": 40,
   "metadata": {
    "collapsed": false
   },
   "outputs": [
    {
     "data": {
      "image/png": "[encoded data removed]",
      "text/plain": [
       "<IPython.core.display.Image object>"
      ]
     },
     "execution_count": 40,
     "metadata": {
      "image/png": {
       "width": 350
      }
     },
     "output_type": "execute_result"
    }
   ],
   "source": [
    "Image(filename='End Ring Cross Section.png', width=350)"
   ]
  },
  {
   "cell_type": "code",
   "execution_count": 41,
   "metadata": {
    "collapsed": false
   },
   "outputs": [
    {
     "name": "stdout",
     "output_type": "stream",
     "text": [
      "Der = 236.6 mm\n",
      "b = 40.125 mm\n",
      "a = 22.9 mm\n"
     ]
    }
   ],
   "source": [
    "Der=Dre-3.5e-3 #End ring diameter in m\n",
    "b=1.1*(hr+hor+(d1+d2)/2) #End ring height in m\n",
    "a=Aer/b #End ring width in m\n",
    "print ('Der =',round(Der,4)*1000,'mm')\n",
    "print ('b =',round(b,6)*1000,'mm')\n",
    "print ('a =',round(a,4)*1000,'mm')"
   ]
  },
  {
   "cell_type": "markdown",
   "metadata": {},
   "source": [
    "## 7. Magnetization Current"
   ]
  },
  {
   "cell_type": "code",
   "execution_count": 42,
   "metadata": {
    "collapsed": false
   },
   "outputs": [
    {
     "name": "stdout",
     "output_type": "stream",
     "text": [
      "Kc = 1.08\n"
     ]
    }
   ],
   "source": [
    "gamma1=bos*bos/(5*g+bos) #In m\n",
    "gamma2=bor*bor/(5*g+bor) #In m\n",
    "Kc1=tau_s/(tau_s-gamma1)\n",
    "Kc2=tau_r/(tau_r-gamma2)\n",
    "Kc=Kc1*Kc2 #Total Carter coefficient\n",
    "print ('Kc =',round(Kc,2))"
   ]
  },
  {
   "cell_type": "markdown",
   "metadata": {},
   "source": [
    "Kc is close to 1.2 which is assumed initially when calculating Fmg.\n",
    "\n",
    "Back core mmfs Fmcs and Fmcr are calculated as follows:"
   ]
  },
  {
   "cell_type": "code",
   "execution_count": 43,
   "metadata": {
    "collapsed": false
   },
   "outputs": [
    {
     "name": "stdout",
     "output_type": "stream",
     "text": [
      "Fmcs = 59.78 Aturns\n",
      "Fmcr = 112.6 Aturns\n"
     ]
    }
   ],
   "source": [
    "Hcs=480 #Stator back core flux intensity in A/m\n",
    "Hcr=3460 #Rotor back core flux intensity in A/m\n",
    "Fmcs=0.88*math.exp(-0.4*Bcs*Bcs)*(math.pi*(Dout-hcs)/(2*pp))*Hcs #Stator back core mmf in Aturns\n",
    "Fmcr=0.88*math.exp(-0.4*Bcr*Bcr)*(math.pi*(Ds_max+hcr)/(2*pp))*Hcr #Rotor back core mmf in Aturns\n",
    "print ('Fmcs =',round(Fmcs,2),'Aturns')\n",
    "print ('Fmcr =',round(Fmcr,2),'Aturns')"
   ]
  },
  {
   "cell_type": "code",
   "execution_count": 44,
   "metadata": {
    "collapsed": false
   },
   "outputs": [
    {
     "name": "stdout",
     "output_type": "stream",
     "text": [
      "Flm = 1224.3 Aturns\n",
      "Ks = 0.97\n"
     ]
    }
   ],
   "source": [
    "Flm=2*(Kc*g*Bg/u0+Fmts+Fmtr+Fmcs+Fmcr) #Magnetization mmf in Aturns\n",
    "Ks=Flm/(2*Fmg)-1 #Total saturation factor\n",
    "print ('Flm =',round(Flm,2),'Aturns')\n",
    "print ('Ks =',round(Ks,2))"
   ]
  },
  {
   "cell_type": "code",
   "execution_count": 45,
   "metadata": {
    "collapsed": false
   },
   "outputs": [
    {
     "name": "stdout",
     "output_type": "stream",
     "text": [
      "Iu = 61.25 A\n",
      "iu = 0.09 A\n"
     ]
    }
   ],
   "source": [
    "Iu=(math.pi*pp*Flm/2)/(3*math.sqrt(2)*W1*Kw1) #Magnetization current in A\n",
    "iu=Iu/Iln #Relative (p.u.) value of Iu\n",
    "print ('Iu =',round(Iu,2),'A')\n",
    "print ('iu =',round(iu,2),'A')"
   ]
  },
  {
   "cell_type": "markdown",
   "metadata": {},
   "source": [
    "## 8. Resistances and Inductances"
   ]
  },
  {
   "cell_type": "code",
   "execution_count": 46,
   "metadata": {
    "collapsed": false
   },
   "outputs": [
    {
     "data": {
      "image/png": "[encoded data removed]",
      "text/plain": [
       "<IPython.core.display.Image object>"
      ]
     },
     "execution_count": 46,
     "metadata": {
      "image/png": {
       "width": 500
      }
     },
     "output_type": "execute_result"
    }
   ],
   "source": [
    "Image(filename='T Equivalent Circuit.png', width=500)"
   ]
  },
  {
   "cell_type": "markdown",
   "metadata": {},
   "source": [
    "The rated stator temperature is not known yet but the high efficiency target indicates that the winding temperature should not be too large. Therefore, stator temperature is accepted as 80 $^{\\circ}$C"
   ]
  },
  {
   "cell_type": "code",
   "execution_count": 47,
   "metadata": {
    "collapsed": false
   },
   "outputs": [
    {
     "name": "stdout",
     "output_type": "stream",
     "text": [
      "y = 158.34 mm\n",
      "lend = 296.68 mm\n",
      "Rs = 0.00337 Ohm\n"
     ]
    }
   ],
   "source": [
    "Beta=10/12 #Chording factor between 2/3 and 1\n",
    "y=Beta*tau #Coil span in m\n",
    "lend=2*y-0.02 #End connection length for 2*pp=4\n",
    "lc=2*(L+lend) #Coil length in m\n",
    "rho_cu=1.78e-8 #Copper resistivity at 20 degrees Celcius in Ohm*m\n",
    "rho_cu_80=rho_cu*(1+1/273*(80-20)) #Copper resistivity at 80 degrees Celcius in Ohm*m\n",
    "Rs=rho_cu_80*lc*W1/(Acu*1e-6*a1)\n",
    "print ('y =',round(y,5)*1000,'mm')\n",
    "print ('lend =',round(lend,5)*1000,'mm')\n",
    "print ('Rs =',round(Rs,5),'Ohm')"
   ]
  },
  {
   "cell_type": "markdown",
   "metadata": {},
   "source": [
    "This motor is known to be a highly efficient motor. Rotor bars are made of copper instead of aluminium. The rotor bar/end ring segment equivalent resistance is calculated as follows:"
   ]
  },
  {
   "cell_type": "code",
   "execution_count": 48,
   "metadata": {
    "collapsed": false
   },
   "outputs": [
    {
     "name": "stdout",
     "output_type": "stream",
     "text": [
      "Ksi = 5.67\n",
      "KR = 5.67\n",
      "Rbe = 0.00028 Ohm\n",
      "Rrc = 0.01113 Ohm\n"
     ]
    }
   ],
   "source": [
    "ler=math.pi*(Der-b)/Nr #End ring segment length in m\n",
    "Beta_s=math.sqrt(2*math.pi*f*u0/(2*rho_cu))\n",
    "S=1\n",
    "Ksi=Beta_s*hr*math.sqrt(S)\n",
    "KR=Ksi*(math.sinh(2*Ksi)+math.sin(2*Ksi))/(math.cosh(2*Ksi)-math.cos(2*Ksi)) #Skin effect resistance coefficient\n",
    "Rbe=rho_cu_80*(L/Ab*KR+ler/(2*Aer*math.pow(math.sin(math.pi*pp/Nr),2))) #Rotor bar/end ring segment equivalent resistance in Ohm\n",
    "Rrc=4*m/Nr*math.pow(W1*Kw1,2)*Rbe #Rotor cage resistance reduced to the stator in Ohm\n",
    "print ('Ksi =',round(Ksi,2))\n",
    "print ('KR =',round(KR,2))\n",
    "print ('Rbe =',round(Rbe,5),'Ohm')\n",
    "print ('Rrc =',round(Rrc,5),'Ohm')"
   ]
  },
  {
   "cell_type": "code",
   "execution_count": 49,
   "metadata": {
    "collapsed": false
   },
   "outputs": [
    {
     "name": "stdout",
     "output_type": "stream",
     "text": [
      "lambda_s = 1.32\n",
      "Cs = 0.99\n",
      "phi1 = -1.57\n",
      "lambda_ds = 0.89\n",
      "lambda_ec = 0.93\n",
      "Xsl = 0.077 Ohm\n"
     ]
    }
   ],
   "source": [
    "lambda_s=(2/3*hs/(bs1+bs2)+2*hw/(bos+bs1)+hos/bos)*(1+3*Beta)/4 #Stator slot connection coefficient\n",
    "Cs=1-0.033*bos*bos/(g*tau_s)\n",
    "phi1=math.pi*(6*Beta-5.5)\n",
    "gamma_ds=(0.14*math.sin(phi1)+0.76)*1e-2\n",
    "lambda_ds=0.9*tau_s*q*q*Kw1*Kw1*Cs*gamma_ds/(Kc*g*(1.0+Kst)) #Stator differential connection coefficient\n",
    "lambda_ec=0.34*q/L*(lend-0.64*Beta*tau) #Stator end connection specific geometric permeance coefficient\n",
    "Xsl=2*u0*2*math.pi*f*L*W1*W1/(pp*q)*(lambda_s+lambda_ds+lambda_ec) #Stator phase reactance in Ohm\n",
    "print ('lambda_s =',round(lambda_s,2))\n",
    "print ('Cs =',round(Cs,2))\n",
    "print ('phi1 =',round(phi1,2))\n",
    "print ('lambda_ds =',round(lambda_ds,2))\n",
    "print ('lambda_ec =',round(lambda_ec,2))\n",
    "print ('Xsl =',round(Xsl,3),'Ohm')"
   ]
  },
  {
   "cell_type": "code",
   "execution_count": 50,
   "metadata": {
    "collapsed": false
   },
   "outputs": [
    {
     "name": "stdout",
     "output_type": "stream",
     "text": [
      "lambda_r = 2.4\n",
      "lambda_dr = 0.96\n",
      "lambda_er = 0.69\n",
      "Kx = 0.26\n",
      "Xbe = 0.001 Ohm\n",
      "Xrl = 0.035 Ohm\n"
     ]
    }
   ],
   "source": [
    "lambda_r=0.66+2*hr/(3*(d1+d2))+hor/bor #Rotor slot connection coefficient\n",
    "gamma_dr=9*math.pow(6*pp/Nr,2)*1e-2\n",
    "lambda_dr=0.9*tau_r*gamma_dr/(Kc*g)*math.pow(Nr/(6*pp),2) #Rotor differential connection coefficient\n",
    "lambda_er=2.3*(Der-b)/(Nr*L*4*math.pow(math.sin(math.pi*pp/Nr),2))*math.log10(4.7*(Der-b)/(b+2*a)) #Stator end ring permeance coefficient\n",
    "Kx=3/(2*Ksi)*(math.sinh(2*Ksi)-math.sin(2*Ksi))/(math.cosh(2*Ksi)-math.cos(2*Ksi)) #Skin effect coefficient for the leakage reactance\n",
    "Xbe=2*math.pi*f*u0*L*(lambda_r*Kx+lambda_dr+lambda_er) #Equivalent rotor bar leakage reactance in Ohm\n",
    "Xrl=4*m*math.pow(W1*Kw1,2)/Nr*Xbe #Rotor leakage reactance in ohm\n",
    "print ('lambda_r =',round(lambda_r,2))\n",
    "print ('lambda_dr =',round(lambda_dr,2))\n",
    "print ('lambda_er =',round(lambda_er,2))\n",
    "print ('Kx =',round(Kx,2))\n",
    "print ('Xbe =',round(Xbe,3),'Ohm')\n",
    "print ('Xrl =',round(Xrl,3),'Ohm')"
   ]
  },
  {
   "cell_type": "markdown",
   "metadata": {},
   "source": [
    "For zero speed (S = 1), both stator and rotor leakage reactances are reduced due to leakage flux path saturation. For the power levels of interest here, with semiclosed stator and rotor slots:"
   ]
  },
  {
   "cell_type": "code",
   "execution_count": 51,
   "metadata": {
    "collapsed": false
   },
   "outputs": [
    {
     "name": "stdout",
     "output_type": "stream",
     "text": [
      "Xsl_sat = 0.058 Ohm\n",
      "Xrl_sat = 0.023 Ohm\n"
     ]
    }
   ],
   "source": [
    "Xsl_sat=Xsl*0.75 #Stator leakage reactance at S=1 due to leakage flux path saturation in Ohm\n",
    "Xrl_sat=Xrl*0.65 #Rotor leakage reactance at S=1 due to leakage flux path saturation in Ohm\n",
    "print ('Xsl_sat =',round(Xsl_sat,3),'Ohm')\n",
    "print ('Xrl_sat =',round(Xrl_sat,3),'Ohm')"
   ]
  },
  {
   "cell_type": "markdown",
   "metadata": {},
   "source": [
    "For rated slip (speed), both skin and leakage saturation effects have to be eliminated (KR = Kx = 1)"
   ]
  },
  {
   "cell_type": "code",
   "execution_count": 52,
   "metadata": {
    "collapsed": false
   },
   "outputs": [
    {
     "name": "stdout",
     "output_type": "stream",
     "text": [
      "Rbe_Sn = 6e-05 Ohm\n",
      "Rrc_Sn = 0.00236 Ohm\n",
      "Xbe_Sn = 0.002 Ohm\n",
      "Xrl_Sn = 0.062 Ohm\n"
     ]
    }
   ],
   "source": [
    "Rbe_Sn=rho_cu_80*(L/Ab+ler/(2*Aer*math.pow(math.sin(math.pi*pp/Nr),2))) #Rotor bar/end ring segment equivalent resistance at rated speed in Ohm\n",
    "Rrc_Sn=Rrc*Rbe_Sn/Rbe #Rotor cage resistance reduced to the stator at rated speed in Ohm\n",
    "Xbe_Sn=2*math.pi*f*u0*L*(lambda_r+lambda_dr+lambda_er) #Equivalent rotor bar leakage reactance at rated speed in Ohm\n",
    "Xrl_Sn=Xrl*Xbe_Sn/Xbe #Rotor leakage reactance at rated speed in Ohm\n",
    "print ('Rbe_Sn =',round(Rbe_Sn,5),'Ohm')\n",
    "print ('Rrc_Sn =',round(Rrc_Sn,5),'Ohm')\n",
    "print ('Xbe_Sn =',round(Xbe_Sn,3),'Ohm')\n",
    "print ('Xrl_Sn =',round(Xrl_Sn,3),'Ohm')"
   ]
  },
  {
   "cell_type": "code",
   "execution_count": 53,
   "metadata": {
    "collapsed": false
   },
   "outputs": [
    {
     "name": "stdout",
     "output_type": "stream",
     "text": [
      "Xm = 2.589 Ohm\n"
     ]
    }
   ],
   "source": [
    "Xm=math.sqrt(math.pow(Vphase/Iu,2)-Rs*Rs)-Xsl #Magnetization reactance in Ohm\n",
    "print ('Xm =',round(Xm,3),'Ohm')"
   ]
  },
  {
   "cell_type": "markdown",
   "metadata": {},
   "source": [
    "Skewing effect on reactances are considered in the design.\n",
    "\n",
    "A skewing C of one stator slot pitch τs is typical (c = τs)."
   ]
  },
  {
   "cell_type": "code",
   "execution_count": 54,
   "metadata": {
    "collapsed": false
   },
   "outputs": [
    {
     "name": "stdout",
     "output_type": "stream",
     "text": [
      "K_skew = 0.997\n",
      "Xm = 2.581 Ohm\n",
      "Xrl_skew = 0.015 Ohm\n",
      "Xrl_sat_skew = 0.037 Ohm\n",
      "Xrl_Sn_skew = 0.05 Ohm\n"
     ]
    }
   ],
   "source": [
    "K_skew=math.sin(math.pi/(2*m*q))/(math.pi/(2*m*q)) #Skewing factor\n",
    "Xm=Xm*K_skew #Magnetization reactance including skewing in Ohm\n",
    "Xrl_skew=Xm*(1-math.pow(K_skew,2))\n",
    "Xrl_sat_skew=Xrl_sat+Xrl_skew #Final value of rotor leakage reactance at stand still, S=1\n",
    "Xrl_Sn_skew=Xrl+Xrl_skew #Final value of rotor leakage reactance at rated speed, S=Sn\n",
    "print ('K_skew =',round(K_skew,3))\n",
    "print ('Xm =',round(Xm,3),'Ohm')\n",
    "print ('Xrl_skew =',round(Xrl_skew,3),'Ohm')\n",
    "print ('Xrl_sat_skew =',round(Xrl_sat_skew,3),'Ohm')\n",
    "print ('Xrl_Sn_skew =',round(Xrl_Sn_skew,3),'Ohm')"
   ]
  },
  {
   "cell_type": "markdown",
   "metadata": {},
   "source": [
    "## 9. Losses and Efficiency"
   ]
  },
  {
   "cell_type": "markdown",
   "metadata": {
    "collapsed": true
   },
   "source": [
    "Total losses for the induction motor are copper losses on stator and rotor windings, core losses on the stator, mechanical/ventilation losses and stray losses."
   ]
  },
  {
   "cell_type": "code",
   "execution_count": 55,
   "metadata": {
    "collapsed": false
   },
   "outputs": [
    {
     "name": "stdout",
     "output_type": "stream",
     "text": [
      "Pcus = 5240.98 W\n",
      "Pcur = 2850.99 W\n",
      "Pmv = 3420.0 W\n",
      "Pstray = 2850.0 W\n"
     ]
    }
   ],
   "source": [
    "Pcus=3*Iln*Iln*Rs #Stator winding losses in W\n",
    "Pcur=3*Rrc_Sn*K1*K1*Iln*Iln #Rotor cage losses in W\n",
    "Pmv=0.012*Pmax #Mechanical/ventilation losses for pp=2 in W\n",
    "Pstray=0.01*Pmax #Stray losses in W\n",
    "print ('Pcus =',round(Pcus,2),'W')\n",
    "print ('Pcur =',round(Pcur,2),'W')\n",
    "print ('Pmv =',round(Pmv,2),'W')\n",
    "print ('Pstray =',round(Pstray,2),'W')"
   ]
  },
  {
   "cell_type": "markdown",
   "metadata": {},
   "source": [
    "The core loss piron is made of fundamental P1_iron and additional (harmonics)\n",
    "Ph_iron iron loss. The fundamental core losses occur only in the teeth and back iron (Pt1, Py1) of the stator as the rotor (slip) frequency is low."
   ]
  },
  {
   "cell_type": "code",
   "execution_count": 56,
   "metadata": {
    "collapsed": false
   },
   "outputs": [
    {
     "name": "stdout",
     "output_type": "stream",
     "text": [
      "Gt1 = 15.47 kg\n",
      "Gy1 = 80.75 kg\n"
     ]
    }
   ],
   "source": [
    "gamma_iron=7650 #Iron density in kg/m^3\n",
    "Ky=1.6 #Influence of mechanical machining\n",
    "Gt1=gamma_iron*Ns*bts*(hs+hw+hos)*L*Kfe #Stator tooth weight in kg\n",
    "Gy1=gamma_iron*math.pi/4*(Dout*Dout-math.pow(Dout-2*hcs,2))*L*Kfe #Yoke weight in kg\n",
    "print ('Gt1 =',round(Gt1,2),'kg')\n",
    "print ('Gy1 =',round(Gy1,2),'kg')"
   ]
  },
  {
   "cell_type": "code",
   "execution_count": 57,
   "metadata": {
    "collapsed": false
   },
   "outputs": [
    {
     "name": "stdout",
     "output_type": "stream",
     "text": [
      "Pt1 = 602.78 W\n",
      "Py1 = 2207.48 W\n",
      "P1_iron = 2810.26 W\n"
     ]
    }
   ],
   "source": [
    "Kt=1.7 #Core loss augmentation due to mechanical machining\n",
    "p10=2.2 #Specific losses (W/kg) at 1.0 T and 50 Hz\n",
    "Pt1=Kt*p10*math.pow(f/50,1.3)*math.pow(Bts,1.7)*Gt1 #Stator teeth fundamental losses in W\n",
    "Py1=Ky*p10*math.pow(f/50,1.3)*math.pow(Bcs,1.7)*Gy1 #Stator back iron (yoke) fundamental losses in W\n",
    "P1_iron=Pt1+Py1 #Fundamental iron losses in W\n",
    "print ('Pt1 =',round(Pt1,2),'W')\n",
    "print ('Py1 =',round(Py1,2),'W')\n",
    "print ('P1_iron =',round(P1_iron,2),'W')"
   ]
  },
  {
   "cell_type": "code",
   "execution_count": 58,
   "metadata": {
    "collapsed": false
   },
   "outputs": [
    {
     "name": "stdout",
     "output_type": "stream",
     "text": [
      "Bps = 0.01 T\n",
      "Bpr = 0.02 T\n"
     ]
    }
   ],
   "source": [
    "Kps=1/(2.2-Bts)\n",
    "Kpr=1/(2.2-Btr)\n",
    "Bps=(Kc2-1)*Bg #Stator pulse flux density in T\n",
    "Bpr=(Kc1-1)*Bg #Rotor pulse flux density in T\n",
    "print ('Bps =',round(Bps,2),'T')\n",
    "print ('Bpr =',round(Bpr,2),'T')"
   ]
  },
  {
   "cell_type": "code",
   "execution_count": 59,
   "metadata": {
    "collapsed": false
   },
   "outputs": [
    {
     "name": "stdout",
     "output_type": "stream",
     "text": [
      "Gtr = 13.51 kg\n"
     ]
    }
   ],
   "source": [
    "Gtr=gamma_iron*L*Kfe*Nr*(hr+(d1+d2)/2)*btr #Rotor teeth weight in kg\n",
    "print ('Gtr =',round(Gtr,2),'kg')"
   ]
  },
  {
   "cell_type": "code",
   "execution_count": 60,
   "metadata": {
    "collapsed": false
   },
   "outputs": [
    {
     "name": "stdout",
     "output_type": "stream",
     "text": [
      "Ps_iron = 18.9 W\n",
      "Piron = 2829.16 W\n"
     ]
    }
   ],
   "source": [
    "Gts=Gt1\n",
    "Ps_iron=0.5e-4*(math.pow(Nr*f/pp*Kps*Bps,2)*Gts+math.pow(Ns*f/pp*Kpr*Bpr,2)*Gtr) #Tooth flux pulsation core loss in W\n",
    "Piron=P1_iron+Ps_iron #Total iron losses in W\n",
    "print ('Ps_iron =',round(Ps_iron,2),'W')\n",
    "print ('Piron =',round(Piron,2),'W')"
   ]
  },
  {
   "cell_type": "code",
   "execution_count": 61,
   "metadata": {
    "collapsed": false
   },
   "outputs": [
    {
     "name": "stdout",
     "output_type": "stream",
     "text": [
      "Ploss = 17191.13 W\n"
     ]
    }
   ],
   "source": [
    "Ploss=Pcus+Pcur+Piron+Pmv+Pstray #Total losses in W\n",
    "print ('Ploss =',round(Ploss,2),'W')"
   ]
  },
  {
   "cell_type": "markdown",
   "metadata": {},
   "source": [
    "**_Note for myself: Rated power should be calculated and the losses for rated power should be displayed. Max power but reduced frequency is selected._**"
   ]
  },
  {
   "cell_type": "code",
   "execution_count": 62,
   "metadata": {
    "collapsed": false
   },
   "outputs": [
    {
     "name": "stdout",
     "output_type": "stream",
     "text": [
      "Efficiency is 94.311 %\n"
     ]
    }
   ],
   "source": [
    "eff_final=Pmax/(Pmax+Ploss) #Efficiency result\n",
    "print('Efficiency is',round(eff_final,5)*100,'%')"
   ]
  },
  {
   "cell_type": "markdown",
   "metadata": {},
   "source": [
    "The targeted efficiency was 95%, so the design does not hold by 0.7%.\n",
    "\n",
    "Since the efficiency is smaller than the target value, the design should return to square one by adopting a larger stator bore diameter Dis, then smaller current densities, etc.\n",
    "\n",
    "A larger size machine will be obtained, in general."
   ]
  },
  {
   "cell_type": "markdown",
   "metadata": {},
   "source": [
    "## 10. Operation Characteristics"
   ]
  },
  {
   "cell_type": "markdown",
   "metadata": {
    "collapsed": true
   },
   "source": [
    "The operation characteristics are defined as active no load current I0a, rated slip Sn, rated torque Tn, breakdown slip and torque Sk, Tbk, current Is and power factor versus slip, starting current, and torque ILR, TLR"
   ]
  },
  {
   "cell_type": "code",
   "execution_count": 63,
   "metadata": {
    "collapsed": false
   },
   "outputs": [
    {
     "name": "stdout",
     "output_type": "stream",
     "text": [
      "I0a = 12.83 A\n",
      "Sn = 0.01\n",
      "Tn = 535.62 Nm\n"
     ]
    }
   ],
   "source": [
    "I0a=(Piron+Pmv+3*Iu*Iu*Rs)/(3*Vphase) #No load active current in A\n",
    "Sn=Pcur/(Pmax+Pcur+Pmv+Pstray) #Rated slip\n",
    "Tn=Pmax/(2*math.pi*f/pp*(1-Sn)) #Rated shaft torque in Nm\n",
    "print ('I0a =',round(I0a,2),'A')\n",
    "print ('Sn =',round(Sn,3))\n",
    "print ('Tn =',round(Tn,2),'Nm')"
   ]
  },
  {
   "cell_type": "code",
   "execution_count": 64,
   "metadata": {
    "collapsed": false
   },
   "outputs": [
    {
     "name": "stdout",
     "output_type": "stream",
     "text": [
      "Tbk = 638.48 Nm\n",
      "ILR = 1993.92 A\n",
      "TLR = 247.0 Nm\n",
      "pf_final = 0.856\n"
     ]
    }
   ],
   "source": [
    "Cm=1+Xsl/Xm\n",
    "Tbk=3*pp/(2*2*math.pi*f)*Vphase*Vphase/(Rs+math.sqrt(Rs*Rs+math.pow(Xsl+Cm*Xrl,2))) #Breakdown torque in Nm\n",
    "ILR=Vphase/(math.sqrt(math.pow(Rs+Rrc,2)+math.pow(Xsl_sat+Xrl_sat,2))) #Starting current in A\n",
    "TLR=3*Rrc*ILR*ILR/(2*math.pi*f)*pp #Starting torque in Nm\n",
    "pf_final=Pmax/(3*Vphase*Iln*eff_final) #Final power factor\n",
    "print ('Tbk =',round(Tbk,2),'Nm')\n",
    "print ('ILR =',round(ILR,2),'A')\n",
    "print ('TLR =',round(TLR,2),'Nm')\n",
    "print ('pf_final =',round(pf_final,3))"
   ]
  },
  {
   "cell_type": "markdown",
   "metadata": {},
   "source": [
    "Torque vs. slip eq. here. Plot the graph."
   ]
  },
  {
   "cell_type": "code",
   "execution_count": 65,
   "metadata": {
    "collapsed": false
   },
   "outputs": [],
   "source": [
    "import matplotlib.pyplot as plt\n",
    "import numpy\n",
    "slip=numpy.linspace(0.1, 1.0, num=50)\n",
    "Te=3*pp/(2*math.pi*f)*Vphase*Vphase*Rrc_Sn/slip/((Rs+Cm*Rrc_Sn/slip)*(Rs+Cm*Rrc_Sn/slip)+(Xsl+Cm*Xrl_Sn_skew)*(Xsl+Cm*Xrl_Sn_skew)) #Approximate torque vs. slip expression\n",
    "plt.plot(slip, Te, 'o')\n",
    "plt.ylim([0, 600])\n",
    "plt.show()"
   ]
  },
  {
   "cell_type": "code",
   "execution_count": 66,
   "metadata": {
    "collapsed": false
   },
   "outputs": [
    {
     "name": "stdout",
     "output_type": "stream",
     "text": [
      "tbk = 1.19\n",
      "tLR = 0.46\n",
      "iLR = 2.77\n"
     ]
    }
   ],
   "source": [
    "tbk=Tbk/Tn\n",
    "tLR=TLR/Tn\n",
    "iLR=ILR/Iln\n",
    "print ('tbk =',round(tbk,2))\n",
    "print ('tLR =',round(tLR,2))\n",
    "print ('iLR =',round(iLR,2))"
   ]
  },
  {
   "cell_type": "markdown",
   "metadata": {},
   "source": [
    "Check if design needs any iterations.\n",
    "\n",
    "Higher breakdown or starting ratios tbk, tLR would, for example, need lower rotor leakage inductance and higher rotor resistance as influenced by skin effect. A larger stator bore diameter is again required. In general, it is not easy to make a few changes to get the desired operation characteristics."
   ]
  },
  {
   "cell_type": "markdown",
   "metadata": {},
   "source": [
    "## 11. Temperature Rise"
   ]
  },
  {
   "cell_type": "code",
   "execution_count": null,
   "metadata": {
    "collapsed": true
   },
   "outputs": [],
   "source": []
  },
  {
   "cell_type": "markdown",
   "metadata": {},
   "source": [
    "## 12. Total Weight"
   ]
  },
  {
   "cell_type": "code",
   "execution_count": null,
   "metadata": {
    "collapsed": true
   },
   "outputs": [],
   "source": []
  }
 ],
 "metadata": {
  "kernelspec": {
   "display_name": "Python 3",
   "language": "python",
   "name": "python3"
  },
  "language_info": {
   "codemirror_mode": {
    "name": "ipython",
    "version": 3
   },
   "file_extension": ".py",
   "mimetype": "text/x-python",
   "name": "python",
   "nbconvert_exporter": "python",
   "pygments_lexer": "ipython3",
   "version": "3.5.1"
  }
 },
 "nbformat": 4,
 "nbformat_minor": 0
}
