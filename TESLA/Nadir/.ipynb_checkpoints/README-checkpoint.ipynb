{
 "cells": [
  {
   "cell_type": "markdown",
   "metadata": {},
   "source": [
    "#Tesla Model S Induction Motor Design\n",
    "\n",
    "Design of the induction motor used in Tesla Model S P85 RWD version is required. The motor/vehicle has the following specs:\n",
    "\n",
    "- Max. Power: 360 hp (270 kW)\n",
    "- Max. Torque: 441 Nm\n",
    "- Top Speed: 225 km/h\n"
   ]
  }
 ],
 "metadata": {
  "kernelspec": {
   "display_name": "Python 3",
   "language": "python",
   "name": "python3"
  },
  "language_info": {
   "codemirror_mode": {
    "name": "ipython",
    "version": 3
   },
   "file_extension": ".py",
   "mimetype": "text/x-python",
   "name": "python",
   "nbconvert_exporter": "python",
   "pygments_lexer": "ipython3",
   "version": "3.5.1"
  }
 },
 "nbformat": 4,
 "nbformat_minor": 0
}
