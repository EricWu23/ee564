{
 "metadata": {
  "name": "",
  "signature": "sha256:ab0077d6f8bec20ddcf92171da7619e6c96882ab55a32a622ad188918e810831"
 },
 "nbformat": 3,
 "nbformat_minor": 0,
 "worksheets": [
  {
   "cells": [
    {
     "cell_type": "markdown",
     "metadata": {},
     "source": [
      "#Transformer Design for a HVDC Transmission System\n",
      "The purpose of this project is to design AC / AC transformer for using in HVDC transmission line.\n",
      "\n",
      "Specifications of Transformer\n",
      "\n",
      "*6.5 MVA*,Single Phase transformer,\n",
      "\n",
      "*Operating Frequency: 500 Hz\n",
      "\n",
      "*Input Voltage: 3 kV\n",
      "\n",
      "*Output Voltage: 300kV\n",
      "\n",
      "*Operating Temperature 110 \u00b0C"
     ]
    },
    {
     "cell_type": "markdown",
     "metadata": {},
     "source": [
      "**CORE SELECTION AND CORE LOSS CALCULATION**"
     ]
    },
    {
     "cell_type": "code",
     "collapsed": false,
     "input": [
      "#Electrical Steel,  Grade EN10106, M235-35A\n",
      "\n",
      "B=1.5 # T max\n",
      "d=7.6 # kg/dm3\n",
      "\n",
      "#In order to calculate Core loss at 500 Hz , Steinmetz equation is used\n",
      "#Steinmetz equation, Pcore=k*(f^a)*(B^b)\n",
      "#From datasheet of core\n",
      "#We need to find a in steinmetz equaion by using linearity\n",
      "Pcore_loss_50=2.35 # W/kg at 50Hz at 1.5 T \n",
      "PCore_loss_400=41.9 # W/kg at 400Hz at 1.5 T\n",
      "a=log(PCore_loss_400/ Pcore_loss_50)/log(400.0/50.0)\n",
      "Pcore_loss_500=(500.0/400.0)**a*PCore_loss_400\n",
      "print 'Pcoreloss at 500 Hz=',Pcore_loss_500,'W/kg'\n"
     ],
     "language": "python",
     "metadata": {},
     "outputs": [
      {
       "output_type": "stream",
       "stream": "stdout",
       "text": [
        "Pcoreloss at 500 Hz= 57.07865396 W/kg\n"
       ]
      }
     ],
     "prompt_number": 40
    },
    {
     "cell_type": "markdown",
     "metadata": {},
     "source": [
      "**Turn Number and Core Area Determination**"
     ]
    },
    {
     "cell_type": "code",
     "collapsed": false,
     "input": [
      "K_lamination=0.96 # from datasheet\n",
      "E1=3000.0 \n",
      "# E1=4.44*N1*Ac*f*B*K_laminitation\n",
      "# Let'S find N1 X A\n",
      "N1Ac=E1/(4.44*500.0*1.5*0.96)\n",
      "print 'N1xAc=',N1Ac\n",
      "N1=10.0\n",
      "Ac=N1Ac/N1\n",
      "# square core dimension calculation ,x\n",
      "x=sqrt(Ac*1000000)\n",
      "print x,'mm'\n"
     ],
     "language": "python",
     "metadata": {},
     "outputs": [
      {
       "output_type": "stream",
       "stream": "stdout",
       "text": [
        "N1xAc= 0.938438438438\n",
        "306.339425872 mm\n"
       ]
      }
     ],
     "prompt_number": 41
    }
   ],
   "metadata": {}
  }
 ]
}