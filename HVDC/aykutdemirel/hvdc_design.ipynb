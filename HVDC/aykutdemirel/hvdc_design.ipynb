{
 "cells": [
  {
   "cell_type": "markdown",
   "metadata": {},
   "source": [
    "# Eddy Current Brake Design Project"
   ]
  }
}

