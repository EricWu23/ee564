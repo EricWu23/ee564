{
 "metadata": {
  "name": "",
  "signature": "sha256:e0a14ae34c420e1e488384de4d517db3b9379db24494264eaa5456920d827a4e"
 },
 "nbformat": 3,
 "nbformat_minor": 0,
 "worksheets": [
  {
   "cells": [
    {
     "cell_type": "markdown",
     "metadata": {},
     "source": [
      "#HVDC TRANSFORMER DESIGN\n",
      "\n",
      "In a HVDC transmission system, DC/AC + Transformer + AC/DC system is used to step-up the DC voltage to several kV for long range transmission.\n",
      "\n",
      "*Design Specs:*\n",
      "\n",
      "* 6.5 MVA Single Phase\n",
      "* Frequency: 500 Hz\n",
      "* Vin = 3 kV\n",
      "* Vout = 300 kV\n",
      "* Temperature = 110 'C\n",
      "\n",
      "*Design Outcomes:*\n",
      "\n",
      "* Design specifications of the core (geometry, material, total mass etc)\n",
      "* Coil dimensions (number of turns, coil dimensions (in AWG), total wire length)\n",
      "* Efficiency data (copper losses, core losses)\n",
      "* Electrical parameters (resistance, inductance etc.)\n",
      "* Comments about you chosen these parameters\n",
      "\n",
      "*Design Procedure:*\n",
      "\n",
      "* Core material selection, max operating magnetic flux density\n",
      "* Cross-sectional area and number of turns determination\n",
      "* Selecting primary and secondary side conductors\n",
      "* Core dimensions and core loss calculation\n",
      "* ...\n",
      "\n",
      "** 1) Core material selection, max operating flux density **\n",
      "\n",
      "JFE ELECTRICAL STEEL SHEETS\n",
      "JGHD, JGSD CORE"
     ]
    },
    {
     "cell_type": "code",
     "collapsed": false,
     "input": [
      "Bmax= 1.7 #Flux density, Tesla\n",
      "density=7.65 #material density, kg/dm^3\n",
      "thickness=0.2 #in mm\n",
      "lf=0.94 #lamination factor\n",
      "f= 500.0 #frequency, Hz"
     ],
     "language": "python",
     "metadata": {},
     "outputs": [],
     "prompt_number": 1
    },
    {
     "cell_type": "markdown",
     "metadata": {},
     "source": [
      "We need to find core loss at 500 Hz using Steinmetz Equation:\n",
      "*Steinmetz equation: Pc=k*(f^a)*(B^b)*"
     ]
    },
    {
     "cell_type": "code",
     "collapsed": false,
     "input": [
      "Pc_50Hz=0.85\n",
      "Pc_60Hz=1.12\n",
      "a=log(Pc_50Hz/Pc_60Hz)/log(50.0/60.0)\n",
      "#Core loss at 500 Hz:\n",
      "Pc_500Hz=Pc_50Hz*(10**a) #Watts per kg\n",
      "print 'Pc_500Hz = ',Pc_500Hz,'Watts/kg'"
     ],
     "language": "python",
     "metadata": {},
     "outputs": [
      {
       "output_type": "stream",
       "stream": "stdout",
       "text": [
        "Pc_500Hz =  27.6944054914 Watts/kg\n"
       ]
      }
     ],
     "prompt_number": 2
    },
    {
     "cell_type": "markdown",
     "metadata": {},
     "source": [
      "** 2) Cross-sectional area and number of turns determination **"
     ]
    },
    {
     "cell_type": "code",
     "collapsed": false,
     "input": [
      "Q=6500000.0 #VA\n",
      "V_in=3000.0 #V\n",
      "V_out=300000.0 #V\n",
      "#V_in=4.44*N1*f*Ac*Bmax\n",
      "N1xAc=V_in/(4.44*f*Bmax)\n",
      "#let N1=10\n",
      "N1=10.0\n",
      "Ac=N1xAc/N1 #m^2\n",
      "print 'Ac = ',Ac,'m^2'\n",
      "#We put a regulation margin of 1% to N2 since there will be voltage drops due to copper losses on both primary and secondary sides.\n",
      "#This margin may be altered later in optimisation part.\n",
      "N2=N1*(V_out/V_in)*1.01\n",
      "print 'N1 = ',N1,'turns'\n",
      "print 'N2 = ',N2,'turns'"
     ],
     "language": "python",
     "metadata": {},
     "outputs": [
      {
       "output_type": "stream",
       "stream": "stdout",
       "text": [
        "Ac =  0.0794912559618 m^2\n",
        "N1 =  10.0 turns\n",
        "N2 =  1010.0 turns\n"
       ]
      }
     ],
     "prompt_number": 3
    },
    {
     "cell_type": "markdown",
     "metadata": {},
     "source": [
      "This Ac is the effective core area where the flux is passing through.\n",
      "Because of the lamination factor, actual cross-sectional area ofthe core will be Ac/lf."
     ]
    },
    {
     "cell_type": "code",
     "collapsed": false,
     "input": [
      "A=Ac/lf\n",
      "print 'A = ',A,'m^2'"
     ],
     "language": "python",
     "metadata": {},
     "outputs": [
      {
       "output_type": "stream",
       "stream": "stdout",
       "text": [
        "A =  0.0845651659169 m^2\n"
       ]
      }
     ],
     "prompt_number": 4
    },
    {
     "cell_type": "markdown",
     "metadata": {},
     "source": [
      "Primary and secondary side conductors are wrapped around the core. Although the shape of the cross-sectional area of the core is not circular, windings are wrapped circularly. Therefore, the innermost conductor travels an area not equal to A but equal to some bigger area called Ai, i indicating \"inner\". Here, we visualize the cross-sectional area and calculate Ai.\n",
      "\n",
      "We use 4-step geometry for the core to reduce the leakage flux. In a 4-step core, relationship between A and Ai is given by the equation:\n",
      "\n",
      "A=0.694*d^2\n",
      "\n",
      "where d is the diameter of Ai."
     ]
    },
    {
     "cell_type": "code",
     "collapsed": false,
     "input": [
      "d=(A/0.694)**0.5\n",
      "print 'd = ',d,'meters'\n",
      "Ai=pi*d*d/4\n",
      "print 'Ai = ',Ai,'m^2'"
     ],
     "language": "python",
     "metadata": {},
     "outputs": [
      {
       "output_type": "stream",
       "stream": "stdout",
       "text": [
        "d =  0.349072806285 meters\n",
        "Ai =  0.0957021988451 m^2\n"
       ]
      }
     ],
     "prompt_number": 5
    },
    {
     "cell_type": "markdown",
     "metadata": {},
     "source": [
      "** 3) Selecting primary and secondary side conductors **"
     ]
    },
    {
     "cell_type": "code",
     "collapsed": false,
     "input": [
      "I1=Q/V_in\n",
      "I2=Q/V_out\n",
      "print 'I1 = ',I1,'A'\n",
      "print 'I2 = ',I2,'A'"
     ],
     "language": "python",
     "metadata": {},
     "outputs": [
      {
       "output_type": "stream",
       "stream": "stdout",
       "text": [
        "I1 =  2166.66666667 A\n",
        "I2 =  21.6666666667 A\n"
       ]
      }
     ],
     "prompt_number": 6
    },
    {
     "cell_type": "markdown",
     "metadata": {},
     "source": [
      "Before proceeding with the conductor selection, we need to determine allowed current density in the conductors. Current density, i.e. electrical loading, depends on cooling type. the better the cooling is, the higher the current density we can achieve. For oil natural air natural cooling, ONAN, which is our case, 3 A/mm^2 is acceptable."
     ]
    },
    {
     "cell_type": "code",
     "collapsed": false,
     "input": [
      "currentdensity=3 #A/mm^2"
     ],
     "language": "python",
     "metadata": {},
     "outputs": [],
     "prompt_number": 7
    },
    {
     "cell_type": "markdown",
     "metadata": {},
     "source": [
      "Another point that we must consider is skin effect. As frequency increases, current in a conductor tends to flow through outer side of the conductor. The distance through which the current can penetrate into the conductor is defined as skin depth. Skin depth is, of course, depends on the geometry. Copper with circular x-sectional area has 2.92 mm skin depth at 500 Hz."
     ]
    },
    {
     "cell_type": "code",
     "collapsed": false,
     "input": [
      "skindepth=2.92 #mm"
     ],
     "language": "python",
     "metadata": {},
     "outputs": [],
     "prompt_number": 8
    },
    {
     "cell_type": "markdown",
     "metadata": {},
     "source": [
      "For the primary side:\n",
      "\n",
      "Total conductor area needed for I1 at 3 A/mm^2 is:"
     ]
    },
    {
     "cell_type": "code",
     "collapsed": false,
     "input": [
      "Total_con_area_I1=I1/currentdensity\n",
      "print '=',Total_con_area_I1, 'mm^2'"
     ],
     "language": "python",
     "metadata": {},
     "outputs": [
      {
       "output_type": "stream",
       "stream": "stdout",
       "text": [
        "= 722.222222222 mm^2\n"
       ]
      }
     ],
     "prompt_number": 9
    },
    {
     "cell_type": "markdown",
     "metadata": {},
     "source": [
      "The thickest conductor we can use has a diameter of (mm):"
     ]
    },
    {
     "cell_type": "code",
     "collapsed": false,
     "input": [
      "2*skindepth"
     ],
     "language": "python",
     "metadata": {},
     "outputs": [
      {
       "metadata": {},
       "output_type": "pyout",
       "prompt_number": 10,
       "text": [
        "5.84"
       ]
      }
     ],
     "prompt_number": 10
    },
    {
     "cell_type": "markdown",
     "metadata": {},
     "source": [
      "With a safety margin, we can use AWG4 type cable which has a diameter of 5.18922 mm."
     ]
    },
    {
     "cell_type": "code",
     "collapsed": false,
     "input": [
      "primary_cond_area=pi*5.18922*5.18922/4 #mm^2\n",
      "total_number_of_parallel_conductors=Total_con_area_I1/primary_cond_area\n",
      "total_number_of_parallel_conductors=ceil(total_number_of_parallel_conductors)\n",
      "#resistance of primary winding is:\n",
      "r1perkm=0.81508 #ohms/km\n",
      "total_number_of_parallel_conductors"
     ],
     "language": "python",
     "metadata": {},
     "outputs": [
      {
       "metadata": {},
       "output_type": "pyout",
       "prompt_number": 11,
       "text": [
        "35.0"
       ]
      }
     ],
     "prompt_number": 11
    },
    {
     "cell_type": "markdown",
     "metadata": {},
     "source": [
      "For the secondary side:\n",
      "\n",
      "Total conductor area needed for I2 at 3 A/mm^2 is:"
     ]
    },
    {
     "cell_type": "code",
     "collapsed": false,
     "input": [
      "Total_con_area_I2=I2/currentdensity\n",
      "print '=',Total_con_area_I2, 'mm^2'"
     ],
     "language": "python",
     "metadata": {},
     "outputs": [
      {
       "output_type": "stream",
       "stream": "stdout",
       "text": [
        "= 7.22222222222 mm^2\n"
       ]
      }
     ],
     "prompt_number": 12
    },
    {
     "cell_type": "code",
     "collapsed": false,
     "input": [
      "diameter_of_secondary_conductor=(Total_con_area_I2*4/pi)**0.5\n",
      "diameter_of_secondary_conductor"
     ],
     "language": "python",
     "metadata": {},
     "outputs": [
      {
       "metadata": {},
       "output_type": "pyout",
       "prompt_number": 13,
       "text": [
        "3.032427894311487"
       ]
      }
     ],
     "prompt_number": 13
    },
    {
     "cell_type": "markdown",
     "metadata": {},
     "source": [
      "AWG8 cable is suitable for the secondary side with diameter of 3.264 mm."
     ]
    },
    {
     "cell_type": "code",
     "collapsed": false,
     "input": [
      "#resistance of secondary winding is:\n",
      "r2perkm=2.061 #ohms/km"
     ],
     "language": "python",
     "metadata": {},
     "outputs": [],
     "prompt_number": 14
    },
    {
     "cell_type": "markdown",
     "metadata": {},
     "source": [
      "** 4) Core dimensions and core loss calculation **\n",
      "\n",
      "Determining the core area and the conductors, we now need to consider other core dimensions.\n",
      "One of the important points that we need to take into account is insulation of the low voltage and high voltage windings. Insulation of the windings introduces a fill factor to the conductors and determines the window area. Let the fill factor for the low voltage and high voltage sides be:"
     ]
    },
    {
     "cell_type": "code",
     "collapsed": false,
     "input": [
      "fill_factor= 0.20\n",
      "\n",
      "#window area will be Wa = L x W\n",
      "\n",
      "Wa=(Total_con_area_I1+Total_con_area_I2)/fill_factor\n",
      "Wa"
     ],
     "language": "python",
     "metadata": {},
     "outputs": [
      {
       "metadata": {},
       "output_type": "pyout",
       "prompt_number": 16,
       "text": [
        "3647.2222222222217"
       ]
      }
     ],
     "prompt_number": 16
    },
    {
     "cell_type": "code",
     "collapsed": false,
     "input": [],
     "language": "python",
     "metadata": {},
     "outputs": []
    }
   ],
   "metadata": {}
  }
 ]
}