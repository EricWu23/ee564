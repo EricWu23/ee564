{
 "metadata": {
  "name": "",
  "signature": "sha256:a9c51c5b8290b62a4c1dd9f4dea57b2225be91870545d0cc0f7055346c3fb053"
 },
 "nbformat": 3,
 "nbformat_minor": 0,
 "worksheets": [
  {
   "cells": [
    {
     "cell_type": "markdown",
     "metadata": {},
     "source": [
      "#HVDC TRANSFORMER DESIGN\n",
      "\n",
      "Design Specs:\n",
      "\n",
      "* 6.5 MVA Single Phase\n",
      "* Frequency: 500 Hz\n",
      "* Vin = 3 kV\n",
      "* Vout = 300 kV\n",
      "* Temperature = 110 'C\n",
      "\n",
      "Design Procedure:\n",
      "\n",
      "* Core material selection\n",
      "* Max operating magnetic flux density\n",
      "* Cross-sectional area and turn numbers determination\n",
      "* ...\n",
      "\n",
      "1) Core Material Selection\n",
      "\n",
      "JFE ELECTRICAL STEEL SHEETS\n",
      "JGHD, JGSD CORE"
     ]
    },
    {
     "cell_type": "code",
     "collapsed": false,
     "input": [
      "Bmax= 1.7 #Flux density, Tesla\n",
      "d=7.65 #material density, kg/dm^3\n",
      "thickness=0.2 #in mm\n",
      "lf=0.94 #lamination factor\n",
      "f= 500.0 #frequency, Hz"
     ],
     "language": "python",
     "metadata": {},
     "outputs": [],
     "prompt_number": 17
    },
    {
     "cell_type": "markdown",
     "metadata": {},
     "source": [
      "We need to find core loss at 500 Hz using Steinmetz Equation:\n",
      "*Steinmetz equation: Pc=k*(f^a)*(B^b)*"
     ]
    },
    {
     "cell_type": "code",
     "collapsed": false,
     "input": [
      "Pc_50Hz=0.85\n",
      "Pc_60Hz=1.12\n",
      "a=log(Pc_50Hz/Pc_60Hz)/log(50.0/60.0)\n",
      "#Core loss at 500 Hz:\n",
      "Pc_500Hz=Pc_50Hz*(10**a) #Watts per kg"
     ],
     "language": "python",
     "metadata": {},
     "outputs": [],
     "prompt_number": 15
    },
    {
     "cell_type": "markdown",
     "metadata": {},
     "source": [
      "Now we need to determine turn numbers and core area:"
     ]
    },
    {
     "cell_type": "code",
     "collapsed": false,
     "input": [
      "V_in=3000.0 #V\n",
      "V_out=300000.0 #V\n",
      "#V_in=4.44*N1*f*lf*A*Bmax\n",
      "N1xA=V_in/(4.44*f*lf*Bmax)\n",
      "#let N1=10\n",
      "N1=10.0\n",
      "A=N1xA/N1 #m^2\n",
      "N2=N1*V_out/V_in"
     ],
     "language": "python",
     "metadata": {},
     "outputs": [],
     "prompt_number": 28
    },
    {
     "cell_type": "code",
     "collapsed": false,
     "input": [],
     "language": "python",
     "metadata": {},
     "outputs": [],
     "prompt_number": 28
    },
    {
     "cell_type": "code",
     "collapsed": false,
     "input": [],
     "language": "python",
     "metadata": {},
     "outputs": []
    }
   ],
   "metadata": {}
  }
 ]
}