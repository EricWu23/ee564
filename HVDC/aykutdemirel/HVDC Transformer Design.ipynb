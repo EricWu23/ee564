{
 "metadata": {
  "name": "",
  "signature": "sha256:47edb69fc8cd02a11e7e2e6f68e8faed4c5cd853d96282941352e5d081b651f0"
 },
 "nbformat": 3,
 "nbformat_minor": 0,
 "worksheets": [
  {
   "cells": [
    {
     "cell_type": "markdown",
     "metadata": {},
     "source": [
      "#HVDC TRANSFORMER DESIGN\n",
      "\n",
      "In a HVDC transmission system, DC/AC + Transformer + AC/DC system is used to step-up the DC voltage to several kV for long range transmission.\n",
      "\n",
      "*Design Specs:*\n",
      "\n",
      "* 6.5 MVA Single Phase\n",
      "* Frequency: 500 Hz\n",
      "* Vin = 3 kV\n",
      "* Vout = 300 kV\n",
      "* Temperature = 110 'C\n",
      "\n",
      "*Design Outcomes:*\n",
      "\n",
      "* Design specifications of the core (geometry, material, total mass etc)\n",
      "* Coil dimensions (number of turns, coil dimensions (in AWG), total wire length)\n",
      "* Efficiency data (copper losses, core losses)\n",
      "* Electrical parameters (resistance, inductance etc.)\n",
      "* Comments about you chosen these parameters\n",
      "\n",
      "*Design Procedure:*\n",
      "\n",
      "* Core material selection, max operating magnetic flux density\n",
      "* Cross-sectional area and number of turns determination\n",
      "* Selecting primary and secondary side conductors\n",
      "* ...\n",
      "\n",
      "** 1) Core material selection, max operating flux density **\n",
      "\n",
      "JFE ELECTRICAL STEEL SHEETS\n",
      "JGHD, JGSD CORE"
     ]
    },
    {
     "cell_type": "code",
     "collapsed": false,
     "input": [
      "Bmax= 1.7 #Flux density, Tesla\n",
      "density=7.65 #material density, kg/dm^3\n",
      "thickness=0.2 #in mm\n",
      "lf=0.94 #lamination factor\n",
      "f= 500.0 #frequency, Hz"
     ],
     "language": "python",
     "metadata": {},
     "outputs": [],
     "prompt_number": 4
    },
    {
     "cell_type": "markdown",
     "metadata": {},
     "source": [
      "We need to find core loss at 500 Hz using Steinmetz Equation:\n",
      "*Steinmetz equation: Pc=k*(f^a)*(B^b)*"
     ]
    },
    {
     "cell_type": "code",
     "collapsed": false,
     "input": [
      "Pc_50Hz=0.85\n",
      "Pc_60Hz=1.12\n",
      "a=log(Pc_50Hz/Pc_60Hz)/log(50.0/60.0)\n",
      "#Core loss at 500 Hz:\n",
      "Pc_500Hz=Pc_50Hz*(10**a) #Watts per kg\n",
      "print 'Pc_500Hz = ',Pc_500Hz,'Watts/kg'"
     ],
     "language": "python",
     "metadata": {},
     "outputs": [
      {
       "output_type": "stream",
       "stream": "stdout",
       "text": [
        "Pc_500Hz =  27.6944054914 Watts/kg\n"
       ]
      }
     ],
     "prompt_number": 8
    },
    {
     "cell_type": "markdown",
     "metadata": {},
     "source": [
      "** 2) Cross-sectional area and number of turns determination **"
     ]
    },
    {
     "cell_type": "code",
     "collapsed": false,
     "input": [
      "V_in=3000.0 #V\n",
      "V_out=300000.0 #V\n",
      "#V_in=4.44*N1*f*Ac*Bmax\n",
      "N1xAc=V_in/(4.44*f*Bmax)\n",
      "#let N1=10\n",
      "N1=10.0\n",
      "Ac=N1xAc/N1 #m^2\n",
      "print 'Ac = ',Ac,'m^2'\n",
      "N2=N1*V_out/V_in\n",
      "print 'N2 = ',N2,'turns'"
     ],
     "language": "python",
     "metadata": {},
     "outputs": [
      {
       "output_type": "stream",
       "stream": "stdout",
       "text": [
        "Ac =  0.0794912559618 m^2\n",
        "N2 =  1000.0 turns\n"
       ]
      }
     ],
     "prompt_number": 7
    },
    {
     "cell_type": "markdown",
     "metadata": {},
     "source": [
      "** 3) Selecting primary and secondary side conductors **"
     ]
    },
    {
     "cell_type": "code",
     "collapsed": false,
     "input": [],
     "language": "python",
     "metadata": {},
     "outputs": []
    }
   ],
   "metadata": {}
  }
 ]
}