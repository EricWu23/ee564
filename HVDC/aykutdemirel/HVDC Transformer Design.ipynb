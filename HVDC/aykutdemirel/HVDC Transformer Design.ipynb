{
 "metadata": {
  "name": "",
  "signature": "sha256:a5176f9e9ba595e37027cdc829844332552ee7a23d3df04a0445f63e25ef5aab"
 },
 "nbformat": 3,
 "nbformat_minor": 0,
 "worksheets": [
  {
   "cells": [
    {
     "cell_type": "markdown",
     "metadata": {},
     "source": [
      "#HVDC TRANSFORMER DESIGN\n",
      "\n",
      "Design Specs:\n",
      "\n",
      "* 6.5 MVA Single Phase\n",
      "* Frequency: 500 Hz\n",
      "* Vin = 3 kV\n",
      "* Vout = 300 kV\n",
      "* Temperature = 110 'C\n"
     ]
    },
    {
     "cell_type": "code",
     "collapsed": false,
     "input": [],
     "language": "python",
     "metadata": {},
     "outputs": []
    }
   ],
   "metadata": {}
  }
 ]
}