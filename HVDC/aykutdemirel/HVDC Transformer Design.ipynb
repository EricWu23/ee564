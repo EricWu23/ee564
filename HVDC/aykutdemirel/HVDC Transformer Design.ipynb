{
 "metadata": {
  "name": "",
  "signature": "sha256:4f5f771d80830aa1ad104bb1f1c8f450a12e76eccf9bc4041bdc39ab6963fffb"
 },
 "nbformat": 3,
 "nbformat_minor": 0,
 "worksheets": [
  {
   "cells": [
    {
     "cell_type": "markdown",
     "metadata": {},
     "source": [
      "#HVDC TRANSFORMER DESIGN\n",
      "\n",
      "In a HVDC transmission system, DC/AC + Transformer + AC/DC system is used to step-up the DC voltage to several kV for long range transmission.\n",
      "\n",
      "*Design Specs:*\n",
      "\n",
      "* 6.5 MVA Single Phase\n",
      "* Frequency: 500 Hz\n",
      "* Vin = 3 kV\n",
      "* Vout = 300 kV\n",
      "* Temperature = 110 'C\n",
      "\n",
      "*Design Outcomes:*\n",
      "\n",
      "* Design specifications of the core (geometry, material, total mass etc)\n",
      "* Coil dimensions (number of turns, coil dimensions (in AWG), total wire length)\n",
      "* Efficiency data (copper losses, core losses)\n",
      "* Electrical parameters (resistance, inductance etc.)\n",
      "* Comments about you chosen these parameters\n",
      "\n",
      "*Design Procedure:*\n",
      "\n",
      "* Core material selection, max operating magnetic flux density\n",
      "* Cross-sectional area and number of turns determination\n",
      "* Selecting primary and secondary side conductors\n",
      "* ...\n",
      "\n",
      "** 1) Core material selection, max operating flux density **\n",
      "\n",
      "JFE ELECTRICAL STEEL SHEETS\n",
      "JGHD, JGSD CORE"
     ]
    },
    {
     "cell_type": "code",
     "collapsed": false,
     "input": [
      "Bmax= 1.7 #Flux density, Tesla\n",
      "density=7.65 #material density, kg/dm^3\n",
      "thickness=0.2 #in mm\n",
      "lf=0.94 #lamination factor\n",
      "f= 500.0 #frequency, Hz"
     ],
     "language": "python",
     "metadata": {},
     "outputs": [],
     "prompt_number": 11
    },
    {
     "cell_type": "markdown",
     "metadata": {},
     "source": [
      "We need to find core loss at 500 Hz using Steinmetz Equation:\n",
      "*Steinmetz equation: Pc=k*(f^a)*(B^b)*"
     ]
    },
    {
     "cell_type": "code",
     "collapsed": false,
     "input": [
      "Pc_50Hz=0.85\n",
      "Pc_60Hz=1.12\n",
      "a=log(Pc_50Hz/Pc_60Hz)/log(50.0/60.0)\n",
      "#Core loss at 500 Hz:\n",
      "Pc_500Hz=Pc_50Hz*(10**a) #Watts per kg\n",
      "print 'Pc_500Hz = ',Pc_500Hz,'Watts/kg'"
     ],
     "language": "python",
     "metadata": {},
     "outputs": [
      {
       "output_type": "stream",
       "stream": "stdout",
       "text": [
        "Pc_500Hz =  27.6944054914 Watts/kg\n"
       ]
      }
     ],
     "prompt_number": 12
    },
    {
     "cell_type": "markdown",
     "metadata": {},
     "source": [
      "** 2) Cross-sectional area and number of turns determination **"
     ]
    },
    {
     "cell_type": "code",
     "collapsed": false,
     "input": [
      "V_in=3000.0 #V\n",
      "V_out=300000.0 #V\n",
      "#V_in=4.44*N1*f*Ac*Bmax\n",
      "N1xAc=V_in/(4.44*f*Bmax)\n",
      "#let N1=10\n",
      "N1=10.0\n",
      "Ac=N1xAc/N1 #m^2\n",
      "print 'Ac = ',Ac,'m^2'\n",
      "#We put a regulation margin of 1% to N2 since there will be voltage drops due to copper losses on both primary and secondary sides.\n",
      "#This margin may be altered later in optimisation part.\n",
      "N2=N1*(V_out/V_in)*1.01\n",
      "print 'N1 = ',N1,'turns'\n",
      "print 'N2 = ',N2,'turns'"
     ],
     "language": "python",
     "metadata": {},
     "outputs": [
      {
       "output_type": "stream",
       "stream": "stdout",
       "text": [
        "Ac =  0.0794912559618 m^2\n",
        "N1 =  10.0 turns\n",
        "N2 =  1010.0 turns\n"
       ]
      }
     ],
     "prompt_number": 13
    },
    {
     "cell_type": "markdown",
     "metadata": {},
     "source": [
      "This Ac is the effective core area where the flux is passing through.\n",
      "Because of the lamination factor, actual cross-sectional area ofthe core will be Ac/lf."
     ]
    },
    {
     "cell_type": "code",
     "collapsed": false,
     "input": [
      "A=Ac/lf\n",
      "print 'A = ',A,'m^2'"
     ],
     "language": "python",
     "metadata": {},
     "outputs": [
      {
       "output_type": "stream",
       "stream": "stdout",
       "text": [
        "A =  0.0845651659169 m^2\n"
       ]
      }
     ],
     "prompt_number": 14
    },
    {
     "cell_type": "markdown",
     "metadata": {},
     "source": [
      "Primary and secondary side conductors are wrapped around the core. Although the shape of the cross-sectional area of the core is not circular, windings are wrapped circularly. Therefore, the innermost conductor travels an area not equal to A but equal to some bigger area called Ai, i indicating \"inner\". Here, we visualize the cross-sectional area and calculate Ai.\n",
      "\n",
      "We use 4-step geometry for the core to reduce the leakage flux. In a 4-step core, relationship between A and Ai is given by the equation:\n",
      "\n",
      "A=0.694*d^2\n",
      "\n",
      "where d is the diameter of Ai."
     ]
    },
    {
     "cell_type": "code",
     "collapsed": false,
     "input": [
      "d=(A/0.694)**0.5\n",
      "print 'd = ',d,'meters'\n",
      "Ai=pi*d*d\n",
      "print 'Ai = ',Ai,'m^2'"
     ],
     "language": "python",
     "metadata": {},
     "outputs": [
      {
       "output_type": "stream",
       "stream": "stdout",
       "text": [
        "d =  0.349072806285 meters\n",
        "Ai =  0.38280879538 m^2\n"
       ]
      }
     ],
     "prompt_number": 15
    },
    {
     "cell_type": "markdown",
     "metadata": {},
     "source": [
      "** 3) Selecting primary and secondary side conductors **"
     ]
    },
    {
     "cell_type": "code",
     "collapsed": false,
     "input": [],
     "language": "python",
     "metadata": {},
     "outputs": [],
     "prompt_number": 15
    },
    {
     "cell_type": "code",
     "collapsed": false,
     "input": [],
     "language": "python",
     "metadata": {},
     "outputs": [],
     "prompt_number": 15
    },
    {
     "cell_type": "code",
     "collapsed": false,
     "input": [],
     "language": "python",
     "metadata": {},
     "outputs": []
    }
   ],
   "metadata": {}
  }
 ]
}