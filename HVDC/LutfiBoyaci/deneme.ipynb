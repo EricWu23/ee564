{
 "metadata": {
  "name": "",
  "signature": "sha256:6391b5671863320e760a50b719415fd4de12b1b5c0a0a5e27a63b5ceae6800c3"
 },
 "nbformat": 3,
 "nbformat_minor": 0,
 "worksheets": [
  {
   "cells": [
    {
     "cell_type": "heading",
     "level": 2,
     "metadata": {},
     "source": [
      "    PROJECT: TRANSFORMER DESIGN FOR A HVDC TRANSMISSION SYSTEM"
     ]
    },
    {
     "cell_type": "heading",
     "level": 3,
     "metadata": {},
     "source": [
      "SPECIFICATIONS:"
     ]
    },
    {
     "cell_type": "heading",
     "level": 4,
     "metadata": {},
     "source": [
      "    6.5 MVA, Single Phase transformer"
     ]
    },
    {
     "cell_type": "heading",
     "level": 4,
     "metadata": {},
     "source": [
      "Operating Frequency: 500 Hz"
     ]
    },
    {
     "cell_type": "heading",
     "level": 4,
     "metadata": {},
     "source": [
      "Input Voltage: 3 kV"
     ]
    },
    {
     "cell_type": "heading",
     "level": 4,
     "metadata": {},
     "source": [
      "Output Voltage: 300kV"
     ]
    },
    {
     "cell_type": "heading",
     "level": 4,
     "metadata": {},
     "source": [
      "Operating Temperature 110 \u00b0C"
     ]
    },
    {
     "cell_type": "code",
     "collapsed": false,
     "input": [
      "S=6500000.00 #VA\n",
      "V1=3000.00 #V\n",
      "f=500\n",
      "V2=300000.00  #V\n",
      "I2= S/V2 #A\n",
      "print 'I2 =', I2 ,'A'"
     ],
     "language": "python",
     "metadata": {},
     "outputs": [
      {
       "output_type": "stream",
       "stream": "stdout",
       "text": [
        "I2 = 21.6666666667 A\n"
       ]
      }
     ],
     "prompt_number": 59
    },
    {
     "cell_type": "code",
     "collapsed": false,
     "input": [
      "Turn_ratio= 300/3\n",
      "print 'Turn_ratio =', Turn_ratio"
     ],
     "language": "python",
     "metadata": {},
     "outputs": [
      {
       "output_type": "stream",
       "stream": "stdout",
       "text": [
        "Turn_ratio = 100\n"
       ]
      }
     ],
     "prompt_number": 60
    },
    {
     "cell_type": "markdown",
     "metadata": {},
     "source": [
      "assume: "
     ]
    },
    {
     "cell_type": "code",
     "collapsed": false,
     "input": [
      "N1=8\n",
      "N2=800\n",
      "n=0.98 #efficiency"
     ],
     "language": "python",
     "metadata": {},
     "outputs": [],
     "prompt_number": 61
    },
    {
     "cell_type": "code",
     "collapsed": false,
     "input": [
      "I1=S/(n*V1)\n",
      "print 'I1 =', I1 ,'A'"
     ],
     "language": "python",
     "metadata": {},
     "outputs": [
      {
       "output_type": "stream",
       "stream": "stdout",
       "text": [
        "I1 = 2210.88435374 A\n"
       ]
      }
     ],
     "prompt_number": 62
    },
    {
     "cell_type": "heading",
     "level": 6,
     "metadata": {},
     "source": [
      "skin depth:"
     ]
    },
    {
     "cell_type": "code",
     "collapsed": false,
     "input": [
      "p=1.68e-08*(1+0.0039*(110-20)) #resistivity for copper @ 110*C\n",
      "w=2*pi*500\n",
      "u=4e-07*pi*0.999991 # permeability of air*relative mag. permeability of copper\n",
      "SD=sqrt(2*p/(w*u))*1000 #skin depth in mm\n",
      "print 'Skin Depth =', SD ,'mm'"
     ],
     "language": "python",
     "metadata": {},
     "outputs": [
      {
       "output_type": "stream",
       "stream": "stdout",
       "text": [
        "Skin Depth = 3.3909344863 mm\n"
       ]
      }
     ],
     "prompt_number": 63
    },
    {
     "cell_type": "markdown",
     "metadata": {},
     "source": [
      "assume:"
     ]
    },
    {
     "cell_type": "code",
     "collapsed": false,
     "input": [
      "ccc=4 #A/mm^2       #Current carrying capacity of wire\n",
      "A2= I2/ccc          # needed area of secondary conductor\n",
      "print 'A2 =', A2 ,'mm^2'\n",
      "r2 = sqrt(A2/pi)    # radius of secondary conductor\n",
      "print 'r2 =', r2 ,'mm'\n",
      "print'\"AWG 9\" is chosen for secondary conductor from the table of AWG cable sizes'\n",
      "A1= I1/ccc          # needed area of primary conductor\n",
      "print 'A1 =', A1 ,'mm^2'\n",
      "r1 = sqrt(A1/pi)    # radius of secondary conductor\n",
      "print 'r1 =', r1 ,'mm'"
     ],
     "language": "python",
     "metadata": {},
     "outputs": [
      {
       "output_type": "stream",
       "stream": "stdout",
       "text": [
        "A2 = 5.41666666667 mm^2\n",
        "r2 = 1.31307979581 mm\n",
        "\"AWG 9\" is chosen for secondary conductor from the table of AWG cable sizes\n",
        "A1 = 552.721088435 mm^2\n",
        "r1 = 13.2641089694 mm\n"
       ]
      }
     ],
     "prompt_number": 64
    },
    {
     "cell_type": "markdown",
     "metadata": {},
     "source": [
      "There is no available conductor size to carry all the primary side current. therefore, 6 cable (bundled) could be a solution to share the primary current."
     ]
    },
    {
     "cell_type": "code",
     "collapsed": false,
     "input": [
      "I11= I1/6\n",
      "A11=I11/ccc           #needed area per single conductor (1/6 of total)\n",
      "print 'A11=', A11,'mm^2'\n",
      "r11 = sqrt(A11/pi)    # radius of secondary conductor\n",
      "print 'r11 =', r11 ,'mm'\n",
      "print'\"AWG0000\" is chosen for primary conductors'"
     ],
     "language": "python",
     "metadata": {},
     "outputs": [
      {
       "output_type": "stream",
       "stream": "stdout",
       "text": [
        "A11= 92.1201814059 mm^2\n",
        "r11 = 5.41504981127 mm\n",
        "\"AWG0000\" is chosen for primary conductors\n"
       ]
      }
     ],
     "prompt_number": 65
    },
    {
     "cell_type": "markdown",
     "metadata": {},
     "source": [
      "! burada skin depth'i hesaba katmam\u0131\u015f\u0131z. kullanabildece\u011fimiz en b\u00fcy\u00fck kablo AWG2 oluyor!"
     ]
    },
    {
     "cell_type": "code",
     "collapsed": false,
     "input": [
      "Aawg2= 33.6 #mm2\n",
      "Iawg2=ccc*Aawg2\n",
      "primary_no_of_conductor=round(I1/Iawg2 , 0)\n",
      "print (primary_no_of_conductor)"
     ],
     "language": "python",
     "metadata": {},
     "outputs": [
      {
       "output_type": "stream",
       "stream": "stdout",
       "text": [
        "16.0\n"
       ]
      }
     ],
     "prompt_number": 75
    },
    {
     "cell_type": "markdown",
     "metadata": {},
     "source": [
      "16 AWG2 cable are bundled"
     ]
    },
    {
     "cell_type": "heading",
     "level": 6,
     "metadata": {},
     "source": [
      "Finding Kw*Ac pruduct: "
     ]
    },
    {
     "cell_type": "code",
     "collapsed": false,
     "input": [
      "B=1.7\n",
      "f=500 #frequency in Hz\n",
      "Aw= A2/100 #wire area in cm^2\n",
      "K=0.35 #windig factor-half side only\n",
      "E= 300000 #Volts\n",
      "#E=4.44*B*Ac*N*f*1e-08\n",
      "#Ac=E*1e+8/(4.44*B*f*N)\n",
      "#K=N*Aw/Wa #Wa:window area in cm^2\n",
      "#N=K*Wa/Aw\n",
      "#Ac=K*Wa*Ac/(Aw*N)\n",
      "(WaAc)=E*Aw*1e+8/(4.44*B*f*K) #Wa.Ac in cm^4\n",
      "print 'Wa.Ac =', (WaAc) ,'cm^4'"
     ],
     "language": "python",
     "metadata": {},
     "outputs": [
      {
       "output_type": "stream",
       "stream": "stdout",
       "text": [
        "Wa.Ac = 1230221818.46 cm^4\n"
       ]
      }
     ],
     "prompt_number": 67
    },
    {
     "cell_type": "code",
     "collapsed": false,
     "input": [
      "#sonradan anla\u015f\u0131ld\u0131 ki: Aplication note'da ge\u00e7en Kw*Ac \u00e7arp\u0131m\u0131n\u0131 bulmak bizim proje i\u00e7in faydal\u0131 olmuyor.\n",
      "#Kw*Ac \u00e7arp\u0131m\u0131ndan bulunan \u00fcr\u00fcnler genelde k\u00fc\u00e7\u00fck oluyor. lamination \u015feklinde se\u00e7im yap\u0131p \u015fekli kendimiz dizayn edelim"
     ],
     "language": "python",
     "metadata": {},
     "outputs": [],
     "prompt_number": 68
    },
    {
     "cell_type": "markdown",
     "metadata": {},
     "source": [
      "http://www.jfe-steel.co.jp/en/products/electrical/catalog/f1e-001.pdf"
     ]
    },
    {
     "cell_type": "heading",
     "level": 6,
     "metadata": {},
     "source": [
      "Finding Core Area:"
     ]
    },
    {
     "cell_type": "code",
     "collapsed": false,
     "input": [
      "B= 1.7 #Tesla\n",
      "kw= 0.945 #lamination factor\n",
      "#V2=4.44*f*N2*kw*B*Acore\n",
      "Acore= V2/(4.44*f*N2*kw*B)\n",
      "print 'Core Area=' , Acore , 'm^2' \n",
      "core_edge=sqrt(Acore)  #assuming square core area\n",
      "print 'Core Edge=', core_edge , 'm'"
     ],
     "language": "python",
     "metadata": {},
     "outputs": [
      {
       "output_type": "stream",
       "stream": "stdout",
       "text": [
        "Core Area= 0.105147163971 m^2\n",
        "Core Edge= 0.324264034347 m\n"
       ]
      }
     ],
     "prompt_number": 69
    },
    {
     "cell_type": "heading",
     "level": 6,
     "metadata": {},
     "source": [
      "Finding Core Loss:"
     ]
    },
    {
     "cell_type": "code",
     "collapsed": false,
     "input": [
      "#23JGSD080 is chosen as a core material from the catalogue\n",
      "#datasheet parameters:\n",
      "#Core loss @ 1.7T and 50Hz= 0.75 W/kg\n",
      "#Core loss @ 1.7T and 60Hz= 0.97 W/kg\n",
      "\n",
      "#Steinmetz's equation: Q=k*(f^a)*(B^b)\n",
      "Core_loss_50= 0.75\n",
      "Core_loss_60= 0.97\n",
      "a=log(Core_loss_60/Core_loss_50)/log(60.0/50.0)\n",
      "Core_loss_500=Core_loss_50*(500.0/50.0)**a\n",
      "print 'Core Loss @ 500Hz=', Core_loss_500 , 'W/kg'\n"
     ],
     "language": "python",
     "metadata": {},
     "outputs": [
      {
       "output_type": "stream",
       "stream": "stdout",
       "text": [
        "Core Loss @ 500Hz= 19.3143936266 W/kg\n"
       ]
      }
     ],
     "prompt_number": 70
    },
    {
     "cell_type": "heading",
     "level": 6,
     "metadata": {},
     "source": [
      "Core Window Area:"
     ]
    },
    {
     "cell_type": "code",
     "collapsed": false,
     "input": [
      "kw1= 0.35 # primary winding factor\n",
      "kw2= 0.4  ## secondary winding factor\n",
      "Area_awg9= 6.63 #secondary cable area mm^2\n",
      "Area_awg2= 33.6 #primary cable area in mm^2\n",
      "primary_window_area = primary_no_of_conductor*Area_awg2*N1/kw1/100 #in cm^2\n",
      "secondary_window_area = Area_awg9*N2/kw2/100 #in cm^2\n",
      "print 'primary winding area=' , primary_window_area , 'cm^2'\n",
      "print 'secondary winding area=' , secondary_window_area , 'cm^2'"
     ],
     "language": "python",
     "metadata": {},
     "outputs": [
      {
       "output_type": "stream",
       "stream": "stdout",
       "text": [
        "primary winding area= 122.88 cm^2\n",
        "secondary winding area= 132.6 cm^2\n"
       ]
      }
     ],
     "prompt_number": 86
    },
    {
     "cell_type": "code",
     "collapsed": false,
     "input": [],
     "language": "python",
     "metadata": {},
     "outputs": [],
     "prompt_number": 71
    }
   ],
   "metadata": {}
  }
 ]
}