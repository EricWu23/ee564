{
 "metadata": {
  "name": "",
  "signature": "sha256:bb1569fba305bef66804fcd8700599937f132a3f961088369b30dee5794c3f50"
 },
 "nbformat": 3,
 "nbformat_minor": 0,
 "worksheets": [
  {
   "cells": [
    {
     "cell_type": "heading",
     "level": 2,
     "metadata": {},
     "source": [
      "    PROJECT: TRANSFORMER DESIGN FOR A HVDC TRANSMISSION SYSTEM"
     ]
    },
    {
     "cell_type": "heading",
     "level": 3,
     "metadata": {},
     "source": [
      "SPECIFICATIONS:"
     ]
    },
    {
     "cell_type": "heading",
     "level": 4,
     "metadata": {},
     "source": [
      "    6.5 MVA, Single Phase transformer"
     ]
    },
    {
     "cell_type": "heading",
     "level": 4,
     "metadata": {},
     "source": [
      "Operating Frequency: 500 Hz"
     ]
    },
    {
     "cell_type": "heading",
     "level": 4,
     "metadata": {},
     "source": [
      "Input Voltage: 3 kV"
     ]
    },
    {
     "cell_type": "heading",
     "level": 4,
     "metadata": {},
     "source": [
      "Output Voltage: 300kV"
     ]
    },
    {
     "cell_type": "heading",
     "level": 4,
     "metadata": {},
     "source": [
      "Operating Temperature 110 \u00b0C"
     ]
    },
    {
     "cell_type": "code",
     "collapsed": false,
     "input": [
      "S=6500000.00 #VA\n",
      "V1=3000.00 #V\n",
      "V2=300000.00  #V\n",
      "I2= S/V2 #A\n",
      "print 'I2 =', I2 ,'A'"
     ],
     "language": "python",
     "metadata": {},
     "outputs": [
      {
       "output_type": "stream",
       "stream": "stdout",
       "text": [
        "I2 = 21.6666666667 A\n"
       ]
      }
     ],
     "prompt_number": 3
    },
    {
     "cell_type": "code",
     "collapsed": false,
     "input": [
      "Turn_ratio= 300/3\n",
      "print 'Turn_ratio =', Turn_ratio"
     ],
     "language": "python",
     "metadata": {},
     "outputs": [
      {
       "output_type": "stream",
       "stream": "stdout",
       "text": [
        "Turn_ratio = 100\n"
       ]
      }
     ],
     "prompt_number": 25
    },
    {
     "cell_type": "markdown",
     "metadata": {},
     "source": [
      "assume: "
     ]
    },
    {
     "cell_type": "code",
     "collapsed": false,
     "input": [
      "N1=8\n",
      "N2=800\n",
      "n=0.98 #efficiency"
     ],
     "language": "python",
     "metadata": {},
     "outputs": [],
     "prompt_number": 1
    },
    {
     "cell_type": "code",
     "collapsed": false,
     "input": [
      "I1=S/(n*V1)\n",
      "print 'I1 =', I1 ,'A'"
     ],
     "language": "python",
     "metadata": {},
     "outputs": [
      {
       "output_type": "stream",
       "stream": "stdout",
       "text": [
        "I1 = 2210.88435374 A\n"
       ]
      }
     ],
     "prompt_number": 5
    },
    {
     "cell_type": "code",
     "collapsed": false,
     "input": [],
     "language": "python",
     "metadata": {},
     "outputs": []
    }
   ],
   "metadata": {}
  }
 ]
}