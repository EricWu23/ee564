{
 "metadata": {
  "name": "",
  "signature": "sha256:afa5e645a515d6ebbfefa1a1373ceb57fa8acb4d018e7d0d2d933a90dc38dd37"
 },
 "nbformat": 3,
 "nbformat_minor": 0,
 "worksheets": [
  {
   "cells": [
    {
     "cell_type": "heading",
     "level": 2,
     "metadata": {},
     "source": [
      "    PROJECT: TRANSFORMER DESIGN FOR A HVDC TRANSMISSION SYSTEM"
     ]
    },
    {
     "cell_type": "heading",
     "level": 3,
     "metadata": {},
     "source": [
      "SPECIFICATIONS:"
     ]
    },
    {
     "cell_type": "heading",
     "level": 4,
     "metadata": {},
     "source": [
      "    6.5 MVA, Single Phase transformer"
     ]
    },
    {
     "cell_type": "heading",
     "level": 4,
     "metadata": {},
     "source": [
      "Operating Frequency: 500 Hz"
     ]
    },
    {
     "cell_type": "heading",
     "level": 4,
     "metadata": {},
     "source": [
      "Input Voltage: 3 kV"
     ]
    },
    {
     "cell_type": "heading",
     "level": 4,
     "metadata": {},
     "source": [
      "Output Voltage: 300kV"
     ]
    },
    {
     "cell_type": "heading",
     "level": 4,
     "metadata": {},
     "source": [
      "Operating Temperature 110 \u00b0C"
     ]
    },
    {
     "cell_type": "code",
     "collapsed": false,
     "input": [
      "S=6500000.00 #VA\n",
      "V1=3000.00 #V\n",
      "V2=300000.00  #V\n",
      "I2= S/V2 #A\n",
      "print 'I2 =', I2 ,'A'"
     ],
     "language": "python",
     "metadata": {},
     "outputs": [
      {
       "output_type": "stream",
       "stream": "stdout",
       "text": [
        "I2 = 21.6666666667 A\n"
       ]
      }
     ],
     "prompt_number": 5
    },
    {
     "cell_type": "code",
     "collapsed": false,
     "input": [
      "Turn_ratio= 300/3\n",
      "print 'Turn_ratio =', Turn_ratio"
     ],
     "language": "python",
     "metadata": {},
     "outputs": [
      {
       "output_type": "stream",
       "stream": "stdout",
       "text": [
        "Turn_ratio = 100\n"
       ]
      }
     ],
     "prompt_number": 6
    },
    {
     "cell_type": "markdown",
     "metadata": {},
     "source": [
      "assume: "
     ]
    },
    {
     "cell_type": "code",
     "collapsed": false,
     "input": [
      "N1=8\n",
      "N2=800\n",
      "n=0.98 #efficiency"
     ],
     "language": "python",
     "metadata": {},
     "outputs": [],
     "prompt_number": 7
    },
    {
     "cell_type": "code",
     "collapsed": false,
     "input": [
      "I1=S/(n*V1)\n",
      "print 'I1 =', I1 ,'A'"
     ],
     "language": "python",
     "metadata": {},
     "outputs": [
      {
       "output_type": "stream",
       "stream": "stdout",
       "text": [
        "I1 = 2210.88435374 A\n"
       ]
      }
     ],
     "prompt_number": 8
    },
    {
     "cell_type": "markdown",
     "metadata": {},
     "source": [
      "skin depth:"
     ]
    },
    {
     "cell_type": "code",
     "collapsed": false,
     "input": [
      "p=1.724e-08 #resistivity for copper\n",
      "w=2*pi*500\n",
      "u=4e-07*pi*0.999991 # permeability of air*relative mag. permeability of copper\n",
      "SD=sqrt(2*p/(w*u))*1000 #skin depth in mm\n",
      "print 'Skin Depth =', SD ,'mm'"
     ],
     "language": "python",
     "metadata": {},
     "outputs": [
      {
       "output_type": "stream",
       "stream": "stdout",
       "text": [
        "Skin Depth = 2.95532817732 mm\n"
       ]
      }
     ],
     "prompt_number": 9
    },
    {
     "cell_type": "markdown",
     "metadata": {},
     "source": [
      "assume:"
     ]
    },
    {
     "cell_type": "code",
     "collapsed": false,
     "input": [
      "ccc=4 #A/mm^2       #Current carrying capacity of wire\n",
      "I2= 21.6666666667\n",
      "A2= I2/ccc #area of secondary conductor\n",
      "print 'A2 =', A2 ,'mm^2'\n",
      "r2 = sqrt(A2/pi) # radius of secondary conductor\n",
      "print 'r2 =', r2 ,'mm'\n",
      "print'\"AWG 10\" is chosen from the table of AWG cable sizes'"
     ],
     "language": "python",
     "metadata": {},
     "outputs": [
      {
       "output_type": "stream",
       "stream": "stdout",
       "text": [
        "A2 = 5.41666666667 mm^2\n",
        "r2 = 1.31307979581 mm\n",
        "\"AWG 10\" is chosen from the table of AWG cable sizes\n"
       ]
      }
     ],
     "prompt_number": 10
    },
    {
     "cell_type": "heading",
     "level": 6,
     "metadata": {},
     "source": [
      "Finding Kw*Ac pruduct:"
     ]
    },
    {
     "cell_type": "code",
     "collapsed": false,
     "input": [
      "B= 13000 #Flux density in Gauss\n",
      "f=500 #frequency in Hz\n",
      "Aw= A2/100 #wire area in cm^2\n",
      "K=0.35 #windig factor-half side only\n",
      "E= 300000 #Volts\n",
      "#E=4.44*B*Ac*N*f*1e-08\n",
      "#Ac=E*1e+8/(4.44*B*f*N)\n",
      "#K=N*Aw/Wa #Wa:window area in cm^2\n",
      "#N=K*Wa/Aw\n",
      "#Ac=K*Wa*Ac/(Aw*N)\n",
      "(WaAc)=E*Aw*1e+8/(4.44*B*f*K) #Wa.Ac in cm^4\n",
      "print 'Wa.Ac =', (WaAc) ,'cm^4'"
     ],
     "language": "python",
     "metadata": {},
     "outputs": [
      {
       "output_type": "stream",
       "stream": "stdout",
       "text": [
        "Wa.Ac = 160875.160875 cm^4\n"
       ]
      }
     ],
     "prompt_number": 21
    },
    {
     "cell_type": "markdown",
     "metadata": {},
     "source": [
      "http://www.jfe-steel.co.jp/en/products/electrical/catalog/f1e-001.pdf"
     ]
    }
   ],
   "metadata": {}
  }
 ]
}