{
 "metadata": {
  "name": "",
  "signature": "sha256:4801709266ba63b41f7e0e8a9da2d05d2feb0dece82868fe5bd610ccce2d506a"
 },
 "nbformat": 3,
 "nbformat_minor": 0,
 "worksheets": [
  {
   "cells": [
    {
     "cell_type": "heading",
     "level": 2,
     "metadata": {},
     "source": [
      "    PROJECT: TRANSFORMER DESIGN FOR A HVDC TRANSMISSION SYSTEM"
     ]
    },
    {
     "cell_type": "heading",
     "level": 3,
     "metadata": {},
     "source": [
      "SPECIFICATIONS:"
     ]
    },
    {
     "cell_type": "heading",
     "level": 4,
     "metadata": {},
     "source": [
      "    6.5 MVA, Single Phase transformer"
     ]
    },
    {
     "cell_type": "heading",
     "level": 4,
     "metadata": {},
     "source": [
      "Operating Frequency: 500 Hz"
     ]
    },
    {
     "cell_type": "heading",
     "level": 4,
     "metadata": {},
     "source": [
      "Input Voltage: 3 kV"
     ]
    },
    {
     "cell_type": "heading",
     "level": 4,
     "metadata": {},
     "source": [
      "Output Voltage: 300kV"
     ]
    },
    {
     "cell_type": "heading",
     "level": 4,
     "metadata": {},
     "source": [
      "Operating Temperature 110 \u00b0C"
     ]
    },
    {
     "cell_type": "code",
     "collapsed": false,
     "input": [
      "S=6500000.00 #VA\n",
      "V1=3000.00 #V\n",
      "f=500\n",
      "V2=300000.00  #V\n",
      "I2= S/V2 #A\n",
      "print 'I2 =', I2 ,'A'"
     ],
     "language": "python",
     "metadata": {},
     "outputs": [
      {
       "output_type": "stream",
       "stream": "stdout",
       "text": [
        "I2 = 21.6666666667 A\n"
       ]
      }
     ],
     "prompt_number": 12
    },
    {
     "cell_type": "code",
     "collapsed": false,
     "input": [
      "Turn_ratio= 300/3\n",
      "print 'Turn_ratio =', Turn_ratio"
     ],
     "language": "python",
     "metadata": {},
     "outputs": [
      {
       "output_type": "stream",
       "stream": "stdout",
       "text": [
        "Turn_ratio = 100\n"
       ]
      }
     ],
     "prompt_number": 13
    },
    {
     "cell_type": "markdown",
     "metadata": {},
     "source": [
      "assume: "
     ]
    },
    {
     "cell_type": "code",
     "collapsed": false,
     "input": [
      "N1=8\n",
      "N2=800\n",
      "n=0.98 #efficiency"
     ],
     "language": "python",
     "metadata": {},
     "outputs": [],
     "prompt_number": 14
    },
    {
     "cell_type": "code",
     "collapsed": false,
     "input": [
      "I1=S/(n*V1)\n",
      "print 'I1 =', I1 ,'A'"
     ],
     "language": "python",
     "metadata": {},
     "outputs": [
      {
       "output_type": "stream",
       "stream": "stdout",
       "text": [
        "I1 = 2210.88435374 A\n"
       ]
      }
     ],
     "prompt_number": 15
    },
    {
     "cell_type": "markdown",
     "metadata": {},
     "source": [
      "skin depth:"
     ]
    },
    {
     "cell_type": "code",
     "collapsed": false,
     "input": [
      "p=1.724e-08 #resistivity for copper\n",
      "w=2*pi*500\n",
      "u=4e-07*pi*0.999991 # permeability of air*relative mag. permeability of copper\n",
      "SD=sqrt(2*p/(w*u))*1000 #skin depth in mm\n",
      "print 'Skin Depth =', SD ,'mm'"
     ],
     "language": "python",
     "metadata": {},
     "outputs": [
      {
       "output_type": "stream",
       "stream": "stdout",
       "text": [
        "Skin Depth = 2.95532817732 mm\n"
       ]
      }
     ],
     "prompt_number": 16
    },
    {
     "cell_type": "markdown",
     "metadata": {},
     "source": [
      "assume:"
     ]
    },
    {
     "cell_type": "code",
     "collapsed": false,
     "input": [
      "ccc=4 #A/mm^2       #Current carrying capacity of wire\n",
      "A2= I2/ccc          # needed area of secondary conductor\n",
      "print 'A2 =', A2 ,'mm^2'\n",
      "r2 = sqrt(A2/pi)    # radius of secondary conductor\n",
      "print 'r2 =', r2 ,'mm'\n",
      "print'\"AWG 10\" is chosen for secondary conductor from the table of AWG cable sizes'\n",
      "A1= I1/ccc          # needed area of primary conductor\n",
      "print 'A1 =', A1 ,'mm^2'\n",
      "r1 = sqrt(A1/pi)    # radius of secondary conductor\n",
      "print 'r1 =', r1 ,'mm'"
     ],
     "language": "python",
     "metadata": {},
     "outputs": [
      {
       "output_type": "stream",
       "stream": "stdout",
       "text": [
        "A2 = 5.41666666667 mm^2\n",
        "r2 = 1.31307979581 mm\n",
        "\"AWG 10\" is chosen for secondary conductor from the table of AWG cable sizes\n",
        "A1 = 552.721088435 mm^2\n",
        "r1 = 13.2641089694 mm\n"
       ]
      }
     ],
     "prompt_number": 17
    },
    {
     "cell_type": "markdown",
     "metadata": {},
     "source": [
      "There is no available conductor size to carry all the primary side current. therefore, 6 cable (bundled) could be a solution to share the primary current."
     ]
    },
    {
     "cell_type": "code",
     "collapsed": false,
     "input": [
      "I11= I1/6\n",
      "A11=I11/ccc           #needed area per single conductor (1/6 of total)\n",
      "print 'A11=', A11,'mm^2'\n",
      "r11 = sqrt(A11/pi)    # radius of secondary conductor\n",
      "print 'r11 =', r11 ,'mm'\n",
      "print'\"AWG0000\" is chosen for primary conductors'\n"
     ],
     "language": "python",
     "metadata": {},
     "outputs": [
      {
       "output_type": "stream",
       "stream": "stdout",
       "text": [
        "A11= 92.1201814059 mm^2\n",
        "r11 = 5.41504981127 mm\n",
        "\"AWG0000\" is chosen for primary conductors\n"
       ]
      }
     ],
     "prompt_number": 22
    },
    {
     "cell_type": "heading",
     "level": 6,
     "metadata": {},
     "source": [
      "Finding Kw*Ac pruduct: "
     ]
    },
    {
     "cell_type": "code",
     "collapsed": false,
     "input": [
      "B=1.7\n",
      "f=500 #frequency in Hz\n",
      "Aw= A2/100 #wire area in cm^2\n",
      "K=0.35 #windig factor-half side only\n",
      "E= 300000 #Volts\n",
      "#E=4.44*B*Ac*N*f*1e-08\n",
      "#Ac=E*1e+8/(4.44*B*f*N)\n",
      "#K=N*Aw/Wa #Wa:window area in cm^2\n",
      "#N=K*Wa/Aw\n",
      "#Ac=K*Wa*Ac/(Aw*N)\n",
      "(WaAc)=E*Aw*1e+8/(4.44*B*f*K) #Wa.Ac in cm^4\n",
      "print 'Wa.Ac =', (WaAc) ,'cm^4'"
     ],
     "language": "python",
     "metadata": {},
     "outputs": []
    },
    {
     "cell_type": "code",
     "collapsed": false,
     "input": [
      "#sonradan anla\u015f\u0131ld\u0131 ki: Aplication note'da ge\u00e7en Kw*Ac \u00e7arp\u0131m\u0131n\u0131 bulmak bizim proje i\u00e7in faydal\u0131 olmuyor.\n",
      "#Kw*Ac \u00e7arp\u0131m\u0131ndan bulunan \u00fcr\u00fcnler genelde k\u00fc\u00e7\u00fck oluyor. lamination \u015feklinde se\u00e7im yap\u0131p \u015fekli kendimiz dizayn edelim"
     ],
     "language": "python",
     "metadata": {},
     "outputs": []
    },
    {
     "cell_type": "markdown",
     "metadata": {},
     "source": [
      "http://www.jfe-steel.co.jp/en/products/electrical/catalog/f1e-001.pdf"
     ]
    },
    {
     "cell_type": "code",
     "collapsed": false,
     "input": [
      "B= 1.7 #Tesla\n",
      "kw= 0.945 #lamination factor\n",
      "#V2=4.44*f*N2*kw*B*Acore\n",
      "Acore= V2/(4.44*f*N2*kw*B)\n",
      "print 'Core Area=' , Acore , 'm^2' \n",
      "core_edge=sqrt(Acore)  #assuming square core area\n",
      "print 'Core Edge=', core_edge , 'meters'"
     ],
     "language": "python",
     "metadata": {},
     "outputs": []
    },
    {
     "cell_type": "code",
     "collapsed": false,
     "input": [],
     "language": "python",
     "metadata": {},
     "outputs": []
    }
   ],
   "metadata": {}
  }
 ]
}