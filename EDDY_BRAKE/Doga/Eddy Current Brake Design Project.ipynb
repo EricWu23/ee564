{
 "cells": [
  {
   "cell_type": "markdown",
   "metadata": {},
   "source": [
    "# Eddy Current Brake Design Project"
   ]
  },
  {
   "cell_type": "markdown",
   "metadata": {},
   "source": [
    "   The main goal of the project is to design an eddy current brake which will be used as a mechanical damper. For this purpose, the project contains two main parts. In the first part of the project, some technical details such as electro magnetic consept and mathematical calculations will be discussed. Then, in the second part, by using the information from the first part, geometrical structure will be designed and the proof of concept will be done by using a FEA software. as FEA software, for simulations COMSOL Multiphysics will be used.\n",
    "   \n"
   ]
  }
 ],
 "metadata": {
  "kernelspec": {
   "display_name": "Python 3",
   "language": "python",
   "name": "python3"
  },
  "language_info": {
   "codemirror_mode": {
    "name": "ipython",
    "version": 3
   },
   "file_extension": ".py",
   "mimetype": "text/x-python",
   "name": "python",
   "nbconvert_exporter": "python",
   "pygments_lexer": "ipython3",
   "version": "3.5.1"
  }
 },
 "nbformat": 4,
 "nbformat_minor": 0
}
