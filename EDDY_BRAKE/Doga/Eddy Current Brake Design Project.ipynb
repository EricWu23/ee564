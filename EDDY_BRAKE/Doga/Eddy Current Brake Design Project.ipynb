{
 "cells": [
  {
   "cell_type": "markdown",
   "metadata": {},
   "source": [
    "# Eddy Current Brake Design Project"
   ]
  },
  {
   "cell_type": "markdown",
   "metadata": {},
   "source": [
    "   The main goal of the project is to design an eddy current brake which will be used as a mechanical damper. For this purpose, the project contains two main parts. In the first part of the project, some technical details such as electro magnetic consept and mathematical calculations will be discussed. Then, in the second part, by using the information from the first part, geometrical structure will be designed and the proof of concept will be done by using a FEA software. as FEA software, for simulations COMSOL Multiphysics will be used.\n",
    "   \n"
   ]
  },
  {
   "cell_type": "markdown",
   "metadata": {},
   "source": [
    "## How does the eddy current brake work?"
   ]
  },
  {
   "cell_type": "markdown",
   "metadata": {},
   "source": [
    "Before starting the finite elemet design and analysis, it is significant to clearly understand its working princple and its relation with electromagnetic rules and equations."
   ]
  },
  {
   "cell_type": "markdown",
   "metadata": {},
   "source": [
    "Eddy current brake in its simplest form consists of a disc of conductive material and a permanent magnet. It is also known as magnetic brake. The magnet generates a constant magnetic field on a specific area of the disc of conductive material. The position of that area does not change during the rotation of the disc. However, because of the motion, while one side of the area magnetic field decreases, on the other side of the area magnetic field increases. On these parts of the area, we can say that we have non-constant magnetic fields which will create another opposite directional magnetic fields that should compansate the change of the magnetic field for each side of the area. Then, these magnetic fields induce clockwise and counter-clockwise rotating currents which is called **eddy current**. Finally, the Lorentz forces from the currents slow the disc."
   ]
  }
 ],
 "metadata": {
  "kernelspec": {
   "display_name": "Python 3",
   "language": "python",
   "name": "python3"
  },
  "language_info": {
   "codemirror_mode": {
    "name": "ipython",
    "version": 3
   },
   "file_extension": ".py",
   "mimetype": "text/x-python",
   "name": "python",
   "nbconvert_exporter": "python",
   "pygments_lexer": "ipython3",
   "version": "3.5.1"
  }
 },
 "nbformat": 4,
 "nbformat_minor": 0
}
