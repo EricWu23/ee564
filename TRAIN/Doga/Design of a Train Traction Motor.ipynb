{
 "cells": [
  {
   "cell_type": "markdown",
   "metadata": {},
   "source": [
    "# Design of a Train Traction Motor"
   ]
  },
  {
   "cell_type": "markdown",
   "metadata": {},
   "source": [
    "## Design Specifications\n",
    "The specs of the traction asynchronous squirrel cage induction motor, which the design project contains, are:\n",
    "- Rated Power Output: 1280 kW\n",
    "- Line-to-line voltage: 1350 V\n",
    "- Number of poles: 6\n",
    "- Rated Speed: 1520 rpm (72 km/h) (driven with 78 Hz inverter)\n",
    "- Rated Motor Torque: 7843 Nm\n",
    "- Cooling: Forced Air Cooling\n",
    "- Insulating Class: 200\n",
    "- Train Wheel Diameter: 1210 mm\n",
    "- Maximum Speed: 140 km/h\n",
    "- Gear Ratio: 4.821"
   ]
  },
  {
   "cell_type": "markdown",
   "metadata": {},
   "source": [
    "## Design Procedure\n",
    "_In this part, explain the procedure..._"
   ]
  },
  {
   "cell_type": "markdown",
   "metadata": {},
   "source": [
    "## The Output Coefficient Design Concept\n",
    "In this very first part of the design process, the main purpose is to finalize the geometrical parameter design of the induction motor. \n",
    "\n",
    "### The emf coefficient KE\n",
    "KE=0.98-0.005*p1 where p1 is the pole pair "
   ]
  },
  {
   "cell_type": "code",
   "execution_count": 6,
   "metadata": {
    "collapsed": false
   },
   "outputs": [
    {
     "name": "stdout",
     "output_type": "stream",
     "text": [
      "emf coefficient= 0.965\n"
     ]
    }
   ],
   "source": [
    "p1=3\n",
    "KE=0.98-0.005*p1\n",
    "print ('emf coefficient=',KE)"
   ]
  },
  {
   "cell_type": "code",
   "execution_count": null,
   "metadata": {
    "collapsed": true
   },
   "outputs": [],
   "source": []
  }
 ],
 "metadata": {
  "kernelspec": {
   "display_name": "Python 3",
   "language": "python",
   "name": "python3"
  },
  "language_info": {
   "codemirror_mode": {
    "name": "ipython",
    "version": 3
   },
   "file_extension": ".py",
   "mimetype": "text/x-python",
   "name": "python",
   "nbconvert_exporter": "python",
   "pygments_lexer": "ipython3",
   "version": "3.5.1"
  }
 },
 "nbformat": 4,
 "nbformat_minor": 0
}
