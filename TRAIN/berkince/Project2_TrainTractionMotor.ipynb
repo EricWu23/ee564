{
 "metadata": {
  "name": "",
  "signature": "sha256:12aa8a72c71205bbbc4cdf89c4221fb0cb73d7cef24b359dddd76685319ce96b"
 },
 "nbformat": 3,
 "nbformat_minor": 0,
 "worksheets": [
  {
   "cells": [
    {
     "cell_type": "heading",
     "level": 1,
     "metadata": {},
     "source": [
      " Design of a Train Traction Motor\n"
     ]
    },
    {
     "cell_type": "markdown",
     "metadata": {},
     "source": [
      "\n",
      "The motor you need to design is a traction asynchronous squirrel cage induction motor with the following specifications:\n",
      "\n",
      "Rated Power Output: 1280 kW\n",
      "\n",
      "Line-to-line voltage: 1350 V\n",
      "\n",
      "Number of poles: 6\n",
      "\n",
      "Rated Speed: 1520 rpm (72 km/h) (driven with 78 Hz inverter)\n",
      "\n",
      "Rated Motor Torque: 7843 Nm\n",
      "\n",
      "Cooling: Forced Air Cooling\n",
      "\n",
      "Insulating Class: 200\n",
      "\n",
      "Train Wheel Diameter: 1210 mm\n",
      "\n",
      "Maximum Speed: 140 km/h\n",
      "\n",
      "Gear Ratio: 4.82"
     ]
    },
    {
     "cell_type": "heading",
     "level": 3,
     "metadata": {},
     "source": [
      "1) ELECTRICAL DESIGN PARAMATERS"
     ]
    },
    {
     "cell_type": "code",
     "collapsed": false,
     "input": [
      "Pout=1280e3\n",
      "Vline=1350.0 # Line to line Voltage\n",
      "Vln=Vline/sqrt(3) # Line to neutral Voltage\n",
      "p1=3.0 # Number of pole pair\n",
      "nr=1520.0 # rated motor speed\n",
      "f=78.0 #frequency of motor suplly\n",
      "ns=120*f/(2*p1) # synchronus speed\n",
      "slip=(ns-nr)/ns\n",
      "T=7843.0 # Output Torque\n",
      "Eff=0.9 #Assumed efficiency\n",
      "pf=0.8 # power factor\n"
     ],
     "language": "python",
     "metadata": {},
     "outputs": [],
     "prompt_number": 129
    },
    {
     "cell_type": "heading",
     "level": 3,
     "metadata": {},
     "source": [
      "2)DIMENSIONS OF STATOR CORE"
     ]
    },
    {
     "cell_type": "code",
     "collapsed": false,
     "input": [
      "Pole_Power=Pout/(2*p1)\n",
      "print 'Pole_Power=',Pole_Power,'W'\n",
      "Cmech=270.0 # From lecture notes for 6-pole machine\n",
      "print 'Cmech=',Cmech,'kW S/m^3'\n",
      "#x=l/Din\n",
      "x=(p1**0.3333*pi)/(2*p1)\n",
      "print 'l/Din=',x\n",
      "#Cmech=Pout/Din^2*l*nsynch=Pout/Din^3*x*nysnch\n",
      "nsynch=f/p1 #synchronous rotor speed in Hertz\n",
      "print'nsynch=',nsynch,'Hz'\n",
      "Din_stator=(Pout/1000/(Cmech*nsynch*x))**0.3333*1000\n",
      "print 'Din_stator=',Din_stator,'mm'\n",
      "l=Din_stator*x\n",
      "print'l=', l,'mm'\n",
      "#Dout_stator/Din_stator=1.78 From lecture notes\n",
      "Dout_stator=1.78*Din_stator\n",
      "print 'Dout_stator=',Dout_stator,'mm'\n",
      "g=0.18+0.006*Pout**0.4 #Air Gap calculation from lecture notes\n",
      "print '(Air Gap)=g=',g,'mm'\n",
      "T_PolePitchStator=pi*Din_stator/(2*p1)\n",
      "print 'T_PolePitchStator=',T_PolePitchStator,'mm'\n",
      "# Lets choose q=4 (Number of slots per phase per pole)\n",
      "q=4\n",
      "T_SlotPitchStator=T_PolePitchStator/(3*q)\n",
      "print 'T_SlotPitchStator=',T_SlotPitchStator,'mm'\n",
      "Ns=q*3*2*p1 # Number of slots of Stator\n",
      "print '(Number_of_slots_stator)=Ns=',Ns,\n",
      "\n"
     ],
     "language": "python",
     "metadata": {},
     "outputs": [
      {
       "output_type": "stream",
       "stream": "stdout",
       "text": [
        "Pole_Power= 213333.333333 W\n",
        "Cmech= 270.0 kW S/m^3\n",
        "l/Din= 0.755132455354\n",
        "nsynch= 26.0 Hz\n",
        "Din_stator= 622.735769512 mm\n",
        "l= 470.247990668 mm\n",
        "Dout_stator= 1108.46966973 mm\n",
        "(Air Gap)=g= 1.84354762357 mm\n",
        "T_PolePitchStator= 326.063686438 mm\n",
        "T_SlotPitchStator= 27.1719738698 mm\n",
        "(Number_of_slots_stator)=Ns= 72.0\n"
       ]
      }
     ],
     "prompt_number": 130
    },
    {
     "cell_type": "heading",
     "level": 3,
     "metadata": {},
     "source": [
      "3)STATOR WINDING DESIGN"
     ]
    },
    {
     "cell_type": "heading",
     "level": 4,
     "metadata": {},
     "source": [
      "A)Winding Factor"
     ]
    },
    {
     "cell_type": "code",
     "collapsed": false,
     "input": [
      "# Lets use 10/12 pitch double layer winding to eliminate 5th harmonics \n",
      "#Note that it does not eliminate totally but the effect of 5th harmonic is decreased\n",
      "#kp:pitch factor or chording factor#\n",
      "#kd:distribution factor or zone factor\n",
      "\n"
     ],
     "language": "python",
     "metadata": {},
     "outputs": [],
     "prompt_number": 131
    },
    {
     "cell_type": "markdown",
     "metadata": {},
     "source": [
      "Winding factor for fundamental harmonic is calculated below"
     ]
    },
    {
     "cell_type": "code",
     "collapsed": false,
     "input": [
      "kp=sin((pi/2)*10/12)\n",
      "print 'kp=',kp\n",
      "#kd=sin(q*alpha/2)/q*sin(alpha/2)\n",
      "alpha=pi/(Ns/(2*p1))\n",
      "kd=sin(q*alpha/2)/(q*sin(alpha/2))\n",
      "print 'kd=',kd\n",
      "kw=kd*kp\n",
      "print 'kw=',kw\n"
     ],
     "language": "python",
     "metadata": {},
     "outputs": [
      {
       "output_type": "stream",
       "stream": "stdout",
       "text": [
        "kp= 0.965925826289\n",
        "kd= 0.957662196943\n",
        "kw= 0.925030648888\n"
       ]
      }
     ],
     "prompt_number": 132
    },
    {
     "cell_type": "heading",
     "level": 4,
     "metadata": {},
     "source": [
      "B)Number of turns per phase and Number of conductor per slot"
     ]
    },
    {
     "cell_type": "markdown",
     "metadata": {},
     "source": [
      "Flux density of air gap should be between 0.7 T and 0.82 T for 6 pole machine in order to satisfy saturation constraints."
     ]
    },
    {
     "cell_type": "code",
     "collapsed": false,
     "input": [
      "Bgap=0.7\n",
      "#Flux_per_pole_Stator=Bgap*Apole\n",
      "Apole_stator=T_PolePitchStator/1000*l/1000\n",
      "Flux_per_pole_Stator=Bgap*Apole_stator\n",
      "print 'Flux_per_pole_Stator=',Flux_per_pole_Stator,'Wb'"
     ],
     "language": "python",
     "metadata": {},
     "outputs": [
      {
       "output_type": "stream",
       "stream": "stdout",
       "text": [
        "Flux_per_pole_Stator= 0.107331555364 Wb\n"
       ]
      }
     ],
     "prompt_number": 133
    },
    {
     "cell_type": "code",
     "collapsed": false,
     "input": [
      "#E_stator=4.44*W1*f*kw*Flux_per_pole_Stator \n",
      "\n",
      "#where E_stator=Vline/sqrt(3)=Vln and W1 :Number of turn per phase\n",
      "W1=Vln/(4.44*f*kw*Flux_per_pole_Stator)\n",
      "print 'Number of turns per phase_analytical)=W1=',W1\n",
      "\n",
      "\n"
     ],
     "language": "python",
     "metadata": {},
     "outputs": [
      {
       "output_type": "stream",
       "stream": "stdout",
       "text": [
        "Number of turns per phase_analytical)=W1= 22.6679383639\n"
       ]
      }
     ],
     "prompt_number": 134
    },
    {
     "cell_type": "code",
     "collapsed": false,
     "input": [
      "ns=W1/(p1*q) #Number of conductor per slot\n",
      "print '(Number of conductors per slot_analytical)=ns=',ns"
     ],
     "language": "python",
     "metadata": {},
     "outputs": [
      {
       "output_type": "stream",
       "stream": "stdout",
       "text": [
        "(Number of conductors per slot_analytical)=ns= 1.88899486366\n"
       ]
      }
     ],
     "prompt_number": 135
    },
    {
     "cell_type": "markdown",
     "metadata": {},
     "source": [
      "Therefore;"
     ]
    },
    {
     "cell_type": "code",
     "collapsed": false,
     "input": [
      "ns=2 # ns should be integer and even\n",
      "W1=ns*p1*q\n",
      "print'(Number of conductors per slot_real)=ns=', ns\n",
      "print'(Number of turns per phase_analytical)=W1=',W1"
     ],
     "language": "python",
     "metadata": {},
     "outputs": [
      {
       "output_type": "stream",
       "stream": "stdout",
       "text": [
        "(Number of conductors per slot_real)=ns= 2\n",
        "(Number of turns per phase_analytical)=W1= 24.0\n"
       ]
      }
     ],
     "prompt_number": 136
    },
    {
     "cell_type": "code",
     "collapsed": false,
     "input": [
      "Bgap=(22.6679/24.0)*0.7\n",
      "print 'Bgap=',Bgap"
     ],
     "language": "python",
     "metadata": {},
     "outputs": [
      {
       "output_type": "stream",
       "stream": "stdout",
       "text": [
        "Bgap= 0.661147083333\n"
       ]
      }
     ],
     "prompt_number": 137
    },
    {
     "cell_type": "heading",
     "level": 4,
     "metadata": {},
     "source": [
      "C)Conductor Size and Selection of Stator Winding"
     ]
    },
    {
     "cell_type": "code",
     "collapsed": false,
     "input": [
      "Iln_s=Pout/(Eff*pf*sqrt(3)*Vline) #stator line to neutral current\n",
      "print 'Iln_s=',Iln_s,'A'"
     ],
     "language": "python",
     "metadata": {},
     "outputs": [
      {
       "output_type": "stream",
       "stream": "stdout",
       "text": [
        "Iln_s= 760.296650785 A\n"
       ]
      }
     ],
     "prompt_number": 138
    },
    {
     "cell_type": "code",
     "collapsed": false,
     "input": [
      "J=7 #A/mm2 for 6 pole machine\n",
      "Aco_s=Iln_s/J\n",
      "print'Aco_s=',Aco_s,'mm^2'\n",
      "Dco_s=sqrt(Aco_s*4/pi) # Diameter of stator side conductor\n",
      "print'Dco_s=', Dco_s,'mm'"
     ],
     "language": "python",
     "metadata": {},
     "outputs": [
      {
       "output_type": "stream",
       "stream": "stdout",
       "text": [
        "Aco_s= 108.613807255 mm^2\n",
        "Dco_s= 11.7597361578 mm\n"
       ]
      }
     ],
     "prompt_number": 142
    },
    {
     "cell_type": "code",
     "collapsed": false,
     "input": [
      "#Skin Depth Calculation for Copper cable at 78 Hz\n",
      "#p=1.68*10**-8 # Copper resistivity at 20 'C\n",
      "#c=0.00386 # Temperature coefficient of copper per degree\n",
      "p=1.68*10**-8 \n",
      "w=2*pi*f\n",
      "u=4*pi*0.999991e-7\n",
      "Skin_Depth=sqrt((2*p) / (w*u))*1000 # in mm\n",
      "print 'Skin_Depth=',Skin_Depth,'mm'\n"
     ],
     "language": "python",
     "metadata": {},
     "outputs": [
      {
       "output_type": "stream",
       "stream": "stdout",
       "text": [
        "Skin_Depth= 7.38634222368 mm\n"
       ]
      }
     ],
     "prompt_number": 140
    },
    {
     "cell_type": "markdown",
     "metadata": {},
     "source": [
      "Skin Effect does not affect stator winding conductor since radius of stator conductor which is Dco_s/2=5.88 mm is less than Skin Depth.Therefore, Current uses all area of conductor"
     ]
    },
    {
     "cell_type": "markdown",
     "metadata": {},
     "source": [
      "**In conclusion of this part, In order to satisfy enough conductar area ,3 parallel AWG-1 able( Diameter: 7.348 mm and Area: 42.4*3=127.2 mm^2)** is used.\n",
      "    \n",
      "    This means that each coil has 3- parallel elemantary conductor AWG-1 cable and ns/2=1 turn due to          double layer configuration"
     ]
    },
    {
     "cell_type": "code",
     "collapsed": false,
     "input": [],
     "language": "python",
     "metadata": {},
     "outputs": []
    }
   ],
   "metadata": {}
  }
 ]
}