{
 "metadata": {
  "name": "",
  "signature": "sha256:ac2db1559a13d00619c0d7cd495cc14b831b0f895471ee4474bde85d24eb5b50"
 },
 "nbformat": 3,
 "nbformat_minor": 0,
 "worksheets": [
  {
   "cells": [
    {
     "cell_type": "heading",
     "level": 1,
     "metadata": {},
     "source": [
      " Design of a Train Traction Motor\n"
     ]
    },
    {
     "cell_type": "markdown",
     "metadata": {},
     "source": [
      "\n",
      "The motor you need to design is a traction asynchronous squirrel cage induction motor with the following specifications:\n",
      "\n",
      "Rated Power Output: 1280 kW\n",
      "\n",
      "Line-to-line voltage: 1350 V\n",
      "\n",
      "Number of poles: 6\n",
      "\n",
      "Rated Speed: 1520 rpm (72 km/h) (driven with 78 Hz inverter)\n",
      "\n",
      "Rated Motor Torque: 7843 Nm\n",
      "\n",
      "Cooling: Forced Air Cooling\n",
      "\n",
      "Insulating Class: 200\n",
      "\n",
      "Train Wheel Diameter: 1210 mm\n",
      "\n",
      "Maximum Speed: 140 km/h\n",
      "\n",
      "Gear Ratio: 4.82"
     ]
    },
    {
     "cell_type": "heading",
     "level": 3,
     "metadata": {},
     "source": [
      "1) ELECTRICAL DESIGN PARAMATERS"
     ]
    },
    {
     "cell_type": "code",
     "collapsed": false,
     "input": [
      "Pout=1280e3\n",
      "Vline=1350.0 # Line to line Voltage\n",
      "Vln=Vline/sqrt(3) # Line to neutral Voltage\n",
      "p1=3.0 # Number of pole pair\n",
      "nr=1520.0 # rated motor speed\n",
      "f=78.0 #frequency of motor suplly\n",
      "ns=120*f/(2*p1) # synchronus speed\n",
      "slip=(ns-nr)/ns\n",
      "T=7843.0 # Output Torque\n"
     ],
     "language": "python",
     "metadata": {},
     "outputs": [],
     "prompt_number": 7
    },
    {
     "cell_type": "heading",
     "level": 3,
     "metadata": {},
     "source": [
      "2)DIMENSIONS OF STATOR CORE"
     ]
    },
    {
     "cell_type": "code",
     "collapsed": false,
     "input": [
      "Pole_Power=Pout/(2*p1)\n",
      "print 'Pole_Power=',Pole_Power,'W'\n",
      "Cmech=270.0 # From lecture notes for 6-pole machine\n",
      "print 'Cmech=',Cmech,'kW S/m^3'\n",
      "#x=l/Din\n",
      "x=(p1**0.3333*pi)/(2*p1)\n",
      "print 'l/Din=',x\n",
      "#Cmech=Pout/Din^2*l*nsynch=Pout/Din^3*x*nysnch\n",
      "nsynch=f/p1 #synchronous rotor speed in Hertz\n",
      "print'nsynch=',nsynch,'Hz'\n",
      "Din_stator=(Pout/1000/(Cmech*nsynch*x))**0.3333*1000\n",
      "print 'Din_stator=',Din_stator,'mm'\n",
      "l=Din_stator*x\n",
      "print'l=', l,'mm'\n",
      "#Dout_stator/Din_stator=1.78 From lecture notes\n",
      "Dout_stator=1.78*Din_stator\n",
      "print 'Dout_stator=',Dout_stator,'mm'\n",
      "g=0.18+0.006*Pout**0.4 #Air Gap calculation from lecture notes\n",
      "print '(Air Gap)=g=',g,'mm'\n",
      "T_PolePitchStator=pi*Din_stator/(2*p1)\n",
      "print 'T_PolePitchStator=',T_PolePitchStator,'mm'\n",
      "# Lets choose q=4 (Number of slots per phase per pole)\n",
      "q=3\n",
      "T_SlotPitchStator=T_PolePitchStator/(3*q)\n",
      "print 'T_SlotPitchStator=',T_SlotPitchStator,'mm'\n",
      "Ns=q*3*2*p1 # Number of slots of Stator\n",
      "print '(Number_of_slots_stator)=Ns=',Ns,\n",
      "\n"
     ],
     "language": "python",
     "metadata": {},
     "outputs": [
      {
       "output_type": "stream",
       "stream": "stdout",
       "text": [
        "Pole_Power= 213333.333333 W\n",
        "Cmech= 270.0 kW S/m^3\n",
        "l/Din= 0.755132455354\n",
        "nsynch= 26.0 Hz\n",
        "Din_stator= 622.735769512 mm\n",
        "l= 470.247990668 mm\n",
        "Dout_stator= 1108.46966973 mm\n",
        "(Air Gap)=g= 1.84354762357 mm\n",
        "T_PolePitchStator= 326.063686438 mm\n",
        "T_SlotPitchStator= 36.2292984931 mm\n",
        "(Number_of_slots_stator)=Ns= 54.0\n"
       ]
      }
     ],
     "prompt_number": 51
    },
    {
     "cell_type": "heading",
     "level": 3,
     "metadata": {},
     "source": [
      "3)STATOR WINDING DESIGN"
     ]
    },
    {
     "cell_type": "heading",
     "level": 4,
     "metadata": {},
     "source": [
      "A)Winding Factor"
     ]
    },
    {
     "cell_type": "code",
     "collapsed": false,
     "input": [
      "# Lets use 8/9 pitch double layer winding to eliminate 9th harmonics\n",
      "#kp:pitch factor or chording factor#\n",
      "#kd:distribution factor or zone factor\n",
      "\n"
     ],
     "language": "python",
     "metadata": {},
     "outputs": [
      {
       "output_type": "stream",
       "stream": "stdout",
       "text": [
        "kp= 0.984807753012\n"
       ]
      }
     ],
     "prompt_number": 54
    },
    {
     "cell_type": "markdown",
     "metadata": {},
     "source": [
      "Winding factor for fundamental harmonic is calculated below"
     ]
    },
    {
     "cell_type": "code",
     "collapsed": false,
     "input": [
      "kp=sin((pi/2)*8/9)\n",
      "print 'kp=',kp\n",
      "#kd=sin(q*alpha/2)/q*sin(alpha/2)\n",
      "alpha=pi/(Ns/(2*p1))\n",
      "kd=sin(q*alpha/2)/(q*sin(alpha/2))\n",
      "print 'kd=',kd\n",
      "kw=kd*kp\n",
      "print 'kw=',kw\n"
     ],
     "language": "python",
     "metadata": {},
     "outputs": [
      {
       "output_type": "stream",
       "stream": "stdout",
       "text": [
        "kp= 0.984807753012\n",
        "kd= 0.959795080524\n",
        "kw= 0.945213636603\n"
       ]
      }
     ],
     "prompt_number": 68
    },
    {
     "cell_type": "heading",
     "level": 4,
     "metadata": {},
     "source": [
      "B)Number of turns per phase"
     ]
    },
    {
     "cell_type": "markdown",
     "metadata": {},
     "source": [
      "Flux density of air gap should be between 0.7 T and 0.82 T for 6 pole machine in order to satisfy saturation constraints."
     ]
    },
    {
     "cell_type": "code",
     "collapsed": false,
     "input": [
      "Bgap=0.7 \n",
      "#Flux_per_pole_Stator=Bgap*Apole\n",
      "Apole_stator=T_PolePitchStator/1000*l/1000\n",
      "Flux_per_pole_Stator=Bgap*Apole_stator\n",
      "print 'Flux_per_pole_Stator=',Flux_per_pole_Stator,'Wb'"
     ],
     "language": "python",
     "metadata": {},
     "outputs": [
      {
       "output_type": "stream",
       "stream": "stdout",
       "text": [
        "Flux_per_pole_Stator= 0.107331555364 Wb\n"
       ]
      }
     ],
     "prompt_number": 72
    },
    {
     "cell_type": "code",
     "collapsed": false,
     "input": [
      "#E_stator=4.44*W1*f*kw*Flux_per_pole_Stator \n",
      "\n",
      "#where E_stator=Vline/sqrt(3)=Vln and W1 :Number of turn per phase\n",
      "W1=Vln/(4.44*f*kw*Flux_per_pole_Stator)\n",
      "print 'W1=',W1\n",
      "\n",
      "\n"
     ],
     "language": "python",
     "metadata": {},
     "outputs": [
      {
       "output_type": "stream",
       "stream": "stdout",
       "text": [
        "W1= 22.1839136908\n"
       ]
      }
     ],
     "prompt_number": 79
    },
    {
     "cell_type": "code",
     "collapsed": false,
     "input": [
      "ns=W1/(p1*q)\n",
      "print 'ns=',ns"
     ],
     "language": "python",
     "metadata": {},
     "outputs": [
      {
       "output_type": "stream",
       "stream": "stdout",
       "text": [
        "ns= 2.46487929897\n"
       ]
      }
     ],
     "prompt_number": 81
    },
    {
     "cell_type": "markdown",
     "metadata": {},
     "source": [
      "If ns is chosen 2 W1=ns*p1*q=18 and Bg=0.7*(22.18/18=0.86 )=0.86 T is not in saturation constraint.Therefore, ns should be integer and 4 and Bg=0.7*(22.18/36)=0.43 T"
     ]
    }
   ],
   "metadata": {}
  }
 ]
}