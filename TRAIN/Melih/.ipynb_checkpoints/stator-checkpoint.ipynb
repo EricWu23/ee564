{
 "cells": [
  {
   "cell_type": "markdown",
   "metadata": {
    "collapsed": true
   },
   "source": [
    "Before starting the machine design we have to know or determine:\n",
    "-mechanical power output\n",
    "-rated stator voltage and frequency\n",
    "-rated rotor speed\n"
   ]
  },
  {
   "cell_type": "code",
   "execution_count": 17,
   "metadata": {
    "collapsed": false
   },
   "outputs": [],
   "source": [
    "#PARAMETERS\n",
    "Pn=1280 #kW  Rated power\n",
    "Vl=1350 #Volt Line to line voltage\n",
    "p = 3 # Pole pairs\n",
    "nr=1520 #rpm  Rated speed\n",
    "Tr=7843 #rpm Rated Torque\n",
    "    \n",
    "    \n",
    "\n"
   ]
  },
  {
   "cell_type": "code",
   "execution_count": 16,
   "metadata": {
    "collapsed": false
   },
   "outputs": [
    {
     "data": {
      "text/plain": [
       "213.33333333333334"
      ]
     },
     "execution_count": 16,
     "metadata": {},
     "output_type": "execute_result"
    }
   ],
   "source": [
    "#Cmech Selection\n",
    "\n",
    "Pp=Pn/(2*p)\n",
    "Pp #Power_per_pole \n"
   ]
  },
  {
   "cell_type": "code",
   "execution_count": null,
   "metadata": {
    "collapsed": true
   },
   "outputs": [],
   "source": []
  }
 ],
 "metadata": {
  "celltoolbar": "Raw Cell Format",
  "kernelspec": {
   "display_name": "Python 3",
   "language": "python",
   "name": "python3"
  },
  "language_info": {
   "codemirror_mode": {
    "name": "ipython",
    "version": 3
   },
   "file_extension": ".py",
   "mimetype": "text/x-python",
   "name": "python",
   "nbconvert_exporter": "python",
   "pygments_lexer": "ipython3",
   "version": "3.5.1"
  }
 },
 "nbformat": 4,
 "nbformat_minor": 0
}
