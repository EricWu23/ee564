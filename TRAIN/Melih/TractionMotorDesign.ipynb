{
 "cells": [
  {
   "cell_type": "code",
   "execution_count": 395,
   "metadata": {
    "collapsed": true
   },
   "outputs": [],
   "source": [
    "#PARAMETERS\n",
    "Pn=1280 #kW  Rated power\n",
    "Vl=1350 #Volt Line to line voltage\n",
    "p = 3 # Pole pairs\n",
    "nr=1520 #rpm  Rated speed\n",
    "Tr=7843 #rpm Rated Torque\n",
    "F=78 #input speed\n",
    "\n",
    "    "
   ]
  },
  {
   "cell_type": "code",
   "execution_count": 396,
   "metadata": {
    "collapsed": true
   },
   "outputs": [],
   "source": [
    "#Stator calculations"
   ]
  },
  {
   "cell_type": "code",
   "execution_count": 397,
   "metadata": {
    "collapsed": false
   },
   "outputs": [
    {
     "data": {
      "text/plain": [
       "213.33333333333334"
      ]
     },
     "execution_count": 397,
     "metadata": {},
     "output_type": "execute_result"
    }
   ],
   "source": [
    "#Cmech Selection\n",
    "\n",
    "Pp=Pn/(2*p)\n",
    "Pp #Power_per_pole "
   ]
  },
  {
   "cell_type": "code",
   "execution_count": 398,
   "metadata": {
    "collapsed": true
   },
   "outputs": [],
   "source": [
    "Cm=275 #kWs/m^3"
   ]
  },
  {
   "cell_type": "code",
   "execution_count": 399,
   "metadata": {
    "collapsed": false
   },
   "outputs": [
    {
     "data": {
      "text/plain": [
       "0.965"
      ]
     },
     "execution_count": 399,
     "metadata": {},
     "output_type": "execute_result"
    }
   ],
   "source": [
    "#Sgap calculation\n",
    "Ke=0.98-0.005*p \n",
    "Ke"
   ]
  },
  {
   "cell_type": "code",
   "execution_count": 400,
   "metadata": {
    "collapsed": false
   },
   "outputs": [
    {
     "data": {
      "text/plain": [
       "1444.6783625730995"
      ]
     },
     "execution_count": 400,
     "metadata": {},
     "output_type": "execute_result"
    }
   ],
   "source": [
    "eff= 0.95 #assumed efficiency\n",
    "Pf=0.90 #assumed pf\n",
    "\n",
    "Sgap=Pn*Ke/(eff*Pf) #airgap Apperant Power\n",
    "Sgap"
   ]
  },
  {
   "cell_type": "code",
   "execution_count": 401,
   "metadata": {
    "collapsed": false
   },
   "outputs": [
    {
     "data": {
      "text/plain": [
       "26.0"
      ]
     },
     "execution_count": 401,
     "metadata": {},
     "output_type": "execute_result"
    }
   ],
   "source": [
    "#Dstator calculation\n",
    "\n",
    "X=3.14*(p**(1/3))/(2*p) #Aspect Ratio\n",
    "X\n",
    "Fs=F/p\n",
    "Fs"
   ]
  },
  {
   "cell_type": "code",
   "execution_count": 402,
   "metadata": {
    "collapsed": false
   },
   "outputs": [
    {
     "data": {
      "text/plain": [
       "0.6444888924651307"
      ]
     },
     "execution_count": 402,
     "metadata": {},
     "output_type": "execute_result"
    }
   ],
   "source": [
    "Dbore=(Sgap/(Fs*X*Cm))**(1/3)\n",
    "Dbore"
   ]
  },
  {
   "cell_type": "code",
   "execution_count": 403,
   "metadata": {
    "collapsed": false
   },
   "outputs": [
    {
     "data": {
      "text/plain": [
       "0.4864455701047999"
      ]
     },
     "execution_count": 403,
     "metadata": {},
     "output_type": "execute_result"
    }
   ],
   "source": [
    "L=Dbore*X\n",
    "L"
   ]
  },
  {
   "cell_type": "code",
   "execution_count": 404,
   "metadata": {
    "collapsed": false
   },
   "outputs": [
    {
     "data": {
      "text/plain": [
       "3.08169956609093"
      ]
     },
     "execution_count": 404,
     "metadata": {},
     "output_type": "execute_result"
    }
   ],
   "source": [
    "#Airgap Calculation\n",
    "Gap=1.6*(0.18+0.006*((Sgap*1000)**0.4)) # heavy duty motor with 3 pole pairs\n",
    "Gap"
   ]
  },
  {
   "cell_type": "code",
   "execution_count": 405,
   "metadata": {
    "collapsed": false
   },
   "outputs": [
    {
     "data": {
      "text/plain": [
       "0.8951234617571261"
      ]
     },
     "execution_count": 405,
     "metadata": {},
     "output_type": "execute_result"
    }
   ],
   "source": [
    "#outer diameter calc\n",
    "Kd=0.72\n",
    "Dout=Dbore/Kd\n",
    "Dout"
   ]
  },
  {
   "cell_type": "code",
   "execution_count": 406,
   "metadata": {
    "collapsed": false
   },
   "outputs": [
    {
     "data": {
      "text/plain": [
       "0.02810687669917376"
      ]
     },
     "execution_count": 406,
     "metadata": {},
     "output_type": "execute_result"
    }
   ],
   "source": [
    "#Stator slot number\n",
    "Qs=72\n",
    "Ts=3.14*Dbore/72 #Stator pitch must be between 7-45mm\n",
    "Ts"
   ]
  },
  {
   "cell_type": "code",
   "execution_count": 407,
   "metadata": {
    "collapsed": false
   },
   "outputs": [
    {
     "data": {
      "text/plain": [
       "15.0"
      ]
     },
     "execution_count": 407,
     "metadata": {},
     "output_type": "execute_result"
    }
   ],
   "source": [
    "#Stator winding\n",
    "a=2*180*p/Qs #Slot Angle\n",
    "a"
   ]
  },
  {
   "cell_type": "code",
   "execution_count": 408,
   "metadata": {
    "collapsed": false
   },
   "outputs": [
    {
     "data": {
      "text/plain": [
       "4.0"
      ]
     },
     "execution_count": 408,
     "metadata": {},
     "output_type": "execute_result"
    }
   ],
   "source": [
    "q=72/3/(2*p) # slot per phase per pole\n",
    "q"
   ]
  },
  {
   "cell_type": "code",
   "execution_count": 409,
   "metadata": {
    "collapsed": false
   },
   "outputs": [
    {
     "data": {
      "text/plain": [
       "0.9244619999999999"
      ]
     },
     "execution_count": 409,
     "metadata": {},
     "output_type": "execute_result"
    }
   ],
   "source": [
    "#Winding Factor , 5/6 double layer winding will be used to eleminate 5th harmonic\n",
    "\n",
    "#kp=sin(90*5/6)\n",
    "kp=0.966\n",
    "#kd=sin(a/2*4)/4*sin(a/2)\n",
    "kd=0.957\n",
    "kw=kp*kd\n",
    "kw"
   ]
  },
  {
   "cell_type": "code",
   "execution_count": 410,
   "metadata": {
    "collapsed": false
   },
   "outputs": [
    {
     "data": {
      "text/plain": [
       "0.16406958791753876"
      ]
     },
     "execution_count": 410,
     "metadata": {},
     "output_type": "execute_result"
    }
   ],
   "source": [
    "BgapA = 0.75 #( assumed air gap flux)\n",
    "aiA = 0.79 # ( assumed )\n",
    "Apole = L*Dbore*3.14/(2*p) #pole area m ^2\n",
    "Apole"
   ]
  },
  {
   "cell_type": "code",
   "execution_count": 411,
   "metadata": {
    "collapsed": false
   },
   "outputs": [
    {
     "data": {
      "text/plain": [
       "25.024428883452394"
      ]
     },
     "execution_count": 411,
     "metadata": {},
     "output_type": "execute_result"
    }
   ],
   "source": [
    "Napprox=0.816*Vl/(aiA*kw*2*3.14*78*Apole*BgapA)\n",
    "Napprox"
   ]
  },
  {
   "cell_type": "code",
   "execution_count": 412,
   "metadata": {
    "collapsed": false
   },
   "outputs": [
    {
     "data": {
      "text/plain": [
       "0.7820134026078872"
      ]
     },
     "execution_count": 412,
     "metadata": {},
     "output_type": "execute_result"
    }
   ],
   "source": [
    "N=24 #N ( turns per phase )must be divisible by p*q which is 12 \n",
    "# Calculating Bgap ( should be between 0.7-0.9)\n",
    "Bgap = BgapA*Napprox/N\n",
    "Bgap"
   ]
  },
  {
   "cell_type": "code",
   "execution_count": 413,
   "metadata": {
    "collapsed": false
   },
   "outputs": [
    {
     "data": {
      "text/plain": [
       "2.0"
      ]
     },
     "execution_count": 413,
     "metadata": {},
     "output_type": "execute_result"
    }
   ],
   "source": [
    "Ns=N/p/q #( turns per slot )\n",
    "Ns "
   ]
  },
  {
   "cell_type": "code",
   "execution_count": 414,
   "metadata": {
    "collapsed": false
   },
   "outputs": [
    {
     "data": {
      "text/plain": [
       "617.8591919310152"
      ]
     },
     "execution_count": 414,
     "metadata": {},
     "output_type": "execute_result"
    }
   ],
   "source": [
    "#Stator winding current in amps\n",
    "Is=Sgap*1000/(Vl*1.732)\n",
    "Is"
   ]
  },
  {
   "cell_type": "code",
   "execution_count": 415,
   "metadata": {
    "collapsed": false
   },
   "outputs": [
    {
     "data": {
      "text/plain": [
       "85.81377665708544"
      ]
     },
     "execution_count": 415,
     "metadata": {},
     "output_type": "execute_result"
    }
   ],
   "source": [
    "#Current density selected as 7.2 for 6 pole m/c\n",
    "\n",
    "J=7.2\n",
    "Acondstat=Is/J #mm^2\n",
    "Acondstat"
   ]
  },
  {
   "cell_type": "code",
   "execution_count": 416,
   "metadata": {
    "collapsed": false
   },
   "outputs": [
    {
     "data": {
      "text/plain": [
       "93.50000000000001"
      ]
     },
     "execution_count": 416,
     "metadata": {},
     "output_type": "execute_result"
    }
   ],
   "source": [
    "\n",
    "# Awg selection AWG000 is suitable with 85mm^2 Area\n",
    "#Aprrox insulated wire area\n",
    "Awire=85*1.1\n",
    "Awire"
   ]
  },
  {
   "cell_type": "code",
   "execution_count": 417,
   "metadata": {
    "collapsed": false
   },
   "outputs": [
    {
     "data": {
      "text/plain": [
       "467.50000000000006"
      ]
     },
     "execution_count": 417,
     "metadata": {},
     "output_type": "execute_result"
    }
   ],
   "source": [
    "#Fill Factor can be selected between 0.4 to 0.44 , lets use 0.4 since we have high current density\n",
    "FF=0.4\n",
    "\n",
    "#Required Slot Area mm^2\n",
    "\n",
    "Aslot=Awire*Ns/FF\n",
    "Aslot"
   ]
  },
  {
   "cell_type": "code",
   "execution_count": 418,
   "metadata": {
    "collapsed": false
   },
   "outputs": [
    {
     "data": {
      "text/plain": [
       "13.468109242770351"
      ]
     },
     "execution_count": 418,
     "metadata": {},
     "output_type": "execute_result"
    }
   ],
   "source": [
    "#Slot Shape\n",
    "#Trapezoidal Slot will be used\n",
    "# Minimum stator teeth will be calculated assuming that all flux is going to pass through teeth\n",
    "Kfe=0.96 # due to lamination\n",
    "Bteeth=1.7\n",
    "\n",
    "bteeth= 1000*Bgap*Ts/(Bteeth*Kfe) #in mm\n",
    "bteeth"
   ]
  },
  {
   "cell_type": "code",
   "execution_count": 419,
   "metadata": {
    "collapsed": true
   },
   "outputs": [],
   "source": [
    "#Stator Slot Design at Motoranalysis Paralel tooth double layer\n",
    "#Ns=72\n",
    "#D1s=900\n",
    "#D2s=650\n",
    "#Sds=50\n",
    "#Ws=14\n",
    "#Ods=5\n",
    "#Ows=11\n",
    "#Tas=40\n",
    "#Rcs=2.7\n",
    "#Slot area is bigger than 500 mm^2 , Fill factor verifies"
   ]
  },
  {
   "cell_type": "code",
   "execution_count": 420,
   "metadata": {
    "collapsed": false
   },
   "outputs": [
    {
     "data": {
      "text/plain": [
       "291.5"
      ]
     },
     "execution_count": 420,
     "metadata": {},
     "output_type": "execute_result"
    }
   ],
   "source": [
    "#Verification of Ksat\n",
    "#Core used 'NO20 sura' B-H curve available at motoranalysis\n",
    "Fmts=55*5300/1000 # Sds+Ods*H at 1.7 Tesla\n",
    "Fmts\n",
    "\n",
    "\n"
   ]
  },
  {
   "cell_type": "code",
   "execution_count": 421,
   "metadata": {
    "collapsed": false
   },
   "outputs": [
    {
     "data": {
      "text/plain": [
       "0.26582278481012644"
      ]
     },
     "execution_count": 421,
     "metadata": {},
     "output_type": "execute_result"
    }
   ],
   "source": [
    "Kst=(1/aiA)-1 #saturation factor\n",
    "Kst"
   ]
  },
  {
   "cell_type": "code",
   "execution_count": 422,
   "metadata": {
    "collapsed": false,
    "scrolled": true
   },
   "outputs": [
    {
     "data": {
      "text/plain": [
       "2302.4812390070233"
      ]
     },
     "execution_count": 422,
     "metadata": {},
     "output_type": "execute_result"
    }
   ],
   "source": [
    "Fmg =1.2*Gap*Bgap*1000/1.256\n",
    "Fmg"
   ]
  },
  {
   "cell_type": "code",
   "execution_count": 423,
   "metadata": {
    "collapsed": false
   },
   "outputs": [
    {
     "data": {
      "text/plain": [
       "320.5519749259173"
      ]
     },
     "execution_count": 423,
     "metadata": {},
     "output_type": "execute_result"
    }
   ],
   "source": [
    "Fmtr=Kst*Fmg-Fmts\n",
    "Fmtr"
   ]
  },
  {
   "cell_type": "code",
   "execution_count": 424,
   "metadata": {
    "collapsed": true
   },
   "outputs": [],
   "source": [
    "#Fmtr and Fms is close enough , Ksat value is verified"
   ]
  },
  {
   "cell_type": "code",
   "execution_count": 425,
   "metadata": {
    "collapsed": false
   },
   "outputs": [
    {
     "data": {
      "text/plain": [
       "0.10136064720237602"
      ]
     },
     "execution_count": 425,
     "metadata": {},
     "output_type": "execute_result"
    }
   ],
   "source": [
    "#Back core thickness verification\n",
    "Pflux= aiA*L*Bgap*Dbore*3.14/(2*p)\n",
    "Pflux\n"
   ]
  },
  {
   "cell_type": "code",
   "execution_count": 426,
   "metadata": {
    "collapsed": false
   },
   "outputs": [
    {
     "data": {
      "text/plain": [
       "0.14883569043873396"
      ]
     },
     "execution_count": 426,
     "metadata": {},
     "output_type": "execute_result"
    }
   ],
   "source": [
    "Bcore=Pflux/(L*0.7*2)# ((900-650)/2)-55 is back core lenght\n",
    "Bcore"
   ]
  },
  {
   "cell_type": "code",
   "execution_count": 427,
   "metadata": {
    "collapsed": true
   },
   "outputs": [],
   "source": [
    "#Back core flux is smaller than 1.7 tesla , verified\n"
   ]
  },
  {
   "cell_type": "code",
   "execution_count": 428,
   "metadata": {
    "collapsed": true
   },
   "outputs": [],
   "source": [
    "#Rotor Calculations"
   ]
  },
  {
   "cell_type": "code",
   "execution_count": null,
   "metadata": {
    "collapsed": true
   },
   "outputs": [],
   "source": [
    "#Rotor Slot Number Selection"
   ]
  }
 ],
 "metadata": {
  "celltoolbar": "Raw Cell Format",
  "kernelspec": {
   "display_name": "Python 3",
   "language": "python",
   "name": "python3"
  },
  "language_info": {
   "codemirror_mode": {
    "name": "ipython",
    "version": 3
   },
   "file_extension": ".py",
   "mimetype": "text/x-python",
   "name": "python",
   "nbconvert_exporter": "python",
   "pygments_lexer": "ipython3",
   "version": "3.5.1"
  }
 },
 "nbformat": 4,
 "nbformat_minor": 0
}
