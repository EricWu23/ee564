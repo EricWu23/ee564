{
 "metadata": {
  "name": "",
  "signature": "sha256:10cfe10ab984fa0e14b9dda3a9ec71667fc61f491c051be71734123e3c9c6638"
 },
 "nbformat": 3,
 "nbformat_minor": 0,
 "worksheets": [
  {
   "cells": [
    {
     "cell_type": "markdown",
     "metadata": {},
     "source": [
      "#DESIGN OF A TRAIN TRACTION MOTOR#\n",
      "\n",
      "Design Specs:\n",
      "\n",
      "* Rated Power Output: 1280 kW\n",
      "* Line-to-line voltage: 1350 V\n",
      "* Number of poles: 6\n",
      "* Rated Speed: 1520 rpm (72 km/h) (driven with 78 Hz inverter)\n",
      "* Rated Motor Torque: 7843 Nm\n",
      "* Cooling: Forced Air Cooling\n",
      "* Insulating Class: 200\n",
      "* Train Wheel Diameter: 1210 mm\n",
      "* Maximum Speed: 140 km/h\n",
      "* Gear Ratio: 4.821\n",
      "\n",
      "Design Outcomes:\n",
      "\n",
      "* Main Dimensions (Outer diameter, air-gap diameter, axial-length, number of slots\u2026). Please include some basic drawings.\n",
      "* Material Properties, Frame size etc.\n",
      "* Magnetic Circuit Details (flux density calculations at various points: air-gap, teeth, back-core etc, magnetic loading)\n",
      "* Electric Circuit (Winding selection, electric loading, fill factor, phase resistance, winding factors (for fundamentals and for harmonics)).\n",
      "* Rough thermal calculations (cooling method, operating temperature, ways to improve cooling)\n",
      "* Efficiency, current, torque characteristics\n",
      "* Mass Calculations (structural mass, copper mass, steel mass etc)\n",
      "\n",
      "Design Tool:\n",
      "\n",
      "* MATLAB based Motor Analysis Toolbox\n",
      "\n",
      "Design Procedure:\n",
      "\n",
      "* Analytical design\n",
      "\n",
      "* Verification of analytical design by using Motor Analysis Toolbox\n",
      "\n",
      "* Optimization\n",
      "\n",
      "**A. ANALYTICAL DESIGN**\n",
      "\n"
     ]
    },
    {
     "cell_type": "code",
     "collapsed": false,
     "input": [],
     "language": "python",
     "metadata": {},
     "outputs": []
    }
   ],
   "metadata": {}
  }
 ]
}