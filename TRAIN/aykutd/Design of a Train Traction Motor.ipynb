{
 "metadata": {
  "name": "",
  "signature": "sha256:f8971e2e793ab65496ea07e6e39547935c5e537fb2833f75532e92eacb045fd8"
 },
 "nbformat": 3,
 "nbformat_minor": 0,
 "worksheets": [
  {
   "cells": [
    {
     "cell_type": "markdown",
     "metadata": {},
     "source": [
      "#DESIGN OF A TRAIN TRACTION MOTOR#\n",
      "\n",
      "Design Specs:\n",
      "\n",
      "* Rated Power Output: 1280 kW\n",
      "* Line-to-line voltage: 1350 V\n",
      "* Number of poles: 6\n",
      "* Rated Speed: 1520 rpm (72 km/h) (driven with 78 Hz inverter)\n",
      "* Rated Motor Torque: 7843 Nm\n",
      "* Cooling: Forced Air Cooling\n",
      "* Insulating Class: 200\n",
      "* Train Wheel Diameter: 1210 mm\n",
      "* Maximum Speed: 140 km/h\n",
      "* Gear Ratio: 4.821\n",
      "\n",
      "Design Outcomes:\n",
      "\n",
      "* Main Dimensions (Outer diameter, air-gap diameter, axial-length, number of slots\u2026). Please include some basic drawings.\n",
      "* Material Properties, Frame size etc.\n",
      "* Magnetic Circuit Details (flux density calculations at various points: air-gap, teeth, back-core etc, magnetic loading)\n",
      "* Electric Circuit (Winding selection, electric loading, fill factor, phase resistance, winding factors (for fundamentals and for harmonics)).\n",
      "* Rough thermal calculations (cooling method, operating temperature, ways to improve cooling)\n",
      "* Efficiency, current, torque characteristics\n",
      "* Mass Calculations (structural mass, copper mass, steel mass etc)\n",
      "\n",
      "Design Tool:\n",
      "\n",
      "* MATLAB based Motor Analysis Toolbox\n",
      "\n",
      "Design Procedure:\n",
      "\n",
      "* Analytical design\n",
      "\n",
      "    * Flux density and current density assignment\n",
      "    * Stator dimensions\n",
      "    * Rotor dimensions\n",
      "    * Magnetic and electric loading verification\n",
      "    * Magnetizing current and equivalent circuit parametrization\n",
      "    * Losses\n",
      "\n",
      "* Verification of analytical design by using Motor Analysis Toolbox\n",
      "\n",
      "    * Determining some dimensions iteratively\n",
      "    * Visualizng the motor\n",
      "    * Checking the design whether it meets the specs or not\n",
      "\n",
      "* Optimization\n",
      "\n",
      "    * Proceed if the design is OK\n",
      "    * Change the parameters and re-evaluate, if it is not\n",
      "\n",
      "**A. ANALYTICAL DESIGN**\n",
      "\n"
     ]
    },
    {
     "cell_type": "code",
     "collapsed": false,
     "input": [],
     "language": "python",
     "metadata": {},
     "outputs": []
    }
   ],
   "metadata": {}
  }
 ]
}