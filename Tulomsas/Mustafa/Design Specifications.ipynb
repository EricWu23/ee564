{
 "metadata": {
  "name": "",
  "signature": "sha256:279b006d6202aebfe78904a8da512c45d36a4123dce31bd21b1ebaebbf2d35f0"
 },
 "nbformat": 3,
 "nbformat_minor": 0,
 "worksheets": [
  {
   "cells": [
    {
     "cell_type": "markdown",
     "metadata": {},
     "source": [
      "Tulomsas, model 6FRA3363 is an AC induction motor, with the following characteristics:\n",
      "\n",
      "Power: 150 kW\n",
      "Voltage: 800-1100 V\n",
      "Speed: 374- 3120 rpm\n",
      "Mass: 1560 kg\n",
      "\n",
      "![6FRA 3363 AC](http://www.tulomsas.com.tr/upload/resim/101.jpg)\n",
      "\n",
      "Basic Specifications --->> http://www.tulomsas.com.tr/main.php?kid=198&rid=101"
     ]
    }
   ],
   "metadata": {}
  }
 ]
}