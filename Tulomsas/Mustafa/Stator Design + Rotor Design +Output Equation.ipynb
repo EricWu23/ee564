{
 "metadata": {
  "name": "",
  "signature": "sha256:8730db87f3b426bea2d0f95a3d3738b829e11864f94d2df3e5a6cfd1c2bf5359"
 },
 "nbformat": 3,
 "nbformat_minor": 0,
 "worksheets": [
  {
   "cells": [
    {
     "cell_type": "heading",
     "level": 1,
     "metadata": {},
     "source": [
      "Stator Design"
     ]
    },
    {
     "cell_type": "markdown",
     "metadata": {},
     "source": [
      "$$Rated Power (P_n) = 150 kW$$\n",
      "$$Synchronous Speed (n_1) = 1500 rpm$$\n",
      "$$Line Supply Voltage (V_{ln}) = 900 V$$\n",
      "$$Supply Frequency (f_1) = 50 Hz$$\n",
      "$$Number of Phase (m) = 3$$\n",
      "$$Phase Connection = Delta$$\n",
      "\n",
      "For Delta Connection ,\n",
      "$$Line Voltage(V_{ln}) = Phase Voltage (V_ph)$$\n",
      "$$Line Current(I_{ln}) = \\sqrt(3)Phase Current(I_ph) $$\n",
      "\n",
      "\n",
      "$$2p_1 = 120 * f_1 / n_1$$ \n"
     ]
    },
    {
     "cell_type": "markdown",
     "metadata": {},
     "source": [
      "$$Air gap\\ Apparent\\ Power (S_gap) = 3 * K_E * V_p * I_{ln}$$\n",
      "$$K_E = 0.98 - 0.005 * p_1 $$\n",
      "\n",
      "$$I_{ln} = P_n /(\\sqrt(3)*V_{ln}*cos(\\theta)*\\gamma)$$\n",
      "From the table of power factor of cage rotor IMs ;\n",
      "$$cos(\\theta) = 0.87$$ From the table of power factor of cage rotor IMs \n",
      "$$efficiency (\\gamma) = 0.95$$\n",
      "\n",
      "$$Stack\\ Aspect\\ Ratio (\\lambda) = 1.2 - 1.8 for 2p = 4$$\n",
      "$$Stator\\ Bore\\ Diameter (D_{is}) = \\sqrt[3]{(2*p_1*p_1*S_gap) / (\\pi* \\lambda_1 * f_1 *C_o)}$$\n",
      "$$C_o = 265*10^3 J/m^3$$\n",
      "\n",
      "\n",
      "$$ Stack\\ Length (l_i) = \\lambda*\\tau = \\lambda * ((\\pi*D_{is}) / (2*p_1))$$\n",
      "\n",
      "$$ Inner/Outer\\ Stator\\ Diameter\\ Ratio (D_{is}/D_{out} = K_D) = 0.61 - 0.63 for 2p = 4$$"
     ]
    },
    {
     "cell_type": "code",
     "collapsed": false,
     "input": [
      "P_n = 150000 \n",
      "n_1 = 1500 \n",
      "V_ln = 900 \n",
      "f_1 = 50 \n",
      "m = 3\n",
      "\n",
      "from math import pi, exp, sqrt, sin, ceil\n",
      "\n",
      "p_number = 120 * f_1 / n_1\n",
      "p_1 = p_number / 2\n",
      "print \"2*p_1 is %f pole\" %(2*p_1)\n",
      "\n",
      "K_E = 0.98 - 0.005 * p_1\n",
      "print \"Esson's Constant is %f\" %(K_E)\n",
      "\n",
      "cos_theta = 0.87\n",
      "eff = 0.95\n",
      "I_ln = P_n /(sqrt(3)*V_ln*cos_theta*eff)\n",
      "I_ph = I_ln / sqrt(3)\n",
      "V_ph = V_ln\n",
      "print \"Rated Phase Current is %f in A\" %(I_ph)\n",
      "\n",
      "S_gap = 3*K_E*V_ph*I_ln\n",
      "print \"Air gap Apparent Power is %f in VA\" %(S_gap)\n",
      "\n",
      "_lambda_ = 1.4\n",
      "C_o = 265000\n",
      "\n",
      "D_is = ((2*p_1*p_1*S_gap)/(pi*_lambda_*f_1*C_o))**(1/3.0)\n",
      "print \"Stator bore Diameter is %f in m\" %(D_is)\n",
      "\n",
      "tau = pi * D_is / (2*p_1)\n",
      "l_i = _lambda_ * tau\n",
      "print \"Stack Length is %f in m\" %(l_i)\n",
      "\n",
      "K_D = 0.62\n",
      "D_out = D_is / K_D\n",
      "D_out = D_out * 1000\n",
      "print \"Outer Stator Diameter is %f in mm\" %(D_out)\n"
     ],
     "language": "python",
     "metadata": {},
     "outputs": [
      {
       "output_type": "stream",
       "stream": "stdout",
       "text": [
        "2*p_1 is 4.000000 pole\n",
        "Esson's Constant is 0.970000\n",
        "Rated Phase Current is 67.217853 in A\n",
        "Air gap Apparent Power is 304916.385361 in VA\n",
        "Stator bore Diameter is 0.347210 in m\n",
        "Stack Length is 0.381777 in m\n",
        "Outer Stator Diameter is 560.016253 in mm\n"
       ]
      }
     ],
     "prompt_number": 1
    },
    {
     "cell_type": "markdown",
     "metadata": {},
     "source": [
      "$$ Pole Flux (\\Phi) = \\alpha_i * \\tau * l_i * B_g$$ \n",
      "$$ Flux \\ Density \\ Shape \\ Factor (\\alpha_i) \\ and \\ K_B \\ are \\ obtained \\ from \\ graph \\ of \\ \\alpha_i \\ vs \\ teeth \\ saturation$$\n",
      "\n",
      "$$ The\\ number\\ of\\ stator\\ slots (N_s) = 2*p*q*m = 48 slots \\\\ where \\quad q = 4$$ \n",
      "$$The \\ coil \\ throw (y/\\tau) \\ is \\ chosen \\ as \\ 5/6 \\ to \\ reduce \\ fifth \\ mmf \\ space \\ harmonic. $$\n",
      "$$ Winding\\ Factor (K_w) = K_d * K_c = (sin(\\pi/6)/ q*sin(\\pi/6*q))*(sin(\\pi/2)*(y/\\tau))$$\n",
      "$$ Number\\ of\\ turns\\ per\\ phase (W_1) = K_E * V_ph /(4*K_B*f_1*K_w\\Phi)$$\n",
      "$$ Number\\ of\\ conductors\\ per\\ slot (n_s) = 2*m*a_1*W_1/N_s$$\n",
      "\n",
      "For a calculated and rounded up n_s value, stack length and pole flux should be recalculated. Air gap flux remains unchanged.\n"
     ]
    },
    {
     "cell_type": "code",
     "collapsed": false,
     "input": [
      "B_g = 0.7\n",
      "alpha_i = 0.65 \n",
      "pole_flux = alpha_i * tau * l_i * B_g\n",
      "print \"Pole Flux is %f in Wb\" %(pole_flux)\n",
      "\n",
      "q_1 = 4\n",
      "a_1 = 1\n",
      "K_B = 1.1\n",
      "coil_throw = float(5.0/6.0)\n",
      "\n",
      "K_w = float(float(sin(pi/6))/float(q_1*float(sin(pi/(6*q_1)))))*float(float(sin(pi/2))*coil_throw)\n",
      "print \"Winding Factor is %f\" %(K_w)\n",
      "\n",
      "W_1 = K_E*V_ph / (4*K_B*f_1*K_w*pole_flux)\n",
      "W_1 = ceil(W_1)\n",
      "print \"Number of turns per phase is %d\" %(W_1)\n",
      "\n",
      "N_s = 2*p_1*q_1*m\n",
      "print \"The number of stator slots is %d\" %(N_s)\n",
      "n_s_1 = 2*m*a_1*W_1/N_s\n",
      "print \"Number of conductors per slot is %f\" %(n_s_1)\n",
      "n_s = ceil(n_s_1)\n",
      "\n",
      "l_i_ideal = float(l_i)*float(n_s_1/n_s)\n",
      "print \"Ideal Stack Length is %f in m\" %(l_i_ideal)\n",
      "\n",
      "pole_flux_ideal = pole_flux*(n_s/n_s_1)\n",
      "print \"Ideal Pole Flux is %f in Wb\" %(pole_flux_ideal)\n",
      "\n",
      "\n",
      "stator_slot_pitch = pi*D_is/N_s\n",
      "print \"Stator Slot pitch is %f in m\" %(stator_slot_pitch)\n"
     ],
     "language": "python",
     "metadata": {},
     "outputs": [
      {
       "output_type": "stream",
       "stream": "stdout",
       "text": [
        "Pole Flux is 0.047370 in Wb\n",
        "Winding Factor is 0.798052\n",
        "Number of turns per phase is 105\n",
        "The number of stator slots is 48\n",
        "Number of conductors per slot is 13.125000\n",
        "Ideal Stack Length is 0.357916 in m\n",
        "Ideal Pole Flux is 0.050528 in Wb\n",
        "Stator Slot pitch is 0.022725 in m\n"
       ]
      }
     ],
     "prompt_number": 2
    },
    {
     "cell_type": "code",
     "collapsed": false,
     "input": [
      "n_ch = 6\n",
      "b_ch = 7.5*0.001\n",
      "b_ch_1 = 0.75*b_ch\n",
      "\n",
      "L_geo = l_i_ideal + n_ch*b_ch_1\n",
      "l_s = (L_geo - n_ch*b_ch) / (n_ch+1)\n",
      "print \"The length of each elementary stick is %f in m\" %(l_s)\n",
      "\n",
      "J_co = 6.3\n",
      "A_co = I_ph / (a_1 * J_co)\n",
      "print \"Conductor cross sectional area is %f in mm^2\" %(A_co)\n",
      "\n",
      "d_co = sqrt(4*A_co/pi)\n",
      "print \"Wire gauge diameter is %f in mm\" %(d_co)\n",
      "\n",
      "import xlrd\n",
      "file_location = \"C:\\Users\\ASUS\\Desktop\\Copper_wires.xlsx\"\n",
      "workbook = xlrd.open_workbook(file_location, \"rb\")\n",
      "sheet = workbook.sheet_by_index(0)\n",
      "\n",
      "for row in range(sheet.nrows):\n",
      "    if d_co > sheet.cell_value(row,1):\n",
      "        print \"AWG gauge for the wire is %d \" %sheet.cell_value(row-1,0)\n",
      "        diameter_wire = sheet.cell_value(row-1,1)\n",
      "        break\n",
      "        \n",
      "b_s = stator_slot_pitch * 0.5\n",
      "b_s_mm = b_s * 1000 # Convert it to mm\n",
      "b_ins = 4.4\n",
      "a_c = b_s_mm - b_ins\n",
      "b_c = A_co / a_c\n",
      "print \"The conductor size is %fx%f mm^2\" %(b_c, a_c)\n",
      "h_ins = 21.2\n",
      "h_s = h_ins + n_s*b_c\n",
      "h_cs = (D_out - D_is)/2 - h_s\n",
      "\n",
      "B_cs = pole_flux_ideal / (2*l_i_ideal*h_cs)\n",
      "print \"Back iron flux density is %f in Tesla\" %(B_cs)\n",
      "\n",
      "B_max = stator_slot_pitch*B_g/(stator_slot_pitch - b_s)\n",
      "print \"Maximum tooth flux density is %f in Tesla\" %(B_max)\n",
      "\n",
      "if B_max > 1.7:\n",
      "    print \"B_max is too High, Recalculated the process\""
     ],
     "language": "python",
     "metadata": {},
     "outputs": [
      {
       "output_type": "stream",
       "stream": "stdout",
       "text": [
        "The length of each elementary stick is 0.049524 in m\n",
        "Conductor cross sectional area is 10.669500 in mm^2\n",
        "Wire gauge diameter is 3.685760 in mm\n",
        "AWG gauge for the wire is 6 \n",
        "The conductor size is 1.532441x6.962423 mm^2\n",
        "Back iron flux density is 0.000298 in Tesla\n",
        "Maximum tooth flux density is 1.400000 in Tesla\n"
       ]
      }
     ],
     "prompt_number": 3
    },
    {
     "cell_type": "heading",
     "level": 1,
     "metadata": {},
     "source": [
      "Rotor Design"
     ]
    },
    {
     "cell_type": "markdown",
     "metadata": {},
     "source": []
    },
    {
     "cell_type": "code",
     "collapsed": false,
     "input": [
      "g = (0.1+0.012*(P_n)**(1/3))*0.001\n",
      "print \"Air gap value is %f in m\" %(g)"
     ],
     "language": "python",
     "metadata": {},
     "outputs": [
      {
       "output_type": "stream",
       "stream": "stdout",
       "text": [
        "Air gap value is 0.000112 in m\n"
       ]
      }
     ],
     "prompt_number": 4
    },
    {
     "cell_type": "code",
     "collapsed": false,
     "input": [
      "print \"Enter the Number of Rotor Turns for N_s =48\"\n",
      "print \"Choose 36, 40, 44, 57, 59\"\n",
      "N_r = float(raw_input (\"Enter the Number of Rotor Turns : \"))\n",
      "\n",
      "h_s1 = n_s*b_c+ n_s*0.4+2*2+1\n",
      "h_s2 = 1*2+4\n",
      "h_s3 = 2*2+1\n",
      "lambda_ss = (h_s1-h_s3)*(1+3*coil_throw)/(12*b_s_mm) + h_s2*coil_throw/b_s_mm + h_s3/(4*b_s_mm)\n",
      "print \"Leakage slot geometrical permeance coefficient is %f\" %(lambda_ss)\n",
      "\n",
      "K_01 = 1-0.033*(b_s**2/(g*stator_slot_pitch))\n",
      "O_d1 = 0.003\n",
      "gama_1 = (b_s**2)/(5*g+b_s)\n",
      "K_c = stator_slot_pitch/(stator_slot_pitch-gama_1)\n",
      "lambda_ds = 0.9*stator_slot_pitch*((q_1*K_w)**2)*K_01*O_d1/(K_c*g)\n",
      "print \"Differential geometrical permeance coefficient is %f\" %(lambda_ds)\n",
      "\n",
      "l_1 = 0.015\n",
      "degree = 40\n",
      "I_fs = 2*(l_1+coil_throw*tau/sin(degree))+pi*h_s/1000\n",
      "lambda_fs = 0.34*(q_1/l_i)*(I_fs - 0.64*coil_throw*tau)\n",
      "print \"End connection geometrical permeance coefficient is %f\" %(lambda_fs)\n",
      "\n",
      "X_sl = 15.8*(float(f_1)/100)*((W_1/100)**2)*(l_i/(p_1*q_1))*(lambda_ss+lambda_ds+lambda_fs)\n",
      "print \"Stator Leakage Reactance is %f in ohm\" %(X_sl)"
     ],
     "language": "python",
     "metadata": {},
     "outputs": [
      {
       "output_type": "stream",
       "stream": "stdout",
       "text": [
        "Enter the Number of Rotor Turns for N_s =48\n",
        "Choose 36, 40, 44, 57, 59\n"
       ]
      },
      {
       "name": "stdout",
       "output_type": "stream",
       "stream": "stdout",
       "text": [
        "Enter the Number of Rotor Turns : 40\n"
       ]
      },
      {
       "output_type": "stream",
       "stream": "stdout",
       "text": [
        "Leakage slot geometrical permeance coefficient is 1.244523\n",
        "Differential geometrical permeance coefficient is -1.969459\n",
        "End connection geometrical permeance coefficient is 2.239015\n",
        "Stator Leakage Reactance is 0.629324 in ohm\n"
       ]
      }
     ],
     "prompt_number": 5
    },
    {
     "cell_type": "code",
     "collapsed": false,
     "input": [
      "K_R = 1.8*10**(-3)\n",
      "resistivity = 1+((80-20)/272)\n",
      "R_stator = K_R * resistivity * W_1**2 * (L_geo + I_fs)/A_co\n",
      "print \"Stator resistance is %f in ohm\" %(R_stator)\n",
      "\n",
      "R_rotor_sn = 0.8 * R_stator # S = S(n)\n",
      "\n",
      "L_s = X_sl / (2*pi*f_1)\n",
      "print \"Stator leakage inductance is %f in H\" %(L_s)\n",
      "t_LR = 2.7\n",
      "L_r = (3*p_1*V_ph**2)/(2*t_LR*P_n*2*pi*f_1)-L_s\n",
      "print \"Rotor leakage inductance is %f in H\" %(L_r)\n",
      "\n",
      "K_start = 0.98\n",
      "R_rotor_s1 = (2*pi*f_1*t_LR*P_n*(2*pi*f_1/p_1)**(-1))/(3*p_1*K_start*(a_c*I_ph)**2) \n",
      "\n",
      "L_r_s1 = (1/(2*pi*f_1))*sqrt((V_ph/I_ph)**2 - (R_stator+R_rotor_s1)**2) - L_s\n",
      "                             \n",
      "K_r = (R_rotor_s1/R_rotor_sn)*(0.95/0.8)    \n",
      "\n",
      "skin = sqrt(pi*f_1*1.256*10**(-6)/(3.1*10**(-8)))\n",
      "print \"Skin effect is %f in m^-1\" %(skin)\n",
      "\n",
      "h_r = K_r/skin\n",
      "h_or = 0.001\n",
      "b_or = 0.0015\n",
      "\n",
      "K_bs = 2*m*W_1*K_w/N_r\n",
      "I_bstart = 5.6*I_ph*0.95*K_bs\n",
      "\n",
      "\n",
      "rotor_slot_pitch = pi*(D_is - 2*g) / N_r\n",
      "print \"Rotor Slot Pitch is %f in m\" %(rotor_slot_pitch)\n",
      "\n",
      "mu_rel = 15    #!!!!!!!!!!\n",
      "b_or_ideal = b_or + (rotor_slot_pitch - b_or)/mu_rel\n",
      "\n",
      "rotor_slot_pitch_Min = pi*(D_is - 2*g - 2*h_r)/N_r\n",
      "\n",
      "print \"Maximum rotor tooth flux density is %f in Tesla\" %(B_max)\n",
      "b_r_max = rotor_slot_pitch - (B_g/B_max)*rotor_slot_pitch\n",
      "\n",
      "K_i = 0.8*cos_theta + 0.2\n",
      "b_r = 4*b_or\n",
      "\n",
      "J_bar = K_i*I_ln*K_bs/(h_r* b_r*1000**2)\n",
      "print \"The rated bar current density is %f in A/mm^2\" %(J_bar)\n",
      "\n",
      "\n",
      "check_condition = ((h_r/(3*b_r))*(3/(2*skin*h_r))+(h_or/b_or))  / ((h_r/(3*b_r))+(h_or/b_or))\n",
      "print \"Check condition before update %f\" %(check_condition)\n",
      "\n",
      "check_updated = ((h_r/(3*b_r_max))*(3/(2*skin*h_r))+(h_or/b_or_ideal))  / ((h_r/(3*b_r_max))+(h_or/b_or_ideal))\n",
      "print \"Check condition after update %f\" %(check_updated)\n",
      "\n",
      "if check_condition >= check_updated:\n",
      "    print \"Design is Successful\"\n",
      "    print \"The rated bar current density is %f in A/mm^2\" %(J_bar)\n",
      "    print \"Analyze the optimization between current density and room occupation\"\n",
      "else:\n",
      "    print \"Wrong Design !!!\"\n",
      "    \n",
      "\n"
     ],
     "language": "python",
     "metadata": {},
     "outputs": [
      {
       "output_type": "stream",
       "stream": "stdout",
       "text": [
        "Stator resistance is 2.168058 in ohm\n",
        "Stator leakage inductance is 0.002003 in H\n",
        "Rotor leakage inductance is 0.017095 in H\n",
        "Skin effect is 79.776304 in m^-1\n",
        "Rotor Slot Pitch is 0.027252 in m\n",
        "Maximum rotor tooth flux density is 1.400000 in Tesla\n",
        "The rated bar current density is 40.485299 in A/mm^2\n",
        "Check condition before update 1.770487\n",
        "Check condition after update 1.740371\n",
        "Design is Successful\n",
        "The rated bar current density is 40.485299 in A/mm^2\n",
        "Analyze the optimization between current density and room occupation\n"
       ]
      }
     ],
     "prompt_number": 64
    },
    {
     "cell_type": "heading",
     "level": 1,
     "metadata": {},
     "source": [
      "Output Equation"
     ]
    },
    {
     "cell_type": "markdown",
     "metadata": {},
     "source": [
      "Output Q in kW = Input * Efficiency\n",
      "\n",
      "$$Input\\ to\\ Motor = m*V_ph*I_ph*cos(\\theta)\\in\\ kW$$\n",
      "\n",
      "In our case , m = 3 and also assume that\n",
      "$$V_ph = E_ph = 4.44*f*\\phi*T_ph*K_w\\\\ = 2.22*f*\\phi*Z_ph*K_w$$\n",
      "\n",
      "$$f = p*N_s/120 = p*n_s/2$$\n",
      "Therefore;\n",
      "$$ Output = 1.1*p*\\phi*3*I{ph}*Z{ph}*n_s*K_w*\\gamma(efficiency) * cos(\\theta)* 10^{-3} \\ in\\ kW$$\n",
      "where;\n",
      "$$ p*\\phi = B_{av}*\\pi*D*L \\ and \\ 3*I{ph}*Z{ph} / (\\pi*D) = q$$\n",
      "\n",
      "$$ Output\\ to\\ Motor = (11*B_{av}*q*K_w*\\gamma*cos(\\theta)*10^{-3})*D^2*L*n_s\\ in \\ kW$$\n",
      "Hence;\n",
      "$$ Output = C_o*D^2*L*n_s\\ in \\ kW \\\\where \\ C_o = 11*B_{av}*q*K_w*\\gamma*cos(\\theta)*10^{-3}$$"
     ]
    },
    {
     "cell_type": "code",
     "collapsed": false,
     "input": [
      "B_av = B_g\n",
      "C_o = 11* B_av *q_1*K_w*eff*cos_theta*0.001\n",
      "\n",
      "Output = C_o * (D_is**2) * l_i * n_s\n"
     ],
     "language": "python",
     "metadata": {},
     "outputs": []
    }
   ],
   "metadata": {}
  }
 ]
}