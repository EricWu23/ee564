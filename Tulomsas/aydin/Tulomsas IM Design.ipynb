{
 "cells": [
  {
   "cell_type": "markdown",
   "metadata": {},
   "source": [
    "#Tülomsaş Train Traction Motor"
   ]
  },
  {
   "cell_type": "markdown",
   "metadata": {},
   "source": [
    "##Ratings\n",
    "\n",
    "- **Power :** 142-152 kW\n",
    "- **Voltage :** 800-1100 V\n",
    "- **Speed :** 374- 3120 rpm\n",
    "- **Mass:** 1560 kg\n",
    "- **Motor type:** Three phase IM\n",
    "\n",
    "[Here](http://www.tulomsas.com.tr/main.php?kid=198&rid=101) you can find the related info about Tülomsaş's motor. \n",
    "\n",
    "![motor_picture](http://www.tulomsas.com.tr/upload/resim/101.jpg)\n",
    "\n",
    "####Breakdown torque is:\n",
    "\n",
    "\\begin{equation}\n",
    "  T_{bk} = \\frac{3p_{1}}{2L_{SC}}(\\frac{V_{ph}}{\\omega_{1}})^2\n",
    "   ;L_{SC} = L_{ls}+L_{lr}\n",
    "\\end{equation}\n",
    "\n",
    "where :\n",
    "- $p_{1}$ is number of pole-pair,i.e $2p_{1}$ equals to total number of poles \n",
    "- $V_{ph}$ is phase voltage\n",
    "- $L_{SC}$ is total leakage inductance\n",
    "- $L_{ls}$ and $L_{lr}$ are the stator and rotor leakage inductances,respectively\n"
   ]
  },
  {
   "cell_type": "markdown",
   "metadata": {
    "collapsed": true
   },
   "source": [
    "Since the phase voltages and synchronous speeds are variable, constant V/f technique can be used to keep the max. torque constant during various speeds. Thus, in this design parameters are calculated according to one voltage and frequency which are in between the limit values."
   ]
  },
  {
   "cell_type": "markdown",
   "metadata": {},
   "source": [
    "- ##Stator Core"
   ]
  },
  {
   "cell_type": "code",
   "execution_count": 1,
   "metadata": {
    "collapsed": false
   },
   "outputs": [
    {
     "name": "stdout",
     "output_type": "stream",
     "text": [
      "4\n",
      "0.97\n",
      "548.48275573\n"
     ]
    }
   ],
   "source": [
    "from math import sqrt,sin,cos,pi,tan\n",
    "Pn=150e3 #Power\n",
    "pf= 0.85 #Power-factor cos(phi) from Fig. 16.1\n",
    "eff = 0.93 #targeted efficiency\n",
    "n_s=1250 #synchronous speed\n",
    "Vll=950 #Line voltage for Y connection\n",
    "Vph = Vll/sqrt(3) #phase voltage\n",
    "m=3 #number of phase\n",
    "freq=50 #supply frequency\n",
    "poles=(120*freq)/n_s #number of poles\n",
    "pp=poles/2 #number of pole pairs\n",
    "ke= 0.98-0.005*pp #from eq. 15.1\n",
    "print poles\n",
    "print ke\n",
    "print Vph"
   ]
  },
  {
   "cell_type": "markdown",
   "metadata": {},
   "source": [
    "**Number of poles** is calculated as $4$"
   ]
  },
  {
   "cell_type": "code",
   "execution_count": 2,
   "metadata": {
    "collapsed": false
   },
   "outputs": [
    {
     "name": "stdout",
     "output_type": "stream",
     "text": [
      "184060.721063\n",
      "0.368064947789\n"
     ]
    }
   ],
   "source": [
    "Sgap=ke*Pn/(eff*pf) #Apparent airgap power \n",
    "print Sgap\n",
    "C_0=235e3 # Esson's constant (J/m^3) from fig. 14.14\n",
    "lmbd=1.6 # Stack aspect ratio from table 15.1\n",
    "Dis=((2*poles*pp*Sgap)/(pi*lmbd*freq*C_0))**(1/3.0) #stator bore diameter\n",
    "print Dis"
   ]
  },
  {
   "cell_type": "markdown",
   "metadata": {},
   "source": [
    "**Apparent airgap power** is calculated as $184.06 kVA$ \n",
    "\n",
    "Therefore **stator bore diameter** is obtained as $0.384  m$"
   ]
  },
  {
   "cell_type": "markdown",
   "metadata": {},
   "source": [
    "**Slot pitch** is calculated as $0.025 m$"
   ]
  },
  {
   "cell_type": "code",
   "execution_count": 3,
   "metadata": {
    "collapsed": false
   },
   "outputs": [
    {
     "name": "stdout",
     "output_type": "stream",
     "text": [
      "0.289077534005\n",
      "0.462524054407\n",
      "0.0240897945004\n"
     ]
    }
   ],
   "source": [
    "tau=pi*Dis/(2*pp) #pole pitch\n",
    "L=lmbd*tau #stack lenght\n",
    "q=4 #slots per pole per phase value(larger q gives better performance-smaller space field harmonics and losses)\n",
    "tau_s=tau/(m*q) #stator slot pitch \n",
    "print tau\n",
    "print L\n",
    "print tau_s"
   ]
  },
  {
   "cell_type": "code",
   "execution_count": 4,
   "metadata": {
    "collapsed": false
   },
   "outputs": [
    {
     "name": "stdout",
     "output_type": "stream",
     "text": [
      "0.593653141596\n",
      "0.00073759514151\n"
     ]
    }
   ],
   "source": [
    "import math\n",
    "K_D= 0.62 #selected from table 15.2 for 4 poles\n",
    "Dout=Dis/K_D #external stator diameter\n",
    "print Dout\n",
    "g=(0.1+0.012*math.pow(Pn,1.0/3.0))*1e-3 #air-gap \n",
    "print g"
   ]
  },
  {
   "cell_type": "markdown",
   "metadata": {},
   "source": [
    "**Outer diameter** is calculated as $0.59 \\ m$\n",
    "\n",
    "**air-gap** value for pole number $\\geq 2$ is calculated by using eq.15.5"
   ]
  },
  {
   "cell_type": "markdown",
   "metadata": {},
   "source": [
    "\n",
    "- ##Stator Winding"
   ]
  },
  {
   "cell_type": "code",
   "execution_count": 5,
   "metadata": {
    "collapsed": false
   },
   "outputs": [
    {
     "name": "stdout",
     "output_type": "stream",
     "text": [
      "48\n"
     ]
    }
   ],
   "source": [
    "Ns=2*pp*q*m #Number of stotor slots\n",
    "print Ns\n"
   ]
  },
  {
   "cell_type": "markdown",
   "metadata": {},
   "source": [
    "Two-layer winding with chorded coils, y/$\\tau$=7/9 is chosen as 7/9=0.77 is close to 0.8, which would reduce the first (5$^{th}$ order) stator mmf space harmonic."
   ]
  },
  {
   "cell_type": "code",
   "execution_count": 6,
   "metadata": {
    "collapsed": false
   },
   "outputs": [
    {
     "name": "stdout",
     "output_type": "stream",
     "text": [
      "0.261799387799\n"
     ]
    }
   ],
   "source": [
    "alpha_e=(2*pi*pp)/Ns\n",
    "print alpha_e"
   ]
  },
  {
   "cell_type": "markdown",
   "metadata": {},
   "source": [
    "Electrical angle between emfs in neighboring slots is shown above cell by *alpha_e* \n",
    "\n",
    "it equals to:\n",
    "\n",
    "##$\\alpha_{ec} = \\frac{2*\\pi*p1}{N_{s}}= \\frac{2\\pi2}{48} = \\frac{\\pi}{12}$\n"
   ]
  },
  {
   "cell_type": "code",
   "execution_count": 7,
   "metadata": {
    "collapsed": false
   },
   "outputs": [
    {
     "name": "stdout",
     "output_type": "stream",
     "text": [
      "0.957662196943\n",
      "0.939692620786\n",
      "0.899908099673\n"
     ]
    }
   ],
   "source": [
    "K_q1=sin(q*alpha_e/2.0)/(q*sin(alpha_e/2.0)) #distribution factor or zone factor from eq. 15.8\n",
    "print K_q1\n",
    "K_y1=sin(pi/2.0*7/9) #pitch factor or chording factor from eq. 15.9\n",
    "print K_y1\n",
    "K_w1=K_q1*K_y1 # stator winding factor\n",
    "print K_w1"
   ]
  },
  {
   "cell_type": "markdown",
   "metadata": {},
   "source": [
    "$B_{g}=0.68 \\ sample \\ air \\ gap \\ flux \\ density \\ selected \\ from \\ eq. \\ 15.11$"
   ]
  },
  {
   "cell_type": "markdown",
   "metadata": {},
   "source": [
    "Pole spanning coefficient $\\alpha_{i}$ depends on the tooth saturation factor $1+K_{st}$\n",
    "\n",
    "Now we can consider $1+K_{st}=1.4$, with {alpha_i=0.729} $K_{f}=1.085$\n",
    "\n",
    "$$Pole flux= \\phi =\\alpha_{i}*\\tau*L*B_{g}$$"
   ]
  },
  {
   "cell_type": "code",
   "execution_count": 8,
   "metadata": {
    "collapsed": false
   },
   "outputs": [
    {
     "name": "stdout",
     "output_type": "stream",
     "text": [
      "0.066280397793\n"
     ]
    }
   ],
   "source": [
    "B_g=0.68\n",
    "alpha_i=0.729 # Pole spanning coefficient, Fig. 14.13\n",
    "flux_pole=alpha_i*tau*L*B_g #flux per pole from eq. 15.10\n",
    "print flux_pole"
   ]
  },
  {
   "cell_type": "code",
   "execution_count": 9,
   "metadata": {
    "collapsed": false
   },
   "outputs": [
    {
     "name": "stdout",
     "output_type": "stream",
     "text": [
      "41.1047216261\n"
     ]
    }
   ],
   "source": [
    "K_f=1.085\n",
    "W_1=ke*Vph/(4*K_f*K_w1*freq*flux_pole) # Number of turns per phase from eq. 15.12 \n",
    "print W_1"
   ]
  },
  {
   "cell_type": "markdown",
   "metadata": {},
   "source": [
    "####The number of conductor paths in parallel is defined as:\n",
    "$$n_{s}= \\frac{a_{1}*W_{1}}{p1*q}$$\n",
    "\n",
    "\n"
   ]
  },
  {
   "cell_type": "code",
   "execution_count": 10,
   "metadata": {
    "collapsed": false
   },
   "outputs": [
    {
     "name": "stdout",
     "output_type": "stream",
     "text": [
      "5.13809020327\n"
     ]
    }
   ],
   "source": [
    "a1=1\n",
    "ns=a1*W_1/(pp*q) # Number of conductors per slot\n",
    "print ns"
   ]
  },
  {
   "cell_type": "code",
   "execution_count": 11,
   "metadata": {
    "collapsed": false
   },
   "outputs": [
    {
     "name": "stdout",
     "output_type": "stream",
     "text": [
      "48\n"
     ]
    }
   ],
   "source": [
    "ns=6 #ns should be an even number because there are two distinct coils per slot in a double layer winding\n",
    "W_1=pp*q*ns #recalculate the actual number of turns per phase\n",
    "print W_1"
   ]
  },
  {
   "cell_type": "code",
   "execution_count": 12,
   "metadata": {
    "collapsed": false
   },
   "outputs": [
    {
     "name": "stdout",
     "output_type": "stream",
     "text": [
      "0.58225\n"
     ]
    }
   ],
   "source": [
    "B_g=B_g*41.1/48 #recalculate the actual air-gap flux density\n",
    "print B_g"
   ]
  },
  {
   "cell_type": "code",
   "execution_count": 13,
   "metadata": {
    "collapsed": false
   },
   "outputs": [
    {
     "name": "stdout",
     "output_type": "stream",
     "text": [
      "115.320137659\n",
      "19.2200229432\n",
      "4.94688722956\n"
     ]
    }
   ],
   "source": [
    "I_ln=Pn/(sqrt(3)*Vll*pf*eff) #rated current(Iln) from eq. 15.16\n",
    "print I_ln\n",
    "J_cos=6 #current density value selected from eq. 15.17\n",
    "A_co=I_ln/(J_cos*a1) #magnetic wire cross section in mm^2 (eq. 15.18)\n",
    "print A_co\n",
    "d_co=sqrt(4*A_co/pi)\n",
    "print d_co"
   ]
  },
  {
   "cell_type": "markdown",
   "metadata": {},
   "source": [
    "Since $d_{co}$ value is bigger than 1.3 mm, choose $a_{p}=2$"
   ]
  },
  {
   "cell_type": "code",
   "execution_count": 14,
   "metadata": {
    "collapsed": false
   },
   "outputs": [
    {
     "name": "stdout",
     "output_type": "stream",
     "text": [
      "6.99595501157\n"
     ]
    }
   ],
   "source": [
    "ap=2 #number of conductors in parallel\n",
    "d_co=sqrt(4*A_co/pi*ap) \n",
    "print d_co"
   ]
  },
  {
   "cell_type": "markdown",
   "metadata": {},
   "source": [
    "In order to meet the requirements we selected **AWG1** wire which has diameter of $7.348 \\ mm$ "
   ]
  },
  {
   "cell_type": "markdown",
   "metadata": {},
   "source": [
    "**Magnetic** and **electrical** loading values:"
   ]
  },
  {
   "cell_type": "code",
   "execution_count": 15,
   "metadata": {
    "collapsed": false
   },
   "outputs": [
    {
     "name": "stdout",
     "output_type": "stream",
     "text": [
      "62099.6258193\n",
      "0.49572\n"
     ]
    }
   ],
   "source": [
    "E_load=m*2*W_1*I_ln/(pi*Dis*L) #electrical loading (A/m^2)\n",
    "print E_load\n",
    "M_load=(flux_pole*2*pp)/(pi*Dis*L) #magnetic loading (T or Wb/m^2)\n",
    "print M_load"
   ]
  },
  {
   "cell_type": "markdown",
   "metadata": {},
   "source": [
    "- ##Stator Slot Sizing"
   ]
  },
  {
   "cell_type": "code",
   "execution_count": 16,
   "metadata": {
    "collapsed": false
   },
   "outputs": [
    {
     "name": "stdout",
     "output_type": "stream",
     "text": [
      "1048.36488781\n"
     ]
    }
   ],
   "source": [
    "K_fill=0.44 #fill factor for round-type wire\n",
    "A_useful=pi*(d_co**2)*ap*ns/(4*K_fill) \n",
    "print A_useful\n"
   ]
  },
  {
   "cell_type": "markdown",
   "metadata": {},
   "source": [
    "We choose **rectangular shape** for the stator slots among the recommended geometries.\n",
    "\n",
    "Also we assume that all flux passes through the stator teeth. Therefore:\n",
    "\n",
    "$$B_{g}* \\tau_{s}*L = B_{ts}*b_{ts}*L*K_{Fe} $$"
   ]
  },
  {
   "cell_type": "code",
   "execution_count": 17,
   "metadata": {
    "collapsed": false
   },
   "outputs": [
    {
     "name": "stdout",
     "output_type": "stream",
     "text": [
      "0.00942626535474\n",
      "0.0149907783804\n"
     ]
    }
   ],
   "source": [
    "Kfe=0.96 #taking lamination insulation thickness into account \n",
    "B_ts=1.55 #tooth flux density determined from 1.5-1.65T range\n",
    "b_ts=B_g*tau_s*L/(B_ts*L*Kfe) #stator tooth width \n",
    "print b_ts\n",
    "b_os=2.2e-3 #shown detailed in fig. 15.5\n",
    "h_os=1e-3 #shown detailed in fig. 15.5\n",
    "h_w=1.5e-3 #shown detailed in fig. 15.5\n",
    "b_s1=pi*(Dis+2*h_os+2*h_w)/Ns-b_ts #lower slot width in (m) \n",
    "print b_s1"
   ]
  },
  {
   "cell_type": "markdown",
   "metadata": {},
   "source": [
    "From the selected geometry,useful area $A_{su}$ can be defined as follows:\n",
    "$$A_{su}=h_{s}\\frac{(b_{s1}+b_{s2})}{2}$$"
   ]
  },
  {
   "cell_type": "code",
   "execution_count": 21,
   "metadata": {
    "collapsed": false
   },
   "outputs": [
    {
     "name": "stdout",
     "output_type": "stream",
     "text": [
      "0.0223512258414\n",
      "0.0561493636807\n",
      "103.222880078\n",
      "507.133063174\n"
     ]
    }
   ],
   "source": [
    "b_s2=sqrt(4*A_useful*1e-6*tan(pi/Ns)+b_s1**2) #upper slot width in (m)\n",
    "print b_s2\n",
    "hs=2*A_useful*1e-6/(b_s1+b_s2) #Slot useful height in (m)\n",
    "print hs\n",
    "H_ts=1760 #magnetic field intensity for previosly selected B_ts=1.55 T (adopted from the table 15.4)\n",
    "F_mts=H_ts*(hs+h_os+h_w) #stator tooth mmf \n",
    "print F_mts\n",
    "F_mg=1.2*g*B_g/(4*pi*1e-7) #air-gap mmf \n",
    "print F_mg"
   ]
  },
  {
   "cell_type": "code",
   "execution_count": 22,
   "metadata": {
    "collapsed": false
   },
   "outputs": [
    {
     "name": "stdout",
     "output_type": "stream",
     "text": [
      "99.6303451916\n"
     ]
    }
   ],
   "source": [
    "K_st=1.4-1.0 \n",
    "F_mtr=K_st*F_mg-F_mts #rotor tooth mmf \n",
    "print F_mtr"
   ]
  },
  {
   "cell_type": "markdown",
   "metadata": {},
   "source": [
    "We increased the $B_{g}$ value to $0.72 \\ T$  to satisfy the condition:\n",
    "\n",
    "$$F_{mtr} \\approx F_{mts}$$\n",
    "\n",
    "final values:\n",
    "\n",
    "$F_{mts}=103.22 \\quad A-t$\n",
    "\n",
    "$F_{mtr}=99.63 \\quad A-t$"
   ]
  },
  {
   "cell_type": "code",
   "execution_count": 20,
   "metadata": {
    "collapsed": true
   },
   "outputs": [],
   "source": [
    "B_g=0.72"
   ]
  },
  {
   "cell_type": "code",
   "execution_count": 23,
   "metadata": {
    "collapsed": false
   },
   "outputs": [
    {
     "name": "stdout",
     "output_type": "stream",
     "text": [
      "0.0541447332224\n",
      "1.32331906197\n"
     ]
    }
   ],
   "source": [
    "h_cs=(Dout-(Dis+2*(h_os+h_w+hs)))/2 #stator back iron height \n",
    "print h_cs\n",
    "B_cs=flux_pole/(2*L*h_cs) #back core flux density \n",
    "print B_cs"
   ]
  },
  {
   "cell_type": "markdown",
   "metadata": {},
   "source": [
    "Our calculated **Back-core flux density**$\\approx$ 1.32 T------>**this can be considered as reasonable value** "
   ]
  },
  {
   "cell_type": "markdown",
   "metadata": {},
   "source": [
    "- ##Rotor Construction"
   ]
  },
  {
   "cell_type": "markdown",
   "metadata": {},
   "source": [
    "####To avoid parasitic torque, additional losses, radial forces, noise, and vibration care must be exercised in choosing the correspondence between the stator and rotor number of slots. Therefore we choose stator/rotor slot combinations according to Table 15.5 : \n",
    "$$N_{s}=48$$\n",
    "$$N_{r}=36$$\n",
    "Figure 15.6c is adopted for the rotor slot shape"
   ]
  },
  {
   "cell_type": "code",
   "execution_count": 24,
   "metadata": {
    "collapsed": false
   },
   "outputs": [
    {
     "name": "stdout",
     "output_type": "stream",
     "text": [
      "828.761848274\n"
     ]
    }
   ],
   "source": [
    "Nr=36 #rotor slot is selected from table 15.5\n",
    "K1=0.8*cos(flux_pole)+0.2 \n",
    "I_b=K1*(2.0*m*W_1*K_w1)/Nr*I_ln # rated rotor bar current in A\n",
    "print I_b"
   ]
  },
  {
   "cell_type": "code",
   "execution_count": 25,
   "metadata": {
    "collapsed": false
   },
   "outputs": [
    {
     "name": "stdout",
     "output_type": "stream",
     "text": [
      "0.000207190462069\n"
     ]
    }
   ],
   "source": [
    "Jb=4 #current density in the rotor bar (A/mm^2)\n",
    "A_b=I_b/(Jb*10**6) #rotor slot area (m^2)\n",
    "print A_b"
   ]
  },
  {
   "cell_type": "code",
   "execution_count": 26,
   "metadata": {
    "collapsed": false
   },
   "outputs": [
    {
     "name": "stdout",
     "output_type": "stream",
     "text": [
      "2386.3246347\n",
      "0.000745726448343\n",
      "0.0319909913629\n"
     ]
    }
   ],
   "source": [
    "I_endr=I_b/(2*sin(pi*pp/Nr)) # End ring current (A)\n",
    "print I_endr\n",
    "Jcr=0.8*Jb  #end ring current density in (A/mm^2)\n",
    "A_cr=I_endr/(Jcr*10**6) #end ring cross section area in (m^2)\n",
    "print A_cr\n",
    "h_or=0.5e-3 #determined from fig. 15.7\n",
    "b_or=1.5e-3 #determined from fig. 15.7\n",
    "tau_r=pi*(Dis-2*g)/Nr #rotor slot pitch \n",
    "print tau_r"
   ]
  },
  {
   "cell_type": "code",
   "execution_count": 27,
   "metadata": {
    "collapsed": false
   },
   "outputs": [
    {
     "name": "stdout",
     "output_type": "stream",
     "text": [
      "0.0149957772013\n"
     ]
    }
   ],
   "source": [
    "B_tr=1.60 # rotor tooth flux density\n",
    "b_tr=B_g/(Kfe*B_tr)*tau_r #tooth width of rotor in (m)\n",
    "print b_tr\n"
   ]
  },
  {
   "cell_type": "markdown",
   "metadata": {},
   "source": [
    "Rotor diameter is:\n",
    "$$D_{re}=D_{is}-2g$$"
   ]
  },
  {
   "cell_type": "code",
   "execution_count": 28,
   "metadata": {
    "collapsed": false
   },
   "outputs": [
    {
     "name": "stdout",
     "output_type": "stream",
     "text": [
      "0.366589757506\n",
      "0.0155508776188\n"
     ]
    }
   ],
   "source": [
    "D_re=Dis-2*g # Rotor diameter (m)\n",
    "print D_re\n",
    "d1=(pi*(D_re-2*h_or)-Nr*b_tr)/(pi+Nr) #d1 diameter from fig. 15.7\n",
    "print d1"
   ]
  },
  {
   "cell_type": "markdown",
   "metadata": {},
   "source": [
    "Diameter $d_{1}$ is calculated above.\n",
    "Now we have two different equations between $d_{1}$ and $d_{2}$ : \n",
    "\n",
    "$$A_{b}=\\frac{\\pi}{8}(d_{1}^2+d_{2}^2)+\\frac{(d_{1}+d_{2})h_{r}}{2} \\quad \\quad \\quad \\quad ...(15.43)$$\n",
    "\n",
    "$$d_{1}-d_{2}=2h_{r}tan(\\frac{\\pi}{N_{r}})\\quad \\quad \\quad \\quad \\quad  \\quad \\quad \\quad ...(15.44)$$\n",
    "\n",
    "If solve these two equations $d_{2}$ becomes:\n",
    "\n",
    "$$d_{2}=\\sqrt(\\frac{8A_{b}tan(\\frac{\\pi}{N_{r}})-\\pi tan(\\frac{\\pi}{N_{r}})d_{1}^2}{\\pi tan(\\frac{\\pi}{N_{r}})-2})$$\n",
    "\n",
    "and $h_{r}$ : \n",
    "\n",
    "$$h_{r}=\\frac{(d_{1}-d_{2})}{2tan(\\frac{\\pi}{N_{r}})}$$"
   ]
  },
  {
   "cell_type": "code",
   "execution_count": 29,
   "metadata": {
    "collapsed": false
   },
   "outputs": [
    {
     "name": "stdout",
     "output_type": "stream",
     "text": [
      "0.0135478167321\n",
      "0.0114475453501\n"
     ]
    }
   ],
   "source": [
    "d2=sqrt((8*tan(pi/Nr)*A_b-pi*tan(pi/Nr)*(d1**2)/(pi*tan(pi/Nr)-2))) #d2 diameter from fig. 15.7\n",
    "print d2 \n",
    "hr=(d1-d2)/(2*tan(pi/Nr)) #slot height of rotor in (m)\n",
    "print hr"
   ]
  },
  {
   "cell_type": "markdown",
   "metadata": {},
   "source": [
    "Verifying the rotor teeth mmf $F_{mtr}$"
   ]
  },
  {
   "cell_type": "code",
   "execution_count": 30,
   "metadata": {
    "collapsed": false
   },
   "outputs": [
    {
     "name": "stdout",
     "output_type": "stream",
     "text": [
      "65.182355613\n",
      "0.0252914296099\n",
      "0.263013113235\n"
     ]
    }
   ],
   "source": [
    "H_tr=2460 #magnetic field intensity for previosly selected B_ts=1.60 T (adopted from the table 15.4)\n",
    "F_mtr=H_tr*(hr+h_or+(d1+d2)/2) #rotor teeth mmf in (Ampere-Turn)\n",
    "print F_mtr\n",
    "B_cr=1.65 #rotor back core flux density selected from 1.4-1.7 T range\n",
    "h_cr=(flux_pole/2*L*B_cr) #back core height of rotor  in (m)\n",
    "print h_cr\n",
    "D_shaftmax=Dis-2*g-2*(h_or+(d1+d2)/2+hr+h_cr) # Maximum diameter shaft in (m)\n",
    "print D_shaftmax"
   ]
  },
  {
   "cell_type": "markdown",
   "metadata": {},
   "source": [
    "In general, from the geometry shown in fig.15.8\n",
    "\n",
    "$$D_{re}-D_{cr}=(3-4)10^-3 \\quad m$$\n",
    "\n",
    "$$b=(1.0-1.2)(h_{r}+h_{or}+\\frac{(b_{1}+b_{2})}{2})$$"
   ]
  },
  {
   "cell_type": "code",
   "execution_count": 31,
   "metadata": {
    "collapsed": false
   },
   "outputs": [
    {
     "name": "stdout",
     "output_type": "stream",
     "text": [
      "0.0291465817782\n",
      "0.0255853826709\n"
     ]
    }
   ],
   "source": [
    "b=1.1*(hr+h_or+(d1+d2)/2) #from the geometry shown in fig.15.8 (m)\n",
    "print b\n",
    "a=A_cr/b # from the geometry shown in fig.15.8 (m)\n",
    "print a"
   ]
  },
  {
   "cell_type": "markdown",
   "metadata": {},
   "source": [
    "- ##Magnetization Current "
   ]
  },
  {
   "cell_type": "markdown",
   "metadata": {
    "collapsed": true
   },
   "source": [
    "####Calculation of Carter's coefficient:"
   ]
  },
  {
   "cell_type": "code",
   "execution_count": 32,
   "metadata": {
    "collapsed": false
   },
   "outputs": [
    {
     "name": "stdout",
     "output_type": "stream",
     "text": [
      "0.000822014260996\n",
      "1.03532843497\n",
      "0.000433695168759\n",
      "1.0137431029\n",
      "1.04955706018\n"
     ]
    }
   ],
   "source": [
    "y_1=(b_os**2)/(5*g+b_os) \n",
    "print y_1\n",
    "K_c1=tau_s/(tau_s-y_1) \n",
    "print K_c1\n",
    "y_2=(b_or**2)/(5*g+b_or) \n",
    "print y_2\n",
    "K_c2=tau_r/(tau_r-y_2) \n",
    "print K_c2\n",
    "Kc=K_c1*K_c2 #total Carter's coefficient\n",
    "print Kc"
   ]
  },
  {
   "cell_type": "code",
   "execution_count": 33,
   "metadata": {
    "collapsed": false
   },
   "outputs": [
    {
     "name": "stdout",
     "output_type": "stream",
     "text": [
      "118.304337043\n",
      "384.132032713\n"
     ]
    }
   ],
   "source": [
    "H_cs=482 #stator back core flux intensity is adopted from the table 15.4 according to calculated Bcs of 1.32 T\n",
    "H_cr=3460 #rotor back core flux intensity is adopted from the table 15.4 according to calculated Bcr of 1.65 T\n",
    "Ccs=0.88*2.71**(-0.4*B_cs**2)\n",
    "Ccr=0.88*2.71**(-0.4*B_cr**2)\n",
    "F_mcs=(Ccs*pi*H_cs*B_cs*(Dout-h_cs))/(2*pp)  #stator back core mmf in (AT)\n",
    "F_mcr=(Ccr*pi*H_cr*B_cr*(D_shaftmax+h_cr))/(2*pp) #rotor back core mmf in (AT)\n",
    "print F_mcs\n",
    "print F_mcr"
   ]
  },
  {
   "cell_type": "markdown",
   "metadata": {},
   "source": [
    "####Magnetization mmf $F_{lm}$ is\n",
    "\n",
    "$$F_{lm}=2(K_{c}g \\frac{B_{g}}{\\mu_{0}}+F_{mts}+F_{mtr}+F_{mcs}+F_{mcr})$$"
   ]
  },
  {
   "cell_type": "code",
   "execution_count": 34,
   "metadata": {
    "collapsed": false
   },
   "outputs": [
    {
     "name": "stdout",
     "output_type": "stream",
     "text": [
      "2228.79168907\n"
     ]
    }
   ],
   "source": [
    "F_1m=2*((Kc*g*B_g)/(4*pi*(10**-7))+F_mts+F_mtr+F_mcs+F_mcr) #magnetization mmf (AT), Eq. 15.52\n",
    "print F_1m"
   ]
  },
  {
   "cell_type": "code",
   "execution_count": 35,
   "metadata": {
    "collapsed": false
   },
   "outputs": [
    {
     "name": "stdout",
     "output_type": "stream",
     "text": [
      "1.19744269395\n"
     ]
    }
   ],
   "source": [
    "K_s=F_1m/(2*F_mg)-1.0 #total saturation factor from eq.15.61\n",
    "print K_s"
   ]
  },
  {
   "cell_type": "markdown",
   "metadata": {},
   "source": [
    "**Magnetization current** is given by a formula as follows:\n",
    "\n",
    "$$I_{\\mu}=\\frac{\\pi p1(F_{lm}/2)}{3\\sqrt2 W_{1}K_{w1}}$$"
   ]
  },
  {
   "cell_type": "code",
   "execution_count": 36,
   "metadata": {
    "collapsed": false
   },
   "outputs": [
    {
     "name": "stdout",
     "output_type": "stream",
     "text": [
      "38.2070671519\n",
      "0.331313055356\n"
     ]
    }
   ],
   "source": [
    "I_mag=(pi*pp*(F_1m/2))/(3*sqrt(2)*W_1*K_w1) #magnetization current in (A) from eq. 15.62\n",
    "print I_mag\n",
    "I_pu=I_mag/I_ln #Per-unit value of magnetization current from eq. 15.62'\n",
    "print I_pu"
   ]
  },
  {
   "cell_type": "markdown",
   "metadata": {},
   "source": [
    "- ##Resistance and Inductance parameters calculation"
   ]
  },
  {
   "cell_type": "markdown",
   "metadata": {},
   "source": [
    "Resistances and inductances values that has been calculated here refer to the equivalent circuit (*Figure 15.9*) \n",
    "\n",
    "Stator phase resistance:\n",
    "$$R_{s}=\\rho_{Co}\\frac{l_{c}W_{1}}{A_{co}a_{1}}$$\n",
    "\n",
    "where\n",
    "\n",
    "$l_{c}=2(L+l_{end})     \\quad (coil \\ length)$\n",
    "\n",
    "Generally, end connection lenght depends on the coil span y, number of poles, shape of coils and number of layers in the winding. Thus, we choose our **end connection length** formula according to number of poles as follows:\n",
    "\n",
    "$$l_{end}=2y+-0.02 \\ m \\ for \\ 2p_{1}=4 \\ poles $$\n",
    "\n"
   ]
  },
  {
   "cell_type": "code",
   "execution_count": 37,
   "metadata": {
    "collapsed": false
   },
   "outputs": [
    {
     "name": "stdout",
     "output_type": "stream",
     "text": [
      "0.429676164007\n",
      "0.0793230964258\n"
     ]
    }
   ],
   "source": [
    "y=(7.0/9.0)*tau #coil span value with 7/9 chording configuration\n",
    "l_end=2*y-0.02 #calculating end connection length in (m)\n",
    "l_c=2*(L+l_end) #calculating coil length in (m)\n",
    "print l_end\n",
    "rhoc20=1.78e-8 #resistivity of copper at 20 *C in (ohm.m)\n",
    "rhoc80=rhoc20*(1+1/273*(80-20)) #resistivity of copper at 80 *C in (ohm.m) \n",
    "R_s=rhoc80*l_c*W_1/(A_co*1e-6*a1) # Stator phase resistance (ohm), Eq. 15.63\n",
    "print R_s"
   ]
  },
  {
   "cell_type": "code",
   "execution_count": 38,
   "metadata": {
    "collapsed": false
   },
   "outputs": [
    {
     "name": "stdout",
     "output_type": "stream",
     "text": [
      "9.34636260446e-05\n"
     ]
    }
   ],
   "source": [
    "from math import sinh,cosh\n",
    "rhoa20=3.1e-8 #aluminium resistivity at 20 *C in (ohm.m)\n",
    "rhoa80=rhoa20*(1+1/273*(80-20)) #aluminium resistivity at 80 *C in (ohm.m)\n",
    "D_cr=D_re-3.5e-3 #end ring diameter\n",
    "l_cr=pi*(D_cr-b)/Nr #end ring part length (m)\n",
    "s=1\n",
    "beta_s=sqrt(2*pi*freq*(4*pi*1e-7)/(2*rhoa20)) # unit for this value is (m^-1)\n",
    "ksi=beta_s*hr*sqrt(s) \n",
    "K_R=ksi*(sinh(2*ksi)+sin(2*ksi))/(cosh(2*ksi)-cos(2*ksi)) #skin effect resistance coefficient \n",
    "R_bc=rhoa80*(L/A_b*K_R+l_cr/(2*A_cr*(sin(pi*pp/Nr))**2)) #rotor bar/end ring segment equivalent resistance \n",
    "print R_bc"
   ]
  },
  {
   "cell_type": "code",
   "execution_count": 39,
   "metadata": {
    "collapsed": false
   },
   "outputs": [
    {
     "name": "stdout",
     "output_type": "stream",
     "text": [
      "0.0581299791954\n",
      "0.417790837432\n"
     ]
    }
   ],
   "source": [
    "R_rprime=4.0*m/Nr*((W_1*K_w1)**2)*R_bc #rotor cage resistance reduced to the stator from eq. 15.74\n",
    "print R_rprime\n",
    "beta=7.0/9.0 # y/tau\n",
    "lambda_s=(2.0/3.0*hs/(b_s1+b_s2)+2*h_w/(b_os+b_s1)+h_os/b_os)*((1+3*beta)/4) #slot connection coefficient for stator\n",
    "C_s=1.0-0.033*(b_os**2)/(g*tau_s)\n",
    "phi_1=pi*(6*beta-5.5) \n",
    "gama_ds=(0.14*sin(phi_1)+0.76)*1e-2 #chosen for q=4 \n",
    "Kst=1.4-1\n",
    "lambda_ds=0.9*tau_s*(q**2)*(K_w1**2)*C_s*gama_ds/(Kc*g*(1.0+Kst)) #stator slot differential connection coefficient from eq. 15.77\n",
    "lambda_ec=0.34*(q/L)*(l_end-0.64*beta*tau) #specific geometric permeance coefficient\n",
    "X_s1=2*4*pi*1e-7*2*pi*freq*L*(W_1**2)/(pp*q)*(lambda_s+lambda_ds+lambda_ec) #stator phase reactance (ohm)\n",
    "print X_s1"
   ]
  },
  {
   "cell_type": "code",
   "execution_count": 40,
   "metadata": {
    "collapsed": false
   },
   "outputs": [
    {
     "name": "stdout",
     "output_type": "stream",
     "text": [
      "0.000926676161176\n",
      "0.576348984624\n"
     ]
    }
   ],
   "source": [
    "from math import log\n",
    "lambda_r=0.66+2.0*hr/(3.0*(d1+d2))+h_or/b_or #rotor slot,differential and end ring permeance coefficient\n",
    "gama_dr=9.0*((6.0*pp/Nr)**2)*1e-2 \n",
    "lambda_dr=(0.9*tau_r*gama_dr/(Kc*g))*((Nr/(6*pp))**2) \n",
    "lambda_er=2.3*(D_cr-b)/(Nr*L*4.0*math.pow(math.sin(math.pi*pp/Nr),2.0))*math.log10(4.7*(D_cr-b)/(b+2*a))\n",
    "Kx=3.0/(2.0*ksi)*(sinh(2.0*ksi)-sin(2.0*ksi))/(cosh(2.0*ksi)-cos(2.0*ksi)) #skin effect coefficient (leakage reactance)\n",
    "X_bc=2.0*pi*freq*4*pi*1e-7*L*(lambda_r*Kx+lambda_dr+lambda_er) #rotor bar leakage reactance in (ohm)\n",
    "print X_bc\n",
    "X_r1=4.0*m*((W_1*K_w1)**2)*X_bc/Nr #rotor leakage reactance in (ohm)\n",
    "print X_r1"
   ]
  },
  {
   "cell_type": "markdown",
   "metadata": {
    "collapsed": true
   },
   "source": [
    "For **S=1** , i.e when **speed is zero**, both stator and rotor leakage reactance values should be reduced due to leakage flux path saturation. To verify it:"
   ]
  },
  {
   "cell_type": "code",
   "execution_count": 41,
   "metadata": {
    "collapsed": false
   },
   "outputs": [
    {
     "name": "stdout",
     "output_type": "stream",
     "text": [
      "0.313343128074\n",
      "0.374626840006\n"
     ]
    }
   ],
   "source": [
    "X_s1sat=X_s1*0.75 #stator leakage reactance at zero speed in (ohm) from eq. 15.86\n",
    "X_r1sat=X_r1*0.65 #rotor leakage reactance at zero speed in (ohm) from eq. 15.86\n",
    "print X_s1sat\n",
    "print X_r1sat\n"
   ]
  },
  {
   "cell_type": "markdown",
   "metadata": {},
   "source": [
    "At rated speed (rated slip condition):"
   ]
  },
  {
   "cell_type": "code",
   "execution_count": 48,
   "metadata": {
    "collapsed": false
   },
   "outputs": [
    {
     "name": "stdout",
     "output_type": "stream",
     "text": [
      "8.92909788558e-05\n",
      "0.0555347889108\n",
      "0.000930619529266\n",
      "0.578801574093\n"
     ]
    }
   ],
   "source": [
    "R_bcsr=rhoa80*(L/A_b+l_cr/(2*A_cr*(sin(pi*pp/Nr))**2)) #rotor bar/end ring segment equivalent resistance (Kr=Kx=1 @rated slip)\n",
    "print R_bcsr\n",
    "R_rprimesr=R_rprime*(R_bcsr/R_bc) #rotor resistance calculated @rated slip\n",
    "print R_rprimesr\n",
    "X_bcsr=2.0*pi*freq*(4*pi*1e-7)*L*(lambda_r+lambda_dr+lambda_er) #equivalent rotor bar leakage reactance for rated slip condition\n",
    "print X_bcsr\n",
    "X_r1sr=X_r1*(X_bcsr/X_bc) #rotor leakage reactance calculated at rated speed via same manner \n",
    "print X_r1sr"
   ]
  },
  {
   "cell_type": "markdown",
   "metadata": {},
   "source": [
    "Magnetization reactance $X_{m}$ is calculated as follows:"
   ]
  },
  {
   "cell_type": "code",
   "execution_count": 51,
   "metadata": {
    "collapsed": false
   },
   "outputs": [
    {
     "name": "stdout",
     "output_type": "stream",
     "text": [
      "13.937521499\n"
     ]
    }
   ],
   "source": [
    "X_m=sqrt((Vph/I_mag)**2-R_s**2)-X_s1 # Magnetization reactance (ohm), Eq. 15.88\n",
    "print X_m"
   ]
  },
  {
   "cell_type": "markdown",
   "metadata": {},
   "source": [
    "#####Skewing effect \n",
    "\n",
    "$$Skewing factor=c=\\tau_{s}$$\n",
    "\n",
    "$$X_{m}=X_{m}K_{skew}$$\n",
    "\n",
    "$$K_{skew}=\\frac{sin(\\frac{\\pi\\tau_{s}}{2\\tau})}{\\frac{\\pi\\tau_{s}}{2\\tau}}$$"
   ]
  },
  {
   "cell_type": "code",
   "execution_count": 52,
   "metadata": {
    "collapsed": false
   },
   "outputs": [
    {
     "name": "stdout",
     "output_type": "stream",
     "text": [
      "0.99714665735\n",
      "13.8977529744\n",
      "0.079196953163\n",
      "0.453823793169\n",
      "0.655545937787\n"
     ]
    }
   ],
   "source": [
    "K_skew=sin(pi/2.0*tau_s/tau)/(pi/2.0*tau_s/tau) #skewing factor\n",
    "print K_skew\n",
    "X_m=X_m*K_skew #magnetization reactance corrected with skewing in (ohm)\n",
    "print X_m\n",
    "X_r1skew=X_m*(1.0-K_skew**2) #adjusting rotor leakage reactance with skewing in (ohm)\n",
    "print X_r1skew\n",
    "X_r1satskew=X_r1sat+X_r1skew #rotor leakage reactance at S=1 with skewing \n",
    "print X_r1satskew\n",
    "X_r1srskew=X_r1+X_r1skew #rotor leakage reactance at rated slip S=Sn with skewing \n",
    "print X_r1srskew"
   ]
  },
  {
   "cell_type": "markdown",
   "metadata": {},
   "source": [
    "- ##Lossed and Efficiency Parameters"
   ]
  },
  {
   "cell_type": "markdown",
   "metadata": {},
   "source": [
    "Efficiency can be defined as follows:\n",
    "\n",
    "\\begin{equation}\n",
    "  \\eta = \\frac{P_{out}}{P_{in}} = \\frac{P_{out}}{P_{out}+\\sum losses}\n",
    "\\end{equation}\n",
    "\n",
    "In here loss components are:\n",
    "\n",
    "\\begin{equation}\n",
    "  \\sum losses = p_{Co}+p_{Al}+p_{iron}+p_{mv}+p_{stray}\n",
    "\\end{equation}\n",
    "\n",
    "where;\n",
    "\n",
    "$p_{Co}$ represents stator winding losses \n",
    "\n",
    "$p_{Al}$ represents aluminium rotor cage losses\n",
    "\n",
    "$p_{mv}$ represents mechanical/ventilation losses\n",
    "\n",
    "$p_{stray}$ represents stray losses"
   ]
  },
  {
   "cell_type": "code",
   "execution_count": 68,
   "metadata": {
    "collapsed": false
   },
   "outputs": [
    {
     "name": "stdout",
     "output_type": "stream",
     "text": [
      "3164.69031389\n",
      "2207.85010648\n",
      "1800.0\n",
      "1500.0\n"
     ]
    }
   ],
   "source": [
    "p_co=3.0*R_s*(I_ln**2) #stator copper loss in (W)\n",
    "print p_co\n",
    "p_Al=3.0*R_rprimesr*(K1**2)*(I_ln**2) #rotor aluminium cage loss in (W)\n",
    "print p_A1\n",
    "p_mv=0.012*Pn #mechanical/ventilation loss for pole-pairs=2 in (W)\n",
    "print p_mv\n",
    "p_stray=0.01*Pn #Stray loss in (W)\n",
    "print p_stray"
   ]
  },
  {
   "cell_type": "markdown",
   "metadata": {},
   "source": [
    "Fundamental core losses($p_{iron}$) consists of teeth($p_{t1}$) losses and back iron($p_{y1}$) losses\n",
    "\n",
    "$$p_{t1}=K_{1}p_{10}(\\frac{f_{1}}{50})(B_{ts}^(1.7))G_{t1}$$\n",
    "\n",
    "$$G_{t1}=stator \\ weight=\\gamma_{iron}N_{s}b_{ts}(h_{s}+h_{w}+h_{os})$$\n",
    "\n",
    "$$p_{y1}=K_{y}p_{10}(\\frac{f_{1}}{50})^(1.3)B_{cs}^(1.7)G_{y1}$$\n",
    "\n",
    "$$G_{y1}=\\gamma_{iron}\\frac{\\pi}{4}[D_{out}^2-(D_{out}-2h_{cs})^2]LK_{Fe}$$"
   ]
  },
  {
   "cell_type": "code",
   "execution_count": 69,
   "metadata": {
    "collapsed": false
   },
   "outputs": [
    {
     "name": "stdout",
     "output_type": "stream",
     "text": [
      "91.9061053919\n",
      "619.524132251\n",
      "317.837011277\n",
      "1637.51095031\n",
      "2257.03508256\n"
     ]
    }
   ],
   "source": [
    "gama_iron=7800 #Iron density adopted from physical properties(kg/m^3)\n",
    "G_t1=gama_iron*Ns*b_ts*(hs+h_w+h_os)*L*Kfe #stator tooth weight in (kg)\n",
    "print G_t1\n",
    "K_t=1.6 #coefficient for teeth\n",
    "p_10=2 #specific losses (W/kg) at 50 Hz\n",
    "p_t1=K_t*p_10*((freq/50.0)**(1.3))*(B_ts**(1.7))*G_t1 #stator teeth fundamental loss in (W)\n",
    "print p_t1\n",
    "K_y=1.6 #coefficient for yoke\n",
    "G_y1=gama_iron*(pi/4.0)*(Dout**2-(Dout-2.0*h_cs)**2)*L*Kfe #back iron  weight in (kg)\n",
    "print G_y1\n",
    "p_y1=K_y*p_10*((freq/50.0)**(1.3))*(B_cs**(1.7))*G_y1 #stator back iron fundamental loss in (W)\n",
    "print p_y1\n",
    "p_ironf=p_t1+p_y1 #fundamental iron loss in (W)\n",
    "print p_ironf\n"
   ]
  },
  {
   "cell_type": "code",
   "execution_count": 70,
   "metadata": {
    "collapsed": false
   },
   "outputs": [
    {
     "name": "stdout",
     "output_type": "stream",
     "text": [
      "0.00989503408611\n",
      "0.0254364731757\n",
      "1.53846153846\n",
      "1.66666666667\n",
      "48.6063576885\n",
      "7.15239605869\n",
      "2264.18747862\n"
     ]
    }
   ],
   "source": [
    "B_ps=(K_c2-1)*B_g\n",
    "B_pr=(K_c1-1)*B_g \n",
    "print B_ps\n",
    "print B_pr\n",
    "K_ps=1.0/(2.2-B_ts) \n",
    "K_pr=1.0/(2.2-B_tr) \n",
    "print K_ps\n",
    "print K_pr\n",
    "G_tr=gama_iron*L*Kfe*Nr*(hr+(d1+d2)/2.0)*b_tr # Rotor teeth weight (kg), Eq. 15.107\n",
    "print G_tr\n",
    "p_irons=0.5e-4*(((Nr*freq/pp*K_ps*B_ps)**2)*G_t1+((Ns*freq/pp*K_pr*B_pr)**2)*G_tr) #tooth flux pulsation/stray core loss in (W)\n",
    "print p_irons\n",
    "p_iron=p_ironf+p_irons #total core loss in (W)\n",
    "print p_iron"
   ]
  },
  {
   "cell_type": "markdown",
   "metadata": {},
   "source": [
    "We calculated **total core loss** as shown above. $\\ \\ (2264.18 W)$\n",
    "\n",
    "Total losses is:"
   ]
  },
  {
   "cell_type": "code",
   "execution_count": 71,
   "metadata": {
    "collapsed": false
   },
   "outputs": [
    {
     "name": "stdout",
     "output_type": "stream",
     "text": [
      "10936.727899\n"
     ]
    }
   ],
   "source": [
    "P_totloss=p_co+p_Al+p_iron+p_mv+p_stray #calculating the total losses in (W)\n",
    "print P_totloss"
   ]
  },
  {
   "cell_type": "markdown",
   "metadata": {},
   "source": [
    "###Comparison of targeted and computed efficiencies"
   ]
  },
  {
   "cell_type": "code",
   "execution_count": 73,
   "metadata": {
    "collapsed": false
   },
   "outputs": [
    {
     "name": "stdout",
     "output_type": "stream",
     "text": [
      "0.932043306449\n"
     ]
    }
   ],
   "source": [
    "eff_final=Pn/(Pn+P_totloss) #final computed efficiency\n",
    "print eff_final"
   ]
  },
  {
   "cell_type": "markdown",
   "metadata": {},
   "source": [
    "The targeted efficiency was $\\eta=0.93$ , so the design holds!"
   ]
  },
  {
   "cell_type": "markdown",
   "metadata": {},
   "source": [
    "*In addition to this we can also calculate the **motor mass components** as follows:*"
   ]
  },
  {
   "cell_type": "code",
   "execution_count": 75,
   "metadata": {
    "collapsed": false
   },
   "outputs": [
    {
     "name": "stdout",
     "output_type": "stream",
     "text": [
      "409.743116669\n",
      "127.943197379\n",
      "44.2503514551\n",
      "11.4270810536\n"
     ]
    }
   ],
   "source": [
    "G_s=G_t1+G_y1 #total stator weight in (kg)\n",
    "print G_s\n",
    "G_yr=gama_iron*math.pi/4.0*((D_re-2.0*h_or-2.0*(d1+d2)/2.0-2.0*hr)**2-(D_shaftmax**2.0))*L*Kfe #rotor back-iron weight in (kg)\n",
    "G_r=G_tr+G_yr #total rotor weight (kg)\n",
    "print G_r\n",
    "G_ws=8960*l_c*W_1*A_co*1e-6*m #stator copper weight (kg) and 8960 is the density of the copper(kg/m^3) taken from the physical properties \n",
    "print G_ws\n",
    "G_wr=2700*(A_b*L+l_cr*A_cr)*Nr #rotor aluminium weight (kg) and 2700 is the density of the aluminium(kg/m^3) taken from the physical properties \n",
    "print G_wr"
   ]
  },
  {
   "cell_type": "code",
   "execution_count": 76,
   "metadata": {
    "collapsed": false
   },
   "outputs": [
    {
     "name": "stdout",
     "output_type": "stream",
     "text": [
      "593.363746557\n"
     ]
    }
   ],
   "source": [
    "mass_rough=G_s+G_r+G_ws+G_wr\n",
    "print mass_rough"
   ]
  },
  {
   "cell_type": "markdown",
   "metadata": {},
   "source": [
    "Therefore we computed \"rough-estimation\" value for the **motor mass**, which is $\\approx 593 kg \\ $"
   ]
  },
  {
   "cell_type": "markdown",
   "metadata": {},
   "source": [
    "- ##Operation Characteristics"
   ]
  },
  {
   "cell_type": "code",
   "execution_count": null,
   "metadata": {
    "collapsed": true
   },
   "outputs": [],
   "source": []
  }
 ],
 "metadata": {
  "kernelspec": {
   "display_name": "Python 2",
   "language": "python",
   "name": "python2"
  },
  "language_info": {
   "codemirror_mode": {
    "name": "ipython",
    "version": 2
   },
   "file_extension": ".py",
   "mimetype": "text/x-python",
   "name": "python",
   "nbconvert_exporter": "python",
   "pygments_lexer": "ipython2",
   "version": "2.7.9"
  }
 },
 "nbformat": 4,
 "nbformat_minor": 0
}
