{
 "cells": [
  {
   "cell_type": "markdown",
   "metadata": {},
   "source": [
    "#Tülomsaş Train Traction Motor"
   ]
  },
  {
   "cell_type": "markdown",
   "metadata": {},
   "source": [
    "##Ratings\n",
    "\n",
    "- **Power :** 142-152 kW\n",
    "- **Voltage :** 800-1100 V\n",
    "- **Speed :** 374- 3120 rpm\n",
    "- **Mass:** 1560 kg\n",
    "- **Motor type:** Three phase IM\n",
    "\n",
    "[Here](http://www.tulomsas.com.tr/main.php?kid=198&rid=101) you can find the related info about Tülomsaş's motor. \n",
    "\n",
    "![motor_picture](http://www.tulomsas.com.tr/upload/resim/101.jpg)\n",
    "\n",
    "####Breakdown torque is:\n",
    "\n",
    "\\begin{equation}\n",
    "  T_{bk} = \\frac{3p_{1}}{2L_{SC}}(\\frac{V_{ph}}{\\omega_{1}})^2\n",
    "   ;L_{SC} = L_{ls}+L_{lr}\n",
    "\\end{equation}\n",
    "\n",
    "where :\n",
    "- $p_{1}$ is number of pole-pair,i.e $2p_{1}$ equals to total number of poles \n",
    "- $V_{ph}$ is phase voltage\n",
    "- $L_{SC}$ is total leakage inductance\n",
    "- $L_{ls}$ and $L_{lr}$ are the stator and rotor leakage inductances,respectively\n"
   ]
  },
  {
   "cell_type": "markdown",
   "metadata": {
    "collapsed": true
   },
   "source": [
    "Since the phase voltages and synchronous speeds are variable, constant V/f technique can be used to keep the max. torque constant during various speeds. Thus, in this design parameters are calculated according to one voltage and frequency which are in between the limit values."
   ]
  },
  {
   "cell_type": "markdown",
   "metadata": {},
   "source": [
    "- ##Stator Core"
   ]
  },
  {
   "cell_type": "code",
   "execution_count": 2,
   "metadata": {
    "collapsed": false
   },
   "outputs": [
    {
     "name": "stdout",
     "output_type": "stream",
     "text": [
      "4\n",
      "0.97\n"
     ]
    }
   ],
   "source": [
    "from math import sqrt,sin,cos,pi,tan\n",
    "Pn=150e3 #Power\n",
    "pf= 0.85 #Power-factor cos(phi) from Fig. 16.1\n",
    "eff = 0.93 #targeted efficiency\n",
    "n_s=1250 #synchronous speed\n",
    "Vln=950 #Line-neutral voltage for delta connection\n",
    "Vph = Vln #phase voltage\n",
    "m=3 #number of phase\n",
    "freq=50 #supply frequency\n",
    "poles=(120*freq)/n_s #number of poles\n",
    "pp=poles/2 #number of pole pairs\n",
    "ke= 0.98-0.005*pp #from eq. 15.1\n",
    "print poles\n",
    "print ke"
   ]
  },
  {
   "cell_type": "markdown",
   "metadata": {},
   "source": [
    "**Number of poles** is calculated as $4$"
   ]
  },
  {
   "cell_type": "code",
   "execution_count": 3,
   "metadata": {
    "collapsed": false
   },
   "outputs": [
    {
     "name": "stdout",
     "output_type": "stream",
     "text": [
      "184060.721063\n",
      "0.384817761458\n"
     ]
    }
   ],
   "source": [
    "Sgap=ke*Pn/(eff*pf) #Apparent airgap power \n",
    "print Sgap\n",
    "C_0=235e3 # Esson's constant (J/m^3) from fig. 14.14\n",
    "lmbd=1.4 # Stack aspect ratio from table 15.1\n",
    "Dis=((2*poles*pp*Sgap)/(pi*lmbd*freq*C_0))**(1/3.0) #stator bore diameter\n",
    "print Dis"
   ]
  },
  {
   "cell_type": "markdown",
   "metadata": {},
   "source": [
    "**Apparent airgap power** is calculated as $184.06 kVA$ \n",
    "\n",
    "Therefore **stator bore diameter** is obtained as $0.384  m$"
   ]
  },
  {
   "cell_type": "markdown",
   "metadata": {},
   "source": [
    "**Slot pitch** is calculated as $0.025 m$"
   ]
  },
  {
   "cell_type": "code",
   "execution_count": 4,
   "metadata": {
    "collapsed": false
   },
   "outputs": [
    {
     "name": "stdout",
     "output_type": "stream",
     "text": [
      "0.302235163092\n",
      "0.423129228329\n",
      "0.025186263591\n"
     ]
    }
   ],
   "source": [
    "tau=pi*Dis/(2*pp) #pole pitch\n",
    "L=lmbd*tau #stack lenght\n",
    "q=4 #slots per pole per phase value(larger q gives better performance-smaller space field harmonics and losses)\n",
    "tau_s=tau/(m*q) #stator slot pitch \n",
    "print tau\n",
    "print L\n",
    "print tau_s"
   ]
  },
  {
   "cell_type": "code",
   "execution_count": 5,
   "metadata": {
    "collapsed": false
   },
   "outputs": [
    {
     "name": "stdout",
     "output_type": "stream",
     "text": [
      "0.620673808804\n",
      "0.00073759514151\n"
     ]
    }
   ],
   "source": [
    "import math\n",
    "K_D= 0.62 #selected from table 15.2 for 4 poles\n",
    "Dout=Dis/K_D #external stator diameter\n",
    "print Dout\n",
    "g=(0.1+0.012*math.pow(Pn,1.0/3.0))*1e-3 #air-gap \n",
    "print g"
   ]
  },
  {
   "cell_type": "markdown",
   "metadata": {},
   "source": [
    "**Outer diameter** is calculated as $0.62 m$\n",
    "\n",
    "**air-gap** value for pole number $\\geq 2$ is calculated by using eq.15.5"
   ]
  },
  {
   "cell_type": "markdown",
   "metadata": {},
   "source": [
    "\n",
    "- ##Stator Winding"
   ]
  },
  {
   "cell_type": "code",
   "execution_count": 6,
   "metadata": {
    "collapsed": false
   },
   "outputs": [
    {
     "name": "stdout",
     "output_type": "stream",
     "text": [
      "48\n"
     ]
    }
   ],
   "source": [
    "Ns=2*pp*q*m #Number of stotor slots\n",
    "print Ns\n"
   ]
  },
  {
   "cell_type": "markdown",
   "metadata": {},
   "source": [
    "Two-layer winding with chorded coils, y/$\\tau$=7/9 is chosen as 7/9=0.77 is close to 0.8, which would reduce the first (5$^{th}$ order) stator mmf space harmonic."
   ]
  },
  {
   "cell_type": "code",
   "execution_count": 7,
   "metadata": {
    "collapsed": false
   },
   "outputs": [
    {
     "name": "stdout",
     "output_type": "stream",
     "text": [
      "0.261799387799\n"
     ]
    }
   ],
   "source": [
    "alpha_e=(2*pi*pp)/Ns\n",
    "print alpha_e"
   ]
  },
  {
   "cell_type": "markdown",
   "metadata": {},
   "source": [
    "Electrical angle between emfs in neighboring slots is shown above cell by *alpha_e* \n",
    "\n",
    "it equals to:\n",
    "\n",
    "##$\\alpha_{ec} = \\frac{2*\\pi*p1}{N_{s}}= \\frac{2\\pi2}{48} = \\frac{\\pi}{12}$\n"
   ]
  },
  {
   "cell_type": "code",
   "execution_count": 8,
   "metadata": {
    "collapsed": false
   },
   "outputs": [
    {
     "name": "stdout",
     "output_type": "stream",
     "text": [
      "0.957662196943\n",
      "0.939692620786\n",
      "0.899908099673\n"
     ]
    }
   ],
   "source": [
    "K_q1=sin(q*alpha_e/2.0)/(q*sin(alpha_e/2.0)) #distribution factor or zone factor from eq. 15.8\n",
    "print K_q1\n",
    "K_y1=sin(pi/2.0*7/9) #pitch factor or chording factor from eq. 15.9\n",
    "print K_y1\n",
    "K_w1=K_q1*K_y1 # stator winding factor\n",
    "print K_w1"
   ]
  },
  {
   "cell_type": "markdown",
   "metadata": {},
   "source": [
    "$B_{g}=0.72 \\ sample \\ air \\ gap \\ flux \\ density \\ selected \\ from \\ eq. \\ 15.11$"
   ]
  },
  {
   "cell_type": "markdown",
   "metadata": {},
   "source": [
    "Pole spanning coefficient $\\alpha_{i}$ depends on the tooth saturation factor $1+K_{st}$\n",
    "\n",
    "Now we can consider $1+K_{st}=1.4$, with {alpha_i=0.729} $K_{f}=1.085$\n",
    "\n",
    "$$Pole flux= \\phi =\\alpha_{i}*\\tau*L*B_{g}$$"
   ]
  },
  {
   "cell_type": "code",
   "execution_count": 9,
   "metadata": {
    "collapsed": false
   },
   "outputs": [
    {
     "name": "stdout",
     "output_type": "stream",
     "text": [
      "0.0671240328061\n"
     ]
    }
   ],
   "source": [
    "B_g=0.72 \n",
    "alpha_i=0.729 # Pole spanning coefficient, Fig. 14.13\n",
    "flux_pole=alpha_i*tau*L*B_g #flux per pole from eq. 15.10\n",
    "print flux_pole"
   ]
  },
  {
   "cell_type": "code",
   "execution_count": 10,
   "metadata": {
    "collapsed": false
   },
   "outputs": [
    {
     "name": "stdout",
     "output_type": "stream",
     "text": [
      "70.300660275\n"
     ]
    }
   ],
   "source": [
    "K_f=1.085\n",
    "W_1=ke*Vph/(4*K_f*K_w1*freq*flux_pole) # Number of turns per phase from eq. 15.12 \n",
    "print W_1"
   ]
  },
  {
   "cell_type": "markdown",
   "metadata": {},
   "source": [
    "####The number of conductor paths in parallel is defined as:\n",
    "$$n_{s}= \\frac{a_{1}*W_{1}}{p1*q}$$\n",
    "####where;\n",
    "$a_{1}=1(in \\ this \\ case)$\n",
    "\n",
    "$W_{1}=70 \\ (number \\ of \\ turns \\ per \\ phase)$\n",
    "\n",
    "$p1=2 \\ (number \\ of \\ pole \\ pairs)$\n",
    "\n",
    "$q=4$\n",
    "\n"
   ]
  },
  {
   "cell_type": "code",
   "execution_count": 11,
   "metadata": {
    "collapsed": false
   },
   "outputs": [
    {
     "name": "stdout",
     "output_type": "stream",
     "text": [
      "8.78758253438\n"
     ]
    }
   ],
   "source": [
    "a1=1\n",
    "ns=a1*W_1/(pp*q) # Number of conductors per slot\n",
    "print ns"
   ]
  },
  {
   "cell_type": "code",
   "execution_count": 12,
   "metadata": {
    "collapsed": false
   },
   "outputs": [
    {
     "name": "stdout",
     "output_type": "stream",
     "text": [
      "64\n"
     ]
    }
   ],
   "source": [
    "ns=8 #ns should be an even number because there are two distinct coils per slot in a double layer winding\n",
    "W_1=pp*q*ns #recalculate the actual number of turns per phase\n",
    "print W_1"
   ]
  },
  {
   "cell_type": "code",
   "execution_count": 13,
   "metadata": {
    "collapsed": false
   },
   "outputs": [
    {
     "name": "stdout",
     "output_type": "stream",
     "text": [
      "0.790875\n"
     ]
    }
   ],
   "source": [
    "B_g=B_g*70.30/64 #recalculate the actual air-gap flux density\n",
    "print B_g"
   ]
  },
  {
   "cell_type": "code",
   "execution_count": 14,
   "metadata": {
    "collapsed": false
   },
   "outputs": [
    {
     "name": "stdout",
     "output_type": "stream",
     "text": [
      "66.5801125204\n",
      "11.0966854201\n",
      "3.75882144991\n"
     ]
    }
   ],
   "source": [
    "I_rated=Pn/(3*Vln*pf*eff) #rated current from eq. 15.16\n",
    "print I_rated\n",
    "J_cos=6 #current density value selected from eq. 15.17\n",
    "A_co=I_rated/(J_cos*a1) #magnetic wire cross section in mm^2 (eq. 15.18)\n",
    "print A_co\n",
    "d_co=sqrt(4*A_co/pi)\n",
    "print d_co"
   ]
  },
  {
   "cell_type": "markdown",
   "metadata": {},
   "source": [
    "Since $d_{co}$ value is bigger than 1.3 mm, choose $a_{p}=2$"
   ]
  },
  {
   "cell_type": "code",
   "execution_count": 15,
   "metadata": {
    "collapsed": false
   },
   "outputs": [
    {
     "name": "stdout",
     "output_type": "stream",
     "text": [
      "5.315776273\n"
     ]
    }
   ],
   "source": [
    "ap=2 #number of conductors in parallel\n",
    "d_co=sqrt(4*A_co/pi*ap) \n",
    "print d_co"
   ]
  },
  {
   "cell_type": "markdown",
   "metadata": {},
   "source": [
    "In order to meet the requirements we selected **AWG3** wire which has diameter of $5.827 \\ mm$ "
   ]
  },
  {
   "cell_type": "markdown",
   "metadata": {},
   "source": [
    "- ##Stator Slot Sizing"
   ]
  },
  {
   "cell_type": "code",
   "execution_count": 16,
   "metadata": {
    "collapsed": false
   },
   "outputs": [
    {
     "name": "stdout",
     "output_type": "stream",
     "text": [
      "807.031666914\n"
     ]
    }
   ],
   "source": [
    "K_fill=0.44 #fill factor for round-type wire\n",
    "A_useful=pi*d_co**2*ap*ns/(4*K_fill) \n",
    "print A_useful\n"
   ]
  },
  {
   "cell_type": "markdown",
   "metadata": {},
   "source": [
    "We choose **rectangular shape** for the stator slots among the recommended geometries.\n",
    "\n",
    "Also we assume that all flux passes through the stator teeth. Therefore:\n",
    "\n",
    "$$B_{g}* \\tau_{s}*L = B_{ts}*b_{ts}*L*K_{Fe} $$"
   ]
  },
  {
   "cell_type": "code",
   "execution_count": 17,
   "metadata": {
    "collapsed": false
   },
   "outputs": [
    {
     "name": "stdout",
     "output_type": "stream",
     "text": [
      "0.0133865498774\n",
      "0.0121269629484\n"
     ]
    }
   ],
   "source": [
    "Kfe=0.96 #taking lamination insulation thickness into account \n",
    "B_ts=1.55 #tooth flux density determined from 1.5-1.65T range\n",
    "b_ts=B_g*tau_s*L/(B_ts*L*Kfe) #stator tooth width \n",
    "print b_ts\n",
    "b_os=2.2e-3 #shown detailed in fig. 15.5\n",
    "h_os=1e-3 #shown detailed in fig. 15.5\n",
    "h_w=1.5e-3 #shown detailed in fig. 15.5\n",
    "b_s1=pi*(Dis+2*h_os+2*h_w)/Ns-b_ts #lower slot width in (m) \n",
    "print b_s1"
   ]
  },
  {
   "cell_type": "markdown",
   "metadata": {},
   "source": [
    "From the selected geometry,useful area $A_{su}$ can be defined as follows:\n",
    "$$A_{su}=h_{s}\\frac{(b_{s1}+b_{s2})}{2}$$"
   ]
  },
  {
   "cell_type": "code",
   "execution_count": 18,
   "metadata": {
    "collapsed": false
   },
   "outputs": [
    {
     "name": "stdout",
     "output_type": "stream",
     "text": [
      "0.0189379468411\n",
      "0.0519577666495\n",
      "95.8456693031\n",
      "557.05397408\n"
     ]
    }
   ],
   "source": [
    "b_s2=sqrt(4*A_useful*1e-6*tan(pi/Ns)+b_s1**2) #upper slot width in (m)\n",
    "print b_s2\n",
    "hs=2*A_useful*1e-6/(b_s1+b_s2) #Slot useful height in (m)\n",
    "print hs\n",
    "H_ts=1760 #magnetic field intensity for previosly selected B_ts=1.55 T (adopted from the table 15.4)\n",
    "F_mts=H_ts*(hs+h_os+h_w) #stator tooth mmf \n",
    "print F_mts\n",
    "F_mg=1.2*g*B_g/(4*pi*1e-7) #air-gap mmf \n",
    "print F_mg"
   ]
  },
  {
   "cell_type": "code",
   "execution_count": 19,
   "metadata": {
    "collapsed": false
   },
   "outputs": [
    {
     "name": "stdout",
     "output_type": "stream",
     "text": [
      "126.975920329\n"
     ]
    }
   ],
   "source": [
    "K_st=1.4-1.0 \n",
    "F_mtr=K_st*F_mg-F_mts #rotor tooth mmf \n",
    "print F_mtr"
   ]
  },
  {
   "cell_type": "markdown",
   "metadata": {},
   "source": [
    "Our calculated $B_{g}$ value is proper to satisfy the condition:\n",
    "\n",
    "$$F_{mtr} \\approx F_{mts}$$\n",
    "\n",
    "**Note:** If  $F_{mtr}<<F_{mts}$ (or negative) it would mean that for given $1+K_{st}$  , a smaller value of flux density $B_{g}$ is required. \n"
   ]
  },
  {
   "cell_type": "code",
   "execution_count": 20,
   "metadata": {
    "collapsed": false
   },
   "outputs": [
    {
     "name": "stdout",
     "output_type": "stream",
     "text": [
      "0.0634702570233\n",
      "1.249697101\n"
     ]
    }
   ],
   "source": [
    "h_cs=(Dout-(Dis+2*(h_os+h_w+hs)))/2 #stator back iron height \n",
    "print h_cs\n",
    "B_cs=flux_pole/(2*L*h_cs) #back core flux density \n",
    "print B_cs"
   ]
  },
  {
   "cell_type": "markdown",
   "metadata": {},
   "source": [
    "Our calculated **Back-core flux density**$\\approx$ 1.25 T------>**this can be considered as reasonable value** "
   ]
  },
  {
   "cell_type": "markdown",
   "metadata": {},
   "source": [
    "- ##Rotor Construction"
   ]
  },
  {
   "cell_type": "markdown",
   "metadata": {},
   "source": [
    "####To avoid parasitic torque, additional losses, radial forces, noise, and vibration care must be exercised in choosing the correspondence between the stator and rotor number of slots. Therefore we choose stator/rotor slot combinations according to Table 15.5 : \n",
    "$$N_{s}=48$$\n",
    "$$N_{r}=36$$\n",
    "Figure 15.6c is adopted for the rotor slot shape"
   ]
  },
  {
   "cell_type": "code",
   "execution_count": 24,
   "metadata": {
    "collapsed": false
   },
   "outputs": [
    {
     "name": "stdout",
     "output_type": "stream",
     "text": [
      "637.952418505\n"
     ]
    }
   ],
   "source": [
    "Nr=36 #rotor slot is selected from table 15.5\n",
    "K1=0.8*cos(flux_pole)+0.2 \n",
    "I_b=K1*(2.0*m*W_1*K_w1)/Nr*I_rated # rated rotor bar current in A\n",
    "print I_b"
   ]
  },
  {
   "cell_type": "code",
   "execution_count": 26,
   "metadata": {
    "collapsed": false
   },
   "outputs": [
    {
     "name": "stdout",
     "output_type": "stream",
     "text": [
      "0.000159488104626\n"
     ]
    }
   ],
   "source": [
    "Jb=4 #current density in the rotor bar (A/mm^2)\n",
    "A_b=I_b/(Jb*10**6) #rotor slot area (m^2)\n",
    "print A_b"
   ]
  },
  {
   "cell_type": "code",
   "execution_count": 29,
   "metadata": {
    "collapsed": false
   },
   "outputs": [
    {
     "name": "stdout",
     "output_type": "stream",
     "text": [
      "1836.91077867\n",
      "0.000574034618334\n",
      "0.0334529501504\n"
     ]
    }
   ],
   "source": [
    "I_endr=I_b/(2*sin(pi*pp/Nr)) # End ring current (A)\n",
    "print I_endr\n",
    "Jcr=0.8*Jb  #end ring current density in (A/mm^2)\n",
    "A_cr=I_endr/(Jcr*10**6) #end ring cross section area in (m^2)\n",
    "print A_cr\n",
    "h_or=0.5e-3 #determined from fig. 15.7\n",
    "b_or=1.5e-3 #determined from fig. 15.7\n",
    "tau_r=pi*(Dis-2*g)/Nr #rotor slot pitch \n",
    "print tau_r"
   ]
  },
  {
   "cell_type": "code",
   "execution_count": 33,
   "metadata": {
    "collapsed": false
   },
   "outputs": [
    {
     "name": "stdout",
     "output_type": "stream",
     "text": [
      "0.0172246757488\n"
     ]
    }
   ],
   "source": [
    "B_tr=1.60 # rotor tooth flux density\n",
    "b_tr=B_g/(Kfe*B_tr)*tau_r #tooth width of rotor in (m)\n",
    "print b_tr\n"
   ]
  },
  {
   "cell_type": "markdown",
   "metadata": {},
   "source": [
    "Rotor diameter is:\n",
    "$$D_{re}=D_{is}-2g$$"
   ]
  },
  {
   "cell_type": "code",
   "execution_count": 35,
   "metadata": {
    "collapsed": false
   },
   "outputs": [
    {
     "name": "stdout",
     "output_type": "stream",
     "text": [
      "0.383342571175\n",
      "0.0148454941766\n"
     ]
    }
   ],
   "source": [
    "D_re=Dis-2*g # Rotor diameter (m)\n",
    "print D_re\n",
    "d1=(pi*(D_re-2*h_or)-Nr*b_tr)/(pi+Nr) #d1 diameter from fig. 15.7\n",
    "print d1"
   ]
  },
  {
   "cell_type": "markdown",
   "metadata": {},
   "source": [
    "Diameter $d_{1}$ is calculated above.\n",
    "Now we have two different equations between $d_{1}$ and $d_{2}$ : \n",
    "\n",
    "$$A_{b}=\\frac{\\pi}{8}(d_{1}^2+d_{2}^2)+\\frac{(d_{1}+d_{2})h_{r}}{2} \\quad \\quad \\quad \\quad ...(15.43)$$\n",
    "\n",
    "$$d_{1}-d_{2}=2h_{r}tan(\\frac{\\pi}{N_{r}})\\quad \\quad \\quad \\quad \\quad  \\quad \\quad \\quad ...(15.44)$$\n",
    "\n",
    "If solve these two equations $d_{2}$ becomes:\n",
    "\n",
    "$$d_{2}=\\sqrt(\\frac{8A_{b}tan(\\frac{\\pi}{N_{r}})-\\pi tan(\\frac{\\pi}{N_{r}})d_{1}^2}{\\pi tan(\\frac{\\pi}{N_{r}})-2})$$\n",
    "\n",
    "and $h_{r}$ : \n",
    "\n",
    "$$h_{r}=\\frac{(d_{1}-d_{2})}{2tan(\\frac{\\pi}{N_{r}})}$$"
   ]
  },
  {
   "cell_type": "code",
   "execution_count": 41,
   "metadata": {
    "collapsed": false
   },
   "outputs": [
    {
     "name": "stdout",
     "output_type": "stream",
     "text": [
      "0.01211362769\n",
      "0.015612688413\n"
     ]
    }
   ],
   "source": [
    "d2=sqrt((8*tan(pi/Nr)*A_b-pi*tan(pi/Nr)*(d1**2)/(pi*tan(pi/Nr)-2))) #d2 diameter from fig. 15.7\n",
    "print d2 \n",
    "hr=(d1-d2)/(2*tan(pi/Nr)) #slot height of rotor in (m)\n",
    "print hr"
   ]
  },
  {
   "cell_type": "markdown",
   "metadata": {},
   "source": [
    "Verifying the rotor teeth mmf $F_{mtr}$"
   ]
  },
  {
   "cell_type": "code",
   "execution_count": 43,
   "metadata": {
    "collapsed": false
   },
   "outputs": [
    {
     "name": "stdout",
     "output_type": "stream",
     "text": [
      "72.7969333919\n",
      "0.0234317656679\n",
      "0.277294541147\n"
     ]
    }
   ],
   "source": [
    "H_tr=2460 #magnetic field intensity for previosly selected B_ts=1.60 T (adopted from the table 15.4)\n",
    "F_mtr=H_tr*(hr+h_or+(d1+d2)/2) #rotor teeth mmf in (Ampere-Turn)\n",
    "print F_mtr\n",
    "B_cr=1.65 #rotor back core flux density selected from 1.4-1.7 T range\n",
    "h_cr=(flux_pole/2*L*B_cr) #back core height of rotor  in (m)\n",
    "print h_cr\n",
    "D_shaftmax=Dis-2*g-2*(h_or+(d1+d2)/2+hr+h_cr) # Maximum diameter shaft in (m)\n",
    "print D_shaftmax"
   ]
  },
  {
   "cell_type": "markdown",
   "metadata": {},
   "source": [
    "In general, from the geometry shown in fig.15.8\n",
    "\n",
    "$$D_{re}-D_{cr}=(3-4)10^-3 \\quad m$$\n",
    "\n",
    "$$b=(1.0-1.2)(h_{r}+h_{or}+\\frac{(b_{1}+b_{2})}{2})$$"
   ]
  },
  {
   "cell_type": "code",
   "execution_count": 45,
   "metadata": {
    "collapsed": false
   },
   "outputs": [
    {
     "name": "stdout",
     "output_type": "stream",
     "text": [
      "0.0325514742809\n",
      "0.0176346734216\n"
     ]
    }
   ],
   "source": [
    "b=1.1*(hr+h_or+(d1+d2)/2) #from the geometry shown in fig.15.8 (m)\n",
    "print b\n",
    "a=A_cr/b # from the geometry shown in fig.15.8 (m)\n",
    "print a"
   ]
  },
  {
   "cell_type": "markdown",
   "metadata": {},
   "source": [
    "- ##Magnetization Current "
   ]
  },
  {
   "cell_type": "code",
   "execution_count": null,
   "metadata": {
    "collapsed": true
   },
   "outputs": [],
   "source": []
  }
 ],
 "metadata": {
  "kernelspec": {
   "display_name": "Python 2",
   "language": "python",
   "name": "python2"
  },
  "language_info": {
   "codemirror_mode": {
    "name": "ipython",
    "version": 2
   },
   "file_extension": ".py",
   "mimetype": "text/x-python",
   "name": "python",
   "nbconvert_exporter": "python",
   "pygments_lexer": "ipython2",
   "version": "2.7.9"
  }
 },
 "nbformat": 4,
 "nbformat_minor": 0
}
