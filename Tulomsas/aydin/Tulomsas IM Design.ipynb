{
 "cells": [
  {
   "cell_type": "markdown",
   "metadata": {},
   "source": [
    "#Tülomsaş Train Traction Motor"
   ]
  },
  {
   "cell_type": "markdown",
   "metadata": {},
   "source": [
    "##Ratings\n",
    "\n",
    "- **Power :** 142-152 kW\n",
    "- **Voltage :** 800-1100 V\n",
    "- **Speed :** 374- 3120 rpm\n",
    "- **Mass:** 1560 kg\n",
    "- **Motor type:** Three phase IM\n",
    "\n",
    "[Here](http://www.tulomsas.com.tr/main.php?kid=198&rid=101) you can find the related info about Tülomsaş's motor. \n",
    "\n",
    "![motor_picture](http://www.tulomsas.com.tr/upload/resim/101.jpg)\n",
    "\n",
    "####Breakdown torque is:\n",
    "\n",
    "\\begin{equation}\n",
    "  T_{bk} = \\frac{3p_{1}}{2L_{SC}}(\\frac{V_{ph}}{\\omega_{1}})^2\n",
    "   ;L_{SC} = L_{ls}+L_{lr}\n",
    "\\end{equation}\n",
    "\n",
    "where :\n",
    "- $p_{1}$ is number of pole-pair,i.e $2p_{1}$ equals to total number of poles \n",
    "- $V_{ph}$ is phase voltage\n",
    "- $L_{SC}$ is total leakage inductance\n",
    "- $L_{ls}$ and $L_{lr}$ are the stator and rotor leakage inductance,respectively\n"
   ]
  },
  {
   "cell_type": "code",
   "execution_count": null,
   "metadata": {
    "collapsed": true
   },
   "outputs": [],
   "source": []
  }
 ],
 "metadata": {
  "kernelspec": {
   "display_name": "Python 2",
   "language": "python",
   "name": "python2"
  },
  "language_info": {
   "codemirror_mode": {
    "name": "ipython",
    "version": 2
   },
   "file_extension": ".py",
   "mimetype": "text/x-python",
   "name": "python",
   "nbconvert_exporter": "python",
   "pygments_lexer": "ipython2",
   "version": "2.7.9"
  }
 },
 "nbformat": 4,
 "nbformat_minor": 0
}
