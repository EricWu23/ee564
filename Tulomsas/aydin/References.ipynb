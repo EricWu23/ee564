{
 "cells": [
  {
   "cell_type": "markdown",
   "metadata": {},
   "source": [
    "##References\n",
    "\n",
    "1) I. Boldea, S.A. Nasar, \"The Induction Machine Handbook\", CRC Press LLC, 2002\n",
    "\n",
    "2) [Tülomsaş Trains](http://www.tulomsas.com.tr/upload/dosya/77.pdf)\n",
    "\n",
    "3) Nasik Road, \"Course on Three Phase Technology in TRS Application\", Indian Railways Institute of Electrical Engineering,2010\n",
    "\n",
    "4) [MotorAnalysis website](http://motoranalysis.com/)\n",
    "\n",
    "5) [Trains of Turkey](http://www.trainsofturkey.com/w/pmwiki.php/Traction/DE11000)\n",
    "\n",
    "6) [Cogent Power website Sura NO15 Catalog](http://cogent-power.com/cms-data/downloads/NO15.pdf)\n",
    "\n",
    "7) [Moment of inertia](http://tr.wikipedia.org/wiki/Eylemsizlik_momenti)\n",
    "\n",
    "8) Zhenyu Yu and David Figoli, \"AC Induction Motor Control Using Constant V/Hz Principle and Space Vector PWM Technique with TMS320C240\", Digital Signal Processing Solutions, April 1998\n",
    "\n",
    "9) [Construction of IM](http://electrical-engineering-portal.com/construction-of-3-phase-ac-induction-motors)\n",
    "\n",
    "10) [Fin (extended surface)](http://en.wikipedia.org/wiki/Fin_%28extended_surface%29)\n",
    "\n",
    "11) [NEMA Insulation Classes](http://www.engineeringtoolbox.com/nema-insulation-classes-d_734.html)\n",
    "\n"
   ]
  }
 ],
 "metadata": {
  "kernelspec": {
   "display_name": "Python 2",
   "language": "python",
   "name": "python2"
  },
  "language_info": {
   "codemirror_mode": {
    "name": "ipython",
    "version": 2
   },
   "file_extension": ".py",
   "mimetype": "text/x-python",
   "name": "python",
   "nbconvert_exporter": "python",
   "pygments_lexer": "ipython2",
   "version": "2.7.9"
  }
 },
 "nbformat": 4,
 "nbformat_minor": 0
}
