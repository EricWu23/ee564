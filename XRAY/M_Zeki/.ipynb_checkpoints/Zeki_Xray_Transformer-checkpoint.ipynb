{
 "cells": [
  {
   "cell_type": "markdown",
   "metadata": {},
   "source": [
    "# XRAY TRANSFORMER"
   ]
  },
  {
   "cell_type": "markdown",
   "metadata": {},
   "source": [
    "The specs of the transformer are as follows:\n",
    "\n",
    "Single Phase, High Frequency High Voltage Transformer\n",
    "\n",
    "Primary Winding Voltage ± 417 V (peak to peak 834 V for pulsing) \n",
    "\n",
    "Secondary Winding Voltage ± 12.5 kV (peak to peak 25 kV for pulsing)\n",
    "\n",
    "Rated Power 30 kW (for maximum 100 milisecond) \n",
    "\n",
    "Switching Frequency Minimum 100 kHz \n",
    "\n",
    "Ambient Temperature 0-40 °C "
   ]
  },
  {
   "cell_type": "code",
   "execution_count": 3,
   "metadata": {
    "collapsed": true
   },
   "outputs": [],
   "source": [
    "V_p=417\n",
    "V_s=12500\n",
    "P_out=30000\n",
    "f=100000\n",
    "T_min=0\n",
    "T_max=0"
   ]
  },
  {
   "cell_type": "markdown",
   "metadata": {},
   "source": [
    "Laminated steel would not be used for this type of application. Ferrite would normally be used for this type of application at the specified frequency. "
   ]
  },
  {
   "cell_type": "code",
   "execution_count": null,
   "metadata": {
    "collapsed": true
   },
   "outputs": [],
   "source": [
    "from IPython.display import Image\n",
    "Image(filename='core.png', width=500, height=500)"
   ]
  }
 ],
 "metadata": {
  "kernelspec": {
   "display_name": "Python 3",
   "language": "python",
   "name": "python3"
  },
  "language_info": {
   "codemirror_mode": {
    "name": "ipython",
    "version": 3
   },
   "file_extension": ".py",
   "mimetype": "text/x-python",
   "name": "python",
   "nbconvert_exporter": "python",
   "pygments_lexer": "ipython3",
   "version": "3.5.1"
  }
 },
 "nbformat": 4,
 "nbformat_minor": 0
}
