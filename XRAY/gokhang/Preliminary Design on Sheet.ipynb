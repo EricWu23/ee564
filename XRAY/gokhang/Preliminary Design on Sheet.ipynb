{
 "metadata": {
  "name": "",
  "signature": "sha256:c283f65f6912dd3bfe1026770a3527a88bfb10cec7a77d394e0d0dc818ef21ad"
 },
 "nbformat": 3,
 "nbformat_minor": 0,
 "worksheets": [
  {
   "cells": [
    {
     "cell_type": "heading",
     "level": 1,
     "metadata": {},
     "source": [
      "*Preliminary design on sheet*"
     ]
    },
    {
     "cell_type": "raw",
     "metadata": {},
     "source": [
      "Project-1 :\n",
      "The specs of the transformer are as follows:\n",
      "\u2981\tSingle Phase, High Frequency High Voltage Transformer\n",
      "\u2981\tPrimary Winding Voltage \u00b1 417 V (peak to peak 834 V for pulsing)\n",
      "\u2981\tSecondary Winding Voltage \u00b1 12.5 kV (peak to peak 25 kV for pulsing)\n",
      "\u2981\tRated Power 30 kW (for maximum 100 millisecond)\n",
      "\u2981\tSwitching Frequency Minimum 100 kHz\n",
      "\u2981\tAmbient Temperature 0-40 \u00b0C"
     ]
    },
    {
     "cell_type": "heading",
     "level": 4,
     "metadata": {},
     "source": [
      "Step 1) choosing of core material"
     ]
    },
    {
     "cell_type": "markdown",
     "metadata": {},
     "source": [
      "Depending on switching frequency which is at least 100kHz, \"Ferrite Core\" is suitable for application.\n",
      "This is because of the fact that \"Relative Core Loss\" of ferrite is low other than of powdered cores,laminations iron&silicon steel.\n",
      "My referrence is the notes on EE361."
     ]
    },
    {
     "cell_type": "heading",
     "level": 4,
     "metadata": {},
     "source": [
      "Step 2) choosing of operating Flux Density depending on determined material"
     ]
    },
    {
     "cell_type": "markdown",
     "metadata": {},
     "source": [
      "Commonly, manganese-zinc ferrites are used. These ferrites offers very low coercivity, that means the material's magnetization can easily reverse direction without dissipating much energy (hysteresis losses), even they do not need core lamination to reduce \u201cEddy Current\u201d losses as the Powder core itself offers High resistance."
     ]
    },
    {
     "cell_type": "markdown",
     "metadata": {},
     "source": [
      "Choose Bmax = 0.35T, Bsat = 0.5T is the determination for ferrite core."
     ]
    },
    {
     "cell_type": "code",
     "collapsed": false,
     "input": [
      "Bm=0.35;\n",
      "Bsat=0.5;\n",
      "print(Bmax,Bsat)"
     ],
     "language": "python",
     "metadata": {},
     "outputs": [
      {
       "output_type": "stream",
       "stream": "stdout",
       "text": [
        "(0.35, 0.5)\n"
       ]
      }
     ],
     "prompt_number": 17
    },
    {
     "cell_type": "heading",
     "level": 4,
     "metadata": {},
     "source": [
      "Step 3) choosing of N.A product"
     ]
    },
    {
     "cell_type": "code",
     "collapsed": false,
     "input": [
      "V1=834; #applied peak voltage to primary winding\n",
      "V2=25000; #obtained peak voltage at secondary winding\n",
      "Pout=30000; #rated output power\n",
      "fsw=100000; #switching frequency of transformer\n",
      "define float a;"
     ],
     "language": "python",
     "metadata": {},
     "outputs": [
      {
       "ename": "SyntaxError",
       "evalue": "invalid syntax (<ipython-input-38-3b405369199a>, line 5)",
       "output_type": "pyerr",
       "traceback": [
        "\u001b[1;36m  File \u001b[1;32m\"<ipython-input-38-3b405369199a>\"\u001b[1;36m, line \u001b[1;32m5\u001b[0m\n\u001b[1;33m    define float a;\u001b[0m\n\u001b[1;37m               ^\u001b[0m\n\u001b[1;31mSyntaxError\u001b[0m\u001b[1;31m:\u001b[0m invalid syntax\n"
       ]
      }
     ],
     "prompt_number": 38
    },
    {
     "cell_type": "code",
     "collapsed": false,
     "input": [
      "a=V1/V2 #turns ratio of transformer"
     ],
     "language": "python",
     "metadata": {},
     "outputs": [],
     "prompt_number": 36
    },
    {
     "cell_type": "raw",
     "metadata": {},
     "source": [
      "V1=4*N1*fi,m*fsw #For square wave operated transformers"
     ]
    },
    {
     "cell_type": "code",
     "collapsed": false,
     "input": [],
     "language": "python",
     "metadata": {},
     "outputs": []
    }
   ],
   "metadata": {}
  }
 ]
}