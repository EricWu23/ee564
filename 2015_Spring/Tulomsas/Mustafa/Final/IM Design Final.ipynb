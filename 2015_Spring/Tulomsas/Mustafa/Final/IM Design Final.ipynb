{
 "metadata": {
  "name": "",
  "signature": "sha256:2bc4e70dddcadd521079afd760f9987c879ecc92295335e1c89d7aee54e9a0aa"
 },
 "nbformat": 3,
 "nbformat_minor": 0,
 "worksheets": [
  {
   "cells": [
    {
     "cell_type": "code",
     "collapsed": false,
     "input": [
      "#Design Specifications\n",
      "P_n = 150000 \n",
      "n_1 = 1500 \n",
      "V_ln = 900 \n",
      "f_1 = 50 \n",
      "m = 3\n",
      "\n",
      "V_ph = V_ln\n",
      "\n",
      "#Goal Parameters\n",
      "cos_theta = 0.87 # Acc. to Figure 16.1\n",
      "eff = 0.92 # page 478\n",
      "\n",
      "from math import pi, exp, sqrt, sin, ceil\n",
      "mu_0 = 4*pi*10**(-7)\n",
      "\n",
      "from sympy import *"
     ],
     "language": "python",
     "metadata": {},
     "outputs": [],
     "prompt_number": 1
    },
    {
     "cell_type": "code",
     "collapsed": false,
     "input": [
      "#Main Dimensions of Stator Core\n",
      "\n",
      "p_number = 120 * f_1 / n_1\n",
      "p_1 = p_number / 2\n",
      "print \"2*p_1 is %f pole\" %(2*p_1)\n",
      "\n",
      "K_E = 0.98 - 0.005 * p_1\n",
      "print \"Esson's Constant is %f\" %(K_E)\n",
      "\n",
      "S_gap = K_E * P_n / (eff*cos_theta)\n",
      "print \"Apparent Airgap Power is %f in VA\" %(S_gap)\n",
      "\n",
      "C_o = 145*(10**(3))\n",
      "_lambda_ = 1.3\n",
      "\n",
      "\n",
      "D_is = ((2*p_1*p_1*S_gap)/(pi*_lambda_*f_1*C_o))**(1/3.0)\n",
      "print \"Stator bore Diameter is %f in m\" %(D_is)\n",
      "\n",
      "L = pi*_lambda_*D_is/(2*p_1)\n",
      "print \"Stack Length is %f in m\" %(L)\n",
      "\n",
      "tao = pi*D_is/(2*p_1)\n",
      "print \"The pole pitch is %f in m\" %(tao)\n",
      "\n",
      "q = float(raw_input(\"Enter the number of stator slots per pole : \")) # Higher -Better \n",
      "\n",
      "tao_s = tao/(3*q)\n",
      "print \"The slot pitch is %f in m\" %(tao_s)\n",
      "\n",
      "print \" According to Inner/Outer Diameter Ratio for 2*p_1=4 K_D is between 0.61 and 0.63\"\n",
      "K_D = 0.62\n",
      "D_out = D_is/K_D\n",
      "print \"Stator Outer Diameter is %f in m\" %(D_out)\n",
      "\n",
      "g = (0.1+0.012*(P_n)**(1/3))*0.001\n",
      "print \"Air gap value is %f in m\" %(g)\n",
      "\n",
      "\n"
     ],
     "language": "python",
     "metadata": {},
     "outputs": [
      {
       "output_type": "stream",
       "stream": "stdout",
       "text": [
        "2*p_1 is 4.000000 pole\n",
        "Esson's Constant is 0.970000\n",
        "Apparent Airgap Power is 181784.107946 in VA\n",
        "Stator bore Diameter is 0.366217 in m\n",
        "Stack Length is 0.373914 in m\n",
        "The pole pitch is 0.287626 in m\n"
       ]
      },
      {
       "name": "stdout",
       "output_type": "stream",
       "stream": "stdout",
       "text": [
        "Enter the number of stator slots per pole : 4\n"
       ]
      },
      {
       "output_type": "stream",
       "stream": "stdout",
       "text": [
        "The slot pitch is 0.023969 in m\n",
        " According to Inner/Outer Diameter Ratio for 2*p_1=4 K_D is between 0.61 and 0.63\n",
        "Stator Outer Diameter is 0.590672 in m\n",
        "Air gap value is 0.000112 in m\n"
       ]
      }
     ],
     "prompt_number": 2
    },
    {
     "cell_type": "code",
     "collapsed": false,
     "input": [
      "#Stator Winding\n",
      "\n",
      "N_s = 2*p_1*q*m\n",
      "print \"The number of stator slots is %f\" %(N_s)\n",
      "\n",
      "chorded_coils_value = 7.0/9.0 # close to 0.8 to reduce 1st (5th order) stator mmf harmonic for two layer winding\n",
      "elec_angle = 2*pi*p_1/N_s\n",
      "\n",
      "K_d = float(sin(pi/6))/float(q*float(sin(pi/(6*q))))\n",
      "K_c = float(float(sin(pi/2))*chorded_coils_value)\n",
      "K_w = K_d*K_c\n",
      "print \"The stator winding factor is %f\" %(K_w)\n",
      "\n",
      "# For 2p_1=4, Airgap flux density(B_g) is between 0.65 and 0.78 T\n",
      "B_g = 0.72\n",
      "\n",
      "#1+K_f is chosen 1.3. Acc. to Figure 14.13, alpha_i = 0.71 and K_f = 0.78\n",
      "alpha_i = 0.71\n",
      "K_f = 0.78\n",
      "pole_flux = alpha_i*tao*L*B_g\n",
      "print \"The pole flux before Carter's Coefficient is %f in Wb\" %(pole_flux)\n",
      "\n",
      "#Carter's Coefficient to obtain more accurate results\n",
      "b_s = tao_s * 0.45\n",
      "b_s_mm = b_s * 1000 # Convert it to mm\n",
      "K_01 = 1-0.033*(b_s**2/(g*tao_s))\n",
      "O_d1 = 0.003\n",
      "gama_1 = (b_s**2)/(5*g+b_s)\n",
      "K_carter = tao_s/(tao_s-gama_1)\n",
      "lambda_ds = 0.9*tao_s*((q*K_w)**2)*K_01*O_d1/(K_c*g)\n",
      "\n",
      "print \"K_carter is %f\" %(K_carter)\n",
      "\n",
      "L_prime = L + 2*g\n",
      "pole_flux = alpha_i*tao*L_prime*B_g\n",
      "print \"The pole flux after Carter's Coefficient is %f in Wb\" %(pole_flux) # This pole flux is used at the rest of the design\n",
      "\n",
      "L = L_prime # !!! Attention\n",
      "\n",
      "W_1 = K_E*V_ph/(4*K_f*K_w*f_1*pole_flux)\n",
      "print \"The number of turns per phase is %f \" %(W_1)\n",
      "\n",
      "a_1=1\n",
      "n_s_1 = a_1*W_1/(p_1*q)\n",
      "print \"The Number of conductors per slot is %f\" %(n_s_1)\n",
      "\n",
      "#It should be an even number as there are two distinct coils per slot in a double layer winding,n_s\n",
      "mod_even = n_s_1 % 2\n",
      "if mod_even != 0:\n",
      "    print \"n_s should be an even number --> n_s = %f\" %(n_s_1)\n",
      "    n_s = float(raw_input (\"Enter n_s as an even number  : \"))\n",
      "    B_g = B_g*(n_s_1/n_s)\n",
      "\n",
      "I_ln = P_n /(sqrt(3)*V_ln*cos_theta*eff)\n",
      "I_ph = I_ln / sqrt(3)\n",
      "print \"Rated Phase Current is %f in A\" %(I_ph)\n",
      "\n",
      "#For 2*p_1=4 and high efficiency is required, J is between 4 and 7 A/mm^2\n",
      "J_co = 5.8 #Current Density\n",
      "\n",
      "A_co = I_ln/(J_co*a_1)\n",
      "print \"The magnetic wire cross section is %f in mm^2\" %(A_co)\n",
      "\n",
      "d_co = sqrt(4*A_co/pi)\n",
      "print \"The wire gauge diameter is %f in mm^2\" %(d_co)\n",
      "a_p = 1\n",
      "\n",
      "## ADD WIRE GAUGE SELECTION EXCEL FILE AND CODE\n",
      "\n",
      "\n",
      "\n",
      "b_ins = 5 #in mm\n",
      "B_max = tao_s*B_g/(tao_s-b_s)\n",
      "print \"The maximum tooth flux density is %f in Tesla\" %(B_max)\n",
      "\n",
      "if B_max > 1.7:\n",
      "    print \"B_max is too High, Recalculated the process\"\n",
      "else:\n",
      "    B_ts = B_max\n",
      "\n",
      "    \n",
      "    "
     ],
     "language": "python",
     "metadata": {},
     "outputs": [
      {
       "output_type": "stream",
       "stream": "stdout",
       "text": [
        "The number of stator slots is 48.000000\n",
        "The stator winding factor is 0.744848\n",
        "The pole flux before Carter's Coefficient is 0.054978 in Wb\n",
        "K_carter is 1.747609\n",
        "The pole flux after Carter's Coefficient is 0.055011 in Wb\n",
        "The number of turns per phase is 136.575019 \n",
        "The Number of conductors per slot is 17.071877\n",
        "n_s should be an even number --> n_s = 17.071877\n"
       ]
      },
      {
       "name": "stdout",
       "output_type": "stream",
       "stream": "stdout",
       "text": [
        "Enter n_s as an even number  : 16\n"
       ]
      },
      {
       "output_type": "stream",
       "stream": "stdout",
       "text": [
        "Rated Phase Current is 69.409740 in A\n",
        "The magnetic wire cross section is 20.727792 in mm^2\n",
        "The wire gauge diameter is 5.137260 in mm^2\n",
        "The maximum tooth flux density is 1.396790 in Tesla\n"
       ]
      }
     ],
     "prompt_number": 3
    },
    {
     "cell_type": "code",
     "collapsed": false,
     "input": [
      "# Stator Slot Sizing\n",
      "#Assuming that all the airgap flux passes through the stator teeth\n",
      "g = g * K_carter # Modified Airgap g_prime by Carter's Coefficient\n",
      "print \"Modified Airgap is %f in m\" %(g)\n",
      "\n",
      "K_fill = 0.42\n",
      "A_su = pi* d_co**2*a_p*n_s/(4*K_fill)\n",
      "print \"The useful slot area is %f in mm^2\" %(A_su)\n",
      "A_su = A_su*10**(-6)\n",
      "\n",
      "K_fe = 0.96 # for defined b_ins = 5 mm above !!\n",
      "b_ts = (B_g*tao_s*L)/(B_ts*L*K_fe)\n",
      "print \"The tooth width is %f in m\" %(b_ts)\n",
      "\n",
      "if b_ts < 3.5*10**(-3):\n",
      "    print \"Because of the technological limitations, b_ts should be bigger than 3.5*10^(-3) m\"\n",
      "    \n",
      "\n",
      "b_os = 2.2*10**(-3)\n",
      "h_os = 1*10**(-3)\n",
      "h_w = 1.5*10**(-3)\n",
      "b_s1 = pi*(D_is+2*h_os+2*h_w)/N_s - b_ts\n",
      "print \"The slot lower width is %f in m\" %(b_s1)\n",
      "\n",
      "#b_s2 = b_s1+2*h_s*tan(pi/N_s) The useful area of slot\n",
      "#A_su = h_s*(b_s1+b_s2)/2\n",
      "#solve([Eq(b_s1+2*h_s*tan(pi/N_s-b_s2)), Eq(h_s*(b_s1+b_s2)/2-A_su), Eq(2*A_su/(b_s1+b_s2)-h_s)], [b_s2, A_su, h_s])\n",
      "\n",
      "b_s2 = sqrt(4*A_su*tan(pi/N_s)+b_s1**2)\n",
      "print \"The slot upper width is %f in m\" %(b_s2)\n",
      "\n",
      "h_s = 2*A_su/(b_s1+b_s2)\n",
      "print \"The slot useful height is %f in m\" %(h_s)\n",
      "\n",
      "# (1+K_st) = 1+(F_mts+F_mtr)/F_mmg in page 119-125\n",
      "F_mg = 1.2*g*B_g/mu_0\n",
      "print \"The airgap mmf is %f in Aturns\" %(F_mg)\n",
      "\n",
      "# For B_ts value, Create an excel for corresponding H_ts\n",
      "print \"B = %f\" %(B_ts)\n",
      "H_ts = float(raw_input(\"Enter the corresponding H_ts Value : \"))\n",
      "\n",
      "F_mts = H_ts*(h_s + h_os +h_w)\n",
      "print \"The stator tooth mmf is %f in Aturns\" %(F_mts)\n",
      "\n",
      "K_st = 0.8 # Teeth Saturation Factor\n",
      "F_mtr = K_st*F_mg - F_mts\n",
      "print \"The rotor tooth mmf is %f in Aturns\" %(F_mtr)\n",
      "\n",
      "if (F_mtr/F_mts < 0.1) or (F_mtr == 0):\n",
      "    print \"ERROR !!! Smaller value of flux density B_g is required\"\n",
      "\n",
      "h_cs = (D_out-(D_is+2*(h_os+h_w+h_s)))/2\n",
      "print \"The stator back iron height is %f in mm\" %(h_cs)\n",
      "\n",
      "B_cs = pole_flux/(2*L*h_cs)\n",
      "print \"The back core flux density is %f in T\" %(B_cs)\n",
      "\n",
      "while True:\n",
      "    if B_cs > 1.7:\n",
      "        print \"B_cs is TOO LARGE!! It's interval is 1.4 - 1.7 T\"\n",
      "        print \"To solve the problem , Increase the D_out //OR// larger _lambda_ results in smaller D_is //OR// Increase Current density J_co\"\n",
      "        print \"The simplest one is increasing the stator outer diameter, Hence\"\n",
      "        print \"Current Stator Outer Diameter is %f in m\" %(D_out)\n",
      "        D_out_new = float(raw_input (\"Enter a LARGER Stator Outer Diameter : \"))\n",
      "        B_cs = B_cs * (h_cs/(h_cs+(D_out_new - D_out)/2))\n",
      "        D_out = D_out_new\n",
      "        print \"The back core flux density is %f in T\" %(B_cs)\n",
      "    else:\n",
      "        print \"Successful Back Core Flux Density :)\"\n",
      "        break\n"
     ],
     "language": "python",
     "metadata": {},
     "outputs": [
      {
       "output_type": "stream",
       "stream": "stdout",
       "text": [
        "Modified Airgap is 0.000196 in m\n",
        "The useful slot area is 789.630184 in mm^2\n",
        "The tooth width is 0.013732 in m\n",
        "The slot lower width is 0.010564 in m\n",
        "The slot upper width is 0.017850 in m\n",
        "The slot useful height is 0.055581 in m\n",
        "The airgap mmf is 143.591047 in Aturns\n",
        "B = 1.396790\n"
       ]
      },
      {
       "name": "stdout",
       "output_type": "stream",
       "stream": "stdout",
       "text": [
        "Enter the corresponding H_ts Value : 760\n"
       ]
      },
      {
       "output_type": "stream",
       "stream": "stdout",
       "text": [
        "The stator tooth mmf is 44.141389 in Aturns\n",
        "The rotor tooth mmf is 70.731449 in Aturns\n",
        "The stator back iron height is 0.054147 in mm"
       ]
      },
      {
       "output_type": "stream",
       "stream": "stdout",
       "text": [
        "\n",
        "The back core flux density is 1.357735 in T\n",
        "Successful Back Core Flux Density :)\n"
       ]
      }
     ],
     "prompt_number": 4
    },
    {
     "cell_type": "heading",
     "level": 6,
     "metadata": {},
     "source": [
      "Skewed Rotor Slots Numbers for corresponding Stator Slot Numbers are shown below. "
     ]
    },
    {
     "cell_type": "markdown",
     "metadata": {},
     "source": [
      "|2*p1|N_s|N_r|\n",
      "|--|-------------------------------|------------------|\n",
      "|4 |36|28,30,32,34,45,48|\n",
      "|4 |48|36,40,44,57,59|\n",
      "|4 |72|42,48,54,56,60,61,62,82,83|"
     ]
    },
    {
     "cell_type": "code",
     "collapsed": false,
     "input": [
      "#Rotor Slots (For Cage Rotor)\n",
      "\n",
      "N_r = float(raw_input (\"Enter a Suitable Rotor Slot Numbers : \"))\n",
      "\n",
      "K_I = 0.8*cos_theta + 0.2\n",
      "I_b = float(K_I*(2*m*W_1*K_w/N_r)*I_ln)\n",
      "print \"The rated rotor bar current is %f in A\" %(I_b)\n",
      "\n",
      "J_b = 3.5 # For high Efficiency\n",
      "A_b = float(I_b / J_b)\n",
      "print \"The rotor slot area is %f in mm^2\" %(A_b)\n",
      "\n",
      "I_er = I_b/(2*sin(pi*p_1/N_r))\n",
      "print \"The end ring current is %f in A\" %(I_er)\n",
      "\n",
      "J_er = 0.75*J_b # 0.75 - 0.8\n",
      "A_er = I_er/J_er\n",
      "print \"The end ring cross section is %f in mm^2\" %(A_er)\n",
      "\n",
      "tao_r = pi*(D_is-2*g)/N_r\n",
      "print \"The rotor slot pitch is %f in m\" %(tao_r)\n",
      "\n",
      "h_or = 0.8*10**(-3)\n",
      "b_or = 1.8*10**(-3)\n",
      "B_tr = 1.3 # Rotor Tooth Flux Density !!!! CHECK AGAIN\n",
      "\n",
      "b_tr = float(B_g)*tao_r/(K_fe*B_tr)\n",
      "print \"The tooth width is %f in m\" %(b_tr)\n",
      "\n",
      "d_1 = float((pi*(D_is-2*h_or)-N_r*b_tr)/(pi+N_r))\n",
      "\n",
      "beta_skin = sqrt(pi*f_1*mu_0/(3.1*10**(-8)))\n",
      "print \"Skin effect is %f in m^-1\" %(beta_skin)\n",
      "\n",
      "\n",
      "from scipy.optimize import fsolve\n",
      "import math\n",
      "\n",
      "def equations(p):\n",
      "    d_2, h_r = p\n",
      "    return (pi*(d_1**2 + d_2**2)/8 + (d_1+d_2)*h_r/2 - A_b, (d_1-d_2)/h_r - 2*tan(pi/N_r))\n",
      "\n",
      "d_2, h_r =  fsolve(equations, (1, 1))\n",
      "\n",
      "print equations((d_2, h_r))\n",
      "\n",
      "print \"diameter d_2 is %f in mm\" %(d_2)\n",
      "h_r = abs(h_r)\n",
      "print \"Rotor height h_r is %f in mm\" %(h_r)\n",
      "\n",
      "#For Btr=1.45, H_tr is obtained as 6160 from Table 15.4\n",
      "H_tr = 482\n",
      "F_mtr_check = (H_tr*(h_r+h_or*1000+(d_1*1000+d_2/1000)/2))/1000\n",
      "print \"The rotor tooth mmf is %f in Aturns\" %(F_mtr_check)\n",
      "\n",
      "if abs(F_mtr-F_mtr_check) <= 10:\n",
      "    print \"Successful design in terms of rotor teeth mmf :)\"\n",
      "else:\n",
      "    print \"Rotor mmfs are not close to each other\"\n",
      "    print \" Not Acceptable Design !!!\"\n",
      "    \n",
      "    \n",
      "\n",
      "#B_cr is between 1.4 - 1.7 T\n",
      "B_cr = 1.65\n",
      "h_cr = pole_flux/(2*L*B_cr)\n",
      "print \"Rotor Back core height is %f in m\" %(h_cr)\n",
      "\n",
      "D_shaft = float(D_is) - 2*float(g) - 2*(h_r+float(h_cr)+h_or+(d_1+d_2/1000)/2)/1000\n",
      "print \"The maximum diameter of the shaft is smaller or equal than %f\" %(D_shaft)\n",
      "\n",
      "\n"
     ],
     "language": "python",
     "metadata": {},
     "outputs": [
      {
       "name": "stdout",
       "output_type": "stream",
       "stream": "stdout",
       "text": [
        "Enter a Suitable Rotor Slot Numbers : 40\n"
       ]
      },
      {
       "output_type": "stream",
       "stream": "stdout",
       "text": [
        "The rated rotor bar current is 1643.688271 in A\n",
        "The rotor slot area is 469.625220 in mm^2\n",
        "The end ring current is 5253.600190 in A\n",
        "The end ring cross section is 2001.371501 in mm^2\n",
        "The rotor slot pitch is 0.028732 in m\n",
        "The tooth width is 0.017687 in m\n",
        "Skin effect is 79.796533 in m^-1"
       ]
      },
      {
       "output_type": "stream",
       "stream": "stdout",
       "text": [
        "\n",
        "(-12774.8383957251 + 4066.36405609959*pi, -2*tan(0.025*pi) + 1.32183456631446)"
       ]
      },
      {
       "output_type": "stream",
       "stream": "stdout",
       "text": [
        "\n",
        "diameter d_2 is 180.363279 in mm\n",
        "Rotor height h_r is 136.441526 in mm\n",
        "The rotor tooth mmf is 68.640752 in Aturns\n",
        "Successful design in terms of rotor teeth mmf :)\n",
        "Rotor Back core height is 0.044556 in m\n",
        "The maximum diameter of the shaft is smaller or equal than 0.092661\n"
       ]
      },
      {
       "output_type": "stream",
       "stream": "stderr",
       "text": [
        "C:\\Users\\ASUS\\Anaconda\\lib\\site-packages\\scipy\\optimize\\minpack.py:237: RuntimeWarning: The iteration is not making good progress, as measured by the \n",
        "  improvement from the last ten iterations.\n",
        "  warnings.warn(msg, RuntimeWarning)\n"
       ]
      }
     ],
     "prompt_number": 5
    },
    {
     "cell_type": "code",
     "collapsed": false,
     "input": [
      "#Magnetization Current\n",
      "#h_os = 1.2\n",
      "#h_w = 1.7\n",
      "\n",
      "alpha_1 = b_os**2/(5*g+b_os)\n",
      "alpha_2 = b_or**2/(5*g+b_or)\n",
      "K_c1 = tao_s/(tao_s-alpha_1)\n",
      "K_c2 = tao_r/(tao_r-alpha_2)\n",
      "K_carter_new = K_c1*K_c2\n",
      "\n",
      "H_cs = 4800 ## Adjust everytime !!!!\n",
      "F_mcs = (0.88*math.e**(-0.4*B_cs**2))*pi*(D_out-h_cs)/(2*p_1)*H_cs*B_cs\n",
      "\n",
      "H_cr = 3460 ## Adjust everytime !!!!\n",
      "F_mcr = (0.88*math.e**(-0.4*B_cr**2))*pi*(D_shaft+h_cr)/(2*p_1)*H_cr*B_cr\n",
      "\n",
      "F_1m = 2*(K_carter_new*g*B_g/mu_0 + +F_mtr + F_mts + F_mcs + F_mcr)\n",
      "print \"The magnetization mmf is %f\" %(F_1m)\n",
      "\n",
      "\n",
      "K_s = F_1m/(2*F_mg)-1\n",
      "I_mag = pi*p_1*(F_1m/2)/(3*sqrt(2)*W_1*K_w)\n",
      "print \"The magnetization current is %f in A\" %(I_mag)\n",
      "\n",
      "I_rel = I_mag/I_ln\n",
      "print \"The relative (p.u.) value of I_magnetization is %f\" %(I_rel)"
     ],
     "language": "python",
     "metadata": {},
     "outputs": [
      {
       "output_type": "stream",
       "stream": "stdout",
       "text": [
        "The magnetization mmf is 3172.663619\n",
        "The magnetization current is 23.093965 in A"
       ]
      },
      {
       "output_type": "stream",
       "stream": "stdout",
       "text": [
        "\n",
        "The relative (p.u.) value of I_magnetization is 0.192096"
       ]
      },
      {
       "output_type": "stream",
       "stream": "stdout",
       "text": [
        "\n"
       ]
      }
     ],
     "prompt_number": 6
    }
   ],
   "metadata": {}
  }
 ]
}