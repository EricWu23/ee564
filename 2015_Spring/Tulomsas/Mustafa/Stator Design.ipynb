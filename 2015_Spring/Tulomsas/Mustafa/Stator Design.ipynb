{
 "metadata": {
  "name": "",
  "signature": "sha256:d385ecf407ba3681850e50865bfd5c6360fe29e11c1211bf4745051659645992"
 },
 "nbformat": 3,
 "nbformat_minor": 0,
 "worksheets": [
  {
   "cells": [
    {
     "cell_type": "markdown",
     "metadata": {},
     "source": [
      "$$Rated Power (P_n) = 150 kW$$\n",
      "$$Synchronous Speed (n_1) = 1500 rpm$$\n",
      "$$Line Supply Voltage (V_{ln}) = 900 V$$\n",
      "$$Supply Frequency (f_1) = 50 Hz$$\n",
      "$$Number of Phase (m) = 3$$\n",
      "$$Phase Connection = Delta$$\n",
      "\n",
      "For Delta Connection ,\n",
      "$$Line Voltage(V_{ln}) = Phase Voltage (V_ph)$$\n",
      "$$Line Current(I_{ln}) = \\sqrt(3)Phase Current(I_ph) $$\n",
      "\n",
      "\n",
      "$$2p_1 = 120 * f_1 / n_1$$ \n"
     ]
    },
    {
     "cell_type": "markdown",
     "metadata": {},
     "source": [
      "$$Air gap\\ Apparent\\ Power (S_gap) = 3 * K_E * V_p * I_{ln}$$\n",
      "$$K_E = 0.98 - 0.005 * p_1 $$\n",
      "\n",
      "$$I_{ln} = P_n /(\\sqrt(3)*V_{ln}*cos(\\theta)*\\gamma)$$\n",
      "From the table of power factor of cage rotor IMs ;\n",
      "$$cos(\\theta) = 0.87$$ From the table of power factor of cage rotor IMs \n",
      "$$efficiency (\\gamma) = 0.95$$\n",
      "\n",
      "$$Stack\\ Aspect\\ Ratio (\\lambda) = 1.2 - 1.8 for 2p = 4$$\n",
      "$$Stator\\ Bore\\ Diameter (D_{is}) = \\sqrt[3]{(2*p_1*p_1*S_gap) / (\\pi* \\lambda_1 * f_1 *C_o)}$$\n",
      "$$C_o = 265*10^3 J/m^3$$\n",
      "\n",
      "\n",
      "$$ Stack\\ Length (l_i) = \\lambda*\\tau = \\lambda * ((\\pi*D_{is}) / (2*p_1))$$\n",
      "\n",
      "$$ Inner/Outer\\ Stator\\ Diameter\\ Ratio (D_{is}/D_{out} = K_D) = 0.61 - 0.63 for 2p = 4$$"
     ]
    },
    {
     "cell_type": "code",
     "collapsed": false,
     "input": [
      "P_n = 150000 \n",
      "n_1 = 1500 \n",
      "V_ln = 900 \n",
      "f_1 = 50 \n",
      "m = 3\n",
      "\n",
      "from math import pi, exp, sqrt, sin, ceil\n",
      "\n",
      "p_number = 120 * f_1 / n_1\n",
      "p_1 = p_number / 2\n",
      "print \"2*p_1 is %f pole\" %(2*p_1)\n",
      "\n",
      "K_E = 0.98 - 0.005 * p_1\n",
      "print \"Esson's Constant is %f\" %(K_E)\n",
      "\n",
      "cos_theta = 0.87\n",
      "eff = 0.95\n",
      "I_ln = P_n /(sqrt(3)*V_ln*cos_theta*eff)\n",
      "I_ph = I_ln / sqrt(3)\n",
      "V_ph = V_ln\n",
      "print \"Rated Phase Current is %f in A\" %(I_ph)\n",
      "\n",
      "S_gap = 3*K_E*V_ph*I_ln\n",
      "print \"Air gap Apparent Power is %f in VA\" %(S_gap)\n",
      "\n",
      "_lambda_ = 1.4\n",
      "C_o = 265000\n",
      "\n",
      "D_is = ((2*p_1*p_1*S_gap)/(pi*_lambda_*f_1*C_o))**(1/3.0)\n",
      "print \"Stator bore Diameter is %f in m\" %(D_is)\n",
      "\n",
      "tau = pi * D_is / (2*p_1)\n",
      "l_i = _lambda_ * tau\n",
      "print \"Stack Length is %f in m\" %(l_i)\n",
      "\n",
      "K_D = 0.62\n",
      "D_out = D_is / K_D\n",
      "D_out = D_out * 1000\n",
      "print \"Outer Stator Diameter is %f in mm\" %(D_out)\n"
     ],
     "language": "python",
     "metadata": {},
     "outputs": [
      {
       "output_type": "stream",
       "stream": "stdout",
       "text": [
        "2*p_1 is 4.000000 pole\n",
        "Esson's Constant is 0.970000\n",
        "Rated Phase Current is 67.217853 in A\n",
        "Air gap Apparent Power is 304916.385361 in VA\n",
        "Stator bore Diameter is 0.347210 in m\n",
        "Stack Length is 0.381777 in m\n",
        "Outer Stator Diameter is 560.016253 in mm\n"
       ]
      }
     ],
     "prompt_number": 2
    },
    {
     "cell_type": "markdown",
     "metadata": {},
     "source": [
      "$$ Pole Flux (\\Phi) = \\alpha_i * \\tau * l_i * B_g$$ \n",
      "$$ Flux \\ Density \\ Shape \\ Factor (\\alpha_i) \\ and \\ K_B \\ are \\ obtained \\ from \\ graph \\ of \\ \\alpha_i \\ vs \\ teeth \\ saturation$$\n",
      "\n",
      "$$ The\\ number\\ of\\ stator\\ slots (N_s) = 2*p*q*m = 48 slots \\\\ where \\quad q = 4$$ \n",
      "$$The \\ coil \\ throw (y/\\tau) \\ is \\ chosen \\ as \\ 5/6 \\ to \\ reduce \\ fifth \\ mmf \\ space \\ harmonic. $$\n",
      "$$ Winding\\ Factor (K_w) = K_d * K_c = (sin(\\pi/6)/ q*sin(\\pi/6*q))*(sin(\\pi/2)*(y/\\tau))$$\n",
      "$$ Number\\ of\\ turns\\ per\\ phase (W_1) = K_E * V_ph /(4*K_B*f_1*K_w\\Phi)$$\n",
      "$$ Number\\ of\\ conductors\\ per\\ slot (n_s) = 2*m*a_1*W_1/N_s$$\n",
      "\n",
      "For a calculated and rounded up n_s value, stack length and pole flux should be recalculated. Air gap flux remains unchanged.\n"
     ]
    },
    {
     "cell_type": "code",
     "collapsed": false,
     "input": [
      "B_g = 0.7\n",
      "alpha_i = 0.65 \n",
      "pole_flux = alpha_i * tau * l_i * B_g\n",
      "print \"Pole Flux is %f in Wb\" %(pole_flux)\n",
      "\n",
      "q_1 = 4\n",
      "a_1 = 1\n",
      "K_B = 1.1\n",
      "coil_throw = float(5.0/6.0)\n",
      "\n",
      "K_w = float(float(sin(pi/6))/float(q_1*float(sin(pi/(6*q_1)))))*float(float(sin(pi/2))*coil_throw)\n",
      "print \"Winding Factor is %f\" %(K_w)\n",
      "\n",
      "W_1 = K_E*V_ph / (4*K_B*f_1*K_w*pole_flux)\n",
      "W_1 = ceil(W_1)\n",
      "print \"Number of turns per phase is %d\" %(W_1)\n",
      "\n",
      "N_s = 2*p_1*q_1*m\n",
      "print \"The number of stator slots is %d\" %(N_s)\n",
      "n_s_1 = 2*m*a_1*W_1/N_s\n",
      "print \"Number of conductors per slot is %f\" %(n_s_1)\n",
      "n_s = ceil(n_s_1)\n",
      "\n",
      "l_i_ideal = float(l_i)*float(n_s_1/n_s)\n",
      "print \"Ideal Stack Length is %f in m\" %(l_i_ideal)\n",
      "\n",
      "pole_flux_ideal = pole_flux*(n_s/n_s_1)\n",
      "print \"Ideal Pole Flux is %f in Wb\" %(pole_flux_ideal)\n",
      "\n",
      "\n",
      "slot_pitch = pi*D_is/N_s\n",
      "print \"Stator Slot pitch is %f in m\" %(slot_pitch)\n"
     ],
     "language": "python",
     "metadata": {},
     "outputs": [
      {
       "output_type": "stream",
       "stream": "stdout",
       "text": [
        "Pole Flux is 0.047370 in Wb\n",
        "Winding Factor is 0.798052\n",
        "Number of turns per phase is 105\n",
        "The number of stator slots is 48\n",
        "Number of conductors per slot is 13.125000\n",
        "Ideal Stack Length is 0.357916 in m\n",
        "Ideal Pole Flux is 0.050528 in Wb\n",
        "Stator Slot pitch is 0.022725 in m\n"
       ]
      }
     ],
     "prompt_number": 11
    },
    {
     "cell_type": "code",
     "collapsed": false,
     "input": [
      "n_ch = 6\n",
      "b_ch = 7.5*0.001\n",
      "b_ch_1 = 0.75*b_ch\n",
      "\n",
      "L_geo = l_i_ideal + n_ch*b_ch_1\n",
      "l_s = (L_geo - n_ch*b_ch) / (n_ch+1)\n",
      "print \"The length of each elementary stick is %f in m\" %(l_s)\n",
      "\n",
      "J_co = 6.3\n",
      "A_co = I_ph / (a_1 * J_co)\n",
      "print \"Conductor cross sectional area is %f in mm^2\" %(A_co)\n",
      "\n",
      "d_co = sqrt(4*A_co/pi)\n",
      "print \"Wire gauge diameter is %f in mm\" %(d_co)\n",
      "\n",
      "import xlrd\n",
      "file_location = \"C:\\Users\\ASUS\\Desktop\\Copper_wires.xlsx\"\n",
      "workbook = xlrd.open_workbook(file_location, \"rb\")\n",
      "sheet = workbook.sheet_by_index(0)\n",
      "\n",
      "for row in range(sheet.nrows):\n",
      "    if d_co > sheet.cell_value(row,1):\n",
      "        print \"AWG gauge for the wire is %d \" %sheet.cell_value(row-1,0)\n",
      "        diameter_wire = sheet.cell_value(row-1,1)\n",
      "        break\n",
      "        \n",
      "b_s = slot_pitch * 0.5\n",
      "b_s_mm = b_s * 1000 # Convert it to mm\n",
      "b_ins = 4.4\n",
      "a_c = b_s_mm - b_ins\n",
      "b_c = A_co / a_c\n",
      "print \"The conductor size is %fx%f mm^2\" %(b_c, a_c)\n",
      "h_ins = 21.2\n",
      "h_s = h_ins + n_s*b_c\n",
      "h_cs = (D_out - D_is)/2 - h_s\n",
      "\n",
      "B_cs = pole_flux_ideal / (2*l_i_ideal*h_cs)\n",
      "print \"Back iron flux density is %f in Tesla\" %(B_cs)\n",
      "\n",
      "B_max = slot_pitch*B_g/(slot_pitch - b_s)\n",
      "print \"Maximum tooth flux density is %f in Tesla\" %(B_max)\n",
      "\n",
      "if B_max > 1.7:\n",
      "    print \"B_max is too High, Recalculated the process\""
     ],
     "language": "python",
     "metadata": {},
     "outputs": [
      {
       "output_type": "stream",
       "stream": "stdout",
       "text": [
        "The length of each elementary stick is 0.049524 in m\n",
        "Conductor cross sectional area is 10.669500 in mm^2\n",
        "Wire gauge diameter is 3.685760 in mm\n",
        "AWG gauge for the wire is 6 \n",
        "The conductor size is 1.532441x6.962423 mm^2\n",
        "Back iron flux density is 0.000298 in Tesla\n",
        "Maximum tooth flux density is 1.400000 in Tesla\n"
       ]
      }
     ],
     "prompt_number": 35
    },
    {
     "cell_type": "code",
     "collapsed": false,
     "input": [],
     "language": "python",
     "metadata": {},
     "outputs": []
    }
   ],
   "metadata": {}
  }
 ]
}