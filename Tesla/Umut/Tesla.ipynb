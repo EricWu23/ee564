{
 "cells": [
  {
   "cell_type": "markdown",
   "metadata": {},
   "source": [
    "# EE 564 Project 2\n",
    "\n",
    "## Tesla Model S Motor Design\n",
    "\n",
    "\n",
    "[Tesla Model S](http://www.teslamotors.com/models)\n",
    "\n",
    "[RWD 85 Model](http://en.wikipedia.org/wiki/Tesla_Model_S#Powertrain)\n",
    "\n",
    "* Max. Power: 360 hp (270 kW)\n",
    "* Max. Torque: 441 Nm\n",
    "* Top Speed: 225 km/h \n",
    "\n",
    "[Specs1](http://teslatap.com/undocumented/) and [Specs2](http://my.teslamotors.com/it_IT/forum/forums/tesla-model-s-motor-output)\n",
    "\n",
    "**Useful Links:**\n",
    "\n",
    "* [How does Tesla make their motors in the model S so small?](http://www.reddit.com/r/AskEngineers/comments/2mv2h5/how_does_tesla_make_their_motors_in_the_model_s/)\n",
    "\n",
    "* [Tesla Motor Technology](http://my.teslamotors.com/roadster/technology/motor)\n",
    "\n",
    "* [Electric traction machine choice](http://sites.ieee.org/miami/files/2014/11/Hendershot-FIU-Lecture.pdf)"
   ]
  },
  {
   "cell_type": "markdown",
   "metadata": {},
   "source": [
    "## Design Specifications\n",
    "\n",
    "From [Specs1](http://teslatap.com/undocumented/): \"Motor Inverter – This converts the DC battery voltage to AC, powering the motor. It delivers up to 1000 amps (from 2010 10K annual report).\""
   ]
  },
  {
   "cell_type": "code",
   "execution_count": 100,
   "metadata": {
    "collapsed": false
   },
   "outputs": [
    {
     "name": "stdout",
     "output_type": "stream",
     "text": [
      "155.884572681\n",
      "90.0\n"
     ]
    }
   ],
   "source": [
    "import math\n",
    "Pn=270e3 # Max. power (W)\n",
    "Iline=1000 # Max. current (A)\n",
    "Vll=Pn/(math.sqrt(3)*Iline) # Max. L-L voltage (V)\n",
    "Vln=Vll/math.sqrt(3) # Max. L-N voltage (V)\n",
    "print Vll\n",
    "print Vln"
   ]
  },
  {
   "cell_type": "code",
   "execution_count": 101,
   "metadata": {
    "collapsed": true
   },
   "outputs": [],
   "source": [
    "Vll=200 # Design motor with 200 V rating\n",
    "Vln=200/math.sqrt(3)\n",
    "f1=60 # Supply frequency (Hz)\n",
    "m=3 # Number of phases, Star-connected\n",
    "nn=0.96 # Target efficiency\n",
    "cosphin=0.83 # Target power factor"
   ]
  },
  {
   "cell_type": "markdown",
   "metadata": {},
   "source": [
    "From [Electric traction machine choice](http://sites.ieee.org/miami/files/2014/11/Hendershot-FIU-Lecture.pdf);"
   ]
  },
  {
   "cell_type": "code",
   "execution_count": 102,
   "metadata": {
    "collapsed": true
   },
   "outputs": [],
   "source": [
    "p1=2 # Number of pole pairs"
   ]
  },
  {
   "cell_type": "markdown",
   "metadata": {},
   "source": [
    "## Main Dimensions of Stator Core\n",
    "\n",
    "Reference: I. Boldea and S.A. Nasar, \"The Induction Machine Handbook\", CRC Press LLC, 2002.\n",
    "\n",
    "Equation, figure and table numbers are given as comments next to the equation."
   ]
  },
  {
   "cell_type": "code",
   "execution_count": 103,
   "metadata": {
    "collapsed": false
   },
   "outputs": [
    {
     "name": "stdout",
     "output_type": "stream",
     "text": [
      "0.97\n",
      "328689.759036\n"
     ]
    }
   ],
   "source": [
    "KE=0.98-0.005*p1 # Eq. 15.1\n",
    "Sgap=KE*Pn/(nn*cosphin) # Apparent power (VA), Eq. 15.2\n",
    "print KE\n",
    "print Sgap"
   ]
  },
  {
   "cell_type": "code",
   "execution_count": 104,
   "metadata": {
    "collapsed": false
   },
   "outputs": [
    {
     "name": "stdout",
     "output_type": "stream",
     "text": [
      "0.333821719418\n"
     ]
    }
   ],
   "source": [
    "C0=250e3 # Esson's constant (J/m^3), Fig. 14.14\n",
    "lambda1=1.5 # Stack aspect ratio, Table 15.1\n",
    "Dis=math.pow((2*p1*p1*Sgap)/(math.pi*lambda1*f1*C0),1.0/3.0) # Stator bore diameter (m), Eq. 15.1\n",
    "print Dis"
   ]
  },
  {
   "cell_type": "code",
   "execution_count": 105,
   "metadata": {
    "collapsed": false
   },
   "outputs": [
    {
     "name": "stdout",
     "output_type": "stream",
     "text": [
      "0.262182965333\n",
      "0.393274447999\n"
     ]
    }
   ],
   "source": [
    "tau=math.pi*Dis/(2*p1) # Pole pitch (m), Eq. 15.2\n",
    "L=lambda1*tau # Stack length (m), Eq. 15.2\n",
    "print tau\n",
    "print L"
   ]
  },
  {
   "cell_type": "markdown",
   "metadata": {},
   "source": [
    "From [Electric traction machine choice](http://sites.ieee.org/miami/files/2014/11/Hendershot-FIU-Lecture.pdf);"
   ]
  },
  {
   "cell_type": "code",
   "execution_count": 106,
   "metadata": {
    "collapsed": false
   },
   "outputs": [
    {
     "name": "stdout",
     "output_type": "stream",
     "text": [
      "0.0218485804444\n"
     ]
    }
   ],
   "source": [
    "q=4 # Number of stator slots per pole per phase\n",
    "taus=tau/(m*q) # Slot pitch (m), Eq. 15.3\n",
    "print taus"
   ]
  },
  {
   "cell_type": "code",
   "execution_count": 107,
   "metadata": {
    "collapsed": false
   },
   "outputs": [
    {
     "name": "stdout",
     "output_type": "stream",
     "text": [
      "0.538422128093\n"
     ]
    }
   ],
   "source": [
    "KD=0.62 # Dis/Dout, Table 15.2\n",
    "Dout=Dis/KD # Stator outer diameter (m), Eq. 15.4\n",
    "print Dout"
   ]
  },
  {
   "cell_type": "code",
   "execution_count": 108,
   "metadata": {
    "collapsed": false
   },
   "outputs": [
    {
     "name": "stdout",
     "output_type": "stream",
     "text": [
      "0.000875596488411\n"
     ]
    }
   ],
   "source": [
    "g=(0.1+0.012*math.pow(Pn,1.0/3.0))*1e-3 # Air gap length (m), Eq. 15.5\n",
    "print g"
   ]
  },
  {
   "cell_type": "markdown",
   "metadata": {},
   "source": [
    "## Stator Winding"
   ]
  },
  {
   "cell_type": "code",
   "execution_count": 109,
   "metadata": {
    "collapsed": false
   },
   "outputs": [
    {
     "name": "stdout",
     "output_type": "stream",
     "text": [
      "48\n"
     ]
    }
   ],
   "source": [
    "Ns=2*p1*q*m # Number of stator slots, Eq. 15.6\n",
    "print Ns"
   ]
  },
  {
   "cell_type": "markdown",
   "metadata": {},
   "source": [
    "Two-layer winding with chorded coils, y/$\\tau$=10/12 is chosen as 10/12=0.83 is close to 0.8, which would reduce the first (5$^{th}$ order) stator mmf space harmonic."
   ]
  },
  {
   "cell_type": "code",
   "execution_count": 110,
   "metadata": {
    "collapsed": false
   },
   "outputs": [
    {
     "name": "stdout",
     "output_type": "stream",
     "text": [
      "0.261799387799\n"
     ]
    }
   ],
   "source": [
    "alphaec=2*math.pi*p1/Ns # Electrical angle between emfs in neighboring slots (rad), Eq. 15.7\n",
    "print alphaec"
   ]
  },
  {
   "cell_type": "markdown",
   "metadata": {},
   "source": [
    "The distribution of phases in slots will be given by MotorAnalysis software later."
   ]
  },
  {
   "cell_type": "code",
   "execution_count": 111,
   "metadata": {
    "collapsed": false
   },
   "outputs": [
    {
     "name": "stdout",
     "output_type": "stream",
     "text": [
      "0.957662196943\n"
     ]
    }
   ],
   "source": [
    "Kq1=math.sin(q*alphaec/2)/(q*math.sin(alphaec/2)) # Distribution factor, Eq. 15.8\n",
    "print Kq1"
   ]
  },
  {
   "cell_type": "code",
   "execution_count": 112,
   "metadata": {
    "collapsed": false
   },
   "outputs": [
    {
     "name": "stdout",
     "output_type": "stream",
     "text": [
      "0.965925826289\n"
     ]
    }
   ],
   "source": [
    "Ky1=math.sin(math.pi/2*10/12) # Pitch factor, Eq. 15.9\n",
    "print Ky1"
   ]
  },
  {
   "cell_type": "code",
   "execution_count": 113,
   "metadata": {
    "collapsed": false
   },
   "outputs": [
    {
     "name": "stdout",
     "output_type": "stream",
     "text": [
      "0.925030648888\n"
     ]
    }
   ],
   "source": [
    "Kw1=Kq1*Ky1 # Winding factor\n",
    "print Kw1"
   ]
  },
  {
   "cell_type": "code",
   "execution_count": 114,
   "metadata": {
    "collapsed": false
   },
   "outputs": [
    {
     "name": "stdout",
     "output_type": "stream",
     "text": [
      "0.0488586076188\n"
     ]
    }
   ],
   "source": [
    "Bg=0.65 # Recommended air gap flux density (T), Eq. 15.11\n",
    "Kf=1.085\n",
    "alphai=0.729 # Pole spanning coefficient, Fig. 14.13\n",
    "phi=alphai*tau*L*Bg # Pole flux (Wb), Eq. 15.10\n",
    "print phi\n"
   ]
  },
  {
   "cell_type": "code",
   "execution_count": 115,
   "metadata": {
    "collapsed": false
   },
   "outputs": [
    {
     "name": "stdout",
     "output_type": "stream",
     "text": [
      "9.51706233954\n"
     ]
    }
   ],
   "source": [
    "W1=KE*Vln/(4*Kf*Kw1*f1*phi) # Number of turns per phase, Eq. 15.12\n",
    "print W1"
   ]
  },
  {
   "cell_type": "code",
   "execution_count": 116,
   "metadata": {
    "collapsed": false
   },
   "outputs": [
    {
     "name": "stdout",
     "output_type": "stream",
     "text": [
      "1.18963279244\n"
     ]
    }
   ],
   "source": [
    "a1=1 # Number of current paths in parallel\n",
    "ns=a1*W1/(p1*q) # Number of conductors per slot, Eq. 15.13\n",
    "print ns"
   ]
  },
  {
   "cell_type": "markdown",
   "metadata": {},
   "source": [
    "This should be an even number since there are two distinct coils per slot in a double layer winding."
   ]
  },
  {
   "cell_type": "code",
   "execution_count": 117,
   "metadata": {
    "collapsed": false
   },
   "outputs": [
    {
     "name": "stdout",
     "output_type": "stream",
     "text": [
      "16\n"
     ]
    }
   ],
   "source": [
    "ns=2\n",
    "W1=p1*q*ns\n",
    "print W1"
   ]
  },
  {
   "cell_type": "code",
   "execution_count": 118,
   "metadata": {
    "collapsed": false
   },
   "outputs": [
    {
     "name": "stdout",
     "output_type": "stream",
     "text": [
      "0.386628125\n"
     ]
    }
   ],
   "source": [
    "Bg=Bg*9.517/16 # Actual air gap flux density (T), Eq. 15.15\n",
    "print Bg"
   ]
  },
  {
   "cell_type": "code",
   "execution_count": 119,
   "metadata": {
    "collapsed": false
   },
   "outputs": [
    {
     "name": "stdout",
     "output_type": "stream",
     "text": [
      "978.191344636\n"
     ]
    }
   ],
   "source": [
    "Iln=Pn/(3*Vln*cosphin*nn) # Rated current (A), Eq. 15.16\n",
    "print Iln"
   ]
  },
  {
   "cell_type": "code",
   "execution_count": 120,
   "metadata": {
    "collapsed": false
   },
   "outputs": [
    {
     "name": "stdout",
     "output_type": "stream",
     "text": [
      "139.741620662\n"
     ]
    }
   ],
   "source": [
    "Jcos=7 # Current density (A/mm^2), Eq. 15.17\n",
    "Aco=Iln/(Jcos*a1) # Magnetic wire cross section (mm^2), Eq. 15.18\n",
    "print Aco"
   ]
  },
  {
   "cell_type": "code",
   "execution_count": 122,
   "metadata": {
    "collapsed": false
   },
   "outputs": [
    {
     "name": "stdout",
     "output_type": "stream",
     "text": [
      "13.3388364362\n",
      "2.66776728725\n"
     ]
    }
   ],
   "source": [
    "dco=math.sqrt(4*Aco/math.pi) # Wire gauge diameter (mm), Eq. 15.19\n",
    "print dco"
   ]
  },
  {
   "cell_type": "markdown",
   "metadata": {},
   "source": [
    "We can use few conductors in parallel, $a_p$=5."
   ]
  },
  {
   "cell_type": "code",
   "execution_count": 128,
   "metadata": {
    "collapsed": false
   },
   "outputs": [
    {
     "name": "stdout",
     "output_type": "stream",
     "text": [
      "4.21811044749\n"
     ]
    }
   ],
   "source": [
    "ap=10\n",
    "dco=math.sqrt(4*Aco/(math.pi*ap)) # Wire gauge diameter (mm), Eq. 15.19\n",
    "print dco"
   ]
  },
  {
   "cell_type": "code",
   "execution_count": 24,
   "metadata": {
    "collapsed": false
   },
   "outputs": [
    {
     "name": "stdout",
     "output_type": "stream",
     "text": [
      "38464.3700122\n"
     ]
    }
   ],
   "source": [
    "A1=C0/(Kf*alphai*Kw1*3.14*Bg*2*p1)\n",
    "print A1"
   ]
  },
  {
   "cell_type": "markdown",
   "metadata": {},
   "source": [
    "# Stator Slot Sizing"
   ]
  },
  {
   "cell_type": "code",
   "execution_count": 25,
   "metadata": {
    "collapsed": false
   },
   "outputs": [
    {
     "name": "stdout",
     "output_type": "stream",
     "text": [
      "124.407069082\n"
     ]
    }
   ],
   "source": [
    "Kfill=0.44\n",
    "dco=1.32\n",
    "ap=5\n",
    "Asu=math.pi*math.pow(dco,2)*ap*ns/(4*Kfill)\n",
    "print Asu"
   ]
  },
  {
   "cell_type": "code",
   "execution_count": 26,
   "metadata": {
    "collapsed": false
   },
   "outputs": [
    {
     "name": "stdout",
     "output_type": "stream",
     "text": [
      "0.0291215941612\n",
      "0.00700477190729\n",
      "0.0141991419784\n"
     ]
    }
   ],
   "source": [
    "print taus\n",
    "print 8*g\n",
    "Kfe=0.96\n",
    "Bts=1.55\n",
    "bts=Bg*taus*L/(Bts*L*Kfe)\n",
    "print bts"
   ]
  },
  {
   "cell_type": "code",
   "execution_count": 27,
   "metadata": {
    "collapsed": false
   },
   "outputs": [
    {
     "name": "stdout",
     "output_type": "stream",
     "text": [
      "0.0153735553912\n"
     ]
    }
   ],
   "source": [
    "bos=2.2e-3\n",
    "hos=1e-3\n",
    "hw=1.5e-3\n",
    "bs1=math.pi*(Dis+2*hos+2*hw)/Ns-bts\n",
    "print bs1"
   ]
  },
  {
   "cell_type": "code",
   "execution_count": 28,
   "metadata": {
    "collapsed": false
   },
   "outputs": [
    {
     "name": "stdout",
     "output_type": "stream",
     "text": [
      "0.0065982625876\n"
     ]
    }
   ],
   "source": [
    "bs2=math.sqrt(4*Asu*math.tan(math.pi/Ns)+math.pow(bs1,2))*1e-3\n",
    "print bs2"
   ]
  },
  {
   "cell_type": "code",
   "execution_count": 29,
   "metadata": {
    "collapsed": false
   },
   "outputs": [
    {
     "name": "stdout",
     "output_type": "stream",
     "text": [
      "0.0113242399152\n"
     ]
    }
   ],
   "source": [
    "hs=2*Asu/(bs1+bs2)*1e-6\n",
    "print hs"
   ]
  },
  {
   "cell_type": "code",
   "execution_count": 30,
   "metadata": {
    "collapsed": false
   },
   "outputs": [
    {
     "name": "stdout",
     "output_type": "stream",
     "text": [
      "606.631951354\n"
     ]
    }
   ],
   "source": [
    "Fmg=1.2*g*Bg/(4*math.pi*1e-7)\n",
    "print Fmg"
   ]
  },
  {
   "cell_type": "code",
   "execution_count": 31,
   "metadata": {
    "collapsed": false
   },
   "outputs": [
    {
     "name": "stdout",
     "output_type": "stream",
     "text": [
      "24.3306622507\n"
     ]
    }
   ],
   "source": [
    "Hts=1760\n",
    "Fmts=Hts*(hs+hos+hw)\n",
    "print Fmts"
   ]
  },
  {
   "cell_type": "code",
   "execution_count": 32,
   "metadata": {
    "collapsed": false
   },
   "outputs": [
    {
     "name": "stdout",
     "output_type": "stream",
     "text": [
      "218.322118291\n"
     ]
    }
   ],
   "source": [
    "Kst=1.4-1\n",
    "Fmtr=Kst*Fmg-Fmts\n",
    "print Fmtr"
   ]
  },
  {
   "cell_type": "code",
   "execution_count": 33,
   "metadata": {
    "collapsed": false
   },
   "outputs": [
    {
     "name": "stdout",
     "output_type": "stream",
     "text": [
      "0.0884932575487\n"
     ]
    }
   ],
   "source": [
    "hcs=(Dout-(Dis+2*(hos+hw+hs)))/2\n",
    "print hcs"
   ]
  },
  {
   "cell_type": "code",
   "execution_count": 34,
   "metadata": {
    "collapsed": false
   },
   "outputs": [
    {
     "name": "stdout",
     "output_type": "stream",
     "text": [
      "0.755688903364\n"
     ]
    }
   ],
   "source": [
    "Bcs=phi/(2*L*hcs)\n",
    "print Bcs"
   ]
  },
  {
   "cell_type": "markdown",
   "metadata": {},
   "source": [
    "# Rotor Slots"
   ]
  },
  {
   "cell_type": "code",
   "execution_count": 35,
   "metadata": {
    "collapsed": false
   },
   "outputs": [
    {
     "name": "stdout",
     "output_type": "stream",
     "text": [
      "36\n"
     ]
    }
   ],
   "source": [
    "print Ns"
   ]
  },
  {
   "cell_type": "code",
   "execution_count": 36,
   "metadata": {
    "collapsed": false
   },
   "outputs": [
    {
     "name": "stdout",
     "output_type": "stream",
     "text": [
      "7838.92674395\n"
     ]
    }
   ],
   "source": [
    "Nr=28\n",
    "K1=0.8*cosphin+0.2\n",
    "Ib=K1*(2*m*W1*Kw1)/Nr*Iln\n",
    "print Ib"
   ]
  },
  {
   "cell_type": "code",
   "execution_count": 37,
   "metadata": {
    "collapsed": false
   },
   "outputs": [
    {
     "name": "stdout",
     "output_type": "stream",
     "text": [
      "0.00195973168599\n"
     ]
    }
   ],
   "source": [
    "Jb=4\n",
    "Ab=Ib/Jb*1e-6\n",
    "print Ab"
   ]
  },
  {
   "cell_type": "code",
   "execution_count": 38,
   "metadata": {
    "collapsed": false
   },
   "outputs": [
    {
     "name": "stdout",
     "output_type": "stream",
     "text": [
      "17613.9085087\n"
     ]
    }
   ],
   "source": [
    "Icr=Ib/(2*math.sin(math.pi*p1/Nr))\n",
    "print Icr"
   ]
  },
  {
   "cell_type": "code",
   "execution_count": 39,
   "metadata": {
    "collapsed": false
   },
   "outputs": [
    {
     "name": "stdout",
     "output_type": "stream",
     "text": [
      "0.00587130283623\n"
     ]
    }
   ],
   "source": [
    "Jcr=0.75*Jb*1e6\n",
    "Acr=Icr/Jcr\n",
    "print Acr"
   ]
  },
  {
   "cell_type": "code",
   "execution_count": 40,
   "metadata": {
    "collapsed": false
   },
   "outputs": [
    {
     "name": "stdout",
     "output_type": "stream",
     "text": [
      "0.0372645573945\n"
     ]
    }
   ],
   "source": [
    "hor=0.5e-3\n",
    "bor=1.5e-3\n",
    "taur=math.pi*(Dis-2*g)/Nr\n",
    "print taur"
   ]
  },
  {
   "cell_type": "code",
   "execution_count": 41,
   "metadata": {
    "collapsed": false
   },
   "outputs": [
    {
     "name": "stdout",
     "output_type": "stream",
     "text": [
      "0.0176017009991\n"
     ]
    }
   ],
   "source": [
    "Btr=1.60\n",
    "btr=Bg/(Kfe*Btr)*taur\n",
    "print btr"
   ]
  },
  {
   "cell_type": "code",
   "execution_count": 42,
   "metadata": {
    "collapsed": false
   },
   "outputs": [
    {
     "name": "stdout",
     "output_type": "stream",
     "text": [
      "0.333878149619\n",
      "0.333002553131\n",
      "0.017666699325\n"
     ]
    }
   ],
   "source": [
    "print Dis\n",
    "Dre=Dis-g\n",
    "print Dre\n",
    "d1=(math.pi*(Dre-2*hor)-Nr*btr)/(math.pi+Nr)\n",
    "print d1"
   ]
  }
 ],
 "metadata": {
  "kernelspec": {
   "display_name": "Python 2",
   "language": "python",
   "name": "python2"
  },
  "language_info": {
   "codemirror_mode": {
    "name": "ipython",
    "version": 2
   },
   "file_extension": ".py",
   "mimetype": "text/x-python",
   "name": "python",
   "nbconvert_exporter": "python",
   "pygments_lexer": "ipython2",
   "version": "2.7.9"
  }
 },
 "nbformat": 4,
 "nbformat_minor": 0
}
