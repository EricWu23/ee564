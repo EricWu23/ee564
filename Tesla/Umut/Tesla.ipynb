{
 "cells": [
  {
   "cell_type": "markdown",
   "metadata": {},
   "source": [
    "# EE 564 Project 2\n",
    "\n",
    "## Tesla Model S Motor Design\n",
    "\n",
    "\n",
    "[Tesla Model S](http://www.teslamotors.com/models)\n",
    "\n",
    "[RWD 85 Model](http://en.wikipedia.org/wiki/Tesla_Model_S#Powertrain)\n",
    "\n",
    "* Max. Power: 360 hp (270 kW)\n",
    "* Max. Torque: 441 Nm\n",
    "* Top Speed: 225 km/h \n",
    "\n",
    "[Specs1](http://teslatap.com/undocumented/) and [Specs2](http://my.teslamotors.com/it_IT/forum/forums/tesla-model-s-motor-output)\n",
    "\n",
    "**Useful Links:**\n",
    "\n",
    "* [How does Tesla make their motors in the model S so small?](http://www.reddit.com/r/AskEngineers/comments/2mv2h5/how_does_tesla_make_their_motors_in_the_model_s/)\n",
    "\n",
    "* [Tesla Motor Technology](http://my.teslamotors.com/roadster/technology/motor)\n",
    "\n",
    "* [Electric traction machine choice](http://sites.ieee.org/miami/files/2014/11/Hendershot-FIU-Lecture.pdf)"
   ]
  },
  {
   "cell_type": "code",
   "execution_count": 66,
   "metadata": {
    "collapsed": false
   },
   "outputs": [],
   "source": [
    "Pn = 270000\n",
    "ntarget = 0.96\n",
    "Vln=600\n",
    "f1=60\n",
    "p1=2\n",
    "m=3"
   ]
  },
  {
   "cell_type": "code",
   "execution_count": 67,
   "metadata": {
    "collapsed": false
   },
   "outputs": [
    {
     "name": "stdout",
     "output_type": "stream",
     "text": [
      "0.97\n",
      "303125.0\n"
     ]
    }
   ],
   "source": [
    "import math\n",
    "KE=0.98-0.005*p1\n",
    "cosphin=0.9\n",
    "nn=0.96\n",
    "Sgap=KE*Pn/(nn*cosphin)\n",
    "print KE\n",
    "print Sgap"
   ]
  },
  {
   "cell_type": "code",
   "execution_count": 68,
   "metadata": {
    "collapsed": false
   },
   "outputs": [
    {
     "name": "stdout",
     "output_type": "stream",
     "text": [
      "0.324987401643\n"
     ]
    }
   ],
   "source": [
    "C0=250e3\n",
    "lambda1=1.5\n",
    "Dis=math.pow((2*p1*p1*Sgap)/(3.14*lambda1*f1*C0),1.0/3.0)\n",
    "print Dis"
   ]
  },
  {
   "cell_type": "code",
   "execution_count": 69,
   "metadata": {
    "collapsed": false
   },
   "outputs": [
    {
     "name": "stdout",
     "output_type": "stream",
     "text": [
      "0.382672665434\n"
     ]
    }
   ],
   "source": [
    "g=1.5e-3\n",
    "tau=3.14*Dis/(2*p1)\n",
    "L=lambda1*tau\n",
    "print L"
   ]
  },
  {
   "cell_type": "code",
   "execution_count": 70,
   "metadata": {
    "collapsed": false
   },
   "outputs": [
    {
     "name": "stdout",
     "output_type": "stream",
     "text": [
      "0.255115110289\n",
      "0.0283461233655\n"
     ]
    }
   ],
   "source": [
    "q=3\n",
    "taus=tau/(3*q)\n",
    "print tau\n",
    "print taus"
   ]
  },
  {
   "cell_type": "code",
   "execution_count": 71,
   "metadata": {
    "collapsed": false
   },
   "outputs": [
    {
     "name": "stdout",
     "output_type": "stream",
     "text": [
      "0.524173228456\n"
     ]
    }
   ],
   "source": [
    "KD=0.62\n",
    "Dout=Dis/KD\n",
    "print Dout"
   ]
  },
  {
   "cell_type": "code",
   "execution_count": 72,
   "metadata": {
    "collapsed": false
   },
   "outputs": [
    {
     "name": "stdout",
     "output_type": "stream",
     "text": [
      "0.000875596488411\n"
     ]
    }
   ],
   "source": [
    "g=(0.1+0.012*math.pow(Pn,1.0/3.0))*1e-3\n",
    "print g"
   ]
  },
  {
   "cell_type": "markdown",
   "metadata": {},
   "source": [
    "# Stator Winding"
   ]
  },
  {
   "cell_type": "code",
   "execution_count": 73,
   "metadata": {
    "collapsed": false
   },
   "outputs": [
    {
     "name": "stdout",
     "output_type": "stream",
     "text": [
      "36\n"
     ]
    }
   ],
   "source": [
    "Ns=2*p1*q*m\n",
    "print Ns"
   ]
  },
  {
   "cell_type": "code",
   "execution_count": 74,
   "metadata": {
    "collapsed": false
   },
   "outputs": [
    {
     "name": "stdout",
     "output_type": "stream",
     "text": [
      "0.348888888889\n"
     ]
    }
   ],
   "source": [
    "alphaec=2*3.14*p1/Ns\n",
    "print alphaec"
   ]
  },
  {
   "cell_type": "code",
   "execution_count": 75,
   "metadata": {
    "collapsed": false
   },
   "outputs": [
    {
     "name": "stdout",
     "output_type": "stream",
     "text": [
      "0.959835420315\n"
     ]
    }
   ],
   "source": [
    "Kq1=math.sin(3.14/(2*m))/(q*math.sin(3.14/(2*m*q)))\n",
    "print Kq1"
   ]
  },
  {
   "cell_type": "code",
   "execution_count": 76,
   "metadata": {
    "collapsed": false
   },
   "outputs": [
    {
     "name": "stdout",
     "output_type": "stream",
     "text": [
      "0.939480605157\n"
     ]
    }
   ],
   "source": [
    "Ky1=math.sin(3.14/2*7/9)\n",
    "print Ky1"
   ]
  },
  {
   "cell_type": "code",
   "execution_count": 77,
   "metadata": {
    "collapsed": false
   },
   "outputs": [
    {
     "name": "stdout",
     "output_type": "stream",
     "text": [
      "0.901746761529\n"
     ]
    }
   ],
   "source": [
    "Kw1=Kq1*Ky1\n",
    "print Kw1"
   ]
  },
  {
   "cell_type": "code",
   "execution_count": 78,
   "metadata": {
    "collapsed": false
   },
   "outputs": [
    {
     "name": "stdout",
     "output_type": "stream",
     "text": [
      "0.0498183330897\n"
     ]
    }
   ],
   "source": [
    "Bg=0.7\n",
    "Kf=1.085\n",
    "alphai=0.729\n",
    "phi=alphai*tau*L*Bg\n",
    "print phi\n"
   ]
  },
  {
   "cell_type": "code",
   "execution_count": 79,
   "metadata": {
    "collapsed": false
   },
   "outputs": [
    {
     "name": "stdout",
     "output_type": "stream",
     "text": [
      "49.751733951\n"
     ]
    }
   ],
   "source": [
    "W1=KE*Vln/(4*Kf*Kw1*f1*phi)\n",
    "print W1"
   ]
  },
  {
   "cell_type": "code",
   "execution_count": 80,
   "metadata": {
    "collapsed": false
   },
   "outputs": [
    {
     "name": "stdout",
     "output_type": "stream",
     "text": [
      "8.29195565851\n"
     ]
    }
   ],
   "source": [
    "a1=1\n",
    "ns=a1*W1/(p1*q)\n",
    "print ns"
   ]
  },
  {
   "cell_type": "code",
   "execution_count": 81,
   "metadata": {
    "collapsed": false
   },
   "outputs": [
    {
     "name": "stdout",
     "output_type": "stream",
     "text": [
      "48\n"
     ]
    }
   ],
   "source": [
    "ns=8\n",
    "W1=p1*q*ns\n",
    "print W1"
   ]
  },
  {
   "cell_type": "code",
   "execution_count": 82,
   "metadata": {
    "collapsed": false
   },
   "outputs": [
    {
     "name": "stdout",
     "output_type": "stream",
     "text": [
      "0.725520833333\n"
     ]
    }
   ],
   "source": [
    "Bg=Bg*49.75/48\n",
    "print Bg"
   ]
  },
  {
   "cell_type": "code",
   "execution_count": 83,
   "metadata": {
    "collapsed": false
   },
   "outputs": [
    {
     "name": "stdout",
     "output_type": "stream",
     "text": [
      "173.611111111\n"
     ]
    }
   ],
   "source": [
    "Iln=Pn/(3*Vln*cosphin*nn)\n",
    "print Iln"
   ]
  },
  {
   "cell_type": "code",
   "execution_count": 84,
   "metadata": {
    "collapsed": false
   },
   "outputs": [
    {
     "name": "stdout",
     "output_type": "stream",
     "text": [
      "34.7222222222\n"
     ]
    }
   ],
   "source": [
    "Jcos=5\n",
    "Aco=Iln/(Jcos*a1)\n",
    "print Aco"
   ]
  },
  {
   "cell_type": "code",
   "execution_count": 85,
   "metadata": {
    "collapsed": false
   },
   "outputs": [
    {
     "name": "stdout",
     "output_type": "stream",
     "text": [
      "6.65072403723\n",
      "1.33014480745\n"
     ]
    }
   ],
   "source": [
    "dco=math.sqrt(4*Aco/3.14)\n",
    "print dco\n",
    "print dco/5"
   ]
  },
  {
   "cell_type": "code",
   "execution_count": 86,
   "metadata": {
    "collapsed": false
   },
   "outputs": [
    {
     "name": "stdout",
     "output_type": "stream",
     "text": [
      "38464.3700122\n"
     ]
    }
   ],
   "source": [
    "A1=C0/(Kf*alphai*Kw1*3.14*Bg*2*p1)\n",
    "print A1"
   ]
  },
  {
   "cell_type": "markdown",
   "metadata": {},
   "source": [
    "# Stator Slot Sizing"
   ]
  },
  {
   "cell_type": "code",
   "execution_count": 87,
   "metadata": {
    "collapsed": false
   },
   "outputs": [
    {
     "name": "stdout",
     "output_type": "stream",
     "text": [
      "124.407069082\n"
     ]
    }
   ],
   "source": [
    "Kfill=0.44\n",
    "dco=1.32\n",
    "ap=5\n",
    "Asu=math.pi*math.pow(dco,2)*ap*ns/(4*Kfill)\n",
    "print Asu"
   ]
  },
  {
   "cell_type": "code",
   "execution_count": 88,
   "metadata": {
    "collapsed": false
   },
   "outputs": [
    {
     "name": "stdout",
     "output_type": "stream",
     "text": [
      "0.0283461233655\n",
      "0.00700477190729\n",
      "0.0138210369932\n"
     ]
    }
   ],
   "source": [
    "print taus\n",
    "print 8*g\n",
    "Kfe=0.96\n",
    "Bts=1.55\n",
    "bts=Bg*taus*L/(Bts*L*Kfe)\n",
    "print bts"
   ]
  },
  {
   "cell_type": "code",
   "execution_count": 89,
   "metadata": {
    "collapsed": false
   },
   "outputs": [
    {
     "name": "stdout",
     "output_type": "stream",
     "text": [
      "0.0149757962506\n"
     ]
    }
   ],
   "source": [
    "bos=2.2e-3\n",
    "hos=1e-3\n",
    "hw=1.5e-3\n",
    "bs1=math.pi*(Dis+2*hos+2*hw)/Ns-bts\n",
    "print bs1"
   ]
  },
  {
   "cell_type": "code",
   "execution_count": 90,
   "metadata": {
    "collapsed": false
   },
   "outputs": [
    {
     "name": "stdout",
     "output_type": "stream",
     "text": [
      "0.00659826167283\n"
     ]
    }
   ],
   "source": [
    "bs2=math.sqrt(4*Asu*math.tan(math.pi/Ns)+math.pow(bs1,2))*1e-3\n",
    "print bs2"
   ]
  },
  {
   "cell_type": "code",
   "execution_count": 91,
   "metadata": {
    "collapsed": false
   },
   "outputs": [
    {
     "name": "stdout",
     "output_type": "stream",
     "text": [
      "0.01153302448\n"
     ]
    }
   ],
   "source": [
    "hs=2*Asu/(bs1+bs2)*1e-6\n",
    "print hs"
   ]
  },
  {
   "cell_type": "code",
   "execution_count": 92,
   "metadata": {
    "collapsed": false
   },
   "outputs": [
    {
     "name": "stdout",
     "output_type": "stream",
     "text": [
      "606.631951354\n"
     ]
    }
   ],
   "source": [
    "Fmg=1.2*g*Bg/(4*math.pi*1e-7)\n",
    "print Fmg"
   ]
  },
  {
   "cell_type": "code",
   "execution_count": 93,
   "metadata": {
    "collapsed": false
   },
   "outputs": [
    {
     "name": "stdout",
     "output_type": "stream",
     "text": [
      "24.6981230848\n"
     ]
    }
   ],
   "source": [
    "Hts=1760\n",
    "Fmts=Hts*(hs+hos+hw)\n",
    "print Fmts"
   ]
  },
  {
   "cell_type": "code",
   "execution_count": 95,
   "metadata": {
    "collapsed": false
   },
   "outputs": [
    {
     "name": "stdout",
     "output_type": "stream",
     "text": [
      "217.954657457\n"
     ]
    }
   ],
   "source": [
    "Kst=1.4-1\n",
    "Fmtr=Kst*Fmg-Fmts\n",
    "print Fmtr"
   ]
  },
  {
   "cell_type": "code",
   "execution_count": 97,
   "metadata": {
    "collapsed": false
   },
   "outputs": [
    {
     "name": "stdout",
     "output_type": "stream",
     "text": [
      "0.0855598889266\n"
     ]
    }
   ],
   "source": [
    "hcs=(Dout-(Dis+2*(hos+hw+hs)))/2\n",
    "print hcs"
   ]
  },
  {
   "cell_type": "code",
   "execution_count": 99,
   "metadata": {
    "collapsed": false
   },
   "outputs": [
    {
     "name": "stdout",
     "output_type": "stream",
     "text": [
      "0.760784302165\n"
     ]
    }
   ],
   "source": [
    "Bcs=phi/(2*L*hcs)\n",
    "print Bcs"
   ]
  },
  {
   "cell_type": "markdown",
   "metadata": {},
   "source": [
    "# Rotor Slots"
   ]
  },
  {
   "cell_type": "code",
   "execution_count": 101,
   "metadata": {
    "collapsed": false
   },
   "outputs": [
    {
     "name": "stdout",
     "output_type": "stream",
     "text": [
      "36\n"
     ]
    }
   ],
   "source": [
    "print Ns"
   ]
  },
  {
   "cell_type": "code",
   "execution_count": 103,
   "metadata": {
    "collapsed": false
   },
   "outputs": [
    {
     "name": "stdout",
     "output_type": "stream",
     "text": [
      "1481.44110823\n"
     ]
    }
   ],
   "source": [
    "Nr=28\n",
    "K1=0.8*cosphin+0.2\n",
    "Ib=K1*(2*m*W1*Kw1)/Nr*Iln\n",
    "print Ib"
   ]
  },
  {
   "cell_type": "code",
   "execution_count": 105,
   "metadata": {
    "collapsed": false
   },
   "outputs": [
    {
     "name": "stdout",
     "output_type": "stream",
     "text": [
      "0.000370360277056\n"
     ]
    }
   ],
   "source": [
    "Jb=4\n",
    "Ab=Ib/Jb*1e-6\n",
    "print Ab"
   ]
  },
  {
   "cell_type": "code",
   "execution_count": 107,
   "metadata": {
    "collapsed": false
   },
   "outputs": [
    {
     "name": "stdout",
     "output_type": "stream",
     "text": [
      "3328.76795429\n"
     ]
    }
   ],
   "source": [
    "Icr=Ib/(2*math.sin(math.pi*p1/Nr))\n",
    "print Icr"
   ]
  },
  {
   "cell_type": "code",
   "execution_count": 109,
   "metadata": {
    "collapsed": false
   },
   "outputs": [
    {
     "name": "stdout",
     "output_type": "stream",
     "text": [
      "0.0011095893181\n"
     ]
    }
   ],
   "source": [
    "Jcr=0.75*Jb*1e6\n",
    "Acr=Icr/Jcr\n",
    "print Acr"
   ]
  },
  {
   "cell_type": "code",
   "execution_count": 111,
   "metadata": {
    "collapsed": false
   },
   "outputs": [
    {
     "name": "stdout",
     "output_type": "stream",
     "text": [
      "0.0362670178042\n"
     ]
    }
   ],
   "source": [
    "hor=0.5e-3\n",
    "bor=1.5e-3\n",
    "taur=math.pi*(Dis-2*g)/Nr\n",
    "print taur"
   ]
  },
  {
   "cell_type": "code",
   "execution_count": 113,
   "metadata": {
    "collapsed": false
   },
   "outputs": [
    {
     "name": "stdout",
     "output_type": "stream",
     "text": [
      "0.0171305188671\n"
     ]
    }
   ],
   "source": [
    "Btr=1.60\n",
    "btr=Bg/(Kfe*Btr)*taur\n",
    "print btr"
   ]
  },
  {
   "cell_type": "code",
   "execution_count": 116,
   "metadata": {
    "collapsed": false
   },
   "outputs": [
    {
     "name": "stdout",
     "output_type": "stream",
     "text": [
      "0.324987401643\n",
      "0.324111805154\n",
      "0.0171934412937\n"
     ]
    }
   ],
   "source": [
    "print Dis\n",
    "Dre=Dis-g\n",
    "print Dre\n",
    "d1=(math.pi*(Dre-2*hor)-Nr*btr)/(math.pi+Nr)\n",
    "print d1"
   ]
  }
 ],
 "metadata": {
  "kernelspec": {
   "display_name": "Python 2",
   "language": "python",
   "name": "python2"
  },
  "language_info": {
   "codemirror_mode": {
    "name": "ipython",
    "version": 2
   },
   "file_extension": ".py",
   "mimetype": "text/x-python",
   "name": "python",
   "nbconvert_exporter": "python",
   "pygments_lexer": "ipython2",
   "version": "2.7.9"
  }
 },
 "nbformat": 4,
 "nbformat_minor": 0
}
