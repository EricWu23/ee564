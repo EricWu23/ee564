{
 "cells": [
  {
   "cell_type": "markdown",
   "metadata": {},
   "source": [
    "# EE 564 Project 2\n",
    "\n",
    "## Tesla Model S Motor Design\n",
    "\n",
    "\n",
    "[Tesla Model S](http://www.teslamotors.com/models)\n",
    "\n",
    "[RWD 85 Model](http://en.wikipedia.org/wiki/Tesla_Model_S#Powertrain)\n",
    "\n",
    "* Max. Power: 360 hp (270 kW)\n",
    "* Max. Torque: 441 Nm\n",
    "* Top Speed: 225 km/h \n",
    "\n",
    "[Specs1](http://teslatap.com/undocumented/) and [Specs2](http://my.teslamotors.com/it_IT/forum/forums/tesla-model-s-motor-output)\n",
    "\n",
    "**Useful Links:**\n",
    "\n",
    "* [How does Tesla make their motors in the model S so small?](http://www.reddit.com/r/AskEngineers/comments/2mv2h5/how_does_tesla_make_their_motors_in_the_model_s/)\n",
    "\n",
    "* [Tesla Motor Technology](http://my.teslamotors.com/roadster/technology/motor)\n",
    "\n",
    "* [Electric traction machine choice](http://sites.ieee.org/miami/files/2014/11/Hendershot-FIU-Lecture.pdf)"
   ]
  },
  {
   "cell_type": "markdown",
   "metadata": {},
   "source": [
    "## Design Specifications\n",
    "\n",
    "From [Specs1](http://teslatap.com/undocumented/): \"Motor Inverter – This converts the DC battery voltage to AC, powering the motor. It delivers up to 1000 amps (from 2010 10K annual report).\""
   ]
  },
  {
   "cell_type": "code",
   "execution_count": 1,
   "metadata": {
    "collapsed": false
   },
   "outputs": [
    {
     "name": "stdout",
     "output_type": "stream",
     "text": [
      "155.884572681\n",
      "90.0\n"
     ]
    }
   ],
   "source": [
    "import math\n",
    "Pn=270e3 # Max. power (W)\n",
    "Iline=1000.0 # Max. current (A)\n",
    "Vll=Pn/(math.sqrt(3)*Iline) # Max. L-L voltage (V)\n",
    "Vln=Vll/math.sqrt(3) # Max. L-N voltage (V)\n",
    "print Vll\n",
    "print Vln"
   ]
  },
  {
   "cell_type": "code",
   "execution_count": 2,
   "metadata": {
    "collapsed": true
   },
   "outputs": [],
   "source": [
    "Vll=200.0 # Design motor with 200 V rating\n",
    "Vln=Vll/math.sqrt(3)\n",
    "f1=60.0 # Supply frequency (Hz)\n",
    "m=3.0 # Number of phases, Star-connected\n",
    "nn=0.96 # Target efficiency\n",
    "cosphin=0.83 # Target power factor"
   ]
  },
  {
   "cell_type": "markdown",
   "metadata": {},
   "source": [
    "From [Electric traction machine choice](http://sites.ieee.org/miami/files/2014/11/Hendershot-FIU-Lecture.pdf) Slide 38;"
   ]
  },
  {
   "cell_type": "code",
   "execution_count": 3,
   "metadata": {
    "collapsed": true
   },
   "outputs": [],
   "source": [
    "p1=2.0 # Number of pole pairs"
   ]
  },
  {
   "cell_type": "markdown",
   "metadata": {},
   "source": [
    "## Main Dimensions of Stator Core\n",
    "\n",
    "Reference: I. Boldea and S.A. Nasar, \"The Induction Machine Handbook\", CRC Press LLC, 2002.\n",
    "\n",
    "Equation, figure and table numbers are given as comments next to the equation."
   ]
  },
  {
   "cell_type": "code",
   "execution_count": 4,
   "metadata": {
    "collapsed": false
   },
   "outputs": [
    {
     "name": "stdout",
     "output_type": "stream",
     "text": [
      "0.97\n",
      "328689.759036\n"
     ]
    }
   ],
   "source": [
    "KE=0.98-0.005*p1 # Eq. 15.1\n",
    "Sgap=KE*Pn/(nn*cosphin) # Apparent power (VA), Eq. 15.2\n",
    "print KE\n",
    "print Sgap"
   ]
  },
  {
   "cell_type": "code",
   "execution_count": 5,
   "metadata": {
    "collapsed": false
   },
   "outputs": [
    {
     "name": "stdout",
     "output_type": "stream",
     "text": [
      "0.333821719418\n"
     ]
    }
   ],
   "source": [
    "C0=250e3 # Esson's constant (J/m^3), Fig. 14.14\n",
    "lambda1=1.5 # Stack aspect ratio, Table 15.1\n",
    "Dis=math.pow((2.0*p1*p1*Sgap)/(math.pi*lambda1*f1*C0),1.0/3.0) # Stator bore diameter (m), Eq. 15.1\n",
    "print Dis"
   ]
  },
  {
   "cell_type": "code",
   "execution_count": 6,
   "metadata": {
    "collapsed": false
   },
   "outputs": [
    {
     "name": "stdout",
     "output_type": "stream",
     "text": [
      "0.262182965333\n",
      "0.393274447999\n"
     ]
    }
   ],
   "source": [
    "tau=math.pi*Dis/(2.0*p1) # Pole pitch (m), Eq. 15.2\n",
    "L=lambda1*tau # Stack length (m), Eq. 15.2\n",
    "print tau\n",
    "print L"
   ]
  },
  {
   "cell_type": "markdown",
   "metadata": {},
   "source": [
    "From [Electric traction machine choice](http://sites.ieee.org/miami/files/2014/11/Hendershot-FIU-Lecture.pdf) Slide 40;"
   ]
  },
  {
   "cell_type": "code",
   "execution_count": 7,
   "metadata": {
    "collapsed": false
   },
   "outputs": [
    {
     "name": "stdout",
     "output_type": "stream",
     "text": [
      "0.0218485804444\n"
     ]
    }
   ],
   "source": [
    "q=4.0 # Number of stator slots per pole per phase\n",
    "taus=tau/(m*q) # Slot pitch (m), Eq. 15.3\n",
    "print taus"
   ]
  },
  {
   "cell_type": "code",
   "execution_count": 8,
   "metadata": {
    "collapsed": false
   },
   "outputs": [
    {
     "name": "stdout",
     "output_type": "stream",
     "text": [
      "0.538422128093\n"
     ]
    }
   ],
   "source": [
    "KD=0.62 # Dis/Dout, Table 15.2\n",
    "Dout=Dis/KD # Stator outer diameter (m), Eq. 15.4\n",
    "print Dout"
   ]
  },
  {
   "cell_type": "code",
   "execution_count": 9,
   "metadata": {
    "collapsed": false
   },
   "outputs": [
    {
     "name": "stdout",
     "output_type": "stream",
     "text": [
      "0.000875596488411\n"
     ]
    }
   ],
   "source": [
    "g=(0.1+0.012*math.pow(Pn,1.0/3.0))*1e-3 # Air gap length (m), Eq. 15.5\n",
    "print g"
   ]
  },
  {
   "cell_type": "markdown",
   "metadata": {},
   "source": [
    "## Stator Winding"
   ]
  },
  {
   "cell_type": "code",
   "execution_count": 10,
   "metadata": {
    "collapsed": false
   },
   "outputs": [
    {
     "name": "stdout",
     "output_type": "stream",
     "text": [
      "48.0\n"
     ]
    }
   ],
   "source": [
    "Ns=2.0*p1*q*m # Number of stator slots, Eq. 15.6\n",
    "print Ns"
   ]
  },
  {
   "cell_type": "markdown",
   "metadata": {},
   "source": [
    "Two-layer winding with chorded coils, y/$\\tau$=10/12 is chosen as 10/12=0.83 is close to 0.8, which would reduce the first (5$^{th}$ order) stator mmf space harmonic."
   ]
  },
  {
   "cell_type": "code",
   "execution_count": 11,
   "metadata": {
    "collapsed": false
   },
   "outputs": [
    {
     "name": "stdout",
     "output_type": "stream",
     "text": [
      "0.261799387799\n"
     ]
    }
   ],
   "source": [
    "alphaec=2.0*math.pi*p1/Ns # Electrical angle between emfs in neighboring slots (rad), Eq. 15.7\n",
    "print alphaec"
   ]
  },
  {
   "cell_type": "markdown",
   "metadata": {},
   "source": [
    "The distribution of phases in slots will be given by MotorAnalysis software later."
   ]
  },
  {
   "cell_type": "code",
   "execution_count": 12,
   "metadata": {
    "collapsed": false
   },
   "outputs": [
    {
     "name": "stdout",
     "output_type": "stream",
     "text": [
      "0.957662196943\n"
     ]
    }
   ],
   "source": [
    "Kq1=math.sin(q*alphaec/2.0)/(q*math.sin(alphaec/2.0)) # Distribution factor, Eq. 15.8\n",
    "print Kq1"
   ]
  },
  {
   "cell_type": "code",
   "execution_count": 13,
   "metadata": {
    "collapsed": false
   },
   "outputs": [
    {
     "name": "stdout",
     "output_type": "stream",
     "text": [
      "0.965925826289\n"
     ]
    }
   ],
   "source": [
    "Ky1=math.sin(math.pi/2.0*10.0/12.0) # Pitch factor, Eq. 15.9\n",
    "print Ky1"
   ]
  },
  {
   "cell_type": "code",
   "execution_count": 14,
   "metadata": {
    "collapsed": false
   },
   "outputs": [
    {
     "name": "stdout",
     "output_type": "stream",
     "text": [
      "0.925030648888\n"
     ]
    }
   ],
   "source": [
    "Kw1=Kq1*Ky1 # Winding factor\n",
    "print Kw1"
   ]
  },
  {
   "cell_type": "code",
   "execution_count": 15,
   "metadata": {
    "collapsed": false
   },
   "outputs": [
    {
     "name": "stdout",
     "output_type": "stream",
     "text": [
      "0.0488586076188\n"
     ]
    }
   ],
   "source": [
    "Bg=0.65 # Recommended air gap flux density (T), Eq. 15.11\n",
    "Kf=1.085\n",
    "alphai=0.729 # Pole spanning coefficient, Fig. 14.13\n",
    "phi=alphai*tau*L*Bg # Pole flux (Wb), Eq. 15.10\n",
    "print phi\n"
   ]
  },
  {
   "cell_type": "code",
   "execution_count": 16,
   "metadata": {
    "collapsed": false
   },
   "outputs": [
    {
     "name": "stdout",
     "output_type": "stream",
     "text": [
      "9.51706233954\n"
     ]
    }
   ],
   "source": [
    "W1=KE*Vln/(4.0*Kf*Kw1*f1*phi) # Number of turns per phase, Eq. 15.12\n",
    "print W1"
   ]
  },
  {
   "cell_type": "code",
   "execution_count": 17,
   "metadata": {
    "collapsed": false
   },
   "outputs": [
    {
     "name": "stdout",
     "output_type": "stream",
     "text": [
      "1.18963279244\n"
     ]
    }
   ],
   "source": [
    "a1=1.0 # Number of current paths in parallel\n",
    "ns=a1*W1/(p1*q) # Number of conductors per slot, Eq. 15.13\n",
    "print ns"
   ]
  },
  {
   "cell_type": "markdown",
   "metadata": {},
   "source": [
    "This should be an even number since there are two distinct coils per slot in a double layer winding."
   ]
  },
  {
   "cell_type": "code",
   "execution_count": 18,
   "metadata": {
    "collapsed": false
   },
   "outputs": [
    {
     "name": "stdout",
     "output_type": "stream",
     "text": [
      "16.0\n"
     ]
    }
   ],
   "source": [
    "ns=2.0\n",
    "W1=p1*q*ns\n",
    "print W1"
   ]
  },
  {
   "cell_type": "code",
   "execution_count": 19,
   "metadata": {
    "collapsed": false
   },
   "outputs": [
    {
     "name": "stdout",
     "output_type": "stream",
     "text": [
      "0.386628125\n"
     ]
    }
   ],
   "source": [
    "Bg=Bg*9.517/16.0 # Actual air gap flux density (T), Eq. 15.15\n",
    "print Bg"
   ]
  },
  {
   "cell_type": "markdown",
   "metadata": {},
   "source": [
    "At this point Bg was increased from 0.386 T to 0.45 T in order to satisfy $F_{mtr} \\approx F_{mts}$."
   ]
  },
  {
   "cell_type": "code",
   "execution_count": 20,
   "metadata": {
    "collapsed": true
   },
   "outputs": [],
   "source": [
    "Bg=0.45"
   ]
  },
  {
   "cell_type": "code",
   "execution_count": 21,
   "metadata": {
    "collapsed": false
   },
   "outputs": [
    {
     "name": "stdout",
     "output_type": "stream",
     "text": [
      "978.191344636\n"
     ]
    }
   ],
   "source": [
    "Iln=Pn/(3.0*Vln*cosphin*nn) # Rated current (A), Eq. 15.16\n",
    "print Iln"
   ]
  },
  {
   "cell_type": "code",
   "execution_count": 22,
   "metadata": {
    "collapsed": false
   },
   "outputs": [
    {
     "name": "stdout",
     "output_type": "stream",
     "text": [
      "163.031890773\n"
     ]
    }
   ],
   "source": [
    "Jcos=6.0 # Current density (A/mm^2), Eq. 15.17\n",
    "Aco=Iln/(Jcos*a1) # Magnetic wire cross section (mm^2), Eq. 15.18\n",
    "print Aco"
   ]
  },
  {
   "cell_type": "markdown",
   "metadata": {},
   "source": [
    "Circular cross section area is to be used. At 60 Hz skin depth is ~ 9 mm # VERIFY"
   ]
  },
  {
   "cell_type": "code",
   "execution_count": 23,
   "metadata": {
    "collapsed": false
   },
   "outputs": [
    {
     "name": "stdout",
     "output_type": "stream",
     "text": [
      "14.407590027\n"
     ]
    }
   ],
   "source": [
    "dco=math.sqrt(4.0*Aco/math.pi) # Wire gauge diameter (mm), Eq. 15.19\n",
    "print dco"
   ]
  },
  {
   "cell_type": "markdown",
   "metadata": {},
   "source": [
    "We can use few conductors in parallel, $a_p$=8."
   ]
  },
  {
   "cell_type": "code",
   "execution_count": 24,
   "metadata": {
    "collapsed": false
   },
   "outputs": [
    {
     "name": "stdout",
     "output_type": "stream",
     "text": [
      "5.09385230431\n"
     ]
    }
   ],
   "source": [
    "ap=8.0\n",
    "dco=math.sqrt(4.0*Aco/(math.pi*ap)) # Wire gauge diameter (mm), Eq. 15.19\n",
    "print dco"
   ]
  },
  {
   "cell_type": "markdown",
   "metadata": {},
   "source": [
    "From [AWG](http://en.wikipedia.org/wiki/American_wire_gauge); AWG4 wire is selected."
   ]
  },
  {
   "cell_type": "markdown",
   "metadata": {},
   "source": [
    "## Stator Slot Sizing"
   ]
  },
  {
   "cell_type": "code",
   "execution_count": 25,
   "metadata": {
    "collapsed": false
   },
   "outputs": [
    {
     "name": "stdout",
     "output_type": "stream",
     "text": [
      "741.054048967\n"
     ]
    }
   ],
   "source": [
    "Kfill=0.44 # Fill factor for round wire\n",
    "Asu=math.pi*math.pow(dco,2.0)*ap*ns/(4.0*Kfill) # Useful slot area (mm^2), Eq. 15.21\n",
    "print Asu"
   ]
  },
  {
   "cell_type": "markdown",
   "metadata": {},
   "source": [
    "Stator slot geometry: Fig. 15.4 (a)"
   ]
  },
  {
   "cell_type": "code",
   "execution_count": 26,
   "metadata": {
    "collapsed": false
   },
   "outputs": [
    {
     "name": "stdout",
     "output_type": "stream",
     "text": [
      "0.00660743360214\n"
     ]
    }
   ],
   "source": [
    "Kfe=0.96 # For 0.5 mm thick lamination\n",
    "Bts=1.55 # Tooth flux density (T)\n",
    "bts=Bg*taus*L/(Bts*L*Kfe) # Tooth width (m), Eq. 15.22\n",
    "print bts"
   ]
  },
  {
   "cell_type": "code",
   "execution_count": 27,
   "metadata": {
    "collapsed": false
   },
   "outputs": [
    {
     "name": "stdout",
     "output_type": "stream",
     "text": [
      "0.015568396077\n"
     ]
    }
   ],
   "source": [
    "bos=2.2e-3 # Fig. 15.5\n",
    "hos=1e-3 # Fig. 15.5\n",
    "hw=1.5e-3 # Fig. 15.5\n",
    "bs1=math.pi*(Dis+2.0*hos+2.0*hw)/Ns-bts # Slot lower width (m), Eq. 15.23\n",
    "print bs1"
   ]
  },
  {
   "cell_type": "code",
   "execution_count": 28,
   "metadata": {
    "collapsed": false
   },
   "outputs": [
    {
     "name": "stdout",
     "output_type": "stream",
     "text": [
      "0.0208964099888\n"
     ]
    }
   ],
   "source": [
    "bs2=math.sqrt(4.0*Asu*1e-6*math.tan(math.pi/Ns)+math.pow(bs1,2.0)) # Upper slot width (m), Eq. 15.27\n",
    "print bs2"
   ]
  },
  {
   "cell_type": "code",
   "execution_count": 29,
   "metadata": {
    "collapsed": false
   },
   "outputs": [
    {
     "name": "stdout",
     "output_type": "stream",
     "text": [
      "0.0406448918241\n"
     ]
    }
   ],
   "source": [
    "hs=2.0*Asu*1e-6/(bs1+bs2) # Slot useful height (m), Eq. 15.28\n",
    "print hs"
   ]
  },
  {
   "cell_type": "code",
   "execution_count": 30,
   "metadata": {
    "collapsed": false
   },
   "outputs": [
    {
     "name": "stdout",
     "output_type": "stream",
     "text": [
      "376.259875068\n"
     ]
    }
   ],
   "source": [
    "Fmg=1.2*g*Bg/(4.0*math.pi*1e-7) # Air gap mmf (AT), Eq. 15.29\n",
    "print Fmg"
   ]
  },
  {
   "cell_type": "code",
   "execution_count": 31,
   "metadata": {
    "collapsed": false
   },
   "outputs": [
    {
     "name": "stdout",
     "output_type": "stream",
     "text": [
      "75.9350096105\n"
     ]
    }
   ],
   "source": [
    "Hts=1760.0 # Magnetic field intensity for Bts=1.55 T (A/m)\n",
    "Fmts=Hts*(hs+hos+hw) # Stator tooth mmf (AT), Eq. 15.30\n",
    "print Fmts"
   ]
  },
  {
   "cell_type": "code",
   "execution_count": 32,
   "metadata": {
    "collapsed": false
   },
   "outputs": [
    {
     "name": "stdout",
     "output_type": "stream",
     "text": [
      "74.5689404169\n"
     ]
    }
   ],
   "source": [
    "Kst=1.4-1.0 # Teeth saturation factor, Eq. 15.29\n",
    "Fmtr=Kst*Fmg-Fmts # Rotor tooth mmf (AT), Eq. 15.31\n",
    "print Fmtr"
   ]
  },
  {
   "cell_type": "markdown",
   "metadata": {},
   "source": [
    "At this point Bg was increased from 0.386 T to 0.45 T in order to satisfy $F_{mtr} \\approx F_{mts}$."
   ]
  },
  {
   "cell_type": "code",
   "execution_count": 33,
   "metadata": {
    "collapsed": false
   },
   "outputs": [
    {
     "name": "stdout",
     "output_type": "stream",
     "text": [
      "0.0591553125135\n"
     ]
    }
   ],
   "source": [
    "hcs=(Dout-(Dis+2.0*(hos+hw+hs)))/2.0 # Stator back iron height (m), Eq. 15.32\n",
    "print hcs"
   ]
  },
  {
   "cell_type": "code",
   "execution_count": 34,
   "metadata": {
    "collapsed": false
   },
   "outputs": [
    {
     "name": "stdout",
     "output_type": "stream",
     "text": [
      "1.05007811508\n"
     ]
    }
   ],
   "source": [
    "Bcs=phi/(2.0*L*hcs) # Back core flux density (T), Eq. 15.33\n",
    "print Bcs"
   ]
  },
  {
   "cell_type": "markdown",
   "metadata": {},
   "source": [
    "which is a reasonable value."
   ]
  },
  {
   "cell_type": "markdown",
   "metadata": {},
   "source": [
    "## Rotor Slots"
   ]
  },
  {
   "cell_type": "markdown",
   "metadata": {},
   "source": [
    "From [Electric traction machine choice](http://sites.ieee.org/miami/files/2014/11/Hendershot-FIU-Lecture.pdf) Slide 40;"
   ]
  },
  {
   "cell_type": "code",
   "execution_count": 35,
   "metadata": {
    "collapsed": false
   },
   "outputs": [
    {
     "name": "stdout",
     "output_type": "stream",
     "text": [
      "1103.71260108\n"
     ]
    }
   ],
   "source": [
    "Nr=68.0 # Number of rotor slots\n",
    "K1=0.8*cosphin+0.2 # Rotor to stator mmf ratio, Eq. 15.35\n",
    "Ib=K1*(2.0*m*W1*Kw1)/Nr*Iln # Rotor bar current (A), Eq. 15.34\n",
    "print Ib"
   ]
  },
  {
   "cell_type": "markdown",
   "metadata": {},
   "source": [
    "Rotor slot geometry: Fig. 15.6 (c)"
   ]
  },
  {
   "cell_type": "code",
   "execution_count": 36,
   "metadata": {
    "collapsed": false
   },
   "outputs": [
    {
     "name": "stdout",
     "output_type": "stream",
     "text": [
      "0.00018395210018\n"
     ]
    }
   ],
   "source": [
    "Jb=6.0 # Current density in the rotor bar (A/mm^2)\n",
    "Ab=Ib/Jb*1e-6 # Rotor slot area (m^2), Eq. 15.36\n",
    "print Ab"
   ]
  },
  {
   "cell_type": "code",
   "execution_count": 37,
   "metadata": {
    "collapsed": false
   },
   "outputs": [
    {
     "name": "stdout",
     "output_type": "stream",
     "text": [
      "5980.99179123\n"
     ]
    }
   ],
   "source": [
    "Icr=Ib/(2.0*math.sin(math.pi*p1/Nr)) # End ring current (A), Eq. 15.37\n",
    "print Icr"
   ]
  },
  {
   "cell_type": "code",
   "execution_count": 38,
   "metadata": {
    "collapsed": false
   },
   "outputs": [
    {
     "name": "stdout",
     "output_type": "stream",
     "text": [
      "0.00124603995651\n"
     ]
    }
   ],
   "source": [
    "Jcr=0.8*Jb # Current density in the end ring (A/mm^2)\n",
    "Acr=Icr/Jcr*1e-6 # End ring cross section (m^2), Eq. 15.38\n",
    "print Acr"
   ]
  },
  {
   "cell_type": "code",
   "execution_count": 39,
   "metadata": {
    "collapsed": false
   },
   "outputs": [
    {
     "name": "stdout",
     "output_type": "stream",
     "text": [
      "0.0153416224462\n"
     ]
    }
   ],
   "source": [
    "hor=0.5e-3 # Fig. 15.7\n",
    "bor=1.5e-3 # Fig. 15.7\n",
    "taur=math.pi*(Dis-2.0*g)/Nr # Rotor slot pitch (m), Eq. 15.39\n",
    "print taur"
   ]
  },
  {
   "cell_type": "code",
   "execution_count": 40,
   "metadata": {
    "collapsed": false
   },
   "outputs": [
    {
     "name": "stdout",
     "output_type": "stream",
     "text": [
      "0.00449461595103\n"
     ]
    }
   ],
   "source": [
    "Btr=1.60 # Rotor tooth flux density\n",
    "btr=Bg/(Kfe*Btr)*taur # Rotor tooth width (m), Eq. 15.40\n",
    "print btr"
   ]
  },
  {
   "cell_type": "code",
   "execution_count": 41,
   "metadata": {
    "collapsed": false
   },
   "outputs": [
    {
     "name": "stdout",
     "output_type": "stream",
     "text": [
      "0.332946122929\n",
      "0.0103625121257\n"
     ]
    }
   ],
   "source": [
    "Dre=Dis-g # Rotor diameter (m)\n",
    "print Dre\n",
    "d1=(math.pi*(Dre-2.0*hor)-Nr*btr)/(math.pi+Nr) # Rotor slot upper diameter (m), Eq. 15.42\n",
    "print d1"
   ]
  },
  {
   "cell_type": "code",
   "execution_count": 42,
   "metadata": {
    "collapsed": false
   },
   "outputs": [
    {
     "name": "stdout",
     "output_type": "stream",
     "text": [
      "0.00935506192791\n",
      "0.0108954077122\n"
     ]
    }
   ],
   "source": [
    "d2=math.sqrt((8.0*math.tan(math.pi/Nr)*Ab-math.pi*math.pow(d1,2.0)*math.tan(math.pi/Nr)-2.0*math.pow(d1,2.0))/(math.pi*math.tan(math.pi/Nr)-2.0))\n",
    "print d2 # Rotor slot lower diameter (m), Eq. 15.43-44\n",
    "hr=(d1-d2)/(2*math.tan(math.pi/Nr)) # Rotor slot height (m), Eq 15.43-44\n",
    "print hr"
   ]
  },
  {
   "cell_type": "code",
   "execution_count": 43,
   "metadata": {
    "collapsed": false
   },
   "outputs": [
    {
     "name": "stdout",
     "output_type": "stream",
     "text": [
      "52.285319058\n"
     ]
    }
   ],
   "source": [
    "Htr=2460.0 # Magnetic field intensity for Bts=1.6 T (A/m)\n",
    "Fmtr=Htr*(hr+hor+(d1+d2)/2.0) # Rotor teeth mmf (AT), Eq. 15.45\n",
    "print Fmtr"
   ]
  },
  {
   "cell_type": "code",
   "execution_count": 44,
   "metadata": {
    "collapsed": false
   },
   "outputs": [
    {
     "name": "stdout",
     "output_type": "stream",
     "text": [
      "0.0376470903403\n"
     ]
    }
   ],
   "source": [
    "Bcr=1.65 # Rotor back core flux density (T)\n",
    "hcr=phi/2.0*1.0/(L*Bcr) # Rotor back core height (m), Eq. 15.46\n",
    "print hcr"
   ]
  },
  {
   "cell_type": "code",
   "execution_count": 45,
   "metadata": {
    "collapsed": false
   },
   "outputs": [
    {
     "name": "stdout",
     "output_type": "stream",
     "text": [
      "0.214267956282\n"
     ]
    }
   ],
   "source": [
    "Dshaftmax=Dis-2.0*g-2.0*(hor+(d1+d2)/2.0+hr+hcr) # Maximum diameter of the shaft (m), Eq. 15.47\n",
    "print Dshaftmax"
   ]
  },
  {
   "cell_type": "code",
   "execution_count": 46,
   "metadata": {
    "collapsed": false
   },
   "outputs": [
    {
     "name": "stdout",
     "output_type": "stream",
     "text": [
      "0.329446122929\n"
     ]
    }
   ],
   "source": [
    "Dcr=Dre-3.5e-3 # End ring diameter (m)\n",
    "print Dcr"
   ]
  },
  {
   "cell_type": "code",
   "execution_count": 47,
   "metadata": {
    "collapsed": false
   },
   "outputs": [
    {
     "name": "stdout",
     "output_type": "stream",
     "text": [
      "0.021254194739\n"
     ]
    }
   ],
   "source": [
    "b=1.0*(hr+hor+(d1+d2)/2.0) # End ring height (m), Fig. 15.8, Eq. 15.49\n",
    "print b"
   ]
  },
  {
   "cell_type": "code",
   "execution_count": 48,
   "metadata": {
    "collapsed": false
   },
   "outputs": [
    {
     "name": "stdout",
     "output_type": "stream",
     "text": [
      "0.0586256017603\n"
     ]
    }
   ],
   "source": [
    "a=Acr/b # End ring width (m), Fig. 15.8, Eq. 15.51\n",
    "print a"
   ]
  },
  {
   "cell_type": "markdown",
   "metadata": {},
   "source": [
    "## Magnetization Current"
   ]
  },
  {
   "cell_type": "code",
   "execution_count": 49,
   "metadata": {
    "collapsed": false
   },
   "outputs": [
    {
     "name": "stdout",
     "output_type": "stream",
     "text": [
      "0.000735787917136\n"
     ]
    }
   ],
   "source": [
    "gama1=math.pow(bos,2.0)/(5.0*g+bos) # (m), Eq. 15.53\n",
    "print gama1"
   ]
  },
  {
   "cell_type": "code",
   "execution_count": 50,
   "metadata": {
    "collapsed": false
   },
   "outputs": [
    {
     "name": "stdout",
     "output_type": "stream",
     "text": [
      "0.000382784403012\n"
     ]
    }
   ],
   "source": [
    "gama2=math.pow(bor,2.0)/(5.0*g+bor) # (m), Eq. 15.54\n",
    "print gama2"
   ]
  },
  {
   "cell_type": "code",
   "execution_count": 51,
   "metadata": {
    "collapsed": false
   },
   "outputs": [
    {
     "name": "stdout",
     "output_type": "stream",
     "text": [
      "1.03485033617\n"
     ]
    }
   ],
   "source": [
    "Kc1=taus/(taus-gama1) # Eq. 15.55\n",
    "print Kc1"
   ]
  },
  {
   "cell_type": "code",
   "execution_count": 52,
   "metadata": {
    "collapsed": false
   },
   "outputs": [
    {
     "name": "stdout",
     "output_type": "stream",
     "text": [
      "1.02558918025\n"
     ]
    }
   ],
   "source": [
    "Kc2=taur/(taur-gama2) # Eq. 15.56\n",
    "print Kc2"
   ]
  },
  {
   "cell_type": "code",
   "execution_count": 53,
   "metadata": {
    "collapsed": false
   },
   "outputs": [
    {
     "name": "stdout",
     "output_type": "stream",
     "text": [
      "1.06133130796\n"
     ]
    }
   ],
   "source": [
    "Kc=Kc1*Kc2 # Total Carter coefficient, Eq. 15.57\n",
    "print Kc"
   ]
  },
  {
   "cell_type": "code",
   "execution_count": 54,
   "metadata": {
    "collapsed": false
   },
   "outputs": [
    {
     "name": "stdout",
     "output_type": "stream",
     "text": [
      "50.5063395907\n",
      "202.74776234\n"
     ]
    }
   ],
   "source": [
    "Hcs=237.0 # Stator back core flux intensity (A/m), Table 15.4\n",
    "Hcr=3460.0 # Rotor back core flux intensity (A/m), Table 15.4\n",
    "Fmcs=0.88*math.exp(-0.4*math.pow(Bcs,2.0))*(math.pi*(Dout-hcs)/(2.0*p1))*Hcs # Stator back core mmf (AT), Eq. 15.58,60\n",
    "Fmcr=0.88*math.exp(-0.4*math.pow(Bcr,2.0))*(math.pi*(Dshaftmax+hcr)/(2.0*p1))*Hcr # Rotor back core mmf (AT), Eq. 15.59,60\n",
    "print Fmcs\n",
    "print Fmcr"
   ]
  },
  {
   "cell_type": "code",
   "execution_count": 55,
   "metadata": {
    "collapsed": false
   },
   "outputs": [
    {
     "name": "stdout",
     "output_type": "stream",
     "text": [
      "1428.50950343\n"
     ]
    }
   ],
   "source": [
    "F1m=2.0*(Kc*g*Bg/(4.0*math.pi*1e-7)+Fmts+Fmtr+Fmcs+Fmcr) # Magnetization mmf (AT), Eq. 15.52\n",
    "print F1m"
   ]
  },
  {
   "cell_type": "code",
   "execution_count": 56,
   "metadata": {
    "collapsed": false
   },
   "outputs": [
    {
     "name": "stdout",
     "output_type": "stream",
     "text": [
      "0.898301676692\n"
     ]
    }
   ],
   "source": [
    "Ks=F1m/(2.0*Fmg)-1.0 # Total saturation factor\n",
    "print Ks"
   ]
  },
  {
   "cell_type": "code",
   "execution_count": 57,
   "metadata": {
    "collapsed": false
   },
   "outputs": [
    {
     "name": "stdout",
     "output_type": "stream",
     "text": [
      "71.4694844099\n"
     ]
    }
   ],
   "source": [
    "Imu=(math.pi*p1*(F1m/2.0))/(3.0*math.sqrt(2.0)*W1*Kw1) # Magnetization current (A), Eq. 15.62\n",
    "print Imu"
   ]
  },
  {
   "cell_type": "code",
   "execution_count": 58,
   "metadata": {
    "collapsed": false
   },
   "outputs": [
    {
     "name": "stdout",
     "output_type": "stream",
     "text": [
      "0.0730628877487\n"
     ]
    }
   ],
   "source": [
    "imu=Imu/Iln # Relative (p.u.) value of Imu, Eq. 15.62'\n",
    "print imu"
   ]
  },
  {
   "cell_type": "markdown",
   "metadata": {},
   "source": [
    "## Resistances and Inductances"
   ]
  },
  {
   "cell_type": "code",
   "execution_count": 59,
   "metadata": {
    "collapsed": false
   },
   "outputs": [
    {
     "name": "stdout",
     "output_type": "stream",
     "text": [
      "0.00345299482877\n"
     ]
    }
   ],
   "source": [
    "rhoco20=1.78e-8 # Copper resistivity at 20 *C (ohm.m)\n",
    "rhoco80=rhoco20*(1.0+1.0/273.0*(80.0-20.0)) # Copper resistivity at 80 *C (ohm.m), Eq. 15.69\n",
    "y=10.0/12.0*tau # Coil span (m), Eq. 15.67\n",
    "lend=2.0*y-0.02 # End connection length (m), Eq. 15.68\n",
    "lc=2.0*(L+lend) # Coil length (m), Eq. 15.64\n",
    "Rs=rhoco80*lc*W1/(Aco*1e-6*a1) # Stator phase resistance (ohm), Eq. 15.63\n",
    "print Rs"
   ]
  },
  {
   "cell_type": "code",
   "execution_count": 60,
   "metadata": {
    "collapsed": false
   },
   "outputs": [
    {
     "name": "stdout",
     "output_type": "stream",
     "text": [
      "0.000111951337801\n"
     ]
    }
   ],
   "source": [
    "rhoal20=3.1e-8 # Cast aluminium resistivity at 20 *C (ohm.m)\n",
    "rhoal80=rhoal20*(1.0+1.0/273.0*(80.0-20.0)) # Cast aluminium resistivity at 80 *C (ohm.m)\n",
    "lcr=math.pi*(Dcr-b)/Nr # End ring segment length (m), Eq. 15.71\n",
    "betas=math.sqrt(2.0*math.pi*f1*4.0*math.pi*1e-7/(2.0*rhoal20)) # (m^-1), Eq. 15.73\n",
    "s=1.0\n",
    "ksi=betas*hr*math.sqrt(s) # Eq. 15.73\n",
    "KR=ksi*(math.sinh(2.0*ksi)+math.sin(2.0*ksi))/(math.cosh(2.0*ksi)-math.cos(2.0*ksi)) # Skin effect resistance coefficient for the bar, Eq. 15.72\n",
    "Rbc=rhoal80*(L/Ab*KR+lcr/(2.0*Acr*math.pow(math.sin(math.pi*p1/Nr),2.0))) # Rotor bar/end ring segment equivalent resistance (ohm), Eq. 15.70\n",
    "print Rbc"
   ]
  },
  {
   "cell_type": "code",
   "execution_count": 61,
   "metadata": {
    "collapsed": false
   },
   "outputs": [
    {
     "name": "stdout",
     "output_type": "stream",
     "text": [
      "0.00432766695309\n"
     ]
    }
   ],
   "source": [
    "Rrprime=4.0*m/Nr*math.pow(W1*Kw1,2.0)*Rbc # Rotor cage resistance reduced to the stator (ohm), Eq. 15.74\n",
    "print Rrprime"
   ]
  },
  {
   "cell_type": "code",
   "execution_count": 62,
   "metadata": {
    "collapsed": false
   },
   "outputs": [
    {
     "name": "stdout",
     "output_type": "stream",
     "text": [
      "0.0408545446755\n"
     ]
    }
   ],
   "source": [
    "beta=10.0/12.0 # y/tau, Eq. 15.75\n",
    "lambdas=(2.0/3.0*hs/(bs1+bs2)+2.0*hw/(bos+bs1)+hos/bos)*(1.0+3.0*beta)/4.0 # Stator slot connection coefficient, Eq. 15.76\n",
    "Cs=1.0-0.033*math.pow(bos,2.0)/(g*taus) # Eq. 15.77\n",
    "phi1=math.pi*(6.0*beta-5.5) # Eq. 15.78\n",
    "gamads=(0.14*math.sin(phi1)+0.76)*1e-2 # Eq. 15.78\n",
    "lambdads=0.9*taus*math.pow(q,2.0)*math.pow(Kw1,2.0)*Cs*gamads/(Kc*g*(1.0+Kst)) # Stator differential connection coefficient, Eq. 15.77\n",
    "lambdaec=0.34*q/L*(lend-0.64*beta*tau) # Stator end connection specific geometric permeance coefficient, Eq. 15.79\n",
    "Xs1=2.0*4.0*math.pi*1e-7*2.0*math.pi*f1*L*math.pow(W1,2.0)/(p1*q)*(lambdas+lambdads+lambdaec) # Stator phase reactance (ohm), Eq. 15.75\n",
    "print Xs1"
   ]
  },
  {
   "cell_type": "code",
   "execution_count": 63,
   "metadata": {
    "collapsed": false
   },
   "outputs": [
    {
     "name": "stdout",
     "output_type": "stream",
     "text": [
      "0.000645544502432\n"
     ]
    }
   ],
   "source": [
    "lambdar=0.66+2.0*hr/(3.0*(d1+d2))+hor/bor # Rotor slot connection coefficient, Eq. 15.81\n",
    "gamadr=9.0*math.pow(6.0*p1/Nr,2.0)*1e-2 # Eq. 15.82\n",
    "lambdadr=0.9*taur*gamadr/(Kc*g)*math.pow(Nr/(6.0*p1),2.0) # Rotor differential connection coefficient, Eq. 15.82\n",
    "lambdaer=2.3*(Dcr-b)/(Nr*L*4.0*math.pow(math.sin(math.pi*p1/Nr),2.0))*math.log10(4.7*(Dcr-b)/(b+2*a)) # Stator end ring permeance coefficient, Eq. 15.83\n",
    "Kx=3.0/(2.0*ksi)*(math.sinh(2.0*ksi)-math.sin(2.0*ksi))/(math.cosh(2.0*ksi)-math.cos(2.0*ksi)) # Skin effect coefficient for the leakage reactance, Eq. 15.84\n",
    "Xbc=2.0*math.pi*f1*4.0*math.pi*1e-7*L*(lambdar*Kx+lambdadr+lambdaer) # Equivalent rotor bar leakage reactance (ohm), Eq. 15.80\n",
    "print Xbc"
   ]
  },
  {
   "cell_type": "code",
   "execution_count": 64,
   "metadata": {
    "collapsed": false
   },
   "outputs": [
    {
     "name": "stdout",
     "output_type": "stream",
     "text": [
      "0.0249546067498\n"
     ]
    }
   ],
   "source": [
    "Xr1=4.0*m*math.pow(W1*Kw1,2.0)/Nr*Xbc # Rotor leakage reactance (ohm), Eq. 15.85\n",
    "print Xr1"
   ]
  },
  {
   "cell_type": "code",
   "execution_count": 65,
   "metadata": {
    "collapsed": false
   },
   "outputs": [
    {
     "name": "stdout",
     "output_type": "stream",
     "text": [
      "0.0306409085066\n",
      "0.0162204943873\n"
     ]
    }
   ],
   "source": [
    "Xs1sat=Xs1*0.75 # Stator leakage reactance at zero speed due to leakage flux path saturation (ohm), Eq. 15.86\n",
    "Xr1sat=Xr1*0.65 # Rotor leakage reactance at zero speed due to leakage flux path saturation (ohm), Eq. 15.86\n",
    "print Xs1sat\n",
    "print Xr1sat"
   ]
  },
  {
   "cell_type": "code",
   "execution_count": 66,
   "metadata": {
    "collapsed": false
   },
   "outputs": [
    {
     "name": "stdout",
     "output_type": "stream",
     "text": [
      "0.00010621834394\n"
     ]
    }
   ],
   "source": [
    "RbcSn=rhoal80*(L/Ab+lcr/(2.0*Acr*math.pow(math.sin(math.pi*p1/Nr),2.0))) # Rotor bar/end ring segment equivalent resistance (ohm), Eq. 15.70\n",
    "print RbcSn"
   ]
  },
  {
   "cell_type": "code",
   "execution_count": 67,
   "metadata": {
    "collapsed": false
   },
   "outputs": [
    {
     "name": "stdout",
     "output_type": "stream",
     "text": [
      "0.00410604844846\n"
     ]
    }
   ],
   "source": [
    "RrprimeSn=Rrprime*RbcSn/Rbc # Rotor resistance at rated speed (ohm), Eq. 15.87\n",
    "print RrprimeSn"
   ]
  },
  {
   "cell_type": "code",
   "execution_count": 68,
   "metadata": {
    "collapsed": false
   },
   "outputs": [
    {
     "name": "stdout",
     "output_type": "stream",
     "text": [
      "0.000650675240562\n"
     ]
    }
   ],
   "source": [
    "XbcSn=2.0*math.pi*f1*4.0*math.pi*1e-7*L*(lambdar+lambdadr+lambdaer) # Equivalent rotor bar leakage reactance (ohm), Eq. 15.80\n",
    "print XbcSn"
   ]
  },
  {
   "cell_type": "code",
   "execution_count": 69,
   "metadata": {
    "collapsed": false
   },
   "outputs": [
    {
     "name": "stdout",
     "output_type": "stream",
     "text": [
      "0.0251529440478\n"
     ]
    }
   ],
   "source": [
    "Xr1Sn=Xr1*XbcSn/Xbc # Rotor leakage reactance at rated speed (ohm)\n",
    "print Xr1Sn"
   ]
  },
  {
   "cell_type": "code",
   "execution_count": 70,
   "metadata": {
    "collapsed": false
   },
   "outputs": [
    {
     "name": "stdout",
     "output_type": "stream",
     "text": [
      "1.57479710129\n"
     ]
    }
   ],
   "source": [
    "Xm=math.sqrt(math.pow(Vln/Imu,2.0)-math.pow(Rs,2.0))-Xs1 # Magnetization reactance (ohm), Eq. 15.88\n",
    "print Xm"
   ]
  },
  {
   "cell_type": "code",
   "execution_count": 71,
   "metadata": {
    "collapsed": false
   },
   "outputs": [
    {
     "name": "stdout",
     "output_type": "stream",
     "text": [
      "0.99714665735\n"
     ]
    }
   ],
   "source": [
    "Kskew=math.sin(math.pi/2.0*taus/tau)/(math.pi/2.0*taus/tau) # Skewing factor, Eq. 15.90\n",
    "print Kskew"
   ]
  },
  {
   "cell_type": "code",
   "execution_count": 72,
   "metadata": {
    "collapsed": false
   },
   "outputs": [
    {
     "name": "stdout",
     "output_type": "stream",
     "text": [
      "1.57030366556\n"
     ]
    }
   ],
   "source": [
    "Xm=Xm*Kskew # Magnetization reactance with skewing (ohm), Eq. 15.89\n",
    "print Xm"
   ]
  },
  {
   "cell_type": "code",
   "execution_count": 73,
   "metadata": {
    "collapsed": false
   },
   "outputs": [
    {
     "name": "stdout",
     "output_type": "stream",
     "text": [
      "0.00894844411767\n"
     ]
    }
   ],
   "source": [
    "Xr1skew=Xm*(1.0-math.pow(Kskew,2.0)) # Rotor leakage inductance augmentation term (ohm), Eq. 15.91\n",
    "print Xr1skew"
   ]
  },
  {
   "cell_type": "code",
   "execution_count": 74,
   "metadata": {
    "collapsed": false
   },
   "outputs": [
    {
     "name": "stdout",
     "output_type": "stream",
     "text": [
      "0.025168938505\n"
     ]
    }
   ],
   "source": [
    "Xr1S1skew=Xr1sat+Xr1skew # Final value of rotor leakage reactance at S=1 (ohm), Eq. 15.92\n",
    "print Xr1S1skew"
   ]
  },
  {
   "cell_type": "code",
   "execution_count": 75,
   "metadata": {
    "collapsed": false
   },
   "outputs": [
    {
     "name": "stdout",
     "output_type": "stream",
     "text": [
      "0.0339030508674\n"
     ]
    }
   ],
   "source": [
    "Xr1Snskew=Xr1+Xr1skew # Final value of rotor leakage reactance at S=Sn (ohm), Eq. 15.93\n",
    "print Xr1Snskew"
   ]
  },
  {
   "cell_type": "markdown",
   "metadata": {},
   "source": [
    "## Losses and Efficiency"
   ]
  },
  {
   "cell_type": "code",
   "execution_count": 76,
   "metadata": {
    "collapsed": false
   },
   "outputs": [
    {
     "name": "stdout",
     "output_type": "stream",
     "text": [
      "9912.0803549\n"
     ]
    }
   ],
   "source": [
    "pco=3.0*Rs*math.pow(Iln,2.0) # Stator winding losses (W), Eq. 15.96\n",
    "print pco"
   ]
  },
  {
   "cell_type": "code",
   "execution_count": 77,
   "metadata": {
    "collapsed": false
   },
   "outputs": [
    {
     "name": "stdout",
     "output_type": "stream",
     "text": [
      "8798.73910702\n"
     ]
    }
   ],
   "source": [
    "pA1=3.0*RrprimeSn*math.pow(K1,2.0)*math.pow(Iln,2.0) # Rotor cage losses (W), Eq. 15.97\n",
    "print pA1"
   ]
  },
  {
   "cell_type": "code",
   "execution_count": 78,
   "metadata": {
    "collapsed": false
   },
   "outputs": [
    {
     "name": "stdout",
     "output_type": "stream",
     "text": [
      "3240.0\n"
     ]
    }
   ],
   "source": [
    "pmv=0.012*Pn # Mechanical/ventilation losses for p1=2 (W)\n",
    "print pmv"
   ]
  },
  {
   "cell_type": "code",
   "execution_count": 79,
   "metadata": {
    "collapsed": false
   },
   "outputs": [
    {
     "name": "stdout",
     "output_type": "stream",
     "text": [
      "2700.0\n"
     ]
    }
   ],
   "source": [
    "pstray=0.01*Pn # Stray losses (W)\n",
    "print pstray"
   ]
  },
  {
   "cell_type": "code",
   "execution_count": 80,
   "metadata": {
    "collapsed": false
   },
   "outputs": [
    {
     "name": "stdout",
     "output_type": "stream",
     "text": [
      "40.2962836872\n"
     ]
    }
   ],
   "source": [
    "gamairon=7800 # Iron density (kg/m^3)\n",
    "Gt1=gamairon*Ns*bts*(hs+hw+hos)*L*Kfe # Stator tooth weight (kg), Eq. 15.99\n",
    "print Gt1"
   ]
  },
  {
   "cell_type": "code",
   "execution_count": 81,
   "metadata": {
    "collapsed": false
   },
   "outputs": [
    {
     "name": "stdout",
     "output_type": "stream",
     "text": [
      "365.799762444\n"
     ]
    }
   ],
   "source": [
    "Kt=1.7 # Core loss augmentation due to mechanical machining\n",
    "p10=2 # Specific losses (W/kg) at 1.0 T and 50 Hz\n",
    "pt1=Kt*p10*math.pow(f1/50.0,1.3)*math.pow(Bts,1.7)*Gt1 # Stator teeth fundamental losses (W), Eq. 15.98\n",
    "print pt1"
   ]
  },
  {
   "cell_type": "code",
   "execution_count": 82,
   "metadata": {
    "collapsed": false
   },
   "outputs": [
    {
     "name": "stdout",
     "output_type": "stream",
     "text": [
      "262.290494037\n"
     ]
    }
   ],
   "source": [
    "Ky=1.6 # Influence of mechanical machining\n",
    "Gy1=gamairon*math.pi/4.0*(math.pow(Dout,2.0)-math.pow(Dout-2.0*hcs,2.0))*L*Kfe # Yoke weight (kg), Eq. 15.101\n",
    "print Gy1"
   ]
  },
  {
   "cell_type": "code",
   "execution_count": 83,
   "metadata": {
    "collapsed": false
   },
   "outputs": [
    {
     "name": "stdout",
     "output_type": "stream",
     "text": [
      "1155.96552425\n"
     ]
    }
   ],
   "source": [
    "py1=Ky*p10*math.pow(f1/50.0,1.3)*math.pow(Bcs,1.7)*Gy1 # Stator back iron (yoke) fundamental losses (W), Eq. 15.100\n",
    "print py1"
   ]
  },
  {
   "cell_type": "code",
   "execution_count": 84,
   "metadata": {
    "collapsed": false
   },
   "outputs": [
    {
     "name": "stdout",
     "output_type": "stream",
     "text": [
      "1521.76528669\n"
     ]
    }
   ],
   "source": [
    "p1iron=pt1+py1 # Fundamental iron losses (W), Eq. 15.102\n",
    "print p1iron"
   ]
  },
  {
   "cell_type": "code",
   "execution_count": 85,
   "metadata": {
    "collapsed": false
   },
   "outputs": [
    {
     "name": "stdout",
     "output_type": "stream",
     "text": [
      "1.53846153846\n",
      "1.66666666667\n"
     ]
    }
   ],
   "source": [
    "Kps=1.0/(2.2-Bts) # Eq. 15.104\n",
    "Kpr=1.0/(2.2-Btr) # Eq. 15.104\n",
    "print Kps\n",
    "print Kpr"
   ]
  },
  {
   "cell_type": "code",
   "execution_count": 86,
   "metadata": {
    "collapsed": false
   },
   "outputs": [
    {
     "name": "stdout",
     "output_type": "stream",
     "text": [
      "0.0115151311124\n",
      "0.0156826512781\n"
     ]
    }
   ],
   "source": [
    "Bps=(Kc2-1)*Bg # (T), Eq. 15.105\n",
    "Bpr=(Kc1-1)*Bg # (T), Eq. 15.106\n",
    "print Bps\n",
    "print Bpr"
   ]
  },
  {
   "cell_type": "code",
   "execution_count": 87,
   "metadata": {
    "collapsed": false
   },
   "outputs": [
    {
     "name": "stdout",
     "output_type": "stream",
     "text": [
      "18.6796594697\n"
     ]
    }
   ],
   "source": [
    "Gtr=gamairon*L*Kfe*Nr*(hr+(d1+d2)/2.0)*btr # Rotor teeth weight (kg), Eq. 15.107\n",
    "print Gtr"
   ]
  },
  {
   "cell_type": "code",
   "execution_count": 88,
   "metadata": {
    "collapsed": false
   },
   "outputs": [
    {
     "name": "stdout",
     "output_type": "stream",
     "text": [
      "3.95464190031\n"
     ]
    }
   ],
   "source": [
    "psiron=0.5e-4*(math.pow(Nr*f1/p1*Kps*Bps,2.0)*Gt1+math.pow(Ns*f1/p1*Kpr*Bpr,2.0)*Gtr) # Tooth flux pulsation core loss (W), Eq. 15.103\n",
    "print psiron"
   ]
  },
  {
   "cell_type": "code",
   "execution_count": 89,
   "metadata": {
    "collapsed": false
   },
   "outputs": [
    {
     "name": "stdout",
     "output_type": "stream",
     "text": [
      "1525.71992859\n"
     ]
    }
   ],
   "source": [
    "piron=p1iron+psiron # Total core loss (W), Eq. 15.108\n",
    "print piron"
   ]
  },
  {
   "cell_type": "code",
   "execution_count": 90,
   "metadata": {
    "collapsed": false
   },
   "outputs": [
    {
     "name": "stdout",
     "output_type": "stream",
     "text": [
      "26176.5393905\n"
     ]
    }
   ],
   "source": [
    "Ploss=pco+pA1+piron+pmv+pstray # Total losses (W), Eq. 15.95\n",
    "print Ploss"
   ]
  },
  {
   "cell_type": "code",
   "execution_count": 91,
   "metadata": {
    "collapsed": false
   },
   "outputs": [
    {
     "name": "stdout",
     "output_type": "stream",
     "text": [
      "0.911618457544\n"
     ]
    }
   ],
   "source": [
    "nnfinal=Pn/(Pn+Ploss) # Final efficiency, Eq. 15.94\n",
    "print nnfinal"
   ]
  },
  {
   "cell_type": "markdown",
   "metadata": {},
   "source": [
    "which is below the target efficiency=0.96.\n",
    "\n",
    "A larger stator bore diameter can be selected with smaller current densities. A larger size machine would have been obtained, in general."
   ]
  },
  {
   "cell_type": "markdown",
   "metadata": {},
   "source": [
    "## Operation Characteristics"
   ]
  },
  {
   "cell_type": "code",
   "execution_count": 92,
   "metadata": {
    "collapsed": false
   },
   "outputs": [
    {
     "name": "stdout",
     "output_type": "stream",
     "text": [
      "13.910193719\n"
     ]
    }
   ],
   "source": [
    "I0a=(piron+pmv+3.0*math.pow(Imu,2.0)*Rs)/(3.0*Vln) # No load active current (A), Eq. 15.109\n",
    "print I0a"
   ]
  },
  {
   "cell_type": "code",
   "execution_count": 93,
   "metadata": {
    "collapsed": false
   },
   "outputs": [
    {
     "name": "stdout",
     "output_type": "stream",
     "text": [
      "0.0309010959823\n"
     ]
    }
   ],
   "source": [
    "Sn=pA1/(Pn+pA1+pmv+pstray) # Rated slip, Eq. 15.110\n",
    "print Sn"
   ]
  },
  {
   "cell_type": "code",
   "execution_count": 94,
   "metadata": {
    "collapsed": false
   },
   "outputs": [
    {
     "name": "stdout",
     "output_type": "stream",
     "text": [
      "1478.068422\n"
     ]
    }
   ],
   "source": [
    "Tn=Pn/(2.0*math.pi*f1/p1*(1.0-Sn)) # Rated shaft torque (Nm), Eq. 15.111\n",
    "print Tn"
   ]
  },
  {
   "cell_type": "code",
   "execution_count": 95,
   "metadata": {
    "collapsed": false
   },
   "outputs": [
    {
     "name": "stdout",
     "output_type": "stream",
     "text": [
      "1515.73899234\n"
     ]
    }
   ],
   "source": [
    "Cm=1.0+Xs1/Xm # Eq. 15.113\n",
    "Tbk=3.0*p1/(2.0*2.0*math.pi*f1)*math.pow(Vln,2.0)/(Rs+math.sqrt(math.pow(Rs,2.0)+math.pow(Xs1+Cm*Xr1,2.0))) # Breakdown torque (Nm), Eq. 15.114\n",
    "print Tbk"
   ]
  },
  {
   "cell_type": "code",
   "execution_count": 96,
   "metadata": {
    "collapsed": false
   },
   "outputs": [
    {
     "name": "stdout",
     "output_type": "stream",
     "text": [
      "2430.79779493\n"
     ]
    }
   ],
   "source": [
    "ILR=Vln/(math.sqrt(math.pow(Rs+Rrprime,2.0)+math.pow(Xs1sat+Xr1sat,2.0))) # Starting current (A), Eq. 15.115\n",
    "print ILR"
   ]
  },
  {
   "cell_type": "code",
   "execution_count": 97,
   "metadata": {
    "collapsed": false
   },
   "outputs": [
    {
     "name": "stdout",
     "output_type": "stream",
     "text": [
      "406.97865313\n"
     ]
    }
   ],
   "source": [
    "TLR=3.0*Rrprime*math.pow(ILR,2.0)/(2.0*math.pi*f1)*p1 # Starting torque (Nm), Eq. 15.116\n",
    "print TLR"
   ]
  },
  {
   "cell_type": "code",
   "execution_count": 98,
   "metadata": {
    "collapsed": false
   },
   "outputs": [
    {
     "name": "stdout",
     "output_type": "stream",
     "text": [
      "0.874049876246\n"
     ]
    }
   ],
   "source": [
    "cosphinfinal=Pn/(3.0*Vln*Iln*nnfinal) # Rated power factor, Eq. 15.117\n",
    "print cosphinfinal"
   ]
  },
  {
   "cell_type": "code",
   "execution_count": 99,
   "metadata": {
    "collapsed": false
   },
   "outputs": [
    {
     "name": "stdout",
     "output_type": "stream",
     "text": [
      "1.02548635082\n"
     ]
    }
   ],
   "source": [
    "tbk=Tbk/Tn # Eq. 15.118\n",
    "print tbk"
   ]
  },
  {
   "cell_type": "code",
   "execution_count": 100,
   "metadata": {
    "collapsed": false
   },
   "outputs": [
    {
     "name": "stdout",
     "output_type": "stream",
     "text": [
      "0.275344934694\n"
     ]
    }
   ],
   "source": [
    "tLR=TLR/Tn # Eq. 15.119\n",
    "print tLR"
   ]
  },
  {
   "cell_type": "code",
   "execution_count": 101,
   "metadata": {
    "collapsed": false
   },
   "outputs": [
    {
     "name": "stdout",
     "output_type": "stream",
     "text": [
      "2.48499213192\n"
     ]
    }
   ],
   "source": [
    "iLR=ILR/Iln # Eq. 15.120\n",
    "print iLR"
   ]
  },
  {
   "cell_type": "markdown",
   "metadata": {},
   "source": [
    "## Temperature Rise"
   ]
  },
  {
   "cell_type": "code",
   "execution_count": 102,
   "metadata": {
    "collapsed": false
   },
   "outputs": [
    {
     "name": "stdout",
     "output_type": "stream",
     "text": [
      "833.333333333\n"
     ]
    }
   ],
   "source": [
    "lambdains=0.25 # Insulation thermal conductivity (W/mK)\n",
    "hins=0.3e-3 # Total insulation thickness from the slot middle to teeth wall (m)\n",
    "alphacond=lambdains/hins # Slot insulation conductivity plus its thickness lumped into alphacond (W/m^2K), Eq. 15.124\n",
    "print alphacond"
   ]
  },
  {
   "cell_type": "code",
   "execution_count": 103,
   "metadata": {
    "collapsed": false
   },
   "outputs": [
    {
     "name": "stdout",
     "output_type": "stream",
     "text": [
      "1.928986507\n"
     ]
    }
   ],
   "source": [
    "Als=(2.0*hs+bs2)*L*Ns # Stator slot lateral area (m^2), Eq. 15.125\n",
    "print Als"
   ]
  },
  {
   "cell_type": "code",
   "execution_count": 104,
   "metadata": {
    "collapsed": false
   },
   "outputs": [
    {
     "name": "stdout",
     "output_type": "stream",
     "text": [
      "3.32612454729\n"
     ]
    }
   ],
   "source": [
    "Kfin=3.0 # Finn area coefficient\n",
    "Aframe=math.pi*Dout*(L+tau)*Kfin # Frame area (m^2), Eq. 15.126\n",
    "print Aframe"
   ]
  },
  {
   "cell_type": "code",
   "execution_count": 105,
   "metadata": {
    "collapsed": false
   },
   "outputs": [
    {
     "name": "stdout",
     "output_type": "stream",
     "text": [
      "6.16618954189\n"
     ]
    }
   ],
   "source": [
    "delthetaco=pco/(alphacond*Als) # Temperature differential between the conductors in slots and the slot wall (C), Eq. 15.121\n",
    "print delthetaco"
   ]
  },
  {
   "cell_type": "code",
   "execution_count": 106,
   "metadata": {
    "collapsed": false
   },
   "outputs": [
    {
     "name": "stdout",
     "output_type": "stream",
     "text": [
      "26.2332724049\n"
     ]
    }
   ],
   "source": [
    "alphaconv=50.0*6.0 # For 2p1=4 and forced convection (W/m2K), Eq. 15.123\n",
    "delthetaframe=Ploss/(alphaconv*Aframe) # Frame temperature rise with respect to ambient air (C), Eq. 15.122\n",
    "print delthetaframe"
   ]
  },
  {
   "cell_type": "code",
   "execution_count": 107,
   "metadata": {
    "collapsed": false,
    "scrolled": true
   },
   "outputs": [
    {
     "name": "stdout",
     "output_type": "stream",
     "text": [
      "72.3994619468\n"
     ]
    }
   ],
   "source": [
    "thetaamb=40 # Ambient temperature (C)\n",
    "thetaco=thetaamb+delthetaco+delthetaframe # Winding temperature (C), Eq. 15.127\n",
    "print thetaco"
   ]
  },
  {
   "cell_type": "markdown",
   "metadata": {},
   "source": [
    "which is smaller than 80 $^{\\circ}$C."
   ]
  },
  {
   "cell_type": "markdown",
   "metadata": {},
   "source": [
    "## MotorAnalysis Parameters"
   ]
  },
  {
   "cell_type": "markdown",
   "metadata": {
    "collapsed": true
   },
   "source": [
    "### Geometry Editor"
   ]
  },
  {
   "cell_type": "markdown",
   "metadata": {
    "collapsed": true
   },
   "source": [
    "Stator dimensions:\n",
    "\n",
    "Slot type: Parallel tooth\n",
    "\n",
    "Number of winding layers: Double layer"
   ]
  },
  {
   "cell_type": "code",
   "execution_count": 108,
   "metadata": {
    "collapsed": false
   },
   "outputs": [
    {
     "name": "stdout",
     "output_type": "stream",
     "text": [
      "48.0\n",
      "0.538422128093\n",
      "0.333821719418\n",
      "0.0431448918241\n",
      "0.00660743360214\n",
      "0.001\n",
      "0.0022\n",
      "14.0535517929\n",
      "0.00188373738365\n"
     ]
    }
   ],
   "source": [
    "print Ns # Number of slots\n",
    "D1s=Dout # Stator outer diameter (m)\n",
    "print D1s\n",
    "D2s=Dis # Stator bore diameter (m)\n",
    "print Dis\n",
    "Sds=hs+hw+hos # Slot depth (m)\n",
    "print Sds\n",
    "Ws=bts # Tooth width (m)\n",
    "print Ws\n",
    "Ods=hos # Slot opening depth (m)\n",
    "print Ods\n",
    "Ows=bos # Slot opening width (m)\n",
    "print Ows\n",
    "Tas=math.atan(hw/((bs1-bos)/2.0))*400.0/(2.0*math.pi) # Tooth tip angle (grad)\n",
    "print Tas\n",
    "Rcs=(bs2-bs1)/2.0*math.sqrt(2.0)/2.0 # Approximate slot corner radius (mm)\n",
    "print Rcs"
   ]
  },
  {
   "cell_type": "markdown",
   "metadata": {},
   "source": [
    "Rotor dimensions:\n",
    "\n",
    "Slot type: Parallel tooth"
   ]
  },
  {
   "cell_type": "code",
   "execution_count": 109,
   "metadata": {
    "collapsed": false
   },
   "outputs": [
    {
     "name": "stdout",
     "output_type": "stream",
     "text": [
      "68.0\n",
      "0.000875596488411\n",
      "0.214267956282\n",
      "50.0\n",
      "0.021254194739\n",
      "0.00449461595103\n",
      "0.0005\n",
      "0.0015\n",
      "0.00467753096395\n"
     ]
    }
   ],
   "source": [
    "print Nr # Number of bars\n",
    "lag=g # Air gap length (m)\n",
    "print lag\n",
    "Dshaft=Dshaftmax # Shaft diameter (m)\n",
    "print Dshaft\n",
    "Tar=45.0*400.0/360.0 # Tooth tip angle (grad)\n",
    "print Tar\n",
    "Sdr=hor+d1/2.0+hr+d2/2.0 # Slot depth (m)\n",
    "print Sdr\n",
    "Wr=btr # Tooth width (m)\n",
    "print Wr\n",
    "Odr=hor # Slot opening width (m)\n",
    "print Odr\n",
    "Owr=bor # Slot opening width (m)\n",
    "print Owr\n",
    "Rcr=d2/2 # Slot corner radius (m)\n",
    "print Rcr"
   ]
  },
  {
   "cell_type": "markdown",
   "metadata": {},
   "source": [
    "Axial dimensions:"
   ]
  },
  {
   "cell_type": "code",
   "execution_count": 110,
   "metadata": {
    "collapsed": false
   },
   "outputs": [
    {
     "name": "stdout",
     "output_type": "stream",
     "text": [
      "0.393274447999\n",
      "3.53314457763\n"
     ]
    }
   ],
   "source": [
    "l=L # Lamination length (m)\n",
    "print l\n",
    "RBskew=math.atan(taus/L)*200.0/math.pi # Rotor bar skew (grad)\n",
    "print RBskew"
   ]
  },
  {
   "cell_type": "markdown",
   "metadata": {},
   "source": [
    "### Windings Property Editor"
   ]
  },
  {
   "cell_type": "markdown",
   "metadata": {},
   "source": [
    "Stator winding:\n",
    "\n",
    "Stator circuit: Delta connection"
   ]
  },
  {
   "cell_type": "code",
   "execution_count": 111,
   "metadata": {
    "collapsed": false
   },
   "outputs": [
    {
     "name": "stdout",
     "output_type": "stream",
     "text": [
      "48.0\n",
      "2\n",
      "1\n",
      "3.03130088717e-05\n",
      "0.00345299482877\n",
      "4\n",
      "0.44\n",
      "46057293.2483\n"
     ]
    }
   ],
   "source": [
    "print Ns # Number of slots\n",
    "layer=2 # Number of winding layers\n",
    "print layer\n",
    "Npp=1 # Number of parallel paths\n",
    "print Npp\n",
    "Lsew=Xs1/(lambdas+lambdads+lambdaec)*lambdaec/(2.0*math.pi*f1) # End winding inductance (H)\n",
    "print Lsew\n",
    "print Rs # Winding phase resistance (ohm)\n",
    "W=4 # Number of conductors per slot\n",
    "print W\n",
    "fillfactor=Kfill # Slot fill factor\n",
    "print fillfactor\n",
    "ks=1/rhoco80 # Winding material conductivity (S/m)\n",
    "print ks"
   ]
  },
  {
   "cell_type": "markdown",
   "metadata": {},
   "source": [
    "Winding Layout:\n",
    "\n",
    "Two-layer winding with chorded coils, y/$\\tau$=10/12 is chosen as 10/12=0.83 is close to 0.8, which would reduce the first (5$^{th}$ order) stator mmf space harmonic."
   ]
  },
  {
   "cell_type": "markdown",
   "metadata": {},
   "source": [
    "Rotor winding:"
   ]
  },
  {
   "cell_type": "code",
   "execution_count": 112,
   "metadata": {
    "collapsed": false
   },
   "outputs": [
    {
     "name": "stdout",
     "output_type": "stream",
     "text": [
      "68.0\n",
      "3.53314457763\n",
      "26445800.6393\n",
      "0.000111951337801\n"
     ]
    }
   ],
   "source": [
    "print Nr # Number of bars\n",
    "print RBskew # Rotor bar skew (grad)\n",
    "kr=1/rhoal80 # Bar material conductivity (S/m)\n",
    "print kr\n",
    "Rre=Rbc # End ring resistance (ohm)\n",
    "print Rre"
   ]
  },
  {
   "cell_type": "markdown",
   "metadata": {},
   "source": [
    "### Iron Core Property Editor"
   ]
  },
  {
   "cell_type": "markdown",
   "metadata": {},
   "source": [
    "Core material: NO20 Sura"
   ]
  },
  {
   "cell_type": "code",
   "execution_count": 113,
   "metadata": {
    "collapsed": false
   },
   "outputs": [
    {
     "name": "stdout",
     "output_type": "stream",
     "text": [
      "54820035.9539\n",
      "0.95\n"
     ]
    }
   ],
   "source": [
    "mu_lin=(91.0-29.0)/(1.0-0.1)/(4.0*math.pi*1e-7) # Linear relative permeability\n",
    "print mu_lin\n",
    "k_st=0.95 # Stacing factor\n",
    "print k_st"
   ]
  },
  {
   "cell_type": "markdown",
   "metadata": {},
   "source": [
    "BH-curve points are taken from NO20 Sura catalog."
   ]
  },
  {
   "cell_type": "markdown",
   "metadata": {},
   "source": [
    "### Mesh Editor"
   ]
  },
  {
   "cell_type": "markdown",
   "metadata": {},
   "source": [
    "Number of layers in air gap: 3\n",
    "\n",
    "Air gap sliding layer number: 2\n",
    "\n",
    "Mesh growth rate: 1.5\n",
    "\n",
    "Number of refinemesh calls: 1\n",
    "\n",
    "Number of slices: 3"
   ]
  },
  {
   "cell_type": "markdown",
   "metadata": {},
   "source": [
    "### General Settings"
   ]
  },
  {
   "cell_type": "markdown",
   "metadata": {},
   "source": [
    "Project2_P.mat: Parameter file\n",
    "\n",
    "Project2_S.mat: Simulation file (Open As a New Simulation)\n",
    "\n",
    "Simulation script file: No simulation script\n",
    "\n",
    "Solver type: Fast\n",
    "\n",
    "Simulation data saving period: 1 step\n",
    "\n",
    "Extended data saving in \"data\" folder\n",
    "\n",
    "Time step: 0.001 s\n",
    "\n",
    "Convergence tolerance: 0.01\n",
    "\n",
    "Simulation stop time: 0.02 s\n",
    "\n",
    "Supply frequency: 60 Hz\n",
    "\n",
    "Supply voltage: 200 V\n",
    "\n",
    "Load: 0 Nm\n",
    "\n",
    "Moment of inertia:"
   ]
  },
  {
   "cell_type": "code",
   "execution_count": 114,
   "metadata": {
    "collapsed": false
   },
   "outputs": [
    {
     "name": "stdout",
     "output_type": "stream",
     "text": [
      "3.6295510379\n"
     ]
    }
   ],
   "source": [
    "J=0.5*math.pi*math.pow(Dre,2.0)/4.0*L*7650*math.pow(Dre/2.0,2.0) # (kg.m^2)\n",
    "print J"
   ]
  },
  {
   "cell_type": "markdown",
   "metadata": {},
   "source": [
    "Torque calculation method: Maxwell stress tensor\n",
    "\n",
    "Rotor radial force calculation: Checked\n",
    "\n",
    "Display outputs in Matlab Command Window"
   ]
  }
 ],
 "metadata": {
  "kernelspec": {
   "display_name": "Python 2",
   "language": "python",
   "name": "python2"
  },
  "language_info": {
   "codemirror_mode": {
    "name": "ipython",
    "version": 2
   },
   "file_extension": ".py",
   "mimetype": "text/x-python",
   "name": "python",
   "nbconvert_exporter": "python",
   "pygments_lexer": "ipython2",
   "version": "2.7.9"
  }
 },
 "nbformat": 4,
 "nbformat_minor": 0
}
