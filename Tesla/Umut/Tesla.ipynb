{
 "cells": [
  {
   "cell_type": "markdown",
   "metadata": {},
   "source": [
    "# EE 564 Project 2\n",
    "\n",
    "## Tesla Model S Motor Design\n",
    "\n",
    "\n",
    "[Tesla Model S](http://www.teslamotors.com/models)\n",
    "\n",
    "[RWD 85 Model](http://en.wikipedia.org/wiki/Tesla_Model_S#Powertrain)\n",
    "\n",
    "* Max. Power: 360 hp (270 kW)\n",
    "* Max. Torque: 441 Nm\n",
    "* Top Speed: 225 km/h \n",
    "\n",
    "[Specs1](http://teslatap.com/undocumented/) and [Specs2](http://my.teslamotors.com/it_IT/forum/forums/tesla-model-s-motor-output)\n",
    "\n",
    "**Useful Links:**\n",
    "\n",
    "* [How does Tesla make their motors in the model S so small?](http://www.reddit.com/r/AskEngineers/comments/2mv2h5/how_does_tesla_make_their_motors_in_the_model_s/)\n",
    "\n",
    "* [Tesla Motor Technology](http://my.teslamotors.com/roadster/technology/motor)\n",
    "\n",
    "* [Electric traction machine choice](http://sites.ieee.org/miami/files/2014/11/Hendershot-FIU-Lecture.pdf)"
   ]
  },
  {
   "cell_type": "code",
   "execution_count": null,
   "metadata": {
    "collapsed": false
   },
   "outputs": [],
   "source": []
  }
 ],
 "metadata": {
  "kernelspec": {
   "display_name": "Python 2",
   "language": "python",
   "name": "python2"
  },
  "language_info": {
   "codemirror_mode": {
    "name": "ipython",
    "version": 2
   },
   "file_extension": ".py",
   "mimetype": "text/x-python",
   "name": "python",
   "nbconvert_exporter": "python",
   "pygments_lexer": "ipython2",
   "version": "2.7.9"
  }
 },
 "nbformat": 4,
 "nbformat_minor": 0
}
