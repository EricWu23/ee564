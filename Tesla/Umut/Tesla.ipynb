{
 "cells": [
  {
   "cell_type": "markdown",
   "metadata": {},
   "source": [
    "# EE 564 Project 2\n",
    "\n",
    "## Tesla Model S Motor Design\n",
    "\n",
    "\n",
    "[Tesla Model S](http://www.teslamotors.com/models)\n",
    "\n",
    "[RWD 85 Model](http://en.wikipedia.org/wiki/Tesla_Model_S#Powertrain)\n",
    "\n",
    "* Max. Power: 360 hp (270 kW)\n",
    "* Max. Torque: 441 Nm\n",
    "* Top Speed: 225 km/h \n",
    "\n",
    "[Specs1](http://teslatap.com/undocumented/) and [Specs2](http://my.teslamotors.com/it_IT/forum/forums/tesla-model-s-motor-output)\n",
    "\n",
    "**Useful Links:**\n",
    "\n",
    "* [How does Tesla make their motors in the model S so small?](http://www.reddit.com/r/AskEngineers/comments/2mv2h5/how_does_tesla_make_their_motors_in_the_model_s/)\n",
    "\n",
    "* [Tesla Motor Technology](http://my.teslamotors.com/roadster/technology/motor)\n",
    "\n",
    "* [Electric traction machine choice](http://sites.ieee.org/miami/files/2014/11/Hendershot-FIU-Lecture.pdf)"
   ]
  },
  {
   "cell_type": "code",
   "execution_count": 134,
   "metadata": {
    "collapsed": false
   },
   "outputs": [],
   "source": [
    "Pn = 270000\n",
    "ntarget = 0.96\n",
    "Vln=600\n",
    "f1=60\n",
    "p1=2\n",
    "m=3"
   ]
  },
  {
   "cell_type": "code",
   "execution_count": 135,
   "metadata": {
    "collapsed": false
   },
   "outputs": [
    {
     "name": "stdout",
     "output_type": "stream",
     "text": [
      "0.97\n",
      "303125.0\n"
     ]
    }
   ],
   "source": [
    "import math\n",
    "KE=0.98-0.005*p1\n",
    "cosphin=0.9\n",
    "nn=0.96\n",
    "Sgap=KE*Pn/(nn*cosphin)\n",
    "print KE\n",
    "print Sgap"
   ]
  },
  {
   "cell_type": "code",
   "execution_count": 136,
   "metadata": {
    "collapsed": false
   },
   "outputs": [
    {
     "name": "stdout",
     "output_type": "stream",
     "text": [
      "0.324987401643\n"
     ]
    }
   ],
   "source": [
    "C0=250e3\n",
    "lambda1=1.5\n",
    "Dis=math.pow((2*p1*p1*Sgap)/(3.14*lambda1*f1*C0),1.0/3.0)\n",
    "print Dis"
   ]
  },
  {
   "cell_type": "code",
   "execution_count": 137,
   "metadata": {
    "collapsed": false
   },
   "outputs": [
    {
     "name": "stdout",
     "output_type": "stream",
     "text": [
      "0.382672665434\n"
     ]
    }
   ],
   "source": [
    "g=1.5e-3\n",
    "tau=3.14*Dis/(2*p1)\n",
    "L=lambda1*tau\n",
    "print L"
   ]
  },
  {
   "cell_type": "code",
   "execution_count": 138,
   "metadata": {
    "collapsed": false
   },
   "outputs": [
    {
     "name": "stdout",
     "output_type": "stream",
     "text": [
      "0.255115110289\n",
      "0.0283461233655\n"
     ]
    }
   ],
   "source": [
    "q=3\n",
    "taus=tau/(3*q)\n",
    "print tau\n",
    "print taus"
   ]
  },
  {
   "cell_type": "code",
   "execution_count": 139,
   "metadata": {
    "collapsed": false
   },
   "outputs": [
    {
     "name": "stdout",
     "output_type": "stream",
     "text": [
      "0.524173228456\n"
     ]
    }
   ],
   "source": [
    "KD=0.62\n",
    "Dout=Dis/KD\n",
    "print Dout"
   ]
  },
  {
   "cell_type": "code",
   "execution_count": 140,
   "metadata": {
    "collapsed": false
   },
   "outputs": [
    {
     "name": "stdout",
     "output_type": "stream",
     "text": [
      "0.000875596488411\n"
     ]
    }
   ],
   "source": [
    "g=(0.1+0.012*math.pow(Pn,1.0/3.0))*1e-3\n",
    "print g"
   ]
  },
  {
   "cell_type": "markdown",
   "metadata": {},
   "source": [
    "# Stator Winding"
   ]
  },
  {
   "cell_type": "code",
   "execution_count": 141,
   "metadata": {
    "collapsed": false
   },
   "outputs": [
    {
     "name": "stdout",
     "output_type": "stream",
     "text": [
      "36\n"
     ]
    }
   ],
   "source": [
    "Ns=2*p1*q*m\n",
    "print Ns"
   ]
  },
  {
   "cell_type": "code",
   "execution_count": 142,
   "metadata": {
    "collapsed": false
   },
   "outputs": [
    {
     "name": "stdout",
     "output_type": "stream",
     "text": [
      "0.348888888889\n"
     ]
    }
   ],
   "source": [
    "alphaec=2*3.14*p1/Ns\n",
    "print alphaec"
   ]
  },
  {
   "cell_type": "code",
   "execution_count": 143,
   "metadata": {
    "collapsed": false
   },
   "outputs": [
    {
     "name": "stdout",
     "output_type": "stream",
     "text": [
      "0.959835420315\n"
     ]
    }
   ],
   "source": [
    "Kq1=math.sin(3.14/(2*m))/(q*math.sin(3.14/(2*m*q)))\n",
    "print Kq1"
   ]
  },
  {
   "cell_type": "code",
   "execution_count": 144,
   "metadata": {
    "collapsed": false
   },
   "outputs": [
    {
     "name": "stdout",
     "output_type": "stream",
     "text": [
      "0.939480605157\n"
     ]
    }
   ],
   "source": [
    "Ky1=math.sin(3.14/2*7/9)\n",
    "print Ky1"
   ]
  },
  {
   "cell_type": "code",
   "execution_count": 145,
   "metadata": {
    "collapsed": false
   },
   "outputs": [
    {
     "name": "stdout",
     "output_type": "stream",
     "text": [
      "0.901746761529\n"
     ]
    }
   ],
   "source": [
    "Kw1=Kq1*Ky1\n",
    "print Kw1"
   ]
  },
  {
   "cell_type": "code",
   "execution_count": 146,
   "metadata": {
    "collapsed": false
   },
   "outputs": [
    {
     "name": "stdout",
     "output_type": "stream",
     "text": [
      "0.0498183330897\n"
     ]
    }
   ],
   "source": [
    "Bg=0.7\n",
    "Kf=1.085\n",
    "alphai=0.729\n",
    "phi=alphai*tau*L*Bg\n",
    "print phi\n"
   ]
  },
  {
   "cell_type": "code",
   "execution_count": 147,
   "metadata": {
    "collapsed": false
   },
   "outputs": [
    {
     "name": "stdout",
     "output_type": "stream",
     "text": [
      "49.751733951\n"
     ]
    }
   ],
   "source": [
    "W1=KE*Vln/(4*Kf*Kw1*f1*phi)\n",
    "print W1"
   ]
  },
  {
   "cell_type": "code",
   "execution_count": 148,
   "metadata": {
    "collapsed": false
   },
   "outputs": [
    {
     "name": "stdout",
     "output_type": "stream",
     "text": [
      "8.29195565851\n"
     ]
    }
   ],
   "source": [
    "a1=1\n",
    "ns=a1*W1/(p1*q)\n",
    "print ns"
   ]
  },
  {
   "cell_type": "code",
   "execution_count": 149,
   "metadata": {
    "collapsed": false
   },
   "outputs": [
    {
     "name": "stdout",
     "output_type": "stream",
     "text": [
      "48\n"
     ]
    }
   ],
   "source": [
    "ns=8\n",
    "W1=p1*q*ns\n",
    "print W1"
   ]
  },
  {
   "cell_type": "code",
   "execution_count": 150,
   "metadata": {
    "collapsed": false
   },
   "outputs": [
    {
     "name": "stdout",
     "output_type": "stream",
     "text": [
      "0.725520833333\n"
     ]
    }
   ],
   "source": [
    "Bg=0.7*49.75/48\n",
    "print Bg"
   ]
  },
  {
   "cell_type": "code",
   "execution_count": 151,
   "metadata": {
    "collapsed": false
   },
   "outputs": [
    {
     "name": "stdout",
     "output_type": "stream",
     "text": [
      "173.611111111\n"
     ]
    }
   ],
   "source": [
    "Iln=Pn/(3*Vln*cosphin*nn)\n",
    "print Iln"
   ]
  },
  {
   "cell_type": "code",
   "execution_count": 152,
   "metadata": {
    "collapsed": false
   },
   "outputs": [
    {
     "name": "stdout",
     "output_type": "stream",
     "text": [
      "34.7222222222\n"
     ]
    }
   ],
   "source": [
    "Jcos=5\n",
    "Aco=Iln/(Jcos*a1)\n",
    "print Aco"
   ]
  },
  {
   "cell_type": "code",
   "execution_count": 153,
   "metadata": {
    "collapsed": false
   },
   "outputs": [
    {
     "name": "stdout",
     "output_type": "stream",
     "text": [
      "6.65072403723\n"
     ]
    }
   ],
   "source": [
    "dco=math.sqrt(4*Aco/3.14)\n",
    "print dco"
   ]
  },
  {
   "cell_type": "code",
   "execution_count": 154,
   "metadata": {
    "collapsed": false
   },
   "outputs": [
    {
     "name": "stdout",
     "output_type": "stream",
     "text": [
      "38464.3700122\n"
     ]
    }
   ],
   "source": [
    "A1=C0/(Kf*alphai*Kw1*3.14*Bg*2*p1)\n",
    "print A1"
   ]
  }
 ],
 "metadata": {
  "kernelspec": {
   "display_name": "Python 2",
   "language": "python",
   "name": "python2"
  },
  "language_info": {
   "codemirror_mode": {
    "name": "ipython",
    "version": 2
   },
   "file_extension": ".py",
   "mimetype": "text/x-python",
   "name": "python",
   "nbconvert_exporter": "python",
   "pygments_lexer": "ipython2",
   "version": "2.7.9"
  }
 },
 "nbformat": 4,
 "nbformat_minor": 0
}
